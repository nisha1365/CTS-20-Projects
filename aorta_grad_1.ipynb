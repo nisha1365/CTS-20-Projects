{
  "metadata": {
    "kernelspec": {
      "language": "python",
      "display_name": "Python 3",
      "name": "python3"
    },
    "language_info": {
      "name": "python",
      "version": "3.7.6",
      "mimetype": "text/x-python",
      "codemirror_mode": {
        "name": "ipython",
        "version": 3
      },
      "pygments_lexer": "ipython3",
      "nbconvert_exporter": "python",
      "file_extension": ".py"
    },
    "colab": {
      "provenance": [],
      "include_colab_link": true
    }
  },
  "nbformat_minor": 0,
  "nbformat": 4,
  "cells": [
    {
      "cell_type": "markdown",
      "metadata": {
        "id": "view-in-github",
        "colab_type": "text"
      },
      "source": [
        "<a href=\"https://colab.research.google.com/github/nisha1365/CTS-20-Projects/blob/main/aorta_grad_1.ipynb\" target=\"_parent\"><img src=\"https://colab.research.google.com/assets/colab-badge.svg\" alt=\"Open In Colab\"/></a>"
      ]
    },
    {
      "cell_type": "markdown",
      "source": [
        "#OSIC Pulmonary Fibrosis Progression\n",
        "# Predict lung function decline"
      ],
      "metadata": {
        "id": "sBol9ZWIQL5u"
      }
    },
    {
      "cell_type": "markdown",
      "source": [
        "Predict a patient’s severity of decline in lung function based on a CT scan of their lungs. Lung function is assessed based on output from a spirometer, which measures the forced vital capacity (FVC), i.e. the volume of air exhaled.\n",
        "\n",
        "In the dataset, you are provided with a baseline chest CT scan and associated clinical information for a set of patients. A patient has an image acquired at time Week = 0 and has numerous follow up visits over the course of approximately 1-2 years, at which time their FVC is measured.\n",
        "\n",
        "In the training set, you are provided with an anonymized, baseline CT scan and the entire history of FVC measurements.\n",
        "In the test set, you are provided with a baseline CT scan and only the initial FVC measurement. You are asked to predict the final three FVC measurements for each patient, as well as a confidence value in your prediction.\n",
        "There are around 200 cases in the public & private test sets, combined. This is split roughly 15-85 between public-private.\n",
        "\n",
        "Since this is real medical data, you will notice the relative timing of FVC measurements varies widely. The timing of the initial measurement relative to the CT scan and the duration to the forecasted time points may be different for each patient. This is considered part of the challenge of the competition. To avoid potential leakage in the timing of follow up visits, you are asked to predict every patient's FVC measurement for every possible week. Those weeks which are not in the final three visits are ignored in scoring.\n",
        "\n",
        "Files\n",
        "\n",
        "\n",
        "train.csv - the training set, contains full history of clinical information\n",
        "test.csv - the test set, contains only the baseline measurement\n",
        "train/ - contains the training patients' baseline CT scan in DICOM format\n",
        "test/ - contains the test patients' baseline CT scan in DICOM format\n",
        "\n",
        "Columns\n",
        "train.csv and test.csv\n",
        "Patient- a unique Id for each patient (also the name of the patient's DICOM folder)\n",
        "Weeks- the relative number of weeks pre/post the baseline CT (may be negative)\n",
        "FVC - the recorded lung capacity in ml\n",
        "Percent- a computed field which approximates the patient's FVC as a percent of the typical FVC for a person of similar characteristics\n",
        "Age\n",
        "Sex\n",
        "SmokingStatus"
      ],
      "metadata": {
        "id": "ACodRc-mQZzA"
      }
    },
    {
      "cell_type": "markdown",
      "source": [
        "Albumentations is a Python library for image augmentation. Image augmentation is used in deep learning and computer vision tasks to increase the quality of trained models. The purpose of image augmentation is to create new training samples from the existing data."
      ],
      "metadata": {
        "id": "abVS33IOSGF7"
      }
    },
    {
      "cell_type": "code",
      "source": [
        "!pip install albumentations==0.4.6"
      ],
      "metadata": {
        "id": "1_dPgKgwSQfp",
        "_kg_hide-output": true,
        "execution": {
          "iopub.status.busy": "2023-02-24T00:20:53.954419Z",
          "iopub.execute_input": "2023-02-24T00:20:53.954741Z",
          "iopub.status.idle": "2023-02-24T00:21:02.338812Z",
          "shell.execute_reply.started": "2023-02-24T00:20:53.954707Z",
          "shell.execute_reply": "2023-02-24T00:21:02.337848Z"
        },
        "trusted": true,
        "outputId": "b6c0179d-be19-40e3-d895-c00890bdb3f4"
      },
      "execution_count": null,
      "outputs": [
        {
          "name": "stdout",
          "text": "Requirement already satisfied: albumentations==0.4.6 in /opt/conda/lib/python3.7/site-packages (0.4.6)\nRequirement already satisfied: PyYAML in /opt/conda/lib/python3.7/site-packages (from albumentations==0.4.6) (5.3.1)\nRequirement already satisfied: opencv-python>=4.1.1 in /opt/conda/lib/python3.7/site-packages (from albumentations==0.4.6) (4.4.0.44)\nRequirement already satisfied: numpy>=1.11.1 in /opt/conda/lib/python3.7/site-packages (from albumentations==0.4.6) (1.18.5)\nRequirement already satisfied: scipy in /opt/conda/lib/python3.7/site-packages (from albumentations==0.4.6) (1.4.1)\nRequirement already satisfied: imgaug>=0.4.0 in /opt/conda/lib/python3.7/site-packages (from albumentations==0.4.6) (0.4.0)\nRequirement already satisfied: Shapely in /opt/conda/lib/python3.7/site-packages (from imgaug>=0.4.0->albumentations==0.4.6) (1.7.1)\nRequirement already satisfied: Pillow in /opt/conda/lib/python3.7/site-packages (from imgaug>=0.4.0->albumentations==0.4.6) (7.2.0)\nRequirement already satisfied: scikit-image>=0.14.2 in /opt/conda/lib/python3.7/site-packages (from imgaug>=0.4.0->albumentations==0.4.6) (0.16.2)\nRequirement already satisfied: six in /opt/conda/lib/python3.7/site-packages (from imgaug>=0.4.0->albumentations==0.4.6) (1.14.0)\nRequirement already satisfied: matplotlib in /opt/conda/lib/python3.7/site-packages (from imgaug>=0.4.0->albumentations==0.4.6) (3.2.1)\nRequirement already satisfied: imageio in /opt/conda/lib/python3.7/site-packages (from imgaug>=0.4.0->albumentations==0.4.6) (2.8.0)\nRequirement already satisfied: networkx>=2.0 in /opt/conda/lib/python3.7/site-packages (from scikit-image>=0.14.2->imgaug>=0.4.0->albumentations==0.4.6) (2.4)\nRequirement already satisfied: PyWavelets>=0.4.0 in /opt/conda/lib/python3.7/site-packages (from scikit-image>=0.14.2->imgaug>=0.4.0->albumentations==0.4.6) (1.1.1)\nRequirement already satisfied: kiwisolver>=1.0.1 in /opt/conda/lib/python3.7/site-packages (from matplotlib->imgaug>=0.4.0->albumentations==0.4.6) (1.2.0)\nRequirement already satisfied: python-dateutil>=2.1 in /opt/conda/lib/python3.7/site-packages (from matplotlib->imgaug>=0.4.0->albumentations==0.4.6) (2.8.1)\nRequirement already satisfied: pyparsing!=2.0.4,!=2.1.2,!=2.1.6,>=2.0.1 in /opt/conda/lib/python3.7/site-packages (from matplotlib->imgaug>=0.4.0->albumentations==0.4.6) (2.4.7)\nRequirement already satisfied: cycler>=0.10 in /opt/conda/lib/python3.7/site-packages (from matplotlib->imgaug>=0.4.0->albumentations==0.4.6) (0.10.0)\nRequirement already satisfied: decorator>=4.3.0 in /opt/conda/lib/python3.7/site-packages (from networkx>=2.0->scikit-image>=0.14.2->imgaug>=0.4.0->albumentations==0.4.6) (4.4.2)\n\u001b[33mWARNING: You are using pip version 20.2.3; however, version 23.0.1 is available.\nYou should consider upgrading via the '/opt/conda/bin/python3.7 -m pip install --upgrade pip' command.\u001b[0m\n",
          "output_type": "stream"
        }
      ]
    },
    {
      "cell_type": "code",
      "source": [
        "!pip install --upgrade pip"
      ],
      "metadata": {
        "execution": {
          "iopub.status.busy": "2023-02-24T00:21:02.341749Z",
          "iopub.execute_input": "2023-02-24T00:21:02.342146Z",
          "iopub.status.idle": "2023-02-24T00:21:11.201274Z",
          "shell.execute_reply.started": "2023-02-24T00:21:02.342102Z",
          "shell.execute_reply": "2023-02-24T00:21:11.200289Z"
        },
        "trusted": true,
        "id": "Gg6HVu1iPUfC",
        "outputId": "d0081438-f713-458b-d4f3-9a7032e123f6"
      },
      "execution_count": null,
      "outputs": [
        {
          "name": "stdout",
          "text": "Collecting pip\n  Downloading pip-23.0.1-py3-none-any.whl (2.1 MB)\n\u001b[K     |████████████████████████████████| 2.1 MB 2.2 MB/s eta 0:00:01\n\u001b[?25hInstalling collected packages: pip\n  Attempting uninstall: pip\n    Found existing installation: pip 20.2.3\n    Uninstalling pip-20.2.3:\n      Successfully uninstalled pip-20.2.3\nSuccessfully installed pip-23.0.1\n",
          "output_type": "stream"
        }
      ]
    },
    {
      "cell_type": "markdown",
      "source": [
        "PyTorch is a fully featured framework for building deep learning models, which is a type of machine learning that's commonly used in applications like image recognition and language processing. "
      ],
      "metadata": {
        "id": "OULW3PwBSUrZ"
      }
    },
    {
      "cell_type": "code",
      "source": [
        "!pip install git+https://github.com/qubvel/segmentation_models.pytorch"
      ],
      "metadata": {
        "execution": {
          "iopub.status.busy": "2023-02-24T00:21:11.204151Z",
          "iopub.execute_input": "2023-02-24T00:21:11.204522Z",
          "iopub.status.idle": "2023-02-24T00:23:25.201143Z",
          "shell.execute_reply.started": "2023-02-24T00:21:11.204480Z",
          "shell.execute_reply": "2023-02-24T00:23:25.200134Z"
        },
        "trusted": true,
        "id": "_bMVtv0tPUfC",
        "outputId": "8de6b21c-f63e-4c7d-cc0a-07bbdecb21b0"
      },
      "execution_count": null,
      "outputs": [
        {
          "name": "stdout",
          "text": "Collecting git+https://github.com/qubvel/segmentation_models.pytorch\n  Cloning https://github.com/qubvel/segmentation_models.pytorch to /tmp/pip-req-build-zmycy3hy\n  Running command git clone --filter=blob:none --quiet https://github.com/qubvel/segmentation_models.pytorch /tmp/pip-req-build-zmycy3hy\n  Resolved https://github.com/qubvel/segmentation_models.pytorch to commit 8523324c116dcf7be6bddb73bf4eb1779ef6e611\n  Installing build dependencies ... \u001b[?25ldone\n\u001b[?25h  Getting requirements to build wheel ... \u001b[?25ldone\n\u001b[?25h  Preparing metadata (pyproject.toml) ... \u001b[?25ldone\n\u001b[?25hRequirement already satisfied: tqdm in /opt/conda/lib/python3.7/site-packages (from segmentation-models-pytorch==0.3.2) (4.45.0)\nCollecting efficientnet-pytorch==0.7.1\n  Downloading efficientnet_pytorch-0.7.1.tar.gz (21 kB)\n  Preparing metadata (setup.py) ... \u001b[?25ldone\n\u001b[?25hCollecting timm==0.6.12\n  Downloading timm-0.6.12-py3-none-any.whl (549 kB)\n\u001b[2K     \u001b[90m━━━━━━━━━━━━━━━━━━━━━━━━━━━━━━━━━━━━━━━\u001b[0m \u001b[32m549.1/549.1 kB\u001b[0m \u001b[31m5.8 MB/s\u001b[0m eta \u001b[36m0:00:00\u001b[0ma \u001b[36m0:00:01\u001b[0m\n\u001b[?25hRequirement already satisfied: pillow in /opt/conda/lib/python3.7/site-packages (from segmentation-models-pytorch==0.3.2) (7.2.0)\nCollecting pretrainedmodels==0.7.4\n  Downloading pretrainedmodels-0.7.4.tar.gz (58 kB)\n\u001b[2K     \u001b[90m━━━━━━━━━━━━━━━━━━━━━━━━━━━━━━━━━━━━━━━━\u001b[0m \u001b[32m58.8/58.8 kB\u001b[0m \u001b[31m5.6 MB/s\u001b[0m eta \u001b[36m0:00:00\u001b[0m\n\u001b[?25h  Preparing metadata (setup.py) ... \u001b[?25ldone\n\u001b[?25hRequirement already satisfied: torchvision>=0.5.0 in /opt/conda/lib/python3.7/site-packages (from segmentation-models-pytorch==0.3.2) (0.7.0)\nRequirement already satisfied: torch in /opt/conda/lib/python3.7/site-packages (from efficientnet-pytorch==0.7.1->segmentation-models-pytorch==0.3.2) (1.6.0)\nRequirement already satisfied: munch in /opt/conda/lib/python3.7/site-packages (from pretrainedmodels==0.7.4->segmentation-models-pytorch==0.3.2) (2.5.0)\nRequirement already satisfied: pyyaml in /opt/conda/lib/python3.7/site-packages (from timm==0.6.12->segmentation-models-pytorch==0.3.2) (5.3.1)\nCollecting torch\n  Downloading torch-1.13.1-cp37-cp37m-manylinux1_x86_64.whl (887.5 MB)\n\u001b[2K     \u001b[90m━━━━━━━━━━━━━━━━━━━━━━━━━━━━━━━━━━━━━\u001b[0m \u001b[32m887.5/887.5 MB\u001b[0m \u001b[31m913.5 kB/s\u001b[0m eta \u001b[36m0:00:00\u001b[0m00:01\u001b[0m00:01\u001b[0m\n\u001b[?25hCollecting huggingface-hub\n  Downloading huggingface_hub-0.12.1-py3-none-any.whl (190 kB)\n\u001b[2K     \u001b[90m━━━━━━━━━━━━━━━━━━━━━━━━━━━━━━━━━━━━━━\u001b[0m \u001b[32m190.3/190.3 kB\u001b[0m \u001b[31m15.1 MB/s\u001b[0m eta \u001b[36m0:00:00\u001b[0m\n\u001b[?25hRequirement already satisfied: numpy in /opt/conda/lib/python3.7/site-packages (from torchvision>=0.5.0->segmentation-models-pytorch==0.3.2) (1.18.5)\nCollecting nvidia-cublas-cu11==11.10.3.66\n  Downloading nvidia_cublas_cu11-11.10.3.66-py3-none-manylinux1_x86_64.whl (317.1 MB)\n\u001b[2K     \u001b[90m━━━━━━━━━━━━━━━━━━━━━━━━━━━━━━━━━━━━━━━\u001b[0m \u001b[32m317.1/317.1 MB\u001b[0m \u001b[31m3.8 MB/s\u001b[0m eta \u001b[36m0:00:00\u001b[0m00:01\u001b[0m00:01\u001b[0m\n\u001b[?25hRequirement already satisfied: typing-extensions in /opt/conda/lib/python3.7/site-packages (from torch->efficientnet-pytorch==0.7.1->segmentation-models-pytorch==0.3.2) (3.7.4.1)\nCollecting nvidia-cuda-runtime-cu11==11.7.99\n  Downloading nvidia_cuda_runtime_cu11-11.7.99-py3-none-manylinux1_x86_64.whl (849 kB)\n\u001b[2K     \u001b[90m━━━━━━━━━━━━━━━━━━━━━━━━━━━━━━━━━━━━━━\u001b[0m \u001b[32m849.3/849.3 kB\u001b[0m \u001b[31m45.9 MB/s\u001b[0m eta \u001b[36m0:00:00\u001b[0m\n\u001b[?25hCollecting nvidia-cuda-nvrtc-cu11==11.7.99\n  Downloading nvidia_cuda_nvrtc_cu11-11.7.99-2-py3-none-manylinux1_x86_64.whl (21.0 MB)\n\u001b[2K     \u001b[90m━━━━━━━━━━━━━━━━━━━━━━━━━━━━━━━━━━━━━━━━\u001b[0m \u001b[32m21.0/21.0 MB\u001b[0m \u001b[31m53.1 MB/s\u001b[0m eta \u001b[36m0:00:00\u001b[0m00:01\u001b[0m00:01\u001b[0m\n\u001b[?25hCollecting nvidia-cudnn-cu11==8.5.0.96\n  Downloading nvidia_cudnn_cu11-8.5.0.96-2-py3-none-manylinux1_x86_64.whl (557.1 MB)\n\u001b[2K     \u001b[90m━━━━━━━━━━━━━━━━━━━━━━━━━━━━━━━━━━━━━━━\u001b[0m \u001b[32m557.1/557.1 MB\u001b[0m \u001b[31m1.2 MB/s\u001b[0m eta \u001b[36m0:00:00\u001b[0m00:01\u001b[0m00:01\u001b[0m\n\u001b[?25hRequirement already satisfied: wheel in /opt/conda/lib/python3.7/site-packages (from nvidia-cublas-cu11==11.10.3.66->torch->efficientnet-pytorch==0.7.1->segmentation-models-pytorch==0.3.2) (0.34.2)\nRequirement already satisfied: setuptools in /opt/conda/lib/python3.7/site-packages (from nvidia-cublas-cu11==11.10.3.66->torch->efficientnet-pytorch==0.7.1->segmentation-models-pytorch==0.3.2) (46.1.3.post20200325)\nCollecting packaging>=20.9\n  Downloading packaging-23.0-py3-none-any.whl (42 kB)\n\u001b[2K     \u001b[90m━━━━━━━━━━━━━━━━━━━━━━━━━━━━━━━━━━━━━━━━\u001b[0m \u001b[32m42.7/42.7 kB\u001b[0m \u001b[31m3.5 MB/s\u001b[0m eta \u001b[36m0:00:00\u001b[0m\n\u001b[?25hCollecting typing-extensions\n  Downloading typing_extensions-4.5.0-py3-none-any.whl (27 kB)\nRequirement already satisfied: filelock in /opt/conda/lib/python3.7/site-packages (from huggingface-hub->timm==0.6.12->segmentation-models-pytorch==0.3.2) (3.0.10)\nRequirement already satisfied: importlib-metadata in /opt/conda/lib/python3.7/site-packages (from huggingface-hub->timm==0.6.12->segmentation-models-pytorch==0.3.2) (2.0.0)\nRequirement already satisfied: requests in /opt/conda/lib/python3.7/site-packages (from huggingface-hub->timm==0.6.12->segmentation-models-pytorch==0.3.2) (2.23.0)\nRequirement already satisfied: six in /opt/conda/lib/python3.7/site-packages (from munch->pretrainedmodels==0.7.4->segmentation-models-pytorch==0.3.2) (1.14.0)\nRequirement already satisfied: zipp>=0.5 in /opt/conda/lib/python3.7/site-packages (from importlib-metadata->huggingface-hub->timm==0.6.12->segmentation-models-pytorch==0.3.2) (3.1.0)\nRequirement already satisfied: chardet<4,>=3.0.2 in /opt/conda/lib/python3.7/site-packages (from requests->huggingface-hub->timm==0.6.12->segmentation-models-pytorch==0.3.2) (3.0.4)\nRequirement already satisfied: certifi>=2017.4.17 in /opt/conda/lib/python3.7/site-packages (from requests->huggingface-hub->timm==0.6.12->segmentation-models-pytorch==0.3.2) (2020.6.20)\nRequirement already satisfied: urllib3!=1.25.0,!=1.25.1,<1.26,>=1.21.1 in /opt/conda/lib/python3.7/site-packages (from requests->huggingface-hub->timm==0.6.12->segmentation-models-pytorch==0.3.2) (1.24.3)\nRequirement already satisfied: idna<3,>=2.5 in /opt/conda/lib/python3.7/site-packages (from requests->huggingface-hub->timm==0.6.12->segmentation-models-pytorch==0.3.2) (2.9)\nBuilding wheels for collected packages: segmentation-models-pytorch, efficientnet-pytorch, pretrainedmodels\n  Building wheel for segmentation-models-pytorch (pyproject.toml) ... \u001b[?25ldone\n\u001b[?25h  Created wheel for segmentation-models-pytorch: filename=segmentation_models_pytorch-0.3.2-py3-none-any.whl size=106735 sha256=245df4eacf6a9a90606d5497f8ef40dd5879ded6b137979a28342179e1f639b0\n  Stored in directory: /tmp/pip-ephem-wheel-cache-owokfsvu/wheels/fa/c5/a8/1e8af6cb04a0974db8a4a156ebd2fdd1d99ad2558d3fce49d4\n  Building wheel for efficientnet-pytorch (setup.py) ... \u001b[?25ldone\n\u001b[?25h  Created wheel for efficientnet-pytorch: filename=efficientnet_pytorch-0.7.1-py3-none-any.whl size=16446 sha256=2e5171583df5c460a4b111a148ac63c2eb8a33676b92641d558b7552809fccd2\n  Stored in directory: /root/.cache/pip/wheels/0e/cc/b2/49e74588263573ff778da58cc99b9c6349b496636a7e165be6\n  Building wheel for pretrainedmodels (setup.py) ... \u001b[?25ldone\n\u001b[?25h  Created wheel for pretrainedmodels: filename=pretrainedmodels-0.7.4-py3-none-any.whl size=60962 sha256=f09f9891ee001102d2c36ca08c10bff64db4f208746f9a033edd84c136a76d43\n  Stored in directory: /root/.cache/pip/wheels/ed/27/e8/9543d42de2740d3544db96aefef63bda3f2c1761b3334f4873\nSuccessfully built segmentation-models-pytorch efficientnet-pytorch pretrainedmodels\nInstalling collected packages: typing-extensions, packaging, nvidia-cuda-runtime-cu11, nvidia-cuda-nvrtc-cu11, nvidia-cublas-cu11, nvidia-cudnn-cu11, huggingface-hub, torch, efficientnet-pytorch, timm, pretrainedmodels, segmentation-models-pytorch\n  Attempting uninstall: typing-extensions\n    Found existing installation: typing-extensions 3.7.4.1\n    Uninstalling typing-extensions-3.7.4.1:\n      Successfully uninstalled typing-extensions-3.7.4.1\n  Attempting uninstall: packaging\n    Found existing installation: packaging 20.1\n    Uninstalling packaging-20.1:\n      Successfully uninstalled packaging-20.1\n  Attempting uninstall: torch\n    Found existing installation: torch 1.6.0\n    Uninstalling torch-1.6.0:\n      Successfully uninstalled torch-1.6.0\n\u001b[31mERROR: pip's dependency resolver does not currently take into account all the packages that are installed. This behaviour is the source of the following dependency conflicts.\npytorch-lightning 0.9.0 requires tensorboard==2.2.0, but you have tensorboard 2.3.0 which is incompatible.\nkornia 0.4.0 requires torch<1.7.0,>=1.6.0, but you have torch 1.13.1 which is incompatible.\nbokeh 2.2.1 requires tornado>=5.1, but you have tornado 5.0.2 which is incompatible.\nallennlp 1.1.0 requires torch<1.7.0,>=1.6.0, but you have torch 1.13.1 which is incompatible.\naiobotocore 1.1.2 requires botocore<1.17.45,>=1.17.44, but you have botocore 1.18.13 which is incompatible.\u001b[0m\u001b[31m\n\u001b[0mSuccessfully installed efficientnet-pytorch-0.7.1 huggingface-hub-0.12.1 nvidia-cublas-cu11-11.10.3.66 nvidia-cuda-nvrtc-cu11-11.7.99 nvidia-cuda-runtime-cu11-11.7.99 nvidia-cudnn-cu11-8.5.0.96 packaging-23.0 pretrainedmodels-0.7.4 segmentation-models-pytorch-0.3.2 timm-0.6.12 torch-1.13.1 typing-extensions-4.5.0\n\u001b[33mWARNING: Running pip as the 'root' user can result in broken permissions and conflicting behaviour with the system package manager. It is recommended to use a virtual environment instead: https://pip.pypa.io/warnings/venv\u001b[0m\u001b[33m\n\u001b[0m",
          "output_type": "stream"
        }
      ]
    },
    {
      "cell_type": "markdown",
      "source": [
        "### Importing libraries"
      ],
      "metadata": {
        "id": "IyAjYaW4PUfD"
      }
    },
    {
      "cell_type": "code",
      "source": [
        "import os\n",
        "import time\n",
        "import io\n",
        "import base64\n",
        "\n",
        "import numpy as np\n",
        "import pandas as pd\n",
        "import cv2\n",
        "\n",
        "import matplotlib.pyplot as plt\n",
        "import matplotlib.colors as mpl_colors\n",
        "import seaborn as sns\n",
        "\n",
        "from sklearn.model_selection import train_test_split\n",
        "\n",
        "import torch\n",
        "import torch.nn as nn\n",
        "from torch.utils.data import Dataset, DataLoader\n",
        "from torch.optim import Adam\n",
        "from torch.optim.lr_scheduler import ReduceLROnPlateau\n",
        "\n",
        "from albumentations.pytorch import ToTensor, ToTensorV2 \n",
        "from albumentations import (HorizontalFlip,\n",
        "                            VerticalFlip,\n",
        "                            Normalize,\n",
        "                            Compose)\n",
        "\n",
        "from segmentation_models_pytorch import Unet\n",
        "\n",
        "from IPython.display import HTML\n",
        "from IPython.display import clear_output\n",
        "import warnings\n",
        "warnings.simplefilter(\"ignore\")"
      ],
      "metadata": {
        "id": "bK6emFemSkOo",
        "_kg_hide-input": true,
        "execution": {
          "iopub.status.busy": "2023-02-24T00:23:25.203075Z",
          "iopub.execute_input": "2023-02-24T00:23:25.203456Z",
          "iopub.status.idle": "2023-02-24T00:23:30.680167Z",
          "shell.execute_reply.started": "2023-02-24T00:23:25.203415Z",
          "shell.execute_reply": "2023-02-24T00:23:30.678955Z"
        },
        "trusted": true
      },
      "execution_count": null,
      "outputs": []
    },
    {
      "cell_type": "markdown",
      "source": [
        "### Helper functions"
      ],
      "metadata": {
        "id": "TJMrOSVmPUfE"
      }
    },
    {
      "cell_type": "code",
      "source": [
        "\n",
        "\n",
        "\n",
        "def get_one_slice_data(img_name: str,\n",
        "                       mask_name: str,\n",
        "                       root_imgs_path: str = \"images/\",\n",
        "                       root_masks_path: str = \"masks/\",) -> np.ndarray:\n",
        "\n",
        "    img_path = os.path.join(root_imgs_path, img_name)\n",
        "    mask_path = os.path.join(root_masks_path, mask_name)\n",
        "    one_slice_img = cv2.imread(img_path)#[:,:,0] uncomment for grayscale\n",
        "    one_slice_mask = cv2.imread(mask_path)\n",
        "    one_slice_mask[one_slice_mask < 240] = 0  # remove artifacts\n",
        "    one_slice_mask[one_slice_mask >= 240] = 255\n",
        "\n",
        "    return one_slice_img, one_slice_mask\n",
        "\n",
        "\n",
        "\n",
        "\n",
        "def get_id_predictions(net: nn.Module,\n",
        "                       ct_scan_id_df: pd.DataFrame,\n",
        "                       root_imgs_dir: str,\n",
        "                       treshold: float = 0.3) -> list:\n",
        "\n",
        "    \"\"\"\n",
        "    Factory for getting predictions and storing them and images in lists as uint8 images.\n",
        "    Params:\n",
        "        net: model for prediction.\n",
        "        ct_scan_id_df: df with unique patient id.\n",
        "        root_imgs_dir: root path for images.\n",
        "        treshold: threshold for probabilities.\n",
        "    \"\"\"\n",
        "    sigmoid = lambda x: 1 / (1 + np.exp(-x))\n",
        "    images = []\n",
        "    predictions = []\n",
        "    net.eval()\n",
        "    device = \"cuda\" if torch.cuda.is_available() else \"cpu\"\n",
        "    print(\"device:\", device)\n",
        "    with torch.no_grad():\n",
        "        for idx in range(len(ct_scan_id_df)):\n",
        "            img_name = ct_scan_id_df.loc[idx, \"ImageId\"]\n",
        "            path = os.path.join(root_imgs_dir, img_name)\n",
        "\n",
        "            img_ = cv2.imread(path)\n",
        "    \n",
        "            img = Normalize().apply(img_)\n",
        "            tensor = torch.FloatTensor(img).permute(2, 0, 1).unsqueeze(0)\n",
        "            prediction = net.forward(tensor.to(device))\n",
        "            prediction = prediction.cpu().detach().numpy()\n",
        "            prediction = prediction.squeeze(0).transpose(1, 2, 0)\n",
        "            prediction = sigmoid(prediction)\n",
        "            prediction = (prediction >= treshold).astype(np.float32)\n",
        "\n",
        "            predictions.append((prediction * 255).astype(\"uint8\"))\n",
        "            images.append(img_)\n",
        "\n",
        "    return images, predictions\n",
        "\n",
        "\n",
        "# Save image in original resolution\n",
        "# helpful link - https://stackoverflow.com/questions/34768717/matplotlib-unable-to-save-image-in-same-resolution-as-original-image\n",
        "\n",
        "def get_overlaid_masks_on_image(\n",
        "                one_slice_image: np.ndarray,\n",
        "                one_slice_mask: np.ndarray, \n",
        "                w: float = 512,\n",
        "                h: float = 512, \n",
        "                dpi: float = 100,\n",
        "                write: bool = False,\n",
        "                path_to_save: str = '/content/',\n",
        "                name_to_save: str = 'img_name'):\n",
        "    \"\"\"overlap masks on image and save this as a new image.\"\"\"\n",
        "\n",
        "    path_to_save_ = os.path.join(path_to_save, name_to_save)\n",
        "    lung, heart, trachea = [one_slice_mask[:, :, i] for i in range(3)]\n",
        "    figsize = (w / dpi), (h / dpi)\n",
        "    fig = plt.figure(figsize=(figsize))\n",
        "    fig.add_axes([0, 0, 1, 1])\n",
        " \n",
        "    # image\n",
        "    plt.imshow(one_slice_image, cmap=\"bone\")\n",
        "\n",
        "    # overlaying segmentation masks\n",
        "    plt.imshow(np.ma.masked_where(lung == False, lung),\n",
        "            cmap='cool', alpha=0.3)\n",
        "    plt.imshow(np.ma.masked_where(heart == False, heart),\n",
        "            cmap='autumn', alpha=0.3)\n",
        "    plt.imshow(np.ma.masked_where(trachea == False, trachea),\n",
        "               cmap='autumn_r', alpha=0.3) \n",
        "\n",
        "    #plt.axis(\"off\")                                            ## dont work in kaggle kernel\n",
        "    fig.axes[0].get_xaxis().set_visible(False)                  ## work in kaggle kernel\n",
        "    fig.axes[0].get_yaxis().set_visible(False)\n",
        "    \n",
        "\n",
        "    fig.savefig(f\"{path_to_save_}.png\",bbox_inches='tight', \n",
        "                pad_inches=0, dpi=dpi,  format=\"png\")\n",
        "    \n",
        "    if write:\n",
        "        plt.close()\n",
        "    else:\n",
        "        plt.show()\n",
        "        \n",
        "def get_overlaid_masks_on_full_ctscan(ct_scan_id_df: pd.DataFrame, \n",
        "                                      path_to_save: str,\n",
        "                                      root_imgs_dir: str,\n",
        "                                      root_masks_dir: str,\n",
        "                                     ):\n",
        "    \"\"\"\n",
        "    Creating images with overlaid masks on each slice of CT scan.\n",
        "    Params:\n",
        "         ct_scan_id_df: df with unique patient id.\n",
        "         path_to_save: path to save images.\n",
        "    \"\"\"\n",
        "    num_slice = len(ct_scan_id_df)\n",
        "    for slice_ in range(num_slice):\n",
        "        img_name = ct_scan_id_df.loc[slice_, \"ImageId\"]\n",
        "        mask_name = ct_scan_id_df.loc[slice_, \"MaskId\"]\n",
        "        one_slice_img, one_slice_mask = get_one_slice_data(img_name, mask_name,\n",
        "                                                           root_imgs_dir, root_masks_dir)\n",
        "        get_overlaid_masks_on_image(one_slice_img,\n",
        "                                one_slice_mask,\n",
        "                                write=True, \n",
        "                                path_to_save=path_to_save,\n",
        "                                name_to_save=str(slice_)\n",
        "                                )\n",
        "\n",
        "def create_video(path_to_imgs: str, video_name: str, framerate: int):\n",
        "    \"\"\"\n",
        "    Create video from images.\n",
        "    Params:\n",
        "        path_to_imgs: path to dir with images.\n",
        "        video_name: name for saving video.\n",
        "        framerate: num frames per sec in video.\n",
        "    \"\"\"\n",
        "    img_names = sorted(os.listdir(path_to_imgs), key=lambda x: int(x[:-4]))  # img_name must be numbers\n",
        "    img_path = os.path.join(path_to_imgs, img_names[0])\n",
        "    frame_width, frame_height, _ = cv2.imread(img_path).shape\n",
        "    fourc = cv2.VideoWriter_fourcc(*'XVID')           ## MP4V - dont work in kaggle kernel\n",
        "    video = cv2.VideoWriter(video_name + \".avi\",      ##'mp4' \n",
        "                            fourc, \n",
        "                            framerate, \n",
        "                            (frame_width, frame_height))\n",
        "\n",
        "    for img_name in img_names:\n",
        "        img_path = os.path.join(path_to_imgs, img_name)\n",
        "        image = cv2.imread(img_path)\n",
        "        video.write(image)\n",
        "            \n",
        "    #cv2.destroyAllWindows()\n",
        "    video.release()\n",
        "\n",
        "    \n",
        "def compute_scores_per_classes(model,\n",
        "                               dataloader,\n",
        "                               classes):\n",
        "    \"\"\"\n",
        "    Compute Dice and Jaccard coefficients for each class.\n",
        "    Params:\n",
        "        model: neural net for make predictions.\n",
        "        dataloader: dataset object to load data from.\n",
        "        classes: list with classes.\n",
        "        Returns: dictionaries with dice and jaccard coefficients for each class for each slice.\n",
        "    \"\"\"\n",
        "    device = 'cuda' if torch.cuda.is_available() else 'cpu'\n",
        "    dice_scores_per_classes = {key: list() for key in classes}\n",
        "    iou_scores_per_classes = {key: list() for key in classes}\n",
        "\n",
        "    with torch.no_grad():\n",
        "        for i, (imgs, targets) in enumerate(dataloader):\n",
        "            imgs, targets = imgs.to(device), targets.to(device)\n",
        "            logits = model(imgs)\n",
        "            logits = logits.detach().cpu().numpy()\n",
        "            targets = targets.detach().cpu().numpy()\n",
        "            \n",
        "            dice_scores = dice_coef_metric_per_classes(logits, targets)\n",
        "            iou_scores = jaccard_coef_metric_per_classes(logits, targets)\n",
        "\n",
        "            for key in dice_scores.keys():\n",
        "                dice_scores_per_classes[key].extend(dice_scores[key])\n",
        "\n",
        "            for key in iou_scores.keys():\n",
        "                iou_scores_per_classes[key].extend(iou_scores[key])\n",
        "\n",
        "    return dice_scores_per_classes, iou_scores_per_classes\n",
        "\n",
        "\n",
        "# loss\n",
        "def dice_coef_metric_per_classes(probabilities: np.ndarray,\n",
        "                                    truth: np.ndarray,\n",
        "                                    treshold: float = 0.5,\n",
        "                                    eps: float = 1e-9,\n",
        "                                    classes: list = ['lung', 'heart', 'trachea']) -> np.ndarray:\n",
        "    \"\"\"\n",
        "    Calculate Dice score for data batch and for each class.\n",
        "    Params:\n",
        "        probobilities: model outputs after activation function.\n",
        "        truth: model targets.\n",
        "        threshold: threshold for probabilities.\n",
        "        eps: additive to refine the estimate.\n",
        "        classes: list with name classes.\n",
        "        Returns: dict with dice scores for each class.\n",
        "    \"\"\"\n",
        "    scores = {key: list() for key in classes}\n",
        "    num = probabilities.shape[0]\n",
        "    num_classes = probabilities.shape[1]\n",
        "    predictions = (probabilities >= treshold).astype(np.float32)\n",
        "    assert(predictions.shape == truth.shape)\n",
        "\n",
        "    for i in range(num):\n",
        "        for class_ in range(num_classes):\n",
        "            prediction = predictions[i][class_]\n",
        "            truth_ = truth[i][class_]\n",
        "            intersection = 2.0 * (truth_ * prediction).sum()\n",
        "            union = truth_.sum() + prediction.sum()\n",
        "            if truth_.sum() == 0 and prediction.sum() == 0:\n",
        "                 scores[classes[class_]].append(1.0)\n",
        "            else:\n",
        "                scores[classes[class_]].append((intersection + eps) / union)\n",
        "                \n",
        "    return scores\n",
        "\n",
        "\n",
        "def jaccard_coef_metric_per_classes(probabilities: np.ndarray,\n",
        "               truth: np.ndarray,\n",
        "               treshold: float = 0.5,\n",
        "               eps: float = 1e-9,\n",
        "               classes: list = ['lung', 'heart', 'trachea']) -> np.ndarray:\n",
        "    \"\"\"\n",
        "    Calculate Jaccard index for data batch and for each class.\n",
        "    Params:\n",
        "        probobilities: model outputs after activation function.\n",
        "        truth: model targets.\n",
        "        threshold: threshold for probabilities.\n",
        "        eps: additive to refine the estimate.\n",
        "        classes: list with name classes.\n",
        "        Returns: dict with jaccard scores for each class.\"\n",
        "    \"\"\"\n",
        "    scores = {key: list() for key in classes}\n",
        "    num = probabilities.shape[0]\n",
        "    num_classes = probabilities.shape[1]\n",
        "    predictions = (probabilities >= treshold).astype(np.float32)\n",
        "    assert(predictions.shape == truth.shape)\n",
        "\n",
        "    for i in range(num):\n",
        "        for class_ in range(num_classes):\n",
        "            prediction = predictions[i][class_]\n",
        "            truth_ = truth[i][class_]\n",
        "            intersection = (prediction * truth_).sum()\n",
        "            union = (prediction.sum() + truth_.sum()) - intersection + eps\n",
        "            if truth_.sum() == 0 and prediction.sum() == 0:\n",
        "                 scores[classes[class_]].append(1.0)\n",
        "            else:\n",
        "                scores[classes[class_]].append((intersection + eps) / union)\n",
        "\n",
        "    return scores\n",
        "\n",
        "\n",
        "# visualizer\n",
        "def show_data_augmentations(img_tensor: torch.Tensor,\n",
        "                            mask_tensor: torch.Tensor,\n",
        "                            mean: tuple = (0.485, 0.456, 0.406),\n",
        "                            std: tuple = (0.229, 0.224, 0.225),\n",
        "                            labels: list=[\"image\", \"lung\", \"heart\", \"trachea\"]):\n",
        "    \n",
        "    img = img_tensor.numpy().transpose(1, 2, 0)\n",
        "    img = (img * std + mean).astype(\"float32\")\n",
        "    img = np.clip(img, 0, 1)\n",
        "    mask = mask_tensor.numpy().transpose(1, 2, 0)\n",
        "    data_to_plot = [img, *[mask[:,:, i] for i in range(3)]]\n",
        "\n",
        "    fig, axes = plt.subplots(nrows=1, ncols=4, figsize=(15, 8))\n",
        "    for i, ax in enumerate(axes):\n",
        "        ax.imshow(data_to_plot[i])\n",
        "        ax.set_title(labels[i])\n",
        "\n",
        "    plt.show()\n",
        "    \n",
        "    \n",
        "def show_video(video_path: str):\n",
        "    \"\"\"\n",
        "    show video in jupyter notebook, agent interaction in environment.\n",
        "    Takes - path to video file.\n",
        "    Returns - html video player in jupyter notebook.\n",
        "    \"\"\"  \n",
        "    video = io.open(video_path, 'r+b').read()\n",
        "    encoded = base64.b64encode(video)\n",
        "\n",
        "    return HTML(data='''<video alt=\"test\" controls>\n",
        "    <source src=\"data:video/mp4;base64,{0}\" type=\"video/mp4\" /> </video>'''\n",
        "    .format(encoded.decode('ascii')))\n",
        "\n",
        "\n",
        "def get_color_info(classes: list = ['lung', 'heart', 'trachea']):\n",
        "\n",
        "    def get_color(cmap):\n",
        "        new_cmap = mpl_colors.LinearSegmentedColormap.from_list(\n",
        "            (cmap.name, 0.0, 0.0,),\n",
        "            cmap(np.linspace(0.0, 0.0, 100))\n",
        "            )\n",
        "        return new_cmap\n",
        "\n",
        "    colormaps = [plt.get_cmap(cmap_name) for cmap_name in \n",
        "                ['cool', 'autumn', 'autumn_r']\n",
        "                ]\n",
        "    arr = np.linspace(0, 50, 100).reshape((10, 10))\n",
        "    fig, ax = plt.subplots(1, 3, figsize=(15, 5))\n",
        "    for i in range(3):\n",
        "        cmap = get_color(colormaps[i])\n",
        "        ax[i].axis('off')\n",
        "        ax[i].imshow(arr, cmap=cmap)\n",
        "        ax[i].set_title(classes[i], fontsize=15)\n",
        "\n",
        "    fig.suptitle(\"Color definition\", fontsize=20, y=0.99)\n",
        "    fig.savefig(f\"color_definition.png\", bbox_inches='tight', \n",
        "                pad_inches=0.2, dpi=100, format=\"png\")\n",
        "    \n",
        "    plt.savefig(f\"color_definition.svg\", bbox_inches='tight',\n",
        "                pad_inches=0.2, dpi=100, format=\"svg\")"
      ],
      "metadata": {
        "_kg_hide-input": true,
        "execution": {
          "iopub.status.busy": "2023-02-24T00:23:30.683872Z",
          "iopub.execute_input": "2023-02-24T00:23:30.685111Z",
          "iopub.status.idle": "2023-02-24T00:23:30.742216Z",
          "shell.execute_reply.started": "2023-02-24T00:23:30.685069Z",
          "shell.execute_reply": "2023-02-24T00:23:30.741445Z"
        },
        "trusted": true,
        "id": "PBrAb9yXPUfE"
      },
      "execution_count": null,
      "outputs": []
    },
    {
      "cell_type": "markdown",
      "source": [
        "config with global variables"
      ],
      "metadata": {
        "id": "hYVYd4IAPUfN"
      }
    },
    {
      "cell_type": "code",
      "source": [
        "class GlobalConfig:\n",
        "    def __init__(self):\n",
        "        self.seed = 555\n",
        "        self.path_to_csv = '../input/chest-ct-segmentation/train.csv'\n",
        "        self.path_to_imgs_dir = '../input/chest-ct-segmentation/images/images'\n",
        "        self.path_to_masks_dir = '../input/chest-ct-segmentation/masks/masks'\n",
        "        self.pretrained_model_path = '../input/chest-ct-segmentation/pretrained_model/pretrained_model/model_100_epoch.pth'\n",
        "        self.train_logs_path = '../input/chest-ct-segmentation/pretrained_model/pretrained_model/train_log_100_epoch.csv'\n",
        "\n",
        "\n",
        "def seed_everything(seed: int):\n",
        "    torch.manual_seed(seed)\n",
        "    torch.cuda.manual_seed(seed)\n",
        "    np.random.seed(seed)\n",
        "    \n",
        "config = GlobalConfig()\n",
        "seed_everything(config.seed)"
      ],
      "metadata": {
        "id": "8WmHqD50SkRe",
        "execution": {
          "iopub.status.busy": "2023-02-24T00:23:30.746193Z",
          "iopub.execute_input": "2023-02-24T00:23:30.746447Z",
          "iopub.status.idle": "2023-02-24T00:23:30.757160Z",
          "shell.execute_reply.started": "2023-02-24T00:23:30.746420Z",
          "shell.execute_reply": "2023-02-24T00:23:30.756471Z"
        },
        "trusted": true
      },
      "execution_count": null,
      "outputs": []
    },
    {
      "cell_type": "markdown",
      "source": [
        "# Dataset and Dataloader"
      ],
      "metadata": {
        "id": "gH-H6gFmPUfO"
      }
    },
    {
      "cell_type": "code",
      "source": [
        "class LungsDataset(Dataset):\n",
        "    def __init__(self, \n",
        "                 imgs_dir: str,\n",
        "                 masks_dir:str,\n",
        "                 df: pd.DataFrame,\n",
        "                 phase: str):\n",
        "        \"\"\"Initialization.\"\"\"\n",
        "        self.root_imgs_dir = imgs_dir\n",
        "        self.root_masks_dir = masks_dir\n",
        "        self.df = df\n",
        "        self.augmentations = get_augmentations(phase)\n",
        "    \n",
        "    def __len__(self):\n",
        "        return len(self.df)\n",
        "\n",
        "    def __getitem__(self, idx):\n",
        "        img_name = self.df.loc[idx, \"ImageId\"]\n",
        "        mask_name = self.df.loc[idx, \"MaskId\"]\n",
        "        img_path = os.path.join(self.root_imgs_dir, img_name)\n",
        "        mask_path = os.path.join(self.root_masks_dir, mask_name)\n",
        "        img = cv2.imread(img_path)\n",
        "        mask = cv2.imread(mask_path)\n",
        "        mask[mask < 240] = 0    # remove artifacts\n",
        "        mask[mask > 0] = 1\n",
        "\n",
        "        augmented = self.augmentations(image=img, \n",
        "                                       mask=mask.astype(np.float32))\n",
        "        img = augmented['image']\n",
        "        mask = augmented['mask'].permute(2, 0, 1)\n",
        "\n",
        "        return img, mask\n",
        "\n",
        "\n",
        "def get_augmentations(phase,\n",
        "                   mean: tuple = (0.485, 0.456, 0.406),\n",
        "                   std: tuple = (0.229, 0.224, 0.225),):\n",
        "    list_transforms = []\n",
        "    if phase == \"train\":\n",
        "        list_transforms.extend(\n",
        "            [\n",
        "                VerticalFlip(p=0.5), \n",
        "            ]\n",
        "        )\n",
        "    list_transforms.extend(\n",
        "        [\n",
        "            Normalize(mean=mean, std=std, p=1),\n",
        "            #ToTensor(num_classes=3, sigmoid=False),\n",
        "            ToTensorV2(),\n",
        "        ]\n",
        "    )\n",
        "    list_trfms = Compose(list_transforms)\n",
        "    return list_trfms\n",
        "\n",
        "\n",
        "def get_dataloader(\n",
        "    imgs_dir: str,\n",
        "    masks_dir: str,\n",
        "    path_to_csv: str,\n",
        "    phase: str,\n",
        "    batch_size: int = 8,\n",
        "    num_workers: int = 6,\n",
        "    test_size: float = 0.2,\n",
        "):\n",
        "    '''Returns: dataloader for the model training'''\n",
        "    df = pd.read_csv(path_to_csv)\n",
        "    \n",
        "\n",
        "    train_df, val_df = train_test_split(df, \n",
        "                                          test_size=test_size, \n",
        "                                          random_state=69)\n",
        "    train_df, val_df = train_df.reset_index(drop=True), val_df.reset_index(drop=True)\n",
        "\n",
        "    df = train_df if phase == \"train\" else val_df\n",
        "    image_dataset = LungsDataset(imgs_dir, masks_dir, df, phase)\n",
        "    dataloader = DataLoader(\n",
        "        image_dataset,\n",
        "        batch_size=batch_size,\n",
        "        num_workers=num_workers,\n",
        "        pin_memory=True,\n",
        "        shuffle=True,   \n",
        "    )\n",
        "\n",
        "    return dataloader"
      ],
      "metadata": {
        "execution": {
          "iopub.status.busy": "2023-02-24T00:23:30.758685Z",
          "iopub.execute_input": "2023-02-24T00:23:30.759129Z",
          "iopub.status.idle": "2023-02-24T00:23:30.775371Z",
          "shell.execute_reply.started": "2023-02-24T00:23:30.759087Z",
          "shell.execute_reply": "2023-02-24T00:23:30.774475Z"
        },
        "trusted": true,
        "id": "SfNFuPqOPUfO"
      },
      "execution_count": null,
      "outputs": []
    },
    {
      "cell_type": "markdown",
      "source": [
        "# Loss and Metrics"
      ],
      "metadata": {
        "id": "Mb2uJUOpPUfP"
      }
    },
    {
      "cell_type": "code",
      "source": [
        "def dice_coef_metric(probabilities: torch.Tensor,\n",
        "                     truth: torch.Tensor,\n",
        "                     treshold: float = 0.5,\n",
        "                     eps: float = 1e-9) -> np.ndarray:\n",
        "    \"\"\"\n",
        "    Calculate Dice score for data batch.\n",
        "    Params:\n",
        "        probobilities: model outputs after activation function.\n",
        "        truth: truth values.\n",
        "        threshold: threshold for probabilities.\n",
        "        eps: additive to refine the estimate.\n",
        "        Returns: dice score aka f1.\n",
        "    \"\"\"\n",
        "    scores = []\n",
        "    num = probabilities.shape[0]\n",
        "    predictions = (probabilities >= treshold).float()\n",
        "    assert(predictions.shape == truth.shape)\n",
        "    for i in range(num):\n",
        "        prediction = predictions[i]\n",
        "        truth_ = truth[i]\n",
        "        intersection = 2.0 * (truth_ * prediction).sum()\n",
        "        union = truth_.sum() + prediction.sum()\n",
        "        if truth_.sum() == 0 and prediction.sum() == 0:\n",
        "            scores.append(1.0)\n",
        "        else:\n",
        "            scores.append((intersection + eps) / union)\n",
        "    return np.mean(scores)\n",
        "\n",
        "\n",
        "def jaccard_coef_metric(probabilities: torch.Tensor,\n",
        "               truth: torch.Tensor,\n",
        "               treshold: float = 0.5,\n",
        "               eps: float = 1e-9) -> np.ndarray:\n",
        "    \"\"\"\n",
        "    Calculate Jaccard index for data batch.\n",
        "    Params:\n",
        "        probobilities: model outputs after activation function.\n",
        "        truth: truth values.\n",
        "        threshold: threshold for probabilities.\n",
        "        eps: additive to refine the estimate.\n",
        "        Returns: jaccard score aka iou.\"\n",
        "    \"\"\"\n",
        "    scores = []\n",
        "    num = probabilities.shape[0]\n",
        "    predictions = (probabilities >= treshold).float()\n",
        "    assert(predictions.shape == truth.shape)\n",
        "\n",
        "    for i in range(num):\n",
        "        prediction = predictions[i]\n",
        "        truth_ = truth[i]\n",
        "        intersection = (prediction * truth_).sum()\n",
        "        union = (prediction.sum() + truth_.sum()) - intersection + eps\n",
        "        if truth_.sum() == 0 and prediction.sum() == 0:\n",
        "            scores.append(1.0)\n",
        "        else:\n",
        "            scores.append((intersection + eps) / union)\n",
        "    return np.mean(scores)\n",
        "\n",
        "\n",
        "class Meter:\n",
        "    '''factory for storing and updating iou and dice scores.'''\n",
        "    def __init__(self, treshold: float = 0.5):\n",
        "        self.threshold: float = treshold\n",
        "        self.dice_scores: list = []\n",
        "        self.iou_scores: list = []\n",
        "    \n",
        "    def update(self, logits: torch.Tensor, targets: torch.Tensor):\n",
        "        \"\"\"\n",
        "        Takes: logits from output model and targets,\n",
        "        calculates dice and iou scores, and stores them in lists.\n",
        "        \"\"\"\n",
        "        probs = torch.sigmoid(logits)\n",
        "        dice = dice_coef_metric(probs, targets, self.threshold)\n",
        "        iou = jaccard_coef_metric(probs, targets, self.threshold)\n",
        "        \n",
        "        self.dice_scores.append(dice)\n",
        "        self.iou_scores.append(iou)\n",
        "    \n",
        "    def get_metrics(self) -> np.ndarray:\n",
        "        \"\"\"\n",
        "        Returns: the average of the accumulated dice and iou scores.\n",
        "        \"\"\"\n",
        "        dice = np.mean(self.dice_scores)\n",
        "        iou = np.mean(self.iou_scores)\n",
        "        return dice, iou\n",
        "    \n",
        "\n",
        "class DiceLoss(nn.Module):\n",
        "    \"\"\"Calculate dice loss.\"\"\"\n",
        "    def __init__(self, eps: float = 1e-9):\n",
        "        super(DiceLoss, self).__init__()\n",
        "        self.eps = eps\n",
        "        \n",
        "    def forward(self,\n",
        "                logits: torch.Tensor,\n",
        "                targets: torch.Tensor) -> torch.Tensor:\n",
        "        \n",
        "        num = targets.size(0)\n",
        "        probability = torch.sigmoid(logits)\n",
        "        probability = probability.view(num, -1)\n",
        "        targets = targets.view(num, -1)\n",
        "        assert(probability.shape == targets.shape)\n",
        "        \n",
        "        intersection = 2.0 * (probability * targets).sum()\n",
        "        union = probability.sum() + targets.sum()\n",
        "        dice_score = (intersection + self.eps) / union\n",
        "        #print(\"intersection\", intersection, union, dice_score)\n",
        "        return 1.0 - dice_score\n",
        "        \n",
        "        \n",
        "class BCEDiceLoss(nn.Module):\n",
        "    \"\"\"Compute objective loss: BCE loss + DICE loss.\"\"\"\n",
        "    def __init__(self):\n",
        "        super(BCEDiceLoss, self).__init__()\n",
        "        self.bce = nn.BCEWithLogitsLoss()\n",
        "        self.dice = DiceLoss()\n",
        "        \n",
        "    def forward(self, \n",
        "                logits: torch.Tensor,\n",
        "                targets: torch.Tensor) -> torch.Tensor:\n",
        "        assert(logits.shape == targets.shape)\n",
        "        dice_loss = self.dice(logits, targets)\n",
        "        bce_loss = self.bce(logits, targets)\n",
        "        \n",
        "        return bce_loss + dice_loss\n"
      ],
      "metadata": {
        "execution": {
          "iopub.status.busy": "2023-02-24T00:23:30.776916Z",
          "iopub.execute_input": "2023-02-24T00:23:30.777536Z",
          "iopub.status.idle": "2023-02-24T00:23:30.802586Z",
          "shell.execute_reply.started": "2023-02-24T00:23:30.777477Z",
          "shell.execute_reply": "2023-02-24T00:23:30.801728Z"
        },
        "trusted": true,
        "id": "eQjJBoJcPUfP"
      },
      "execution_count": null,
      "outputs": []
    },
    {
      "cell_type": "markdown",
      "source": [
        "# Model"
      ],
      "metadata": {
        "id": "P_CHlSsUPUfP"
      }
    },
    {
      "cell_type": "code",
      "source": [
        "model = Unet('efficientnet-b2', encoder_weights=\"imagenet\", classes=3, activation=None)"
      ],
      "metadata": {
        "id": "UWec2CrXUPjC",
        "_kg_hide-output": true,
        "execution": {
          "iopub.status.busy": "2023-02-24T00:23:30.804135Z",
          "iopub.execute_input": "2023-02-24T00:23:30.804595Z",
          "iopub.status.idle": "2023-02-24T00:23:32.229658Z",
          "shell.execute_reply.started": "2023-02-24T00:23:30.804559Z",
          "shell.execute_reply": "2023-02-24T00:23:32.228590Z"
        },
        "trusted": true,
        "colab": {
          "referenced_widgets": [
            "f4a93964743f4c47b45ccd90d2632df6"
          ]
        },
        "outputId": "b0ed3133-6c96-4327-df4b-3d756de80a28"
      },
      "execution_count": null,
      "outputs": [
        {
          "name": "stderr",
          "text": "Downloading: \"https://github.com/lukemelas/EfficientNet-PyTorch/releases/download/1.0/efficientnet-b2-8bb594d6.pth\" to /root/.cache/torch/hub/checkpoints/efficientnet-b2-8bb594d6.pth\n",
          "output_type": "stream"
        },
        {
          "output_type": "display_data",
          "data": {
            "text/plain": "HBox(children=(FloatProgress(value=0.0, max=36804509.0), HTML(value='')))",
            "application/vnd.jupyter.widget-view+json": {
              "version_major": 2,
              "version_minor": 0,
              "model_id": "f4a93964743f4c47b45ccd90d2632df6"
            }
          },
          "metadata": {}
        },
        {
          "name": "stdout",
          "text": "\n",
          "output_type": "stream"
        }
      ]
    },
    {
      "cell_type": "markdown",
      "source": [
        "# Train Process"
      ],
      "metadata": {
        "id": "PWUHmzvbaKo0"
      }
    },
    {
      "cell_type": "code",
      "source": [
        "class Trainer:\n",
        "    \"\"\"\n",
        "    Factory for training proccess.\n",
        "    Args:\n",
        "        display_plot: if True - plot train history after each epoch.\n",
        "        net: neural network for mask prediction.\n",
        "        criterion: factory for calculating objective loss.\n",
        "        optimizer: optimizer for weights updating.\n",
        "        phases: list with train and validation phases.\n",
        "        dataloaders: dict with data loaders for train and val phases.\n",
        "        imgs_dir: path to folder with images.\n",
        "        masks_dir: path to folder with imasks.\n",
        "        path_to_csv: path to csv file.\n",
        "        meter: factory for storing and updating metrics.\n",
        "        batch_size: data batch size for one step weights updating.\n",
        "        num_epochs: num weights updation for all data.\n",
        "        accumulation_steps: the number of steps after which the optimization step can be taken\n",
        "                    (https://www.kaggle.com/c/understanding_cloud_organization/discussion/105614).\n",
        "        lr: learning rate for optimizer.\n",
        "        scheduler: scheduler for control learning rate.\n",
        "        losses: dict for storing lists with losses for each phase.\n",
        "        jaccard_scores: dict for storing lists with jaccard scores for each phase.\n",
        "        dice_scores: dict for storing lists with dice scores for each phase.\n",
        "    \"\"\"\n",
        "    def __init__(self,\n",
        "                 net: nn.Module,\n",
        "                 criterion: nn.Module,\n",
        "                 lr: float,\n",
        "                 accumulation_steps: int,\n",
        "                 batch_size: int,\n",
        "                 num_epochs: int,\n",
        "                 imgs_dir: str,\n",
        "                 masks_dir: str,\n",
        "                 path_to_csv: str,\n",
        "                 display_plot: bool = True\n",
        "                ):\n",
        "\n",
        "        \"\"\"Initialization.\"\"\"\n",
        "        self.device = 'cuda' if torch.cuda.is_available() else 'cpu'\n",
        "        print(\"device:\", self.device)\n",
        "        self.display_plot = display_plot\n",
        "        self.net = net\n",
        "        self.net = self.net.to(self.device)\n",
        "        self.criterion = criterion\n",
        "        self.optimizer = Adam(self.net.parameters(), lr=lr)\n",
        "        self.scheduler = ReduceLROnPlateau(self.optimizer, mode=\"min\",\n",
        "                                           patience=3, verbose=True)\n",
        "        self.accumulation_steps = accumulation_steps // batch_size\n",
        "        self.phases = [\"train\", \"val\"]\n",
        "        self.num_epochs = num_epochs\n",
        "\n",
        "        self.dataloaders = {\n",
        "            phase: get_dataloader(\n",
        "                imgs_dir = imgs_dir,\n",
        "                masks_dir = masks_dir,\n",
        "                path_to_csv = path_to_csv,\n",
        "                phase = phase,\n",
        "                batch_size = 8,\n",
        "                num_workers = 6\n",
        "            )\n",
        "            for phase in self.phases\n",
        "        }\n",
        "        self.best_loss = float(\"inf\")\n",
        "        self.losses = {phase: [] for phase in self.phases}\n",
        "        self.dice_scores = {phase: [] for phase in self.phases}\n",
        "        self.jaccard_scores = {phase: [] for phase in self.phases}\n",
        "         \n",
        "    def _compute_loss_and_outputs(self,\n",
        "                                  images: torch.Tensor,\n",
        "                                  targets: torch.Tensor):\n",
        "        images = images.to(self.device)\n",
        "        targets = targets.to(self.device)\n",
        "        logits = self.net(images)\n",
        "        loss = self.criterion(logits, targets)\n",
        "        return loss, logits\n",
        "        \n",
        "    def _do_epoch(self, epoch: int, phase: str):\n",
        "        print(f\"{phase} epoch: {epoch} | time: {time.strftime('%H:%M:%S')}\")\n",
        "\n",
        "        self.net.train() if phase == \"train\" else self.net.eval()\n",
        "        meter = Meter()\n",
        "        dataloader = self.dataloaders[phase]\n",
        "        total_batches = len(dataloader)\n",
        "        running_loss = 0.0\n",
        "        self.optimizer.zero_grad()\n",
        "        for itr, (images, targets) in enumerate(dataloader):\n",
        "            loss, logits = self._compute_loss_and_outputs(images, targets)\n",
        "            loss = loss / self.accumulation_steps\n",
        "            if phase == \"train\":\n",
        "                loss.backward()\n",
        "                if (itr + 1) % self.accumulation_steps == 0:\n",
        "                    self.optimizer.step()\n",
        "                    self.optimizer.zero_grad()\n",
        "            running_loss += loss.item()\n",
        "            meter.update(logits.detach().cpu(),\n",
        "                         targets.detach().cpu()\n",
        "                        )\n",
        "            \n",
        "        epoch_loss = (running_loss * self.accumulation_steps) / total_batches\n",
        "        epoch_dice, epoch_iou = meter.get_metrics()\n",
        "        \n",
        "        self.losses[phase].append(epoch_loss)\n",
        "        self.dice_scores[phase].append(epoch_dice)\n",
        "        self.jaccard_scores[phase].append(epoch_iou)\n",
        "\n",
        "        return epoch_loss\n",
        "        \n",
        "    def train(self):\n",
        "        for epoch in range(self.num_epochs):\n",
        "            self._do_epoch(epoch, \"train\")\n",
        "            with torch.no_grad():\n",
        "                val_loss = self._do_epoch(epoch, \"val\")\n",
        "                self.scheduler.step(val_loss)\n",
        "            if self.display_plot:\n",
        "                self._plot_train_history()\n",
        "                \n",
        "            if val_loss < self.best_loss:\n",
        "                print(f\"\\n{'#'*20}\\nSaved new checkpoint\\n{'#'*20}\\n\")\n",
        "                self.best_loss = val_loss\n",
        "                torch.save(self.net.state_dict(), \"best_model.pth\")\n",
        "            print()\n",
        "        self._save_train_history()\n",
        "            \n",
        "    def _plot_train_history(self):\n",
        "        data = [self.losses, self.dice_scores, self.jaccard_scores]\n",
        "        colors = ['deepskyblue', \"crimson\"]\n",
        "        labels = [\n",
        "            f\"\"\"\n",
        "            train loss {self.losses['train'][-1]}\n",
        "            val loss {self.losses['val'][-1]}\n",
        "            \"\"\",\n",
        "            \n",
        "            f\"\"\"\n",
        "            train dice score {self.dice_scores['train'][-1]}\n",
        "            val dice score {self.dice_scores['val'][-1]} \n",
        "            \"\"\", \n",
        "                  \n",
        "            f\"\"\"\n",
        "            train jaccard score {self.jaccard_scores['train'][-1]}\n",
        "            val jaccard score {self.jaccard_scores['val'][-1]}\n",
        "            \"\"\",\n",
        "        ]\n",
        "        \n",
        "        clear_output(True)\n",
        "        with plt.style.context(\"seaborn-dark-palette\"):\n",
        "            fig, axes = plt.subplots(3, 1, figsize=(8, 10))\n",
        "            for i, ax in enumerate(axes):\n",
        "                ax.plot(data[i]['val'], c=colors[0], label=\"val\")\n",
        "                ax.plot(data[i]['train'], c=colors[-1], label=\"train\")\n",
        "                ax.set_title(labels[i])\n",
        "                ax.legend(loc=\"upper right\")\n",
        "                \n",
        "            plt.tight_layout()\n",
        "            plt.show()\n",
        "            \n",
        "    def load_predtrain_model(self,\n",
        "                             state_path: str):\n",
        "        self.net.load_state_dict(torch.load(state_path))\n",
        "        print(\"Predtrain model loaded\")\n",
        "        \n",
        "    def _save_train_history(self):\n",
        "        \"\"\"writing model weights and training logs to files.\"\"\"\n",
        "        torch.save(self.net.state_dict(),\n",
        "                   f\"last_epoch_model.pth\")\n",
        "\n",
        "        logs_ = [self.losses, self.dice_scores, self.jaccard_scores]\n",
        "        log_names_ = [\"_loss\", \"_dice\", \"_jaccard\"]\n",
        "        logs = [logs_[i][key] for i in list(range(len(logs_)))\n",
        "                         for key in logs_[i]]\n",
        "        log_names = [key+log_names_[i] \n",
        "                     for i in list(range(len(logs_))) \n",
        "                     for key in logs_[i]\n",
        "                    ]\n",
        "        pd.DataFrame(\n",
        "            dict(zip(log_names, logs))\n",
        "        ).to_csv(\"train_log.csv\", index=False)"
      ],
      "metadata": {
        "execution": {
          "iopub.status.busy": "2023-02-24T00:23:32.231186Z",
          "iopub.execute_input": "2023-02-24T00:23:32.231730Z",
          "iopub.status.idle": "2023-02-24T00:23:32.263007Z",
          "shell.execute_reply.started": "2023-02-24T00:23:32.231689Z",
          "shell.execute_reply": "2023-02-24T00:23:32.261982Z"
        },
        "trusted": true,
        "id": "rMUBYQ2dPUfQ"
      },
      "execution_count": null,
      "outputs": []
    },
    {
      "cell_type": "code",
      "source": [
        "trainer = Trainer(net=model,\n",
        "                  criterion=BCEDiceLoss(),\n",
        "                  lr=8e-5,\n",
        "                  accumulation_steps=32,\n",
        "                  batch_size=8,\n",
        "                  num_epochs=1,\n",
        "                  imgs_dir = config.path_to_imgs_dir,\n",
        "                  masks_dir = config.path_to_masks_dir,\n",
        "                  path_to_csv = config.path_to_csv,)\n",
        "\n",
        "if config.pretrained_model_path is not None:\n",
        "    trainer.load_predtrain_model(config.pretrained_model_path)\n",
        "    \n",
        "    # if need - load the logs.      \n",
        "    train_logs = pd.read_csv(config.train_logs_path)\n",
        "    trainer.losses[\"train\"] =  train_logs.loc[:, \"train_loss\"].to_list()\n",
        "    trainer.losses[\"val\"] =  train_logs.loc[:, \"val_loss\"].to_list()\n",
        "    trainer.dice_scores[\"train\"] = train_logs.loc[:, \"train_dice\"].to_list()\n",
        "    trainer.dice_scores[\"val\"] = train_logs.loc[:, \"val_dice\"].to_list()\n",
        "    trainer.jaccard_scores[\"train\"] = train_logs.loc[:, \"train_jaccard\"].to_list()\n",
        "    trainer.jaccard_scores[\"val\"] = train_logs.loc[:, \"val_jaccard\"].to_list()"
      ],
      "metadata": {
        "id": "ULnA0lkgUPmI",
        "outputId": "d83b2393-ca73-40dc-cd12-ab02b735e240",
        "execution": {
          "iopub.status.busy": "2023-02-24T00:23:32.266011Z",
          "iopub.execute_input": "2023-02-24T00:23:32.266413Z",
          "iopub.status.idle": "2023-02-24T00:23:35.095951Z",
          "shell.execute_reply.started": "2023-02-24T00:23:32.266379Z",
          "shell.execute_reply": "2023-02-24T00:23:35.095009Z"
        },
        "trusted": true
      },
      "execution_count": null,
      "outputs": [
        {
          "name": "stdout",
          "text": "device: cuda\nPredtrain model loaded\n",
          "output_type": "stream"
        }
      ]
    },
    {
      "cell_type": "code",
      "source": [
        "%%time\n",
        "trainer.train()"
      ],
      "metadata": {
        "id": "iM-3o86EUPre",
        "outputId": "34dd86f5-6f20-4a41-ae37-e17954ce21d4",
        "execution": {
          "iopub.status.busy": "2023-02-24T00:23:35.097323Z",
          "iopub.execute_input": "2023-02-24T00:23:35.097678Z",
          "iopub.status.idle": "2023-02-24T00:44:50.453392Z",
          "shell.execute_reply.started": "2023-02-24T00:23:35.097640Z",
          "shell.execute_reply": "2023-02-24T00:44:50.452249Z"
        },
        "trusted": true
      },
      "execution_count": null,
      "outputs": [
        {
          "output_type": "display_data",
          "data": {
            "text/plain": "<Figure size 576x720 with 3 Axes>",
            "image/png": "[encoded data removed]"
          },
          "metadata": {
            "needs_background": "light"
          }
        },
        {
          "name": "stdout",
          "text": "\n####################\nSaved new checkpoint\n####################\n\n\nCPU times: user 15min 56s, sys: 5min 5s, total: 21min 2s\nWall time: 21min 15s\n",
          "output_type": "stream"
        }
      ]
    },
    {
      "cell_type": "markdown",
      "source": [
        "# Experiments and Results"
      ],
      "metadata": {
        "id": "okfuiTuAaGLp"
      }
    },
    {
      "cell_type": "code",
      "source": [
        "val_dataloader = get_dataloader(\n",
        "    imgs_dir=config.path_to_imgs_dir,\n",
        "    masks_dir=config.path_to_masks_dir,\n",
        "    path_to_csv=config.path_to_csv,\n",
        "    phase = \"val\",\n",
        "    batch_size = 8,\n",
        "    num_workers = 6,\n",
        "    test_size = 0.2,\n",
        ")"
      ],
      "metadata": {
        "id": "H0AgOf_SbgYF",
        "execution": {
          "iopub.status.busy": "2023-02-24T00:44:50.455351Z",
          "iopub.execute_input": "2023-02-24T00:44:50.456059Z",
          "iopub.status.idle": "2023-02-24T00:44:50.496159Z",
          "shell.execute_reply.started": "2023-02-24T00:44:50.456009Z",
          "shell.execute_reply": "2023-02-24T00:44:50.495165Z"
        },
        "trusted": true
      },
      "execution_count": null,
      "outputs": []
    },
    {
      "cell_type": "code",
      "source": [
        "%%time\n",
        "dice_scores_per_classes, iou_scores_per_classes = compute_scores_per_classes(\n",
        "    model, val_dataloader, ['lung', 'heart', 'trachea']\n",
        "    )"
      ],
      "metadata": {
        "id": "TG9fX_mzaNS5",
        "outputId": "438b6e3d-5172-4d08-fa65-cc19b955268a",
        "execution": {
          "iopub.status.busy": "2023-02-24T00:44:50.497589Z",
          "iopub.execute_input": "2023-02-24T00:44:50.498000Z",
          "iopub.status.idle": "2023-02-24T00:46:45.612340Z",
          "shell.execute_reply.started": "2023-02-24T00:44:50.497959Z",
          "shell.execute_reply": "2023-02-24T00:46:45.611079Z"
        },
        "trusted": true
      },
      "execution_count": null,
      "outputs": [
        {
          "name": "stdout",
          "text": "CPU times: user 1min 38s, sys: 14.9 s, total: 1min 53s\nWall time: 1min 55s\n",
          "output_type": "stream"
        }
      ]
    },
    {
      "cell_type": "code",
      "source": [
        "dice_df = pd.DataFrame(dice_scores_per_classes)\n",
        "dice_df.columns = ['lung dice', 'heart dice', 'trachea dice']\n",
        "\n",
        "iou_df = pd.DataFrame(iou_scores_per_classes)\n",
        "iou_df.columns = ['lung jaccard', 'heart jaccard', 'trachea jaccard']\n",
        "val_metics_df = pd.concat([dice_df, iou_df], axis=1, sort=True)\n",
        "val_metics_df = val_metics_df.loc[:, ['lung dice', 'lung jaccard', \n",
        "                                      'heart dice', 'heart jaccard', \n",
        "                                      'trachea dice', 'trachea jaccard']]\n",
        "val_metics_df"
      ],
      "metadata": {
        "id": "J0SRSJrLaNad",
        "outputId": "bff0ea2a-274c-48a2-920c-aa95c68502ff",
        "execution": {
          "iopub.status.busy": "2023-02-24T00:46:45.614226Z",
          "iopub.execute_input": "2023-02-24T00:46:45.614633Z",
          "iopub.status.idle": "2023-02-24T00:46:45.650480Z",
          "shell.execute_reply.started": "2023-02-24T00:46:45.614588Z",
          "shell.execute_reply": "2023-02-24T00:46:45.649225Z"
        },
        "trusted": true
      },
      "execution_count": null,
      "outputs": [
        {
          "execution_count": 17,
          "output_type": "execute_result",
          "data": {
            "text/plain": "      lung dice  lung jaccard    heart dice  heart jaccard  trachea dice  \\\n0      0.995929      0.991890  1.000000e+00   1.000000e+00  9.547920e-01   \n1      1.000000      1.000000  1.000000e+00   1.000000e+00  9.230769e-01   \n2      0.960790      0.924538  2.857143e-11   2.857143e-11  7.142857e-11   \n3      0.991927      0.983983  1.000000e+00   1.000000e+00  1.000000e+00   \n4      0.980867      0.962452  1.000000e+00   1.000000e+00  1.000000e+00   \n...         ...           ...           ...            ...           ...   \n3337   1.000000      1.000000  1.000000e+00   1.000000e+00  5.980861e-13   \n3338   0.951952      0.908309  1.000000e+00   1.000000e+00  2.020202e-12   \n3339   0.995000      0.990049  1.000000e+00   1.000000e+00  9.753846e-01   \n3340   0.997518      0.995049  1.000000e+00   1.000000e+00  9.805996e-01   \n3341   1.000000      1.000000  1.000000e+00   1.000000e+00  1.000000e+00   \n\n      trachea jaccard  \n0        9.134948e-01  \n1        8.571429e-01  \n2        7.142857e-11  \n3        1.000000e+00  \n4        1.000000e+00  \n...               ...  \n3337     5.980861e-13  \n3338     2.020202e-12  \n3339     9.519520e-01  \n3340     9.619377e-01  \n3341     1.000000e+00  \n\n[3342 rows x 6 columns]",
            "text/html": "<div>\n<style scoped>\n    .dataframe tbody tr th:only-of-type {\n        vertical-align: middle;\n    }\n\n    .dataframe tbody tr th {\n        vertical-align: top;\n    }\n\n    .dataframe thead th {\n        text-align: right;\n    }\n</style>\n<table border=\"1\" class=\"dataframe\">\n  <thead>\n    <tr style=\"text-align: right;\">\n      <th></th>\n      <th>lung dice</th>\n      <th>lung jaccard</th>\n      <th>heart dice</th>\n      <th>heart jaccard</th>\n      <th>trachea dice</th>\n      <th>trachea jaccard</th>\n    </tr>\n  </thead>\n  <tbody>\n    <tr>\n      <th>0</th>\n      <td>0.995929</td>\n      <td>0.991890</td>\n      <td>1.000000e+00</td>\n      <td>1.000000e+00</td>\n      <td>9.547920e-01</td>\n      <td>9.134948e-01</td>\n    </tr>\n    <tr>\n      <th>1</th>\n      <td>1.000000</td>\n      <td>1.000000</td>\n      <td>1.000000e+00</td>\n      <td>1.000000e+00</td>\n      <td>9.230769e-01</td>\n      <td>8.571429e-01</td>\n    </tr>\n    <tr>\n      <th>2</th>\n      <td>0.960790</td>\n      <td>0.924538</td>\n      <td>2.857143e-11</td>\n      <td>2.857143e-11</td>\n      <td>7.142857e-11</td>\n      <td>7.142857e-11</td>\n    </tr>\n    <tr>\n      <th>3</th>\n      <td>0.991927</td>\n      <td>0.983983</td>\n      <td>1.000000e+00</td>\n      <td>1.000000e+00</td>\n      <td>1.000000e+00</td>\n      <td>1.000000e+00</td>\n    </tr>\n    <tr>\n      <th>4</th>\n      <td>0.980867</td>\n      <td>0.962452</td>\n      <td>1.000000e+00</td>\n      <td>1.000000e+00</td>\n      <td>1.000000e+00</td>\n      <td>1.000000e+00</td>\n    </tr>\n    <tr>\n      <th>...</th>\n      <td>...</td>\n      <td>...</td>\n      <td>...</td>\n      <td>...</td>\n      <td>...</td>\n      <td>...</td>\n    </tr>\n    <tr>\n      <th>3337</th>\n      <td>1.000000</td>\n      <td>1.000000</td>\n      <td>1.000000e+00</td>\n      <td>1.000000e+00</td>\n      <td>5.980861e-13</td>\n      <td>5.980861e-13</td>\n    </tr>\n    <tr>\n      <th>3338</th>\n      <td>0.951952</td>\n      <td>0.908309</td>\n      <td>1.000000e+00</td>\n      <td>1.000000e+00</td>\n      <td>2.020202e-12</td>\n      <td>2.020202e-12</td>\n    </tr>\n    <tr>\n      <th>3339</th>\n      <td>0.995000</td>\n      <td>0.990049</td>\n      <td>1.000000e+00</td>\n      <td>1.000000e+00</td>\n      <td>9.753846e-01</td>\n      <td>9.519520e-01</td>\n    </tr>\n    <tr>\n      <th>3340</th>\n      <td>0.997518</td>\n      <td>0.995049</td>\n      <td>1.000000e+00</td>\n      <td>1.000000e+00</td>\n      <td>9.805996e-01</td>\n      <td>9.619377e-01</td>\n    </tr>\n    <tr>\n      <th>3341</th>\n      <td>1.000000</td>\n      <td>1.000000</td>\n      <td>1.000000e+00</td>\n      <td>1.000000e+00</td>\n      <td>1.000000e+00</td>\n      <td>1.000000e+00</td>\n    </tr>\n  </tbody>\n</table>\n<p>3342 rows × 6 columns</p>\n</div>"
          },
          "metadata": {}
        }
      ]
    },
    {
      "cell_type": "code",
      "source": [
        "colors = ['#35FCFF', '#FF355A', '#96C503', '#C5035B', '#28B463', '#35FFAF']\n",
        "palette = sns.color_palette(colors, 6)\n",
        "\n",
        "fig, ax = plt.subplots(figsize=(12, 6));\n",
        "sns.barplot(x=val_metics_df.mean().index, y=val_metics_df.mean(), palette=palette, ax=ax);\n",
        "ax.set_xticklabels(val_metics_df.columns, fontsize=14, rotation=15);\n",
        "ax.set_title(\"Dice and Jaccard Coefficients from Validation\", fontsize=20)\n",
        "\n",
        "for idx, p in enumerate(ax.patches):\n",
        "        percentage = '{:.1f}%'.format(100 * val_metics_df.mean().values[idx])\n",
        "        x = p.get_x() + p.get_width() / 2 - 0.15\n",
        "        y = p.get_y() + p.get_height()\n",
        "        ax.annotate(percentage, (x, y), fontsize=15, fontweight=\"bold\")\n",
        "\n",
        "fig.savefig(\"result1.png\", format=\"png\",  pad_inches=0.2, transparent=False, bbox_inches='tight')\n",
        "fig.savefig(\"result1.svg\", format=\"svg\",  pad_inches=0.2, transparent=False, bbox_inches='tight')"
      ],
      "metadata": {
        "id": "PVbmrufYaNYh",
        "outputId": "8785b132-f120-4421-a397-7cdc1268b07b",
        "execution": {
          "iopub.status.busy": "2023-02-24T00:46:45.652368Z",
          "iopub.execute_input": "2023-02-24T00:46:45.652765Z",
          "iopub.status.idle": "2023-02-24T00:46:46.285456Z",
          "shell.execute_reply.started": "2023-02-24T00:46:45.652707Z",
          "shell.execute_reply": "2023-02-24T00:46:46.282933Z"
        },
        "trusted": true
      },
      "execution_count": null,
      "outputs": [
        {
          "output_type": "display_data",
          "data": {
            "text/plain": "<Figure size 864x432 with 1 Axes>",
            "image/png": "[encoded data removed]"
          },
          "metadata": {
            "needs_background": "light"
          }
        }
      ]
    },
    {
      "cell_type": "code",
      "source": [
        "colors = ['#35FCFF', '#FF355A', '#28B463', '#35FFAF', '#96C503', '#C5035B']\n",
        "palette = sns.color_palette(colors[1::], 3)\n",
        "\n",
        "fig, ax = plt.subplots(1, 2, figsize=(20, 5))\n",
        "sns.boxplot(data=dice_df, palette=palette, ax=ax[0])\n",
        "ax[0].set_ylabel(\"Dice coefficients for 3342 slices\", fontsize=14)\n",
        "ax[0].set_title(\"Dice coefficients from Validation\", fontsize=20)\n",
        "ax[0].set_xticklabels(dice_df.columns, fontsize=14)\n",
        "\n",
        "sns.boxplot(data=iou_df, palette=palette, ax=ax[1])\n",
        "ax[1].set_ylabel(\"Jaccard coefficients for 3342 slices\", fontsize=14)\n",
        "ax[1].set_title(\"Jaccard coefficients from Validation\", fontsize=20)\n",
        "ax[1].set_xticklabels(iou_df.columns, fontsize=14)\n",
        "plt.tight_layout()\n",
        "\n",
        "fig.savefig(\"result2.png\", format=\"png\",  pad_inches=0.2, transparent=False, bbox_inches='tight')\n",
        "fig.savefig(\"result2.svg\", format=\"svg\",  pad_inches=0.2, transparent=False, bbox_inches='tight')"
      ],
      "metadata": {
        "id": "IxOrlMixjApG",
        "outputId": "77687e65-d2c7-4ebd-d7b3-a1205eee4433",
        "execution": {
          "iopub.status.busy": "2023-02-24T00:46:46.293801Z",
          "iopub.execute_input": "2023-02-24T00:46:46.297607Z",
          "iopub.status.idle": "2023-02-24T00:46:47.686861Z",
          "shell.execute_reply.started": "2023-02-24T00:46:46.297480Z",
          "shell.execute_reply": "2023-02-24T00:46:47.685831Z"
        },
        "trusted": true
      },
      "execution_count": null,
      "outputs": [
        {
          "output_type": "display_data",
          "data": {
            "text/plain": "<Figure size 1440x360 with 2 Axes>",
            "image/png": "[encoded data removed]"
          },
          "metadata": {
            "needs_background": "light"
          }
        }
      ]
    },
    {
      "cell_type": "markdown",
      "source": [
        "and train history logs "
      ],
      "metadata": {
        "id": "RCFfMqRcjaTU"
      }
    },
    {
      "cell_type": "code",
      "source": [
        "train_logs = pd.read_csv(config.train_logs_path)\n",
        "train_logs.head(5)"
      ],
      "metadata": {
        "id": "Ph3v04BCja3L",
        "outputId": "59125857-f0c6-4af8-f855-8a1c15ec0024",
        "execution": {
          "iopub.status.busy": "2023-02-24T00:46:47.688627Z",
          "iopub.execute_input": "2023-02-24T00:46:47.689059Z",
          "iopub.status.idle": "2023-02-24T00:46:47.711867Z",
          "shell.execute_reply.started": "2023-02-24T00:46:47.689012Z",
          "shell.execute_reply": "2023-02-24T00:46:47.711065Z"
        },
        "trusted": true
      },
      "execution_count": null,
      "outputs": [
        {
          "execution_count": 20,
          "output_type": "execute_result",
          "data": {
            "text/plain": "   train_loss  val_loss  train_dice  val_dice  train_jaccard  val_jaccard\n0    0.386394  0.176678    0.697667  0.755589       0.646303     0.717975\n1    0.144522  0.123104    0.769935  0.786307       0.731782     0.752826\n2    0.112448  0.093943    0.811846  0.829476       0.775296     0.795960\n3    0.087972  0.073344    0.838840  0.851835       0.804823     0.819167\n4    0.073297  0.064866    0.854065  0.861600       0.821115     0.830928",
            "text/html": "<div>\n<style scoped>\n    .dataframe tbody tr th:only-of-type {\n        vertical-align: middle;\n    }\n\n    .dataframe tbody tr th {\n        vertical-align: top;\n    }\n\n    .dataframe thead th {\n        text-align: right;\n    }\n</style>\n<table border=\"1\" class=\"dataframe\">\n  <thead>\n    <tr style=\"text-align: right;\">\n      <th></th>\n      <th>train_loss</th>\n      <th>val_loss</th>\n      <th>train_dice</th>\n      <th>val_dice</th>\n      <th>train_jaccard</th>\n      <th>val_jaccard</th>\n    </tr>\n  </thead>\n  <tbody>\n    <tr>\n      <th>0</th>\n      <td>0.386394</td>\n      <td>0.176678</td>\n      <td>0.697667</td>\n      <td>0.755589</td>\n      <td>0.646303</td>\n      <td>0.717975</td>\n    </tr>\n    <tr>\n      <th>1</th>\n      <td>0.144522</td>\n      <td>0.123104</td>\n      <td>0.769935</td>\n      <td>0.786307</td>\n      <td>0.731782</td>\n      <td>0.752826</td>\n    </tr>\n    <tr>\n      <th>2</th>\n      <td>0.112448</td>\n      <td>0.093943</td>\n      <td>0.811846</td>\n      <td>0.829476</td>\n      <td>0.775296</td>\n      <td>0.795960</td>\n    </tr>\n    <tr>\n      <th>3</th>\n      <td>0.087972</td>\n      <td>0.073344</td>\n      <td>0.838840</td>\n      <td>0.851835</td>\n      <td>0.804823</td>\n      <td>0.819167</td>\n    </tr>\n    <tr>\n      <th>4</th>\n      <td>0.073297</td>\n      <td>0.064866</td>\n      <td>0.854065</td>\n      <td>0.861600</td>\n      <td>0.821115</td>\n      <td>0.830928</td>\n    </tr>\n  </tbody>\n</table>\n</div>"
          },
          "metadata": {}
        }
      ]
    },
    {
      "cell_type": "code",
      "source": [
        "colors = ['#C042FF', '#03C576FF', '#FF355A', '#03C5BF', '#96C503', '#C5035B']\n",
        "palettes = [sns.color_palette(colors, 2),\n",
        "            sns.color_palette(colors, 4), \n",
        "            sns.color_palette(colors[:2]+colors[-2:] + colors[2:-2], 6)]\n",
        "            \n",
        "fig, ax = plt.subplots(1, 3, figsize=(22, 4))\n",
        "\n",
        "sns.lineplot(data=train_logs.iloc[:, :2], palette=palettes[0], markers=True, ax=ax[0], linewidth=2.5,)\n",
        "ax[0].set_title(\"Loss Function during Model Training\", fontsize=14)\n",
        "ax[0].set_xlabel(\"Epoch\", fontsize=14)\n",
        "\n",
        "sns.lineplot(data=train_logs.iloc[:, 2:], palette=palettes[1], markers=True, ax=ax[1], linewidth=2.5, legend=\"full\")\n",
        "ax[1].set_title(\"Dice and Jaccard Coefficients during Model Training\", fontsize=14)\n",
        "ax[1].set_xlabel(\"Epoch\", fontsize=14)\n",
        "\n",
        "sns.boxplot(data=val_metics_df.iloc[:,:], palette=palettes[2], ax=ax[2])\n",
        "ax[2].set_title(\"Dice and Jaccard Coefficients for each Label from Validation\", fontsize=14)\n",
        "ax[2].set_xticklabels(val_metics_df.columns, fontsize=10, rotation=15)\n",
        "\n",
        "plt.tight_layout()\n",
        "fig.savefig(\"result3.png\", format=\"png\",  pad_inches=0.2, transparent=False, bbox_inches='tight')\n",
        "fig.savefig(\"result3.svg\", format=\"svg\",  pad_inches=0.2, transparent=False, bbox_inches='tight')"
      ],
      "metadata": {
        "id": "aPCFHGIkja6k",
        "outputId": "6eeaa91e-9720-49bc-ff09-35876ace4a5c",
        "execution": {
          "iopub.status.busy": "2023-02-24T00:46:47.714125Z",
          "iopub.execute_input": "2023-02-24T00:46:47.714834Z",
          "iopub.status.idle": "2023-02-24T00:46:49.586790Z",
          "shell.execute_reply.started": "2023-02-24T00:46:47.714791Z",
          "shell.execute_reply": "2023-02-24T00:46:49.585770Z"
        },
        "trusted": true
      },
      "execution_count": null,
      "outputs": [
        {
          "output_type": "display_data",
          "data": {
            "text/plain": "<Figure size 1584x288 with 3 Axes>",
            "image/png": "[encoded data removed]"
          },
          "metadata": {
            "needs_background": "light"
          }
        }
      ]
    },
    {
      "cell_type": "markdown",
      "source": [
        "Now let's make a video with overlapped masks for each slice of one id CT "
      ],
      "metadata": {
        "id": "v_o71Xz4j5qL"
      }
    },
    {
      "cell_type": "code",
      "source": [
        "df = pd.read_csv(config.path_to_csv)\n",
        "df[\"Id\"] = df['ImageId'].apply(lambda x: x.split(\"_\")[0])\n",
        "\n",
        "id_ = 'ID00400637202305055099402'\n",
        "full_scan_example = df.loc[df['Id'] == id_].reset_index(drop=True)\n",
        "full_scan_example "
      ],
      "metadata": {
        "id": "jKRO64tRjAmC",
        "outputId": "dc6b0851-5cb9-4e45-f253-232a450fc0c8",
        "execution": {
          "iopub.status.busy": "2023-02-24T00:46:49.588472Z",
          "iopub.execute_input": "2023-02-24T00:46:49.589059Z",
          "iopub.status.idle": "2023-02-24T00:46:49.646115Z",
          "shell.execute_reply.started": "2023-02-24T00:46:49.589016Z",
          "shell.execute_reply": "2023-02-24T00:46:49.645103Z"
        },
        "trusted": true
      },
      "execution_count": null,
      "outputs": [
        {
          "execution_count": 22,
          "output_type": "execute_result",
          "data": {
            "text/plain": "                               ImageId  \\\n0      ID00400637202305055099402_0.jpg   \n1      ID00400637202305055099402_1.jpg   \n2      ID00400637202305055099402_2.jpg   \n3      ID00400637202305055099402_3.jpg   \n4      ID00400637202305055099402_4.jpg   \n..                                 ...   \n260  ID00400637202305055099402_260.jpg   \n261  ID00400637202305055099402_261.jpg   \n262  ID00400637202305055099402_262.jpg   \n263  ID00400637202305055099402_263.jpg   \n264  ID00400637202305055099402_264.jpg   \n\n                                     MaskId                         Id  \n0      ID00400637202305055099402_mask_0.jpg  ID00400637202305055099402  \n1      ID00400637202305055099402_mask_1.jpg  ID00400637202305055099402  \n2      ID00400637202305055099402_mask_2.jpg  ID00400637202305055099402  \n3      ID00400637202305055099402_mask_3.jpg  ID00400637202305055099402  \n4      ID00400637202305055099402_mask_4.jpg  ID00400637202305055099402  \n..                                      ...                        ...  \n260  ID00400637202305055099402_mask_260.jpg  ID00400637202305055099402  \n261  ID00400637202305055099402_mask_261.jpg  ID00400637202305055099402  \n262  ID00400637202305055099402_mask_262.jpg  ID00400637202305055099402  \n263  ID00400637202305055099402_mask_263.jpg  ID00400637202305055099402  \n264  ID00400637202305055099402_mask_264.jpg  ID00400637202305055099402  \n\n[265 rows x 3 columns]",
            "text/html": "<div>\n<style scoped>\n    .dataframe tbody tr th:only-of-type {\n        vertical-align: middle;\n    }\n\n    .dataframe tbody tr th {\n        vertical-align: top;\n    }\n\n    .dataframe thead th {\n        text-align: right;\n    }\n</style>\n<table border=\"1\" class=\"dataframe\">\n  <thead>\n    <tr style=\"text-align: right;\">\n      <th></th>\n      <th>ImageId</th>\n      <th>MaskId</th>\n      <th>Id</th>\n    </tr>\n  </thead>\n  <tbody>\n    <tr>\n      <th>0</th>\n      <td>ID00400637202305055099402_0.jpg</td>\n      <td>ID00400637202305055099402_mask_0.jpg</td>\n      <td>ID00400637202305055099402</td>\n    </tr>\n    <tr>\n      <th>1</th>\n      <td>ID00400637202305055099402_1.jpg</td>\n      <td>ID00400637202305055099402_mask_1.jpg</td>\n      <td>ID00400637202305055099402</td>\n    </tr>\n    <tr>\n      <th>2</th>\n      <td>ID00400637202305055099402_2.jpg</td>\n      <td>ID00400637202305055099402_mask_2.jpg</td>\n      <td>ID00400637202305055099402</td>\n    </tr>\n    <tr>\n      <th>3</th>\n      <td>ID00400637202305055099402_3.jpg</td>\n      <td>ID00400637202305055099402_mask_3.jpg</td>\n      <td>ID00400637202305055099402</td>\n    </tr>\n    <tr>\n      <th>4</th>\n      <td>ID00400637202305055099402_4.jpg</td>\n      <td>ID00400637202305055099402_mask_4.jpg</td>\n      <td>ID00400637202305055099402</td>\n    </tr>\n    <tr>\n      <th>...</th>\n      <td>...</td>\n      <td>...</td>\n      <td>...</td>\n    </tr>\n    <tr>\n      <th>260</th>\n      <td>ID00400637202305055099402_260.jpg</td>\n      <td>ID00400637202305055099402_mask_260.jpg</td>\n      <td>ID00400637202305055099402</td>\n    </tr>\n    <tr>\n      <th>261</th>\n      <td>ID00400637202305055099402_261.jpg</td>\n      <td>ID00400637202305055099402_mask_261.jpg</td>\n      <td>ID00400637202305055099402</td>\n    </tr>\n    <tr>\n      <th>262</th>\n      <td>ID00400637202305055099402_262.jpg</td>\n      <td>ID00400637202305055099402_mask_262.jpg</td>\n      <td>ID00400637202305055099402</td>\n    </tr>\n    <tr>\n      <th>263</th>\n      <td>ID00400637202305055099402_263.jpg</td>\n      <td>ID00400637202305055099402_mask_263.jpg</td>\n      <td>ID00400637202305055099402</td>\n    </tr>\n    <tr>\n      <th>264</th>\n      <td>ID00400637202305055099402_264.jpg</td>\n      <td>ID00400637202305055099402_mask_264.jpg</td>\n      <td>ID00400637202305055099402</td>\n    </tr>\n  </tbody>\n</table>\n<p>265 rows × 3 columns</p>\n</div>"
          },
          "metadata": {}
        }
      ]
    },
    {
      "cell_type": "code",
      "source": [
        "get_color_info()"
      ],
      "metadata": {
        "execution": {
          "iopub.status.busy": "2023-02-24T00:46:49.648103Z",
          "iopub.execute_input": "2023-02-24T00:46:49.648528Z",
          "iopub.status.idle": "2023-02-24T00:46:50.049489Z",
          "shell.execute_reply.started": "2023-02-24T00:46:49.648485Z",
          "shell.execute_reply": "2023-02-24T00:46:50.048574Z"
        },
        "trusted": true,
        "id": "Mz8wczzfPUfV",
        "outputId": "ae804eca-ec4e-4991-cfc8-9576111d282c"
      },
      "execution_count": null,
      "outputs": [
        {
          "output_type": "display_data",
          "data": {
            "text/plain": "<Figure size 1080x360 with 3 Axes>",
            "image/png": "[encoded data removed]"
          },
          "metadata": {
            "needs_background": "light"
          }
        }
      ]
    },
    {
      "cell_type": "markdown",
      "source": [
        "### Ground Truth"
      ],
      "metadata": {
        "id": "MGE1R-8ZuFw2"
      }
    },
    {
      "cell_type": "code",
      "source": [
        "PATH_TO_SAVE = id_ + \"_ground_truth\"\n",
        "\n",
        "if not os.path.exists(PATH_TO_SAVE):\n",
        "    os.mkdir(PATH_TO_SAVE)\n",
        "    print(f\"Folder {PATH_TO_SAVE} created.\")\n",
        "\n",
        "get_overlaid_masks_on_full_ctscan(ct_scan_id_df=full_scan_example,\n",
        "                                  path_to_save=\"./\" +PATH_TO_SAVE,\n",
        "                                  root_imgs_dir = '../input/chest-ct-segmentation/images/images/',        \n",
        "                                  root_masks_dir = '../input/chest-ct-segmentation/masks/masks/')\n"
      ],
      "metadata": {
        "id": "ihOjemlbaNWA",
        "execution": {
          "iopub.status.busy": "2023-02-24T00:46:50.051008Z",
          "iopub.execute_input": "2023-02-24T00:46:50.051420Z",
          "iopub.status.idle": "2023-02-24T00:48:09.826689Z",
          "shell.execute_reply.started": "2023-02-24T00:46:50.051377Z",
          "shell.execute_reply": "2023-02-24T00:48:09.825530Z"
        },
        "trusted": true,
        "outputId": "e708e25c-68c0-4693-c65a-26d450e30177"
      },
      "execution_count": null,
      "outputs": [
        {
          "name": "stdout",
          "text": "Folder ID00400637202305055099402_ground_truth created.\n",
          "output_type": "stream"
        }
      ]
    },
    {
      "cell_type": "code",
      "source": [
        "%%time\n",
        "create_video(path_to_imgs=PATH_TO_SAVE, video_name=id_+\"_ground_truth\", framerate=30)"
      ],
      "metadata": {
        "id": "_wgi6MDjUPpJ",
        "outputId": "7294f634-c5db-4138-8c48-f811edece77a",
        "_kg_hide-output": false,
        "execution": {
          "iopub.status.busy": "2023-02-24T00:48:09.828379Z",
          "iopub.execute_input": "2023-02-24T00:48:09.828800Z",
          "iopub.status.idle": "2023-02-24T00:48:12.789893Z",
          "shell.execute_reply.started": "2023-02-24T00:48:09.828757Z",
          "shell.execute_reply": "2023-02-24T00:48:12.788965Z"
        },
        "trusted": true
      },
      "execution_count": null,
      "outputs": [
        {
          "name": "stdout",
          "text": "CPU times: user 2.8 s, sys: 65.9 ms, total: 2.86 s\nWall time: 2.95 s\n",
          "output_type": "stream"
        }
      ]
    },
    {
      "cell_type": "code",
      "source": [
        "# install any fonts\n",
        "!wget -O bitwise.zip https://www.1001freefonts.com/d/8190/bitwise.zip\n",
        "!unzip bitwise.zip"
      ],
      "metadata": {
        "_kg_hide-output": true,
        "_kg_hide-input": false,
        "execution": {
          "iopub.status.busy": "2023-02-24T00:48:12.791366Z",
          "iopub.execute_input": "2023-02-24T00:48:12.791973Z",
          "iopub.status.idle": "2023-02-24T00:48:15.378257Z",
          "shell.execute_reply.started": "2023-02-24T00:48:12.791930Z",
          "shell.execute_reply": "2023-02-24T00:48:15.377195Z"
        },
        "trusted": true,
        "id": "azu7Rja6PUfX",
        "outputId": "93b1ac00-8ab5-401c-fdb0-65c875c1f9cf"
      },
      "execution_count": null,
      "outputs": [
        {
          "name": "stdout",
          "text": "--2023-02-24 00:48:13--  https://www.1001freefonts.com/d/8190/bitwise.zip\nResolving www.1001freefonts.com (www.1001freefonts.com)... 104.26.0.140, 104.26.1.140, 172.67.72.212, ...\nConnecting to www.1001freefonts.com (www.1001freefonts.com)|104.26.0.140|:443... connected.\nHTTP request sent, awaiting response... 302 Found\nLocation: /bitwise.font [following]\n--2023-02-24 00:48:14--  https://www.1001freefonts.com/bitwise.font\nReusing existing connection to www.1001freefonts.com:443.\nHTTP request sent, awaiting response... 200 OK\nLength: unspecified [text/html]\nSaving to: ‘bitwise.zip’\n\nbitwise.zip             [ <=>                ]  45.73K  --.-KB/s    in 0.01s   \n\n2023-02-24 00:48:14 (4.44 MB/s) - ‘bitwise.zip’ saved [46827]\n\nArchive:  bitwise.zip\n  End-of-central-directory signature not found.  Either this file is not\n  a zipfile, or it constitutes one disk of a multi-part archive.  In the\n  latter case the central directory and zipfile comment will be found on\n  the last disk(s) of this archive.\nunzip:  cannot find zipfile directory in one of bitwise.zip or\n        bitwise.zip.zip, and cannot find bitwise.zip.ZIP, period.\n",
          "output_type": "stream"
        }
      ]
    },
    {
      "cell_type": "code",
      "source": [
        "%%bash\n",
        "# to play in google colab had to recode\n",
        "#https://ottverse.com/ffmpeg-drawtext-filter-dynamic-overlays-timecode-scrolling-text-credits/\n",
        "ffmpeg -i 'ID00400637202305055099402_ground_truth.avi' -vf \"drawtext=text='Ground Truth':x=195:y=8:fontsize=24:fontfile='./Bitwise.ttf':fontcolor='#FFFFFF'\" -strict -2 'transcoded_video1.mp4'"
      ],
      "metadata": {
        "id": "GxDMwTMuuJ3m",
        "_kg_hide-output": true,
        "execution": {
          "iopub.status.busy": "2023-02-24T00:48:15.381471Z",
          "iopub.execute_input": "2023-02-24T00:48:15.381930Z",
          "iopub.status.idle": "2023-02-24T00:48:15.971549Z",
          "shell.execute_reply.started": "2023-02-24T00:48:15.381864Z",
          "shell.execute_reply": "2023-02-24T00:48:15.969250Z"
        },
        "trusted": true,
        "outputId": "db02aec7-db40-41ba-882d-a97090463daf"
      },
      "execution_count": null,
      "outputs": [
        {
          "name": "stderr",
          "text": "ffmpeg version 4.2 Copyright (c) 2000-2019 the FFmpeg developers\n  built with gcc 7.3.0 (crosstool-NG 1.23.0.449-a04d0)\n  configuration: --prefix=/opt/conda --cc=/home/conda/feedstock_root/build_artifacts/ffmpeg_1566210161358/_build_env/bin/x86_64-conda_cos6-linux-gnu-cc --disable-doc --disable-openssl --enable-avresample --enable-gnutls --enable-gpl --enable-hardcoded-tables --enable-libfreetype --enable-libopenh264 --enable-libx264 --enable-pic --enable-pthreads --enable-shared --enable-static --enable-version3 --enable-zlib --enable-libmp3lame\n  libavutil      56. 31.100 / 56. 31.100\n  libavcodec     58. 54.100 / 58. 54.100\n  libavformat    58. 29.100 / 58. 29.100\n  libavdevice    58.  8.100 / 58.  8.100\n  libavfilter     7. 57.100 /  7. 57.100\n  libavresample   4.  0.  0 /  4.  0.  0\n  libswscale      5.  5.100 /  5.  5.100\n  libswresample   3.  5.100 /  3.  5.100\n  libpostproc    55.  5.100 / 55.  5.100\nInput #0, avi, from 'ID00400637202305055099402_ground_truth.avi':\n  Metadata:\n    encoder         : Lavf58.58.100\n  Duration: 00:00:08.83, start: 0.000000, bitrate: 14281 kb/s\n    Stream #0:0: Video: mpeg4 (Simple Profile) (XVID / 0x44495658), yuv420p, 516x516 [SAR 1:1 DAR 1:1], 14325 kb/s, 30 fps, 30 tbr, 30 tbn, 30 tbc\nStream mapping:\n  Stream #0:0 -> #0:0 (mpeg4 (native) -> h264 (libx264))\nPress [q] to stop, [?] for help\n[Parsed_drawtext_0 @ 0x563d3b0bdc80] Could not load font \"./Bitwise.ttf\": cannot open resource\n[AVFilterGraph @ 0x563d3af2ea00] Error initializing filter 'drawtext' with args 'text=Ground Truth:x=195:y=8:fontsize=24:fontfile=./Bitwise.ttf:fontcolor=#FFFFFF'\nError reinitializing filters!\nFailed to inject frame into filter network: Invalid argument\nError while processing the decoded data for stream #0:0\nConversion failed!\n",
          "output_type": "stream"
        },
        {
          "traceback": [
            "\u001b[0;31m---------------------------------------------------------------------------\u001b[0m",
            "\u001b[0;31mCalledProcessError\u001b[0m                        Traceback (most recent call last)",
            "\u001b[0;32m<ipython-input-27-b71f406f534a>\u001b[0m in \u001b[0;36m<module>\u001b[0;34m\u001b[0m\n\u001b[0;32m----> 1\u001b[0;31m \u001b[0mget_ipython\u001b[0m\u001b[0;34m(\u001b[0m\u001b[0;34m)\u001b[0m\u001b[0;34m.\u001b[0m\u001b[0mrun_cell_magic\u001b[0m\u001b[0;34m(\u001b[0m\u001b[0;34m'bash'\u001b[0m\u001b[0;34m,\u001b[0m \u001b[0;34m''\u001b[0m\u001b[0;34m,\u001b[0m \u001b[0;34m'# to play in google colab had to recode\\n#https://ottverse.com/ffmpeg-drawtext-filter-dynamic-overlays-timecode-scrolling-text-credits/\\nffmpeg -i \\'ID00400637202305055099402_ground_truth.avi\\' -vf \"drawtext=text=\\'Ground Truth\\':x=195:y=8:fontsize=24:fontfile=\\'./Bitwise.ttf\\':fontcolor=\\'#FFFFFF\\'\" -strict -2 \\'transcoded_video1.mp4\\'\\n'\u001b[0m\u001b[0;34m)\u001b[0m\u001b[0;34m\u001b[0m\u001b[0;34m\u001b[0m\u001b[0m\n\u001b[0m",
            "\u001b[0;32m/opt/conda/lib/python3.7/site-packages/IPython/core/interactiveshell.py\u001b[0m in \u001b[0;36mrun_cell_magic\u001b[0;34m(self, magic_name, line, cell)\u001b[0m\n\u001b[1;32m   2360\u001b[0m             \u001b[0;32mwith\u001b[0m \u001b[0mself\u001b[0m\u001b[0;34m.\u001b[0m\u001b[0mbuiltin_trap\u001b[0m\u001b[0;34m:\u001b[0m\u001b[0;34m\u001b[0m\u001b[0;34m\u001b[0m\u001b[0m\n\u001b[1;32m   2361\u001b[0m                 \u001b[0margs\u001b[0m \u001b[0;34m=\u001b[0m \u001b[0;34m(\u001b[0m\u001b[0mmagic_arg_s\u001b[0m\u001b[0;34m,\u001b[0m \u001b[0mcell\u001b[0m\u001b[0;34m)\u001b[0m\u001b[0;34m\u001b[0m\u001b[0;34m\u001b[0m\u001b[0m\n\u001b[0;32m-> 2362\u001b[0;31m                 \u001b[0mresult\u001b[0m \u001b[0;34m=\u001b[0m \u001b[0mfn\u001b[0m\u001b[0;34m(\u001b[0m\u001b[0;34m*\u001b[0m\u001b[0margs\u001b[0m\u001b[0;34m,\u001b[0m \u001b[0;34m**\u001b[0m\u001b[0mkwargs\u001b[0m\u001b[0;34m)\u001b[0m\u001b[0;34m\u001b[0m\u001b[0;34m\u001b[0m\u001b[0m\n\u001b[0m\u001b[1;32m   2363\u001b[0m             \u001b[0;32mreturn\u001b[0m \u001b[0mresult\u001b[0m\u001b[0;34m\u001b[0m\u001b[0;34m\u001b[0m\u001b[0m\n\u001b[1;32m   2364\u001b[0m \u001b[0;34m\u001b[0m\u001b[0m\n",
            "\u001b[0;32m/opt/conda/lib/python3.7/site-packages/IPython/core/magics/script.py\u001b[0m in \u001b[0;36mnamed_script_magic\u001b[0;34m(line, cell)\u001b[0m\n\u001b[1;32m    140\u001b[0m             \u001b[0;32melse\u001b[0m\u001b[0;34m:\u001b[0m\u001b[0;34m\u001b[0m\u001b[0;34m\u001b[0m\u001b[0m\n\u001b[1;32m    141\u001b[0m                 \u001b[0mline\u001b[0m \u001b[0;34m=\u001b[0m \u001b[0mscript\u001b[0m\u001b[0;34m\u001b[0m\u001b[0;34m\u001b[0m\u001b[0m\n\u001b[0;32m--> 142\u001b[0;31m             \u001b[0;32mreturn\u001b[0m \u001b[0mself\u001b[0m\u001b[0;34m.\u001b[0m\u001b[0mshebang\u001b[0m\u001b[0;34m(\u001b[0m\u001b[0mline\u001b[0m\u001b[0;34m,\u001b[0m \u001b[0mcell\u001b[0m\u001b[0;34m)\u001b[0m\u001b[0;34m\u001b[0m\u001b[0;34m\u001b[0m\u001b[0m\n\u001b[0m\u001b[1;32m    143\u001b[0m \u001b[0;34m\u001b[0m\u001b[0m\n\u001b[1;32m    144\u001b[0m         \u001b[0;31m# write a basic docstring:\u001b[0m\u001b[0;34m\u001b[0m\u001b[0;34m\u001b[0m\u001b[0;34m\u001b[0m\u001b[0m\n",
            "\u001b[0;32m<decorator-gen-110>\u001b[0m in \u001b[0;36mshebang\u001b[0;34m(self, line, cell)\u001b[0m\n",
            "\u001b[0;32m/opt/conda/lib/python3.7/site-packages/IPython/core/magic.py\u001b[0m in \u001b[0;36m<lambda>\u001b[0;34m(f, *a, **k)\u001b[0m\n\u001b[1;32m    185\u001b[0m     \u001b[0;31m# but it's overkill for just that one bit of state.\u001b[0m\u001b[0;34m\u001b[0m\u001b[0;34m\u001b[0m\u001b[0;34m\u001b[0m\u001b[0m\n\u001b[1;32m    186\u001b[0m     \u001b[0;32mdef\u001b[0m \u001b[0mmagic_deco\u001b[0m\u001b[0;34m(\u001b[0m\u001b[0marg\u001b[0m\u001b[0;34m)\u001b[0m\u001b[0;34m:\u001b[0m\u001b[0;34m\u001b[0m\u001b[0;34m\u001b[0m\u001b[0m\n\u001b[0;32m--> 187\u001b[0;31m         \u001b[0mcall\u001b[0m \u001b[0;34m=\u001b[0m \u001b[0;32mlambda\u001b[0m \u001b[0mf\u001b[0m\u001b[0;34m,\u001b[0m \u001b[0;34m*\u001b[0m\u001b[0ma\u001b[0m\u001b[0;34m,\u001b[0m \u001b[0;34m**\u001b[0m\u001b[0mk\u001b[0m\u001b[0;34m:\u001b[0m \u001b[0mf\u001b[0m\u001b[0;34m(\u001b[0m\u001b[0;34m*\u001b[0m\u001b[0ma\u001b[0m\u001b[0;34m,\u001b[0m \u001b[0;34m**\u001b[0m\u001b[0mk\u001b[0m\u001b[0;34m)\u001b[0m\u001b[0;34m\u001b[0m\u001b[0;34m\u001b[0m\u001b[0m\n\u001b[0m\u001b[1;32m    188\u001b[0m \u001b[0;34m\u001b[0m\u001b[0m\n\u001b[1;32m    189\u001b[0m         \u001b[0;32mif\u001b[0m \u001b[0mcallable\u001b[0m\u001b[0;34m(\u001b[0m\u001b[0marg\u001b[0m\u001b[0;34m)\u001b[0m\u001b[0;34m:\u001b[0m\u001b[0;34m\u001b[0m\u001b[0;34m\u001b[0m\u001b[0m\n",
            "\u001b[0;32m/opt/conda/lib/python3.7/site-packages/IPython/core/magics/script.py\u001b[0m in \u001b[0;36mshebang\u001b[0;34m(self, line, cell)\u001b[0m\n\u001b[1;32m    243\u001b[0m             \u001b[0msys\u001b[0m\u001b[0;34m.\u001b[0m\u001b[0mstderr\u001b[0m\u001b[0;34m.\u001b[0m\u001b[0mflush\u001b[0m\u001b[0;34m(\u001b[0m\u001b[0;34m)\u001b[0m\u001b[0;34m\u001b[0m\u001b[0;34m\u001b[0m\u001b[0m\n\u001b[1;32m    244\u001b[0m         \u001b[0;32mif\u001b[0m \u001b[0margs\u001b[0m\u001b[0;34m.\u001b[0m\u001b[0mraise_error\u001b[0m \u001b[0;32mand\u001b[0m \u001b[0mp\u001b[0m\u001b[0;34m.\u001b[0m\u001b[0mreturncode\u001b[0m\u001b[0;34m!=\u001b[0m\u001b[0;36m0\u001b[0m\u001b[0;34m:\u001b[0m\u001b[0;34m\u001b[0m\u001b[0;34m\u001b[0m\u001b[0m\n\u001b[0;32m--> 245\u001b[0;31m             \u001b[0;32mraise\u001b[0m \u001b[0mCalledProcessError\u001b[0m\u001b[0;34m(\u001b[0m\u001b[0mp\u001b[0m\u001b[0;34m.\u001b[0m\u001b[0mreturncode\u001b[0m\u001b[0;34m,\u001b[0m \u001b[0mcell\u001b[0m\u001b[0;34m,\u001b[0m \u001b[0moutput\u001b[0m\u001b[0;34m=\u001b[0m\u001b[0mout\u001b[0m\u001b[0;34m,\u001b[0m \u001b[0mstderr\u001b[0m\u001b[0;34m=\u001b[0m\u001b[0merr\u001b[0m\u001b[0;34m)\u001b[0m\u001b[0;34m\u001b[0m\u001b[0;34m\u001b[0m\u001b[0m\n\u001b[0m\u001b[1;32m    246\u001b[0m \u001b[0;34m\u001b[0m\u001b[0m\n\u001b[1;32m    247\u001b[0m     \u001b[0;32mdef\u001b[0m \u001b[0m_run_script\u001b[0m\u001b[0;34m(\u001b[0m\u001b[0mself\u001b[0m\u001b[0;34m,\u001b[0m \u001b[0mp\u001b[0m\u001b[0;34m,\u001b[0m \u001b[0mcell\u001b[0m\u001b[0;34m,\u001b[0m \u001b[0mto_close\u001b[0m\u001b[0;34m)\u001b[0m\u001b[0;34m:\u001b[0m\u001b[0;34m\u001b[0m\u001b[0;34m\u001b[0m\u001b[0m\n",
            "\u001b[0;31mCalledProcessError\u001b[0m: Command 'b'# to play in google colab had to recode\\n#https://ottverse.com/ffmpeg-drawtext-filter-dynamic-overlays-timecode-scrolling-text-credits/\\nffmpeg -i \\'ID00400637202305055099402_ground_truth.avi\\' -vf \"drawtext=text=\\'Ground Truth\\':x=195:y=8:fontsize=24:fontfile=\\'./Bitwise.ttf\\':fontcolor=\\'#FFFFFF\\'\" -strict -2 \\'transcoded_video1.mp4\\'\\n'' returned non-zero exit status 1."
          ],
          "ename": "CalledProcessError",
          "evalue": "Command 'b'# to play in google colab had to recode\\n#https://ottverse.com/ffmpeg-drawtext-filter-dynamic-overlays-timecode-scrolling-text-credits/\\nffmpeg -i \\'ID00400637202305055099402_ground_truth.avi\\' -vf \"drawtext=text=\\'Ground Truth\\':x=195:y=8:fontsize=24:fontfile=\\'./Bitwise.ttf\\':fontcolor=\\'#FFFFFF\\'\" -strict -2 \\'transcoded_video1.mp4\\'\\n'' returned non-zero exit status 1.",
          "output_type": "error"
        }
      ]
    },
    {
      "cell_type": "code",
      "source": [
        "show_video(\"transcoded_video1.mp4\")"
      ],
      "metadata": {
        "id": "i3Sqb1kYuJ0-",
        "outputId": "b0886607-87b2-4885-c3d3-770725b180a0",
        "execution": {
          "iopub.status.busy": "2023-02-24T01:09:05.696430Z",
          "iopub.execute_input": "2023-02-24T01:09:05.696943Z",
          "iopub.status.idle": "2023-02-24T01:09:05.705126Z",
          "shell.execute_reply.started": "2023-02-24T01:09:05.696865Z",
          "shell.execute_reply": "2023-02-24T01:09:05.704268Z"
        },
        "trusted": true
      },
      "execution_count": null,
      "outputs": [
        {
          "execution_count": 28,
          "output_type": "execute_result",
          "data": {
            "text/plain": "<IPython.core.display.HTML object>",
            "text/html": "<video alt=\"test\" controls>\n    <source src=\"data:video/mp4;base64,\" type=\"video/mp4\" /> </video>"
          },
          "metadata": {}
        }
      ]
    },
    {
      "cell_type": "markdown",
      "source": [
        "### Prediction"
      ],
      "metadata": {
        "id": "F32sZOILuXKl"
      }
    },
    {
      "cell_type": "code",
      "source": [
        "imgs, predictions = get_id_predictions(net=model,\n",
        "                                       ct_scan_id_df=full_scan_example,\n",
        "                                       root_imgs_dir=config.path_to_imgs_dir)"
      ],
      "metadata": {
        "id": "lU3dE5LmuJv6",
        "outputId": "7908369a-a1bb-47ce-f527-cc618e1e1f71",
        "execution": {
          "iopub.status.busy": "2023-02-24T01:09:12.948060Z",
          "iopub.execute_input": "2023-02-24T01:09:12.948468Z",
          "iopub.status.idle": "2023-02-24T01:09:24.172164Z",
          "shell.execute_reply.started": "2023-02-24T01:09:12.948432Z",
          "shell.execute_reply": "2023-02-24T01:09:24.171128Z"
        },
        "trusted": true
      },
      "execution_count": null,
      "outputs": [
        {
          "name": "stdout",
          "text": "device: cuda\n",
          "output_type": "stream"
        }
      ]
    },
    {
      "cell_type": "code",
      "source": [
        "%%time\n",
        "PATH_TO_SAVE = id_ + \"_predictions\"\n",
        "\n",
        "if not os.path.exists(PATH_TO_SAVE):\n",
        "    os.mkdir(PATH_TO_SAVE)\n",
        "    print(f\"Folder {PATH_TO_SAVE} created.\")\n",
        "\n",
        "_= [\n",
        "    get_overlaid_masks_on_image(one_slice_image=image,\n",
        "                                one_slice_mask=mask, \n",
        "                                write=True,\n",
        "                                path_to_save=PATH_TO_SAVE,\n",
        "                                name_to_save= str(i_name)\n",
        "                                ) \n",
        "    for i_name, (image, mask) in enumerate(zip(imgs, predictions))\n",
        "    ]"
      ],
      "metadata": {
        "id": "SjzuZ_a9uYDJ",
        "outputId": "62680016-1cef-4bbe-9d5c-c68e45f5e9fc",
        "execution": {
          "iopub.status.busy": "2023-02-24T01:09:24.173961Z",
          "iopub.execute_input": "2023-02-24T01:09:24.174325Z",
          "iopub.status.idle": "2023-02-24T01:10:35.537687Z",
          "shell.execute_reply.started": "2023-02-24T01:09:24.174286Z",
          "shell.execute_reply": "2023-02-24T01:10:35.536645Z"
        },
        "trusted": true
      },
      "execution_count": null,
      "outputs": [
        {
          "name": "stdout",
          "text": "Folder ID00400637202305055099402_predictions created.\nCPU times: user 1min 10s, sys: 570 ms, total: 1min 11s\nWall time: 1min 11s\n",
          "output_type": "stream"
        }
      ]
    },
    {
      "cell_type": "code",
      "source": [
        "%%time\n",
        "create_video(path_to_imgs=PATH_TO_SAVE, video_name=id_+\"_predictions\", framerate=30)"
      ],
      "metadata": {
        "id": "ZFLexbXiuYIC",
        "outputId": "5c93b9f8-089f-483f-ffd0-779249576efb",
        "execution": {
          "iopub.status.busy": "2023-02-24T01:10:35.540464Z",
          "iopub.execute_input": "2023-02-24T01:10:35.540907Z",
          "iopub.status.idle": "2023-02-24T01:10:38.007644Z",
          "shell.execute_reply.started": "2023-02-24T01:10:35.540849Z",
          "shell.execute_reply": "2023-02-24T01:10:38.005693Z"
        },
        "trusted": true
      },
      "execution_count": null,
      "outputs": [
        {
          "name": "stdout",
          "text": "CPU times: user 2.4 s, sys: 57.6 ms, total: 2.46 s\nWall time: 2.46 s\n",
          "output_type": "stream"
        }
      ]
    },
    {
      "cell_type": "code",
      "source": [
        "%%bash\n",
        "ffmpeg -i 'ID00400637202305055099402_predictions.avi' -vf \"drawtext=text='Prediction':x=195:y=8:fontsize=24:fontfile='./Bitwise.ttf':fontcolor='#FFFFFF'\" -strict -2 'transcoded_video2.mp4'"
      ],
      "metadata": {
        "id": "mciRdYbIuYAo",
        "_kg_hide-output": true,
        "execution": {
          "iopub.status.busy": "2023-02-24T01:10:38.009709Z",
          "iopub.execute_input": "2023-02-24T01:10:38.010111Z",
          "iopub.status.idle": "2023-02-24T01:10:38.230492Z",
          "shell.execute_reply.started": "2023-02-24T01:10:38.010065Z",
          "shell.execute_reply": "2023-02-24T01:10:38.228266Z"
        },
        "trusted": true,
        "outputId": "bed8e3aa-93a3-4b12-af57-cb3b5a944cdd"
      },
      "execution_count": null,
      "outputs": [
        {
          "name": "stderr",
          "text": "ffmpeg version 4.2 Copyright (c) 2000-2019 the FFmpeg developers\n  built with gcc 7.3.0 (crosstool-NG 1.23.0.449-a04d0)\n  configuration: --prefix=/opt/conda --cc=/home/conda/feedstock_root/build_artifacts/ffmpeg_1566210161358/_build_env/bin/x86_64-conda_cos6-linux-gnu-cc --disable-doc --disable-openssl --enable-avresample --enable-gnutls --enable-gpl --enable-hardcoded-tables --enable-libfreetype --enable-libopenh264 --enable-libx264 --enable-pic --enable-pthreads --enable-shared --enable-static --enable-version3 --enable-zlib --enable-libmp3lame\n  libavutil      56. 31.100 / 56. 31.100\n  libavcodec     58. 54.100 / 58. 54.100\n  libavformat    58. 29.100 / 58. 29.100\n  libavdevice    58.  8.100 / 58.  8.100\n  libavfilter     7. 57.100 /  7. 57.100\n  libavresample   4.  0.  0 /  4.  0.  0\n  libswscale      5.  5.100 /  5.  5.100\n  libswresample   3.  5.100 /  3.  5.100\n  libpostproc    55.  5.100 / 55.  5.100\nInput #0, avi, from 'ID00400637202305055099402_predictions.avi':\n  Metadata:\n    encoder         : Lavf58.58.100\n  Duration: 00:00:08.83, start: 0.000000, bitrate: 14270 kb/s\n    Stream #0:0: Video: mpeg4 (Simple Profile) (XVID / 0x44495658), yuv420p, 516x516 [SAR 1:1 DAR 1:1], 14313 kb/s, 30 fps, 30 tbr, 30 tbn, 30 tbc\nStream mapping:\n  Stream #0:0 -> #0:0 (mpeg4 (native) -> h264 (libx264))\nPress [q] to stop, [?] for help\n[Parsed_drawtext_0 @ 0x55e6ec2f4a40] Could not load font \"./Bitwise.ttf\": cannot open resource\n[AVFilterGraph @ 0x55e6ec2f42c0] Error initializing filter 'drawtext' with args 'text=Prediction:x=195:y=8:fontsize=24:fontfile=./Bitwise.ttf:fontcolor=#FFFFFF'\nError reinitializing filters!\nFailed to inject frame into filter network: Invalid argument\nError while processing the decoded data for stream #0:0\nConversion failed!\n",
          "output_type": "stream"
        },
        {
          "traceback": [
            "\u001b[0;31m---------------------------------------------------------------------------\u001b[0m",
            "\u001b[0;31mCalledProcessError\u001b[0m                        Traceback (most recent call last)",
            "\u001b[0;32m<ipython-input-32-33ae7db78263>\u001b[0m in \u001b[0;36m<module>\u001b[0;34m\u001b[0m\n\u001b[0;32m----> 1\u001b[0;31m \u001b[0mget_ipython\u001b[0m\u001b[0;34m(\u001b[0m\u001b[0;34m)\u001b[0m\u001b[0;34m.\u001b[0m\u001b[0mrun_cell_magic\u001b[0m\u001b[0;34m(\u001b[0m\u001b[0;34m'bash'\u001b[0m\u001b[0;34m,\u001b[0m \u001b[0;34m''\u001b[0m\u001b[0;34m,\u001b[0m \u001b[0;34m'ffmpeg -i \\'ID00400637202305055099402_predictions.avi\\' -vf \"drawtext=text=\\'Prediction\\':x=195:y=8:fontsize=24:fontfile=\\'./Bitwise.ttf\\':fontcolor=\\'#FFFFFF\\'\" -strict -2 \\'transcoded_video2.mp4\\'\\n'\u001b[0m\u001b[0;34m)\u001b[0m\u001b[0;34m\u001b[0m\u001b[0;34m\u001b[0m\u001b[0m\n\u001b[0m",
            "\u001b[0;32m/opt/conda/lib/python3.7/site-packages/IPython/core/interactiveshell.py\u001b[0m in \u001b[0;36mrun_cell_magic\u001b[0;34m(self, magic_name, line, cell)\u001b[0m\n\u001b[1;32m   2360\u001b[0m             \u001b[0;32mwith\u001b[0m \u001b[0mself\u001b[0m\u001b[0;34m.\u001b[0m\u001b[0mbuiltin_trap\u001b[0m\u001b[0;34m:\u001b[0m\u001b[0;34m\u001b[0m\u001b[0;34m\u001b[0m\u001b[0m\n\u001b[1;32m   2361\u001b[0m                 \u001b[0margs\u001b[0m \u001b[0;34m=\u001b[0m \u001b[0;34m(\u001b[0m\u001b[0mmagic_arg_s\u001b[0m\u001b[0;34m,\u001b[0m \u001b[0mcell\u001b[0m\u001b[0;34m)\u001b[0m\u001b[0;34m\u001b[0m\u001b[0;34m\u001b[0m\u001b[0m\n\u001b[0;32m-> 2362\u001b[0;31m                 \u001b[0mresult\u001b[0m \u001b[0;34m=\u001b[0m \u001b[0mfn\u001b[0m\u001b[0;34m(\u001b[0m\u001b[0;34m*\u001b[0m\u001b[0margs\u001b[0m\u001b[0;34m,\u001b[0m \u001b[0;34m**\u001b[0m\u001b[0mkwargs\u001b[0m\u001b[0;34m)\u001b[0m\u001b[0;34m\u001b[0m\u001b[0;34m\u001b[0m\u001b[0m\n\u001b[0m\u001b[1;32m   2363\u001b[0m             \u001b[0;32mreturn\u001b[0m \u001b[0mresult\u001b[0m\u001b[0;34m\u001b[0m\u001b[0;34m\u001b[0m\u001b[0m\n\u001b[1;32m   2364\u001b[0m \u001b[0;34m\u001b[0m\u001b[0m\n",
            "\u001b[0;32m/opt/conda/lib/python3.7/site-packages/IPython/core/magics/script.py\u001b[0m in \u001b[0;36mnamed_script_magic\u001b[0;34m(line, cell)\u001b[0m\n\u001b[1;32m    140\u001b[0m             \u001b[0;32melse\u001b[0m\u001b[0;34m:\u001b[0m\u001b[0;34m\u001b[0m\u001b[0;34m\u001b[0m\u001b[0m\n\u001b[1;32m    141\u001b[0m                 \u001b[0mline\u001b[0m \u001b[0;34m=\u001b[0m \u001b[0mscript\u001b[0m\u001b[0;34m\u001b[0m\u001b[0;34m\u001b[0m\u001b[0m\n\u001b[0;32m--> 142\u001b[0;31m             \u001b[0;32mreturn\u001b[0m \u001b[0mself\u001b[0m\u001b[0;34m.\u001b[0m\u001b[0mshebang\u001b[0m\u001b[0;34m(\u001b[0m\u001b[0mline\u001b[0m\u001b[0;34m,\u001b[0m \u001b[0mcell\u001b[0m\u001b[0;34m)\u001b[0m\u001b[0;34m\u001b[0m\u001b[0;34m\u001b[0m\u001b[0m\n\u001b[0m\u001b[1;32m    143\u001b[0m \u001b[0;34m\u001b[0m\u001b[0m\n\u001b[1;32m    144\u001b[0m         \u001b[0;31m# write a basic docstring:\u001b[0m\u001b[0;34m\u001b[0m\u001b[0;34m\u001b[0m\u001b[0;34m\u001b[0m\u001b[0m\n",
            "\u001b[0;32m<decorator-gen-110>\u001b[0m in \u001b[0;36mshebang\u001b[0;34m(self, line, cell)\u001b[0m\n",
            "\u001b[0;32m/opt/conda/lib/python3.7/site-packages/IPython/core/magic.py\u001b[0m in \u001b[0;36m<lambda>\u001b[0;34m(f, *a, **k)\u001b[0m\n\u001b[1;32m    185\u001b[0m     \u001b[0;31m# but it's overkill for just that one bit of state.\u001b[0m\u001b[0;34m\u001b[0m\u001b[0;34m\u001b[0m\u001b[0;34m\u001b[0m\u001b[0m\n\u001b[1;32m    186\u001b[0m     \u001b[0;32mdef\u001b[0m \u001b[0mmagic_deco\u001b[0m\u001b[0;34m(\u001b[0m\u001b[0marg\u001b[0m\u001b[0;34m)\u001b[0m\u001b[0;34m:\u001b[0m\u001b[0;34m\u001b[0m\u001b[0;34m\u001b[0m\u001b[0m\n\u001b[0;32m--> 187\u001b[0;31m         \u001b[0mcall\u001b[0m \u001b[0;34m=\u001b[0m \u001b[0;32mlambda\u001b[0m \u001b[0mf\u001b[0m\u001b[0;34m,\u001b[0m \u001b[0;34m*\u001b[0m\u001b[0ma\u001b[0m\u001b[0;34m,\u001b[0m \u001b[0;34m**\u001b[0m\u001b[0mk\u001b[0m\u001b[0;34m:\u001b[0m \u001b[0mf\u001b[0m\u001b[0;34m(\u001b[0m\u001b[0;34m*\u001b[0m\u001b[0ma\u001b[0m\u001b[0;34m,\u001b[0m \u001b[0;34m**\u001b[0m\u001b[0mk\u001b[0m\u001b[0;34m)\u001b[0m\u001b[0;34m\u001b[0m\u001b[0;34m\u001b[0m\u001b[0m\n\u001b[0m\u001b[1;32m    188\u001b[0m \u001b[0;34m\u001b[0m\u001b[0m\n\u001b[1;32m    189\u001b[0m         \u001b[0;32mif\u001b[0m \u001b[0mcallable\u001b[0m\u001b[0;34m(\u001b[0m\u001b[0marg\u001b[0m\u001b[0;34m)\u001b[0m\u001b[0;34m:\u001b[0m\u001b[0;34m\u001b[0m\u001b[0;34m\u001b[0m\u001b[0m\n",
            "\u001b[0;32m/opt/conda/lib/python3.7/site-packages/IPython/core/magics/script.py\u001b[0m in \u001b[0;36mshebang\u001b[0;34m(self, line, cell)\u001b[0m\n\u001b[1;32m    243\u001b[0m             \u001b[0msys\u001b[0m\u001b[0;34m.\u001b[0m\u001b[0mstderr\u001b[0m\u001b[0;34m.\u001b[0m\u001b[0mflush\u001b[0m\u001b[0;34m(\u001b[0m\u001b[0;34m)\u001b[0m\u001b[0;34m\u001b[0m\u001b[0;34m\u001b[0m\u001b[0m\n\u001b[1;32m    244\u001b[0m         \u001b[0;32mif\u001b[0m \u001b[0margs\u001b[0m\u001b[0;34m.\u001b[0m\u001b[0mraise_error\u001b[0m \u001b[0;32mand\u001b[0m \u001b[0mp\u001b[0m\u001b[0;34m.\u001b[0m\u001b[0mreturncode\u001b[0m\u001b[0;34m!=\u001b[0m\u001b[0;36m0\u001b[0m\u001b[0;34m:\u001b[0m\u001b[0;34m\u001b[0m\u001b[0;34m\u001b[0m\u001b[0m\n\u001b[0;32m--> 245\u001b[0;31m             \u001b[0;32mraise\u001b[0m \u001b[0mCalledProcessError\u001b[0m\u001b[0;34m(\u001b[0m\u001b[0mp\u001b[0m\u001b[0;34m.\u001b[0m\u001b[0mreturncode\u001b[0m\u001b[0;34m,\u001b[0m \u001b[0mcell\u001b[0m\u001b[0;34m,\u001b[0m \u001b[0moutput\u001b[0m\u001b[0;34m=\u001b[0m\u001b[0mout\u001b[0m\u001b[0;34m,\u001b[0m \u001b[0mstderr\u001b[0m\u001b[0;34m=\u001b[0m\u001b[0merr\u001b[0m\u001b[0;34m)\u001b[0m\u001b[0;34m\u001b[0m\u001b[0;34m\u001b[0m\u001b[0m\n\u001b[0m\u001b[1;32m    246\u001b[0m \u001b[0;34m\u001b[0m\u001b[0m\n\u001b[1;32m    247\u001b[0m     \u001b[0;32mdef\u001b[0m \u001b[0m_run_script\u001b[0m\u001b[0;34m(\u001b[0m\u001b[0mself\u001b[0m\u001b[0;34m,\u001b[0m \u001b[0mp\u001b[0m\u001b[0;34m,\u001b[0m \u001b[0mcell\u001b[0m\u001b[0;34m,\u001b[0m \u001b[0mto_close\u001b[0m\u001b[0;34m)\u001b[0m\u001b[0;34m:\u001b[0m\u001b[0;34m\u001b[0m\u001b[0;34m\u001b[0m\u001b[0m\n",
            "\u001b[0;31mCalledProcessError\u001b[0m: Command 'b'ffmpeg -i \\'ID00400637202305055099402_predictions.avi\\' -vf \"drawtext=text=\\'Prediction\\':x=195:y=8:fontsize=24:fontfile=\\'./Bitwise.ttf\\':fontcolor=\\'#FFFFFF\\'\" -strict -2 \\'transcoded_video2.mp4\\'\\n'' returned non-zero exit status 1."
          ],
          "ename": "CalledProcessError",
          "evalue": "Command 'b'ffmpeg -i \\'ID00400637202305055099402_predictions.avi\\' -vf \"drawtext=text=\\'Prediction\\':x=195:y=8:fontsize=24:fontfile=\\'./Bitwise.ttf\\':fontcolor=\\'#FFFFFF\\'\" -strict -2 \\'transcoded_video2.mp4\\'\\n'' returned non-zero exit status 1.",
          "output_type": "error"
        }
      ]
    },
    {
      "cell_type": "code",
      "source": [
        "show_video(\"transcoded_video2.mp4\")"
      ],
      "metadata": {
        "id": "IYyUAwIvulLj",
        "outputId": "4feeb8eb-36bc-4667-f3ae-c596bca0387d",
        "execution": {
          "iopub.status.busy": "2023-02-24T01:11:21.745921Z",
          "iopub.execute_input": "2023-02-24T01:11:21.746288Z",
          "iopub.status.idle": "2023-02-24T01:11:21.753322Z",
          "shell.execute_reply.started": "2023-02-24T01:11:21.746253Z",
          "shell.execute_reply": "2023-02-24T01:11:21.752404Z"
        },
        "trusted": true
      },
      "execution_count": null,
      "outputs": [
        {
          "execution_count": 33,
          "output_type": "execute_result",
          "data": {
            "text/plain": "<IPython.core.display.HTML object>",
            "text/html": "<video alt=\"test\" controls>\n    <source src=\"data:video/mp4;base64,\" type=\"video/mp4\" /> </video>"
          },
          "metadata": {}
        }
      ]
    },
    {
      "cell_type": "markdown",
      "source": [
        "Merging video with ground truth slices and video with predicted slices"
      ],
      "metadata": {
        "id": "LJigaNjiuojR"
      }
    },
    {
      "cell_type": "code",
      "source": [
        "%%bash\n",
        "#  https://unix.stackexchange.com/questions/233832/merge-two-video-clips-into-one-placing-them-next-to-each-other\n",
        "ffmpeg \\\n",
        "  -i transcoded_video1.mp4 \\\n",
        "  -i transcoded_video2.mp4 \\\n",
        "  -filter_complex '[0:v]pad=iw*2:ih[int];[int][1:v]overlay=W/2:0[vid]' \\\n",
        "  -map [vid] \\\n",
        "  -c:v libx264 \\\n",
        "  -crf 23 \\\n",
        "  -preset veryfast \\\n",
        "  result.mp4"
      ],
      "metadata": {
        "id": "mY7OYIX8ulJE",
        "_kg_hide-output": true,
        "execution": {
          "iopub.status.busy": "2023-02-24T01:11:24.903124Z",
          "iopub.execute_input": "2023-02-24T01:11:24.903531Z",
          "iopub.status.idle": "2023-02-24T01:11:25.145854Z",
          "shell.execute_reply.started": "2023-02-24T01:11:24.903494Z",
          "shell.execute_reply": "2023-02-24T01:11:25.144048Z"
        },
        "trusted": true,
        "outputId": "14e8c2b5-ed62-4757-cf20-5a9adff578d0"
      },
      "execution_count": null,
      "outputs": [
        {
          "name": "stderr",
          "text": "ffmpeg version 4.2 Copyright (c) 2000-2019 the FFmpeg developers\n  built with gcc 7.3.0 (crosstool-NG 1.23.0.449-a04d0)\n  configuration: --prefix=/opt/conda --cc=/home/conda/feedstock_root/build_artifacts/ffmpeg_1566210161358/_build_env/bin/x86_64-conda_cos6-linux-gnu-cc --disable-doc --disable-openssl --enable-avresample --enable-gnutls --enable-gpl --enable-hardcoded-tables --enable-libfreetype --enable-libopenh264 --enable-libx264 --enable-pic --enable-pthreads --enable-shared --enable-static --enable-version3 --enable-zlib --enable-libmp3lame\n  libavutil      56. 31.100 / 56. 31.100\n  libavcodec     58. 54.100 / 58. 54.100\n  libavformat    58. 29.100 / 58. 29.100\n  libavdevice    58.  8.100 / 58.  8.100\n  libavfilter     7. 57.100 /  7. 57.100\n  libavresample   4.  0.  0 /  4.  0.  0\n  libswscale      5.  5.100 /  5.  5.100\n  libswresample   3.  5.100 /  3.  5.100\n  libpostproc    55.  5.100 / 55.  5.100\n[mov,mp4,m4a,3gp,3g2,mj2 @ 0x558188f93f80] Format mov,mp4,m4a,3gp,3g2,mj2 detected only with low score of 1, misdetection possible!\n[mov,mp4,m4a,3gp,3g2,mj2 @ 0x558188f93f80] moov atom not found\ntranscoded_video1.mp4: Invalid data found when processing input\n",
          "output_type": "stream"
        },
        {
          "traceback": [
            "\u001b[0;31m---------------------------------------------------------------------------\u001b[0m",
            "\u001b[0;31mCalledProcessError\u001b[0m                        Traceback (most recent call last)",
            "\u001b[0;32m<ipython-input-34-321b663ca92a>\u001b[0m in \u001b[0;36m<module>\u001b[0;34m\u001b[0m\n\u001b[0;32m----> 1\u001b[0;31m \u001b[0mget_ipython\u001b[0m\u001b[0;34m(\u001b[0m\u001b[0;34m)\u001b[0m\u001b[0;34m.\u001b[0m\u001b[0mrun_cell_magic\u001b[0m\u001b[0;34m(\u001b[0m\u001b[0;34m'bash'\u001b[0m\u001b[0;34m,\u001b[0m \u001b[0;34m''\u001b[0m\u001b[0;34m,\u001b[0m \u001b[0;34m\"#  https://unix.stackexchange.com/questions/233832/merge-two-video-clips-into-one-placing-them-next-to-each-other\\nffmpeg \\\\\\n  -i transcoded_video1.mp4 \\\\\\n  -i transcoded_video2.mp4 \\\\\\n  -filter_complex '[0:v]pad=iw*2:ih[int];[int][1:v]overlay=W/2:0[vid]' \\\\\\n  -map [vid] \\\\\\n  -c:v libx264 \\\\\\n  -crf 23 \\\\\\n  -preset veryfast \\\\\\n  result.mp4\\n\"\u001b[0m\u001b[0;34m)\u001b[0m\u001b[0;34m\u001b[0m\u001b[0;34m\u001b[0m\u001b[0m\n\u001b[0m",
            "\u001b[0;32m/opt/conda/lib/python3.7/site-packages/IPython/core/interactiveshell.py\u001b[0m in \u001b[0;36mrun_cell_magic\u001b[0;34m(self, magic_name, line, cell)\u001b[0m\n\u001b[1;32m   2360\u001b[0m             \u001b[0;32mwith\u001b[0m \u001b[0mself\u001b[0m\u001b[0;34m.\u001b[0m\u001b[0mbuiltin_trap\u001b[0m\u001b[0;34m:\u001b[0m\u001b[0;34m\u001b[0m\u001b[0;34m\u001b[0m\u001b[0m\n\u001b[1;32m   2361\u001b[0m                 \u001b[0margs\u001b[0m \u001b[0;34m=\u001b[0m \u001b[0;34m(\u001b[0m\u001b[0mmagic_arg_s\u001b[0m\u001b[0;34m,\u001b[0m \u001b[0mcell\u001b[0m\u001b[0;34m)\u001b[0m\u001b[0;34m\u001b[0m\u001b[0;34m\u001b[0m\u001b[0m\n\u001b[0;32m-> 2362\u001b[0;31m                 \u001b[0mresult\u001b[0m \u001b[0;34m=\u001b[0m \u001b[0mfn\u001b[0m\u001b[0;34m(\u001b[0m\u001b[0;34m*\u001b[0m\u001b[0margs\u001b[0m\u001b[0;34m,\u001b[0m \u001b[0;34m**\u001b[0m\u001b[0mkwargs\u001b[0m\u001b[0;34m)\u001b[0m\u001b[0;34m\u001b[0m\u001b[0;34m\u001b[0m\u001b[0m\n\u001b[0m\u001b[1;32m   2363\u001b[0m             \u001b[0;32mreturn\u001b[0m \u001b[0mresult\u001b[0m\u001b[0;34m\u001b[0m\u001b[0;34m\u001b[0m\u001b[0m\n\u001b[1;32m   2364\u001b[0m \u001b[0;34m\u001b[0m\u001b[0m\n",
            "\u001b[0;32m/opt/conda/lib/python3.7/site-packages/IPython/core/magics/script.py\u001b[0m in \u001b[0;36mnamed_script_magic\u001b[0;34m(line, cell)\u001b[0m\n\u001b[1;32m    140\u001b[0m             \u001b[0;32melse\u001b[0m\u001b[0;34m:\u001b[0m\u001b[0;34m\u001b[0m\u001b[0;34m\u001b[0m\u001b[0m\n\u001b[1;32m    141\u001b[0m                 \u001b[0mline\u001b[0m \u001b[0;34m=\u001b[0m \u001b[0mscript\u001b[0m\u001b[0;34m\u001b[0m\u001b[0;34m\u001b[0m\u001b[0m\n\u001b[0;32m--> 142\u001b[0;31m             \u001b[0;32mreturn\u001b[0m \u001b[0mself\u001b[0m\u001b[0;34m.\u001b[0m\u001b[0mshebang\u001b[0m\u001b[0;34m(\u001b[0m\u001b[0mline\u001b[0m\u001b[0;34m,\u001b[0m \u001b[0mcell\u001b[0m\u001b[0;34m)\u001b[0m\u001b[0;34m\u001b[0m\u001b[0;34m\u001b[0m\u001b[0m\n\u001b[0m\u001b[1;32m    143\u001b[0m \u001b[0;34m\u001b[0m\u001b[0m\n\u001b[1;32m    144\u001b[0m         \u001b[0;31m# write a basic docstring:\u001b[0m\u001b[0;34m\u001b[0m\u001b[0;34m\u001b[0m\u001b[0;34m\u001b[0m\u001b[0m\n",
            "\u001b[0;32m<decorator-gen-110>\u001b[0m in \u001b[0;36mshebang\u001b[0;34m(self, line, cell)\u001b[0m\n",
            "\u001b[0;32m/opt/conda/lib/python3.7/site-packages/IPython/core/magic.py\u001b[0m in \u001b[0;36m<lambda>\u001b[0;34m(f, *a, **k)\u001b[0m\n\u001b[1;32m    185\u001b[0m     \u001b[0;31m# but it's overkill for just that one bit of state.\u001b[0m\u001b[0;34m\u001b[0m\u001b[0;34m\u001b[0m\u001b[0;34m\u001b[0m\u001b[0m\n\u001b[1;32m    186\u001b[0m     \u001b[0;32mdef\u001b[0m \u001b[0mmagic_deco\u001b[0m\u001b[0;34m(\u001b[0m\u001b[0marg\u001b[0m\u001b[0;34m)\u001b[0m\u001b[0;34m:\u001b[0m\u001b[0;34m\u001b[0m\u001b[0;34m\u001b[0m\u001b[0m\n\u001b[0;32m--> 187\u001b[0;31m         \u001b[0mcall\u001b[0m \u001b[0;34m=\u001b[0m \u001b[0;32mlambda\u001b[0m \u001b[0mf\u001b[0m\u001b[0;34m,\u001b[0m \u001b[0;34m*\u001b[0m\u001b[0ma\u001b[0m\u001b[0;34m,\u001b[0m \u001b[0;34m**\u001b[0m\u001b[0mk\u001b[0m\u001b[0;34m:\u001b[0m \u001b[0mf\u001b[0m\u001b[0;34m(\u001b[0m\u001b[0;34m*\u001b[0m\u001b[0ma\u001b[0m\u001b[0;34m,\u001b[0m \u001b[0;34m**\u001b[0m\u001b[0mk\u001b[0m\u001b[0;34m)\u001b[0m\u001b[0;34m\u001b[0m\u001b[0;34m\u001b[0m\u001b[0m\n\u001b[0m\u001b[1;32m    188\u001b[0m \u001b[0;34m\u001b[0m\u001b[0m\n\u001b[1;32m    189\u001b[0m         \u001b[0;32mif\u001b[0m \u001b[0mcallable\u001b[0m\u001b[0;34m(\u001b[0m\u001b[0marg\u001b[0m\u001b[0;34m)\u001b[0m\u001b[0;34m:\u001b[0m\u001b[0;34m\u001b[0m\u001b[0;34m\u001b[0m\u001b[0m\n",
            "\u001b[0;32m/opt/conda/lib/python3.7/site-packages/IPython/core/magics/script.py\u001b[0m in \u001b[0;36mshebang\u001b[0;34m(self, line, cell)\u001b[0m\n\u001b[1;32m    243\u001b[0m             \u001b[0msys\u001b[0m\u001b[0;34m.\u001b[0m\u001b[0mstderr\u001b[0m\u001b[0;34m.\u001b[0m\u001b[0mflush\u001b[0m\u001b[0;34m(\u001b[0m\u001b[0;34m)\u001b[0m\u001b[0;34m\u001b[0m\u001b[0;34m\u001b[0m\u001b[0m\n\u001b[1;32m    244\u001b[0m         \u001b[0;32mif\u001b[0m \u001b[0margs\u001b[0m\u001b[0;34m.\u001b[0m\u001b[0mraise_error\u001b[0m \u001b[0;32mand\u001b[0m \u001b[0mp\u001b[0m\u001b[0;34m.\u001b[0m\u001b[0mreturncode\u001b[0m\u001b[0;34m!=\u001b[0m\u001b[0;36m0\u001b[0m\u001b[0;34m:\u001b[0m\u001b[0;34m\u001b[0m\u001b[0;34m\u001b[0m\u001b[0m\n\u001b[0;32m--> 245\u001b[0;31m             \u001b[0;32mraise\u001b[0m \u001b[0mCalledProcessError\u001b[0m\u001b[0;34m(\u001b[0m\u001b[0mp\u001b[0m\u001b[0;34m.\u001b[0m\u001b[0mreturncode\u001b[0m\u001b[0;34m,\u001b[0m \u001b[0mcell\u001b[0m\u001b[0;34m,\u001b[0m \u001b[0moutput\u001b[0m\u001b[0;34m=\u001b[0m\u001b[0mout\u001b[0m\u001b[0;34m,\u001b[0m \u001b[0mstderr\u001b[0m\u001b[0;34m=\u001b[0m\u001b[0merr\u001b[0m\u001b[0;34m)\u001b[0m\u001b[0;34m\u001b[0m\u001b[0;34m\u001b[0m\u001b[0m\n\u001b[0m\u001b[1;32m    246\u001b[0m \u001b[0;34m\u001b[0m\u001b[0m\n\u001b[1;32m    247\u001b[0m     \u001b[0;32mdef\u001b[0m \u001b[0m_run_script\u001b[0m\u001b[0;34m(\u001b[0m\u001b[0mself\u001b[0m\u001b[0;34m,\u001b[0m \u001b[0mp\u001b[0m\u001b[0;34m,\u001b[0m \u001b[0mcell\u001b[0m\u001b[0;34m,\u001b[0m \u001b[0mto_close\u001b[0m\u001b[0;34m)\u001b[0m\u001b[0;34m:\u001b[0m\u001b[0;34m\u001b[0m\u001b[0;34m\u001b[0m\u001b[0m\n",
            "\u001b[0;31mCalledProcessError\u001b[0m: Command 'b\"#  https://unix.stackexchange.com/questions/233832/merge-two-video-clips-into-one-placing-them-next-to-each-other\\nffmpeg \\\\\\n  -i transcoded_video1.mp4 \\\\\\n  -i transcoded_video2.mp4 \\\\\\n  -filter_complex '[0:v]pad=iw*2:ih[int];[int][1:v]overlay=W/2:0[vid]' \\\\\\n  -map [vid] \\\\\\n  -c:v libx264 \\\\\\n  -crf 23 \\\\\\n  -preset veryfast \\\\\\n  result.mp4\\n\"' returned non-zero exit status 1."
          ],
          "ename": "CalledProcessError",
          "evalue": "Command 'b\"#  https://unix.stackexchange.com/questions/233832/merge-two-video-clips-into-one-placing-them-next-to-each-other\\nffmpeg \\\\\\n  -i transcoded_video1.mp4 \\\\\\n  -i transcoded_video2.mp4 \\\\\\n  -filter_complex '[0:v]pad=iw*2:ih[int];[int][1:v]overlay=W/2:0[vid]' \\\\\\n  -map [vid] \\\\\\n  -c:v libx264 \\\\\\n  -crf 23 \\\\\\n  -preset veryfast \\\\\\n  result.mp4\\n\"' returned non-zero exit status 1.",
          "output_type": "error"
        }
      ]
    },
    {
      "cell_type": "code",
      "source": [
        "show_video(\"result.mp4\")"
      ],
      "metadata": {
        "id": "ba-hcM-PuX-T",
        "execution": {
          "iopub.status.busy": "2023-02-24T01:10:38.234995Z",
          "iopub.status.idle": "2023-02-24T01:10:38.235711Z"
        },
        "trusted": true
      },
      "execution_count": null,
      "outputs": []
    },
    {
      "cell_type": "code",
      "source": [
        "# !rm -r ID00400637202305055099402_ground_truth\n",
        "# !rm -r ID00400637202305055099402_predictions"
      ],
      "metadata": {
        "_kg_hide-input": true,
        "_kg_hide-output": true,
        "execution": {
          "iopub.status.busy": "2023-02-24T00:48:15.991012Z",
          "iopub.status.idle": "2023-02-24T00:48:15.991895Z"
        },
        "trusted": true,
        "id": "A0ho8bv1PUfZ"
      },
      "execution_count": null,
      "outputs": []
    },
    {
      "cell_type": "code",
      "source": [],
      "metadata": {
        "id": "DMmP1FHdPUfZ"
      },
      "execution_count": null,
      "outputs": []
    },
    {
      "cell_type": "code",
      "source": [],
      "metadata": {
        "id": "A3ojxSkFPUfZ"
      },
      "execution_count": null,
      "outputs": []
    },
    {
      "cell_type": "code",
      "source": [],
      "metadata": {
        "id": "KM3NWt8dPUfZ"
      },
      "execution_count": null,
      "outputs": []
    }
  ]
}