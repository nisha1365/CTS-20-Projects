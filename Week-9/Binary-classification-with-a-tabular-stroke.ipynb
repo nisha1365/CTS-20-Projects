{
 "cells": [
  {
   "cell_type": "code",
   "execution_count": 1,
   "id": "d43cbfdf",
   "metadata": {
    "_cell_guid": "b1076dfc-b9ad-4769-8c92-a6c4dae69d19",
    "_uuid": "8f2839f25d086af736a60e9eeb907d3b93b6e0e5",
    "execution": {
     "iopub.execute_input": "2023-04-28T10:13:17.386004Z",
     "iopub.status.busy": "2023-04-28T10:13:17.385315Z",
     "iopub.status.idle": "2023-04-28T10:13:17.395656Z",
     "shell.execute_reply": "2023-04-28T10:13:17.394684Z"
    },
    "papermill": {
     "duration": 0.019937,
     "end_time": "2023-04-28T10:13:17.398286",
     "exception": false,
     "start_time": "2023-04-28T10:13:17.378349",
     "status": "completed"
    },
    "tags": []
   },
   "outputs": [],
   "source": [
    "import pandas as pd\n",
    "import numpy as np"
   ]
  },
  {
   "cell_type": "code",
   "execution_count": 2,
   "id": "8698aae8",
   "metadata": {
    "execution": {
     "iopub.execute_input": "2023-04-28T10:13:17.408274Z",
     "iopub.status.busy": "2023-04-28T10:13:17.407559Z",
     "iopub.status.idle": "2023-04-28T10:13:17.541808Z",
     "shell.execute_reply": "2023-04-28T10:13:17.540588Z"
    },
    "papermill": {
     "duration": 0.142406,
     "end_time": "2023-04-28T10:13:17.544444",
     "exception": false,
     "start_time": "2023-04-28T10:13:17.402038",
     "status": "completed"
    },
    "tags": []
   },
   "outputs": [
    {
     "data": {
      "text/html": [
       "<div>\n",
       "<style scoped>\n",
       "    .dataframe tbody tr th:only-of-type {\n",
       "        vertical-align: middle;\n",
       "    }\n",
       "\n",
       "    .dataframe tbody tr th {\n",
       "        vertical-align: top;\n",
       "    }\n",
       "\n",
       "    .dataframe thead th {\n",
       "        text-align: right;\n",
       "    }\n",
       "</style>\n",
       "<table border=\"1\" class=\"dataframe\">\n",
       "  <thead>\n",
       "    <tr style=\"text-align: right;\">\n",
       "      <th></th>\n",
       "      <th>id</th>\n",
       "      <th>gender</th>\n",
       "      <th>age</th>\n",
       "      <th>hypertension</th>\n",
       "      <th>heart_disease</th>\n",
       "      <th>ever_married</th>\n",
       "      <th>work_type</th>\n",
       "      <th>Residence_type</th>\n",
       "      <th>avg_glucose_level</th>\n",
       "      <th>bmi</th>\n",
       "      <th>smoking_status</th>\n",
       "      <th>stroke</th>\n",
       "    </tr>\n",
       "  </thead>\n",
       "  <tbody>\n",
       "    <tr>\n",
       "      <th>3756</th>\n",
       "      <td>3756</td>\n",
       "      <td>Female</td>\n",
       "      <td>40.0</td>\n",
       "      <td>0</td>\n",
       "      <td>0</td>\n",
       "      <td>Yes</td>\n",
       "      <td>Private</td>\n",
       "      <td>Rural</td>\n",
       "      <td>58.47</td>\n",
       "      <td>24.4</td>\n",
       "      <td>never smoked</td>\n",
       "      <td>0</td>\n",
       "    </tr>\n",
       "    <tr>\n",
       "      <th>320</th>\n",
       "      <td>320</td>\n",
       "      <td>Female</td>\n",
       "      <td>80.0</td>\n",
       "      <td>1</td>\n",
       "      <td>0</td>\n",
       "      <td>Yes</td>\n",
       "      <td>Govt_job</td>\n",
       "      <td>Urban</td>\n",
       "      <td>105.52</td>\n",
       "      <td>24.1</td>\n",
       "      <td>never smoked</td>\n",
       "      <td>1</td>\n",
       "    </tr>\n",
       "    <tr>\n",
       "      <th>7349</th>\n",
       "      <td>7349</td>\n",
       "      <td>Male</td>\n",
       "      <td>38.0</td>\n",
       "      <td>0</td>\n",
       "      <td>0</td>\n",
       "      <td>Yes</td>\n",
       "      <td>Private</td>\n",
       "      <td>Rural</td>\n",
       "      <td>88.20</td>\n",
       "      <td>28.4</td>\n",
       "      <td>Unknown</td>\n",
       "      <td>0</td>\n",
       "    </tr>\n",
       "    <tr>\n",
       "      <th>3753</th>\n",
       "      <td>3753</td>\n",
       "      <td>Female</td>\n",
       "      <td>57.0</td>\n",
       "      <td>0</td>\n",
       "      <td>0</td>\n",
       "      <td>Yes</td>\n",
       "      <td>Private</td>\n",
       "      <td>Urban</td>\n",
       "      <td>90.07</td>\n",
       "      <td>35.6</td>\n",
       "      <td>never smoked</td>\n",
       "      <td>0</td>\n",
       "    </tr>\n",
       "    <tr>\n",
       "      <th>11392</th>\n",
       "      <td>11392</td>\n",
       "      <td>Male</td>\n",
       "      <td>59.0</td>\n",
       "      <td>0</td>\n",
       "      <td>0</td>\n",
       "      <td>Yes</td>\n",
       "      <td>Govt_job</td>\n",
       "      <td>Urban</td>\n",
       "      <td>93.77</td>\n",
       "      <td>29.9</td>\n",
       "      <td>never smoked</td>\n",
       "      <td>0</td>\n",
       "    </tr>\n",
       "    <tr>\n",
       "      <th>757</th>\n",
       "      <td>757</td>\n",
       "      <td>Male</td>\n",
       "      <td>18.0</td>\n",
       "      <td>0</td>\n",
       "      <td>0</td>\n",
       "      <td>No</td>\n",
       "      <td>Private</td>\n",
       "      <td>Rural</td>\n",
       "      <td>82.47</td>\n",
       "      <td>22.9</td>\n",
       "      <td>Unknown</td>\n",
       "      <td>0</td>\n",
       "    </tr>\n",
       "    <tr>\n",
       "      <th>7916</th>\n",
       "      <td>7916</td>\n",
       "      <td>Female</td>\n",
       "      <td>16.0</td>\n",
       "      <td>0</td>\n",
       "      <td>0</td>\n",
       "      <td>No</td>\n",
       "      <td>Private</td>\n",
       "      <td>Rural</td>\n",
       "      <td>61.61</td>\n",
       "      <td>15.4</td>\n",
       "      <td>Unknown</td>\n",
       "      <td>0</td>\n",
       "    </tr>\n",
       "    <tr>\n",
       "      <th>14083</th>\n",
       "      <td>14083</td>\n",
       "      <td>Female</td>\n",
       "      <td>10.0</td>\n",
       "      <td>0</td>\n",
       "      <td>0</td>\n",
       "      <td>No</td>\n",
       "      <td>children</td>\n",
       "      <td>Urban</td>\n",
       "      <td>81.21</td>\n",
       "      <td>20.0</td>\n",
       "      <td>Unknown</td>\n",
       "      <td>0</td>\n",
       "    </tr>\n",
       "    <tr>\n",
       "      <th>9616</th>\n",
       "      <td>9616</td>\n",
       "      <td>Male</td>\n",
       "      <td>41.0</td>\n",
       "      <td>0</td>\n",
       "      <td>0</td>\n",
       "      <td>Yes</td>\n",
       "      <td>Private</td>\n",
       "      <td>Rural</td>\n",
       "      <td>79.89</td>\n",
       "      <td>22.0</td>\n",
       "      <td>never smoked</td>\n",
       "      <td>0</td>\n",
       "    </tr>\n",
       "    <tr>\n",
       "      <th>5141</th>\n",
       "      <td>5141</td>\n",
       "      <td>Female</td>\n",
       "      <td>53.0</td>\n",
       "      <td>0</td>\n",
       "      <td>0</td>\n",
       "      <td>Yes</td>\n",
       "      <td>Self-employed</td>\n",
       "      <td>Urban</td>\n",
       "      <td>88.65</td>\n",
       "      <td>28.2</td>\n",
       "      <td>smokes</td>\n",
       "      <td>0</td>\n",
       "    </tr>\n",
       "  </tbody>\n",
       "</table>\n",
       "</div>"
      ],
      "text/plain": [
       "          id  gender   age  hypertension  heart_disease ever_married  \\\n",
       "3756    3756  Female  40.0             0              0          Yes   \n",
       "320      320  Female  80.0             1              0          Yes   \n",
       "7349    7349    Male  38.0             0              0          Yes   \n",
       "3753    3753  Female  57.0             0              0          Yes   \n",
       "11392  11392    Male  59.0             0              0          Yes   \n",
       "757      757    Male  18.0             0              0           No   \n",
       "7916    7916  Female  16.0             0              0           No   \n",
       "14083  14083  Female  10.0             0              0           No   \n",
       "9616    9616    Male  41.0             0              0          Yes   \n",
       "5141    5141  Female  53.0             0              0          Yes   \n",
       "\n",
       "           work_type Residence_type  avg_glucose_level   bmi smoking_status  \\\n",
       "3756         Private          Rural              58.47  24.4   never smoked   \n",
       "320         Govt_job          Urban             105.52  24.1   never smoked   \n",
       "7349         Private          Rural              88.20  28.4        Unknown   \n",
       "3753         Private          Urban              90.07  35.6   never smoked   \n",
       "11392       Govt_job          Urban              93.77  29.9   never smoked   \n",
       "757          Private          Rural              82.47  22.9        Unknown   \n",
       "7916         Private          Rural              61.61  15.4        Unknown   \n",
       "14083       children          Urban              81.21  20.0        Unknown   \n",
       "9616         Private          Rural              79.89  22.0   never smoked   \n",
       "5141   Self-employed          Urban              88.65  28.2         smokes   \n",
       "\n",
       "       stroke  \n",
       "3756        0  \n",
       "320         1  \n",
       "7349        0  \n",
       "3753        0  \n",
       "11392       0  \n",
       "757         0  \n",
       "7916        0  \n",
       "14083       0  \n",
       "9616        0  \n",
       "5141        0  "
      ]
     },
     "execution_count": 2,
     "metadata": {},
     "output_type": "execute_result"
    }
   ],
   "source": [
    "train_df = pd.read_csv('/kaggle/input/playground-series-s3e2/train.csv')\n",
    "test_df = pd.read_csv('/kaggle/input/playground-series-s3e2/test.csv')\n",
    "train_df.sample(10)"
   ]
  },
  {
   "cell_type": "code",
   "execution_count": 3,
   "id": "c160ac20",
   "metadata": {
    "execution": {
     "iopub.execute_input": "2023-04-28T10:13:17.553850Z",
     "iopub.status.busy": "2023-04-28T10:13:17.553404Z",
     "iopub.status.idle": "2023-04-28T10:13:17.567439Z",
     "shell.execute_reply": "2023-04-28T10:13:17.566227Z"
    },
    "papermill": {
     "duration": 0.021683,
     "end_time": "2023-04-28T10:13:17.570010",
     "exception": false,
     "start_time": "2023-04-28T10:13:17.548327",
     "status": "completed"
    },
    "tags": []
   },
   "outputs": [
    {
     "data": {
      "text/plain": [
       "id                   0\n",
       "gender               0\n",
       "age                  0\n",
       "hypertension         0\n",
       "heart_disease        0\n",
       "ever_married         0\n",
       "work_type            0\n",
       "Residence_type       0\n",
       "avg_glucose_level    0\n",
       "bmi                  0\n",
       "smoking_status       0\n",
       "stroke               0\n",
       "dtype: int64"
      ]
     },
     "execution_count": 3,
     "metadata": {},
     "output_type": "execute_result"
    }
   ],
   "source": [
    "train_df.isna().sum()"
   ]
  },
  {
   "cell_type": "code",
   "execution_count": 4,
   "id": "5de076a4",
   "metadata": {
    "execution": {
     "iopub.execute_input": "2023-04-28T10:13:17.579874Z",
     "iopub.status.busy": "2023-04-28T10:13:17.579381Z",
     "iopub.status.idle": "2023-04-28T10:13:18.795534Z",
     "shell.execute_reply": "2023-04-28T10:13:18.794058Z"
    },
    "papermill": {
     "duration": 1.224726,
     "end_time": "2023-04-28T10:13:18.798753",
     "exception": false,
     "start_time": "2023-04-28T10:13:17.574027",
     "status": "completed"
    },
    "tags": []
   },
   "outputs": [],
   "source": [
    "from sklearn.model_selection import train_test_split\n",
    "from sklearn.linear_model import LogisticRegression\n",
    "from sklearn.metrics import accuracy_score\n",
    "from sklearn import preprocessing"
   ]
  },
  {
   "cell_type": "code",
   "execution_count": 5,
   "id": "3a2bcb1f",
   "metadata": {
    "execution": {
     "iopub.execute_input": "2023-04-28T10:13:18.809103Z",
     "iopub.status.busy": "2023-04-28T10:13:18.807999Z",
     "iopub.status.idle": "2023-04-28T10:13:18.839559Z",
     "shell.execute_reply": "2023-04-28T10:13:18.838393Z"
    },
    "papermill": {
     "duration": 0.039186,
     "end_time": "2023-04-28T10:13:18.842122",
     "exception": false,
     "start_time": "2023-04-28T10:13:18.802936",
     "status": "completed"
    },
    "tags": []
   },
   "outputs": [
    {
     "name": "stdout",
     "output_type": "stream",
     "text": [
      "<class 'pandas.core.frame.DataFrame'>\n",
      "RangeIndex: 15304 entries, 0 to 15303\n",
      "Data columns (total 12 columns):\n",
      " #   Column             Non-Null Count  Dtype  \n",
      "---  ------             --------------  -----  \n",
      " 0   id                 15304 non-null  int64  \n",
      " 1   gender             15304 non-null  object \n",
      " 2   age                15304 non-null  float64\n",
      " 3   hypertension       15304 non-null  int64  \n",
      " 4   heart_disease      15304 non-null  int64  \n",
      " 5   ever_married       15304 non-null  object \n",
      " 6   work_type          15304 non-null  object \n",
      " 7   Residence_type     15304 non-null  object \n",
      " 8   avg_glucose_level  15304 non-null  float64\n",
      " 9   bmi                15304 non-null  float64\n",
      " 10  smoking_status     15304 non-null  object \n",
      " 11  stroke             15304 non-null  int64  \n",
      "dtypes: float64(3), int64(4), object(5)\n",
      "memory usage: 1.4+ MB\n"
     ]
    }
   ],
   "source": [
    "train_df.info()"
   ]
  },
  {
   "cell_type": "code",
   "execution_count": 6,
   "id": "6edc39ae",
   "metadata": {
    "execution": {
     "iopub.execute_input": "2023-04-28T10:13:18.852291Z",
     "iopub.status.busy": "2023-04-28T10:13:18.851397Z",
     "iopub.status.idle": "2023-04-28T10:13:18.895660Z",
     "shell.execute_reply": "2023-04-28T10:13:18.894391Z"
    },
    "papermill": {
     "duration": 0.05231,
     "end_time": "2023-04-28T10:13:18.898476",
     "exception": false,
     "start_time": "2023-04-28T10:13:18.846166",
     "status": "completed"
    },
    "tags": []
   },
   "outputs": [],
   "source": [
    "cols =['gender','ever_married','work_type','Residence_type','smoking_status']\n",
    "le = preprocessing.LabelEncoder()\n",
    "for col in cols:\n",
    "    train_df[col] = le.fit_transform(train_df[col])\n",
    "    test_df[col] = le.transform(test_df[col])"
   ]
  },
  {
   "cell_type": "code",
   "execution_count": 7,
   "id": "c36f3da4",
   "metadata": {
    "execution": {
     "iopub.execute_input": "2023-04-28T10:13:18.908316Z",
     "iopub.status.busy": "2023-04-28T10:13:18.907889Z",
     "iopub.status.idle": "2023-04-28T10:13:18.921759Z",
     "shell.execute_reply": "2023-04-28T10:13:18.920483Z"
    },
    "papermill": {
     "duration": 0.02177,
     "end_time": "2023-04-28T10:13:18.924317",
     "exception": false,
     "start_time": "2023-04-28T10:13:18.902547",
     "status": "completed"
    },
    "tags": []
   },
   "outputs": [],
   "source": [
    "X_train, X_val, y_train, y_val = train_test_split(train_df.drop(['stroke'],axis =1 ), train_df['stroke'], test_size = 0.2)\n"
   ]
  },
  {
   "cell_type": "code",
   "execution_count": 8,
   "id": "cd505925",
   "metadata": {
    "execution": {
     "iopub.execute_input": "2023-04-28T10:13:18.933896Z",
     "iopub.status.busy": "2023-04-28T10:13:18.933470Z",
     "iopub.status.idle": "2023-04-28T10:13:19.203203Z",
     "shell.execute_reply": "2023-04-28T10:13:19.201471Z"
    },
    "papermill": {
     "duration": 0.279728,
     "end_time": "2023-04-28T10:13:19.208081",
     "exception": false,
     "start_time": "2023-04-28T10:13:18.928353",
     "status": "completed"
    },
    "tags": []
   },
   "outputs": [
    {
     "name": "stderr",
     "output_type": "stream",
     "text": [
      "/opt/conda/lib/python3.7/site-packages/sklearn/linear_model/_logistic.py:818: ConvergenceWarning: lbfgs failed to converge (status=1):\n",
      "STOP: TOTAL NO. of ITERATIONS REACHED LIMIT.\n",
      "\n",
      "Increase the number of iterations (max_iter) or scale the data as shown in:\n",
      "    https://scikit-learn.org/stable/modules/preprocessing.html\n",
      "Please also refer to the documentation for alternative solver options:\n",
      "    https://scikit-learn.org/stable/modules/linear_model.html#logistic-regression\n",
      "  extra_warning_msg=_LOGISTIC_SOLVER_CONVERGENCE_MSG,\n"
     ]
    }
   ],
   "source": [
    "lr = LogisticRegression()\n",
    "lr.fit(X_train, y_train)\n",
    "pred = lr.predict(X_val)"
   ]
  },
  {
   "cell_type": "code",
   "execution_count": 9,
   "id": "d95ae616",
   "metadata": {
    "execution": {
     "iopub.execute_input": "2023-04-28T10:13:19.231878Z",
     "iopub.status.busy": "2023-04-28T10:13:19.231110Z",
     "iopub.status.idle": "2023-04-28T10:13:19.252685Z",
     "shell.execute_reply": "2023-04-28T10:13:19.250975Z"
    },
    "papermill": {
     "duration": 0.039645,
     "end_time": "2023-04-28T10:13:19.257953",
     "exception": false,
     "start_time": "2023-04-28T10:13:19.218308",
     "status": "completed"
    },
    "tags": []
   },
   "outputs": [
    {
     "data": {
      "text/plain": [
       "0.9503430251551781"
      ]
     },
     "execution_count": 9,
     "metadata": {},
     "output_type": "execute_result"
    }
   ],
   "source": [
    "accuracy_score(y_val, pred)"
   ]
  },
  {
   "cell_type": "code",
   "execution_count": 10,
   "id": "83bef631",
   "metadata": {
    "execution": {
     "iopub.execute_input": "2023-04-28T10:13:19.282389Z",
     "iopub.status.busy": "2023-04-28T10:13:19.281655Z",
     "iopub.status.idle": "2023-04-28T10:13:19.345794Z",
     "shell.execute_reply": "2023-04-28T10:13:19.343758Z"
    },
    "papermill": {
     "duration": 0.082411,
     "end_time": "2023-04-28T10:13:19.351534",
     "exception": false,
     "start_time": "2023-04-28T10:13:19.269123",
     "status": "completed"
    },
    "tags": []
   },
   "outputs": [],
   "source": [
    "my_pred = lr.predict(test_df)\n",
    "df = pd.DataFrame({'id': test_df['id'], 'stroke':my_pred})\n",
    "df.to_csv('submission.csv',index= False)"
   ]
  },
  {
   "cell_type": "code",
   "execution_count": null,
   "id": "90bcd191",
   "metadata": {
    "papermill": {
     "duration": 0.009761,
     "end_time": "2023-04-28T10:13:19.372425",
     "exception": false,
     "start_time": "2023-04-28T10:13:19.362664",
     "status": "completed"
    },
    "tags": []
   },
   "outputs": [],
   "source": []
  }
 ],
 "metadata": {
  "kernelspec": {
   "display_name": "Python 3",
   "language": "python",
   "name": "python3"
  },
  "language_info": {
   "codemirror_mode": {
    "name": "ipython",
    "version": 3
   },
   "file_extension": ".py",
   "mimetype": "text/x-python",
   "name": "python",
   "nbconvert_exporter": "python",
   "pygments_lexer": "ipython3",
   "version": "3.7.12"
  },
  "papermill": {
   "default_parameters": {},
   "duration": 12.626401,
   "end_time": "2023-04-28T10:13:19.621022",
   "environment_variables": {},
   "exception": null,
   "input_path": "__notebook__.ipynb",
   "output_path": "__notebook__.ipynb",
   "parameters": {},
   "start_time": "2023-04-28T10:13:06.994621",
   "version": "2.4.0"
  }
 },
 "nbformat": 4,
 "nbformat_minor": 5
}
