{
  "metadata": {
    "kernelspec": {
      "language": "python",
      "display_name": "Python 3",
      "name": "python3"
    },
    "language_info": {
      "name": "python",
      "version": "3.7.12",
      "mimetype": "text/x-python",
      "codemirror_mode": {
        "name": "ipython",
        "version": 3
      },
      "pygments_lexer": "ipython3",
      "nbconvert_exporter": "python",
      "file_extension": ".py"
    },
    "colab": {
      "provenance": []
    }
  },
  "nbformat_minor": 0,
  "nbformat": 4,
  "cells": [
    {
      "cell_type": "markdown",
      "source": [
        "# Overview\n",
        "Many factors affect the quality of wine, including the kind of grape or fruit used, the fermentation process, storage and ageing methods, as well as the environment and region where it was cultivated. Wines may be categorised depending on elements including taste, scent, and colour. The quality of these categories can range from inexpensive table wines to high-end fine wines.\n",
        "\n",
        "The goal of wine quality prediction is to develop models utilising data that can reliably anticipate a wine's quality, helping wine producers, wine growers, and merchants make judgements about their goods.\n",
        "\n",
        "In order to find underlying patterns, we will first analyse the train and original datasets. Afterward, many models will be trained on the dataset."
      ],
      "metadata": {
        "id": "WSw7lycqAkAm"
      }
    },
    {
      "cell_type": "markdown",
      "source": [
        "# Importing The Libraries"
      ],
      "metadata": {
        "id": "cxvmH6h1AkAp"
      }
    },
    {
      "cell_type": "code",
      "source": [
        "import pandas as pd\n",
        "import numpy as np\n",
        "import matplotlib.pyplot as plt\n",
        "from sklearn.model_selection import train_test_split\n",
        "from sklearn.preprocessing import MinMaxScaler\n",
        "from sklearn.metrics import confusion_matrix\n",
        "from sklearn.ensemble import RandomForestRegressor\n",
        "from sklearn.model_selection import GridSearchCV\n",
        "from sklearn import metrics\n",
        "from sklearn.linear_model import LogisticRegression"
      ],
      "metadata": {
        "execution": {
          "iopub.status.busy": "2023-02-08T13:47:11.192736Z",
          "iopub.execute_input": "2023-02-08T13:47:11.193626Z",
          "iopub.status.idle": "2023-02-08T13:47:11.199781Z",
          "shell.execute_reply.started": "2023-02-08T13:47:11.193585Z",
          "shell.execute_reply": "2023-02-08T13:47:11.198607Z"
        },
        "trusted": true,
        "id": "oTCKy60yAkAq"
      },
      "execution_count": null,
      "outputs": []
    },
    {
      "cell_type": "code",
      "source": [
        "df_train=pd.read_csv('/kaggle/input/playground-series-season-3-episode-5/train.csv')\n",
        "df_test=pd.read_csv('/kaggle/input/playground-series-season-3-episode-5/test.csv')\n",
        "submission=pd.read_csv(\"/kaggle/input/playground-series-season-3-episode-5/sample_submission.csv\")"
      ],
      "metadata": {
        "execution": {
          "iopub.status.busy": "2023-02-08T13:47:11.484146Z",
          "iopub.execute_input": "2023-02-08T13:47:11.485024Z",
          "iopub.status.idle": "2023-02-08T13:47:11.510796Z",
          "shell.execute_reply.started": "2023-02-08T13:47:11.484970Z",
          "shell.execute_reply": "2023-02-08T13:47:11.509589Z"
        },
        "trusted": true,
        "id": "rC1RCgGBAkAr"
      },
      "execution_count": null,
      "outputs": []
    },
    {
      "cell_type": "code",
      "source": [
        "df_train\n"
      ],
      "metadata": {
        "execution": {
          "iopub.status.busy": "2023-02-08T13:47:11.802489Z",
          "iopub.execute_input": "2023-02-08T13:47:11.802939Z",
          "iopub.status.idle": "2023-02-08T13:47:11.834896Z",
          "shell.execute_reply.started": "2023-02-08T13:47:11.802901Z",
          "shell.execute_reply": "2023-02-08T13:47:11.833510Z"
        },
        "trusted": true,
        "id": "zijscnKlAkAr",
        "outputId": "6d0cfec7-5e3c-419a-99b1-9e102afe4225"
      },
      "execution_count": null,
      "outputs": [
        {
          "execution_count": 63,
          "output_type": "execute_result",
          "data": {
            "text/plain": "        Id  fixed acidity  volatile acidity  citric acid  residual sugar  \\\n0        0            8.0              0.50         0.39            2.20   \n1        1            9.3              0.30         0.73            2.30   \n2        2            7.1              0.51         0.03            2.10   \n3        3            8.1              0.87         0.22            2.60   \n4        4            8.5              0.36         0.30            2.30   \n...    ...            ...               ...          ...             ...   \n2051  2051            6.6              0.31         0.13            2.00   \n2052  2052            9.7              0.59         0.21            1.80   \n2053  2053            7.7              0.43         0.42            1.70   \n2054  2054            9.1              0.50         0.00            1.75   \n2055  2055            6.2              0.31         0.18            2.30   \n\n      chlorides  free sulfur dioxide  total sulfur dioxide  density    pH  \\\n0         0.073                 30.0                  39.0  0.99572  3.33   \n1         0.092                 30.0                  67.0  0.99854  3.32   \n2         0.059                  3.0                  12.0  0.99660  3.52   \n3         0.084                 11.0                  65.0  0.99730  3.20   \n4         0.079                 10.0                  45.0  0.99444  3.20   \n...         ...                  ...                   ...      ...   ...   \n2051      0.056                 29.0                  42.0  0.99388  3.52   \n2052      0.079                 27.0                  65.0  0.99745  3.14   \n2053      0.071                 19.0                  37.0  0.99258  3.32   \n2054      0.058                  5.0                  13.0  0.99670  3.22   \n2055      0.059                 12.0                  28.0  0.99520  3.56   \n\n      sulphates  alcohol  quality  \n0          0.77     12.1        6  \n1          0.67     12.8        6  \n2          0.73     11.3        7  \n3          0.53      9.8        5  \n4          1.36      9.5        6  \n...         ...      ...      ...  \n2051       0.87     12.0        7  \n2052       0.58      9.4        5  \n2053       0.77     12.5        8  \n2054       0.42      9.5        5  \n2055       0.88     11.4        7  \n\n[2056 rows x 13 columns]",
            "text/html": "<div>\n<style scoped>\n    .dataframe tbody tr th:only-of-type {\n        vertical-align: middle;\n    }\n\n    .dataframe tbody tr th {\n        vertical-align: top;\n    }\n\n    .dataframe thead th {\n        text-align: right;\n    }\n</style>\n<table border=\"1\" class=\"dataframe\">\n  <thead>\n    <tr style=\"text-align: right;\">\n      <th></th>\n      <th>Id</th>\n      <th>fixed acidity</th>\n      <th>volatile acidity</th>\n      <th>citric acid</th>\n      <th>residual sugar</th>\n      <th>chlorides</th>\n      <th>free sulfur dioxide</th>\n      <th>total sulfur dioxide</th>\n      <th>density</th>\n      <th>pH</th>\n      <th>sulphates</th>\n      <th>alcohol</th>\n      <th>quality</th>\n    </tr>\n  </thead>\n  <tbody>\n    <tr>\n      <th>0</th>\n      <td>0</td>\n      <td>8.0</td>\n      <td>0.50</td>\n      <td>0.39</td>\n      <td>2.20</td>\n      <td>0.073</td>\n      <td>30.0</td>\n      <td>39.0</td>\n      <td>0.99572</td>\n      <td>3.33</td>\n      <td>0.77</td>\n      <td>12.1</td>\n      <td>6</td>\n    </tr>\n    <tr>\n      <th>1</th>\n      <td>1</td>\n      <td>9.3</td>\n      <td>0.30</td>\n      <td>0.73</td>\n      <td>2.30</td>\n      <td>0.092</td>\n      <td>30.0</td>\n      <td>67.0</td>\n      <td>0.99854</td>\n      <td>3.32</td>\n      <td>0.67</td>\n      <td>12.8</td>\n      <td>6</td>\n    </tr>\n    <tr>\n      <th>2</th>\n      <td>2</td>\n      <td>7.1</td>\n      <td>0.51</td>\n      <td>0.03</td>\n      <td>2.10</td>\n      <td>0.059</td>\n      <td>3.0</td>\n      <td>12.0</td>\n      <td>0.99660</td>\n      <td>3.52</td>\n      <td>0.73</td>\n      <td>11.3</td>\n      <td>7</td>\n    </tr>\n    <tr>\n      <th>3</th>\n      <td>3</td>\n      <td>8.1</td>\n      <td>0.87</td>\n      <td>0.22</td>\n      <td>2.60</td>\n      <td>0.084</td>\n      <td>11.0</td>\n      <td>65.0</td>\n      <td>0.99730</td>\n      <td>3.20</td>\n      <td>0.53</td>\n      <td>9.8</td>\n      <td>5</td>\n    </tr>\n    <tr>\n      <th>4</th>\n      <td>4</td>\n      <td>8.5</td>\n      <td>0.36</td>\n      <td>0.30</td>\n      <td>2.30</td>\n      <td>0.079</td>\n      <td>10.0</td>\n      <td>45.0</td>\n      <td>0.99444</td>\n      <td>3.20</td>\n      <td>1.36</td>\n      <td>9.5</td>\n      <td>6</td>\n    </tr>\n    <tr>\n      <th>...</th>\n      <td>...</td>\n      <td>...</td>\n      <td>...</td>\n      <td>...</td>\n      <td>...</td>\n      <td>...</td>\n      <td>...</td>\n      <td>...</td>\n      <td>...</td>\n      <td>...</td>\n      <td>...</td>\n      <td>...</td>\n      <td>...</td>\n    </tr>\n    <tr>\n      <th>2051</th>\n      <td>2051</td>\n      <td>6.6</td>\n      <td>0.31</td>\n      <td>0.13</td>\n      <td>2.00</td>\n      <td>0.056</td>\n      <td>29.0</td>\n      <td>42.0</td>\n      <td>0.99388</td>\n      <td>3.52</td>\n      <td>0.87</td>\n      <td>12.0</td>\n      <td>7</td>\n    </tr>\n    <tr>\n      <th>2052</th>\n      <td>2052</td>\n      <td>9.7</td>\n      <td>0.59</td>\n      <td>0.21</td>\n      <td>1.80</td>\n      <td>0.079</td>\n      <td>27.0</td>\n      <td>65.0</td>\n      <td>0.99745</td>\n      <td>3.14</td>\n      <td>0.58</td>\n      <td>9.4</td>\n      <td>5</td>\n    </tr>\n    <tr>\n      <th>2053</th>\n      <td>2053</td>\n      <td>7.7</td>\n      <td>0.43</td>\n      <td>0.42</td>\n      <td>1.70</td>\n      <td>0.071</td>\n      <td>19.0</td>\n      <td>37.0</td>\n      <td>0.99258</td>\n      <td>3.32</td>\n      <td>0.77</td>\n      <td>12.5</td>\n      <td>8</td>\n    </tr>\n    <tr>\n      <th>2054</th>\n      <td>2054</td>\n      <td>9.1</td>\n      <td>0.50</td>\n      <td>0.00</td>\n      <td>1.75</td>\n      <td>0.058</td>\n      <td>5.0</td>\n      <td>13.0</td>\n      <td>0.99670</td>\n      <td>3.22</td>\n      <td>0.42</td>\n      <td>9.5</td>\n      <td>5</td>\n    </tr>\n    <tr>\n      <th>2055</th>\n      <td>2055</td>\n      <td>6.2</td>\n      <td>0.31</td>\n      <td>0.18</td>\n      <td>2.30</td>\n      <td>0.059</td>\n      <td>12.0</td>\n      <td>28.0</td>\n      <td>0.99520</td>\n      <td>3.56</td>\n      <td>0.88</td>\n      <td>11.4</td>\n      <td>7</td>\n    </tr>\n  </tbody>\n</table>\n<p>2056 rows × 13 columns</p>\n</div>"
          },
          "metadata": {}
        }
      ]
    },
    {
      "cell_type": "code",
      "source": [
        "df_train.info()"
      ],
      "metadata": {
        "execution": {
          "iopub.status.busy": "2023-02-08T13:47:15.218073Z",
          "iopub.execute_input": "2023-02-08T13:47:15.218492Z",
          "iopub.status.idle": "2023-02-08T13:47:15.235156Z",
          "shell.execute_reply.started": "2023-02-08T13:47:15.218457Z",
          "shell.execute_reply": "2023-02-08T13:47:15.233920Z"
        },
        "trusted": true,
        "id": "VPreArgdAkAs",
        "outputId": "07331224-dc8e-49ec-efaf-bbc4bdb81eca"
      },
      "execution_count": null,
      "outputs": [
        {
          "name": "stdout",
          "text": "<class 'pandas.core.frame.DataFrame'>\nRangeIndex: 2056 entries, 0 to 2055\nData columns (total 12 columns):\n #   Column                Non-Null Count  Dtype  \n---  ------                --------------  -----  \n 0   fixed acidity         2056 non-null   float64\n 1   volatile acidity      2056 non-null   float64\n 2   citric acid           2056 non-null   float64\n 3   residual sugar        2056 non-null   float64\n 4   chlorides             2056 non-null   float64\n 5   free sulfur dioxide   2056 non-null   float64\n 6   total sulfur dioxide  2056 non-null   float64\n 7   density               2056 non-null   float64\n 8   pH                    2056 non-null   float64\n 9   sulphates             2056 non-null   float64\n 10  alcohol               2056 non-null   float64\n 11  quality               2056 non-null   int64  \ndtypes: float64(11), int64(1)\nmemory usage: 192.9 KB\n",
          "output_type": "stream"
        }
      ]
    },
    {
      "cell_type": "markdown",
      "source": [
        "**Insights:**\n",
        "\n",
        "* There are no missing values in any of the 1143 samples in the original dataset.\n",
        "\n",
        "* There are no missing values in any of the 2056 samples in the train dataset.\n",
        "\n",
        "* There are 1372 non-null observations in the test dataset.\n",
        "\n",
        "* he features found in these datasets include: fixed acidity (g/L), volatile acidity (g/L), citric acid (g/L), residual sugar (g/L), chlorides (g/L), free sulfur dioxide (mg/L), total sulfur dioxide (mg/L), density (g/mL), pH, sulphates (g/L), and alcohol content (% vol.)"
      ],
      "metadata": {
        "id": "zylf0tJwAkAs"
      }
    },
    {
      "cell_type": "code",
      "source": [
        "df_train.describe()"
      ],
      "metadata": {
        "execution": {
          "iopub.status.busy": "2023-02-08T13:48:21.706871Z",
          "iopub.execute_input": "2023-02-08T13:48:21.707272Z",
          "iopub.status.idle": "2023-02-08T13:48:21.760913Z",
          "shell.execute_reply.started": "2023-02-08T13:48:21.707241Z",
          "shell.execute_reply": "2023-02-08T13:48:21.759714Z"
        },
        "trusted": true,
        "id": "2mFF-kM2AkAs",
        "outputId": "b023ed93-00fc-4963-fa97-63b5d0cae846"
      },
      "execution_count": null,
      "outputs": [
        {
          "execution_count": 65,
          "output_type": "execute_result",
          "data": {
            "text/plain": "       fixed acidity  volatile acidity  citric acid  residual sugar  \\\ncount    2056.000000       2056.000000  2056.000000     2056.000000   \nmean        8.365175          0.527601     0.265058        2.398881   \nstd         1.705390          0.173164     0.188267        0.858824   \nmin         5.000000          0.180000     0.000000        1.200000   \n25%         7.200000          0.390000     0.090000        1.900000   \n50%         7.950000          0.520000     0.250000        2.200000   \n75%         9.200000          0.640000     0.420000        2.600000   \nmax        15.900000          1.580000     0.760000       14.000000   \n\n         chlorides  free sulfur dioxide  total sulfur dioxide      density  \\\ncount  2056.000000          2056.000000           2056.000000  2056.000000   \nmean      0.081856            16.955982             49.236868     0.996748   \nstd       0.023729            10.009710             32.961141     0.001827   \nmin       0.012000             1.000000              7.000000     0.990070   \n25%       0.071000             8.000000             22.000000     0.995600   \n50%       0.079000            16.000000             44.000000     0.996700   \n75%       0.090000            24.000000             65.000000     0.997800   \nmax       0.414000            68.000000            289.000000     1.003690   \n\n                pH    sulphates      alcohol      quality  \ncount  2056.000000  2056.000000  2056.000000  2056.000000  \nmean      3.310569     0.641308    10.414972     5.720817  \nstd       0.142321     0.137942     1.028825     0.853146  \nmin       2.740000     0.390000     8.700000     3.000000  \n25%       3.200000     0.550000     9.500000     5.000000  \n50%       3.310000     0.610000    10.100000     6.000000  \n75%       3.390000     0.720000    11.000000     6.000000  \nmax       3.780000     1.950000    14.000000     8.000000  ",
            "text/html": "<div>\n<style scoped>\n    .dataframe tbody tr th:only-of-type {\n        vertical-align: middle;\n    }\n\n    .dataframe tbody tr th {\n        vertical-align: top;\n    }\n\n    .dataframe thead th {\n        text-align: right;\n    }\n</style>\n<table border=\"1\" class=\"dataframe\">\n  <thead>\n    <tr style=\"text-align: right;\">\n      <th></th>\n      <th>fixed acidity</th>\n      <th>volatile acidity</th>\n      <th>citric acid</th>\n      <th>residual sugar</th>\n      <th>chlorides</th>\n      <th>free sulfur dioxide</th>\n      <th>total sulfur dioxide</th>\n      <th>density</th>\n      <th>pH</th>\n      <th>sulphates</th>\n      <th>alcohol</th>\n      <th>quality</th>\n    </tr>\n  </thead>\n  <tbody>\n    <tr>\n      <th>count</th>\n      <td>2056.000000</td>\n      <td>2056.000000</td>\n      <td>2056.000000</td>\n      <td>2056.000000</td>\n      <td>2056.000000</td>\n      <td>2056.000000</td>\n      <td>2056.000000</td>\n      <td>2056.000000</td>\n      <td>2056.000000</td>\n      <td>2056.000000</td>\n      <td>2056.000000</td>\n      <td>2056.000000</td>\n    </tr>\n    <tr>\n      <th>mean</th>\n      <td>8.365175</td>\n      <td>0.527601</td>\n      <td>0.265058</td>\n      <td>2.398881</td>\n      <td>0.081856</td>\n      <td>16.955982</td>\n      <td>49.236868</td>\n      <td>0.996748</td>\n      <td>3.310569</td>\n      <td>0.641308</td>\n      <td>10.414972</td>\n      <td>5.720817</td>\n    </tr>\n    <tr>\n      <th>std</th>\n      <td>1.705390</td>\n      <td>0.173164</td>\n      <td>0.188267</td>\n      <td>0.858824</td>\n      <td>0.023729</td>\n      <td>10.009710</td>\n      <td>32.961141</td>\n      <td>0.001827</td>\n      <td>0.142321</td>\n      <td>0.137942</td>\n      <td>1.028825</td>\n      <td>0.853146</td>\n    </tr>\n    <tr>\n      <th>min</th>\n      <td>5.000000</td>\n      <td>0.180000</td>\n      <td>0.000000</td>\n      <td>1.200000</td>\n      <td>0.012000</td>\n      <td>1.000000</td>\n      <td>7.000000</td>\n      <td>0.990070</td>\n      <td>2.740000</td>\n      <td>0.390000</td>\n      <td>8.700000</td>\n      <td>3.000000</td>\n    </tr>\n    <tr>\n      <th>25%</th>\n      <td>7.200000</td>\n      <td>0.390000</td>\n      <td>0.090000</td>\n      <td>1.900000</td>\n      <td>0.071000</td>\n      <td>8.000000</td>\n      <td>22.000000</td>\n      <td>0.995600</td>\n      <td>3.200000</td>\n      <td>0.550000</td>\n      <td>9.500000</td>\n      <td>5.000000</td>\n    </tr>\n    <tr>\n      <th>50%</th>\n      <td>7.950000</td>\n      <td>0.520000</td>\n      <td>0.250000</td>\n      <td>2.200000</td>\n      <td>0.079000</td>\n      <td>16.000000</td>\n      <td>44.000000</td>\n      <td>0.996700</td>\n      <td>3.310000</td>\n      <td>0.610000</td>\n      <td>10.100000</td>\n      <td>6.000000</td>\n    </tr>\n    <tr>\n      <th>75%</th>\n      <td>9.200000</td>\n      <td>0.640000</td>\n      <td>0.420000</td>\n      <td>2.600000</td>\n      <td>0.090000</td>\n      <td>24.000000</td>\n      <td>65.000000</td>\n      <td>0.997800</td>\n      <td>3.390000</td>\n      <td>0.720000</td>\n      <td>11.000000</td>\n      <td>6.000000</td>\n    </tr>\n    <tr>\n      <th>max</th>\n      <td>15.900000</td>\n      <td>1.580000</td>\n      <td>0.760000</td>\n      <td>14.000000</td>\n      <td>0.414000</td>\n      <td>68.000000</td>\n      <td>289.000000</td>\n      <td>1.003690</td>\n      <td>3.780000</td>\n      <td>1.950000</td>\n      <td>14.000000</td>\n      <td>8.000000</td>\n    </tr>\n  </tbody>\n</table>\n</div>"
          },
          "metadata": {}
        }
      ]
    },
    {
      "cell_type": "markdown",
      "source": [
        "**Dropping the  columns which are not useful:**"
      ],
      "metadata": {
        "id": "5Hk-EXR5AkAt"
      }
    },
    {
      "cell_type": "code",
      "source": [
        "df_train['volatile_new_acidity']=df_train['fixed acidity']/df_train['volatile acidity']\n",
        "df_test['volatile_new_acidity']=df_test['fixed acidity']/df_test['volatile acidity']\n",
        "df_train\n",
        "df_train=df_train.drop(['Id'],axis=1)"
      ],
      "metadata": {
        "execution": {
          "iopub.status.busy": "2023-02-08T13:48:21.893287Z",
          "iopub.execute_input": "2023-02-08T13:48:21.894252Z",
          "iopub.status.idle": "2023-02-08T13:48:21.924723Z",
          "shell.execute_reply.started": "2023-02-08T13:48:21.894195Z",
          "shell.execute_reply": "2023-02-08T13:48:21.923552Z"
        },
        "trusted": true,
        "id": "4hI9F-LEAkAt",
        "outputId": "b0b16130-9760-43dc-c44b-60ac430b9762"
      },
      "execution_count": null,
      "outputs": [
        {
          "execution_count": 66,
          "output_type": "execute_result",
          "data": {
            "text/plain": "      fixed acidity  volatile acidity  citric acid  residual sugar  chlorides  \\\n0               8.0              0.50         0.39            2.20      0.073   \n1               9.3              0.30         0.73            2.30      0.092   \n2               7.1              0.51         0.03            2.10      0.059   \n3               8.1              0.87         0.22            2.60      0.084   \n4               8.5              0.36         0.30            2.30      0.079   \n...             ...               ...          ...             ...        ...   \n2051            6.6              0.31         0.13            2.00      0.056   \n2052            9.7              0.59         0.21            1.80      0.079   \n2053            7.7              0.43         0.42            1.70      0.071   \n2054            9.1              0.50         0.00            1.75      0.058   \n2055            6.2              0.31         0.18            2.30      0.059   \n\n      free sulfur dioxide  total sulfur dioxide  density    pH  sulphates  \\\n0                    30.0                  39.0  0.99572  3.33       0.77   \n1                    30.0                  67.0  0.99854  3.32       0.67   \n2                     3.0                  12.0  0.99660  3.52       0.73   \n3                    11.0                  65.0  0.99730  3.20       0.53   \n4                    10.0                  45.0  0.99444  3.20       1.36   \n...                   ...                   ...      ...   ...        ...   \n2051                 29.0                  42.0  0.99388  3.52       0.87   \n2052                 27.0                  65.0  0.99745  3.14       0.58   \n2053                 19.0                  37.0  0.99258  3.32       0.77   \n2054                  5.0                  13.0  0.99670  3.22       0.42   \n2055                 12.0                  28.0  0.99520  3.56       0.88   \n\n      alcohol  quality  volatile_new_acidity  \n0        12.1        6             16.000000  \n1        12.8        6             31.000000  \n2        11.3        7             13.921569  \n3         9.8        5              9.310345  \n4         9.5        6             23.611111  \n...       ...      ...                   ...  \n2051     12.0        7             21.290323  \n2052      9.4        5             16.440678  \n2053     12.5        8             17.906977  \n2054      9.5        5             18.200000  \n2055     11.4        7             20.000000  \n\n[2056 rows x 13 columns]",
            "text/html": "<div>\n<style scoped>\n    .dataframe tbody tr th:only-of-type {\n        vertical-align: middle;\n    }\n\n    .dataframe tbody tr th {\n        vertical-align: top;\n    }\n\n    .dataframe thead th {\n        text-align: right;\n    }\n</style>\n<table border=\"1\" class=\"dataframe\">\n  <thead>\n    <tr style=\"text-align: right;\">\n      <th></th>\n      <th>fixed acidity</th>\n      <th>volatile acidity</th>\n      <th>citric acid</th>\n      <th>residual sugar</th>\n      <th>chlorides</th>\n      <th>free sulfur dioxide</th>\n      <th>total sulfur dioxide</th>\n      <th>density</th>\n      <th>pH</th>\n      <th>sulphates</th>\n      <th>alcohol</th>\n      <th>quality</th>\n      <th>volatile_new_acidity</th>\n    </tr>\n  </thead>\n  <tbody>\n    <tr>\n      <th>0</th>\n      <td>8.0</td>\n      <td>0.50</td>\n      <td>0.39</td>\n      <td>2.20</td>\n      <td>0.073</td>\n      <td>30.0</td>\n      <td>39.0</td>\n      <td>0.99572</td>\n      <td>3.33</td>\n      <td>0.77</td>\n      <td>12.1</td>\n      <td>6</td>\n      <td>16.000000</td>\n    </tr>\n    <tr>\n      <th>1</th>\n      <td>9.3</td>\n      <td>0.30</td>\n      <td>0.73</td>\n      <td>2.30</td>\n      <td>0.092</td>\n      <td>30.0</td>\n      <td>67.0</td>\n      <td>0.99854</td>\n      <td>3.32</td>\n      <td>0.67</td>\n      <td>12.8</td>\n      <td>6</td>\n      <td>31.000000</td>\n    </tr>\n    <tr>\n      <th>2</th>\n      <td>7.1</td>\n      <td>0.51</td>\n      <td>0.03</td>\n      <td>2.10</td>\n      <td>0.059</td>\n      <td>3.0</td>\n      <td>12.0</td>\n      <td>0.99660</td>\n      <td>3.52</td>\n      <td>0.73</td>\n      <td>11.3</td>\n      <td>7</td>\n      <td>13.921569</td>\n    </tr>\n    <tr>\n      <th>3</th>\n      <td>8.1</td>\n      <td>0.87</td>\n      <td>0.22</td>\n      <td>2.60</td>\n      <td>0.084</td>\n      <td>11.0</td>\n      <td>65.0</td>\n      <td>0.99730</td>\n      <td>3.20</td>\n      <td>0.53</td>\n      <td>9.8</td>\n      <td>5</td>\n      <td>9.310345</td>\n    </tr>\n    <tr>\n      <th>4</th>\n      <td>8.5</td>\n      <td>0.36</td>\n      <td>0.30</td>\n      <td>2.30</td>\n      <td>0.079</td>\n      <td>10.0</td>\n      <td>45.0</td>\n      <td>0.99444</td>\n      <td>3.20</td>\n      <td>1.36</td>\n      <td>9.5</td>\n      <td>6</td>\n      <td>23.611111</td>\n    </tr>\n    <tr>\n      <th>...</th>\n      <td>...</td>\n      <td>...</td>\n      <td>...</td>\n      <td>...</td>\n      <td>...</td>\n      <td>...</td>\n      <td>...</td>\n      <td>...</td>\n      <td>...</td>\n      <td>...</td>\n      <td>...</td>\n      <td>...</td>\n      <td>...</td>\n    </tr>\n    <tr>\n      <th>2051</th>\n      <td>6.6</td>\n      <td>0.31</td>\n      <td>0.13</td>\n      <td>2.00</td>\n      <td>0.056</td>\n      <td>29.0</td>\n      <td>42.0</td>\n      <td>0.99388</td>\n      <td>3.52</td>\n      <td>0.87</td>\n      <td>12.0</td>\n      <td>7</td>\n      <td>21.290323</td>\n    </tr>\n    <tr>\n      <th>2052</th>\n      <td>9.7</td>\n      <td>0.59</td>\n      <td>0.21</td>\n      <td>1.80</td>\n      <td>0.079</td>\n      <td>27.0</td>\n      <td>65.0</td>\n      <td>0.99745</td>\n      <td>3.14</td>\n      <td>0.58</td>\n      <td>9.4</td>\n      <td>5</td>\n      <td>16.440678</td>\n    </tr>\n    <tr>\n      <th>2053</th>\n      <td>7.7</td>\n      <td>0.43</td>\n      <td>0.42</td>\n      <td>1.70</td>\n      <td>0.071</td>\n      <td>19.0</td>\n      <td>37.0</td>\n      <td>0.99258</td>\n      <td>3.32</td>\n      <td>0.77</td>\n      <td>12.5</td>\n      <td>8</td>\n      <td>17.906977</td>\n    </tr>\n    <tr>\n      <th>2054</th>\n      <td>9.1</td>\n      <td>0.50</td>\n      <td>0.00</td>\n      <td>1.75</td>\n      <td>0.058</td>\n      <td>5.0</td>\n      <td>13.0</td>\n      <td>0.99670</td>\n      <td>3.22</td>\n      <td>0.42</td>\n      <td>9.5</td>\n      <td>5</td>\n      <td>18.200000</td>\n    </tr>\n    <tr>\n      <th>2055</th>\n      <td>6.2</td>\n      <td>0.31</td>\n      <td>0.18</td>\n      <td>2.30</td>\n      <td>0.059</td>\n      <td>12.0</td>\n      <td>28.0</td>\n      <td>0.99520</td>\n      <td>3.56</td>\n      <td>0.88</td>\n      <td>11.4</td>\n      <td>7</td>\n      <td>20.000000</td>\n    </tr>\n  </tbody>\n</table>\n<p>2056 rows × 13 columns</p>\n</div>"
          },
          "metadata": {}
        }
      ]
    },
    {
      "cell_type": "code",
      "source": [
        "X=df_train.drop(['quality'],axis=1)\n",
        "y=df_train['quality']"
      ],
      "metadata": {
        "execution": {
          "iopub.status.busy": "2023-02-08T13:48:22.057537Z",
          "iopub.execute_input": "2023-02-08T13:48:22.057944Z",
          "iopub.status.idle": "2023-02-08T13:48:22.064932Z",
          "shell.execute_reply.started": "2023-02-08T13:48:22.057911Z",
          "shell.execute_reply": "2023-02-08T13:48:22.063584Z"
        },
        "trusted": true,
        "id": "f1R9wpBPAkAt"
      },
      "execution_count": null,
      "outputs": []
    },
    {
      "cell_type": "code",
      "source": [
        "X_train, X_test, y_train, y_test = train_test_split(X, y, test_size = 0.25, random_state = 42)"
      ],
      "metadata": {
        "execution": {
          "iopub.status.busy": "2023-02-08T13:48:22.228091Z",
          "iopub.execute_input": "2023-02-08T13:48:22.228517Z",
          "iopub.status.idle": "2023-02-08T13:48:22.236664Z",
          "shell.execute_reply.started": "2023-02-08T13:48:22.228482Z",
          "shell.execute_reply": "2023-02-08T13:48:22.235188Z"
        },
        "trusted": true,
        "id": "mul345SEAkAt"
      },
      "execution_count": null,
      "outputs": []
    },
    {
      "cell_type": "code",
      "source": [
        "test_df=df_test"
      ],
      "metadata": {
        "execution": {
          "iopub.status.busy": "2023-02-08T13:48:22.395721Z",
          "iopub.execute_input": "2023-02-08T13:48:22.396156Z",
          "iopub.status.idle": "2023-02-08T13:48:22.401459Z",
          "shell.execute_reply.started": "2023-02-08T13:48:22.396117Z",
          "shell.execute_reply": "2023-02-08T13:48:22.400230Z"
        },
        "trusted": true,
        "id": "QaudnTxRAkAu"
      },
      "execution_count": null,
      "outputs": []
    },
    {
      "cell_type": "markdown",
      "source": [
        "# MinMaxScaler\n",
        "* MinMaxScaler subtracts the minimum value in the feature and then divides by the range. The range is the difference between the original maximum and original minimum.\n",
        "\n",
        "* MinMaxScaler preserves the shape of the original distribution. It doesn’t meaningfully change the information embedded in the original data.\n",
        "\n",
        "* Note that MinMaxScaler doesn’t reduce the importance of outliers."
      ],
      "metadata": {
        "id": "l0sN8TzLAkAu"
      }
    },
    {
      "cell_type": "code",
      "source": [
        "transf=MinMaxScaler()\n",
        "new_scaled=pd.DataFrame(transf.fit_transform(X_train),columns=X_train.columns)\n",
        "new_scaled"
      ],
      "metadata": {
        "execution": {
          "iopub.status.busy": "2023-02-08T13:48:22.560000Z",
          "iopub.execute_input": "2023-02-08T13:48:22.560397Z",
          "iopub.status.idle": "2023-02-08T13:48:22.585533Z",
          "shell.execute_reply.started": "2023-02-08T13:48:22.560367Z",
          "shell.execute_reply": "2023-02-08T13:48:22.584484Z"
        },
        "trusted": true,
        "id": "x0k9WBJnAkAu",
        "outputId": "5407b90d-eae4-4987-c911-a9639163f3ec"
      },
      "execution_count": null,
      "outputs": [
        {
          "execution_count": 70,
          "output_type": "execute_result",
          "data": {
            "text/plain": "      fixed acidity  volatile acidity  citric acid  residual sugar  chlorides  \\\n0          0.174312          0.271429     0.013158        0.117188   0.115789   \n1          0.532110          0.071429     0.631579        0.070312   0.155263   \n2          0.458716          0.000000     0.644737        0.046875   0.097368   \n3          0.449541          0.150000     0.407895        0.218750   0.118421   \n4          0.348624          0.228571     0.750000        0.117188   0.450000   \n...             ...               ...          ...             ...        ...   \n1537       0.155963          0.364286     0.105263        0.070312   0.231579   \n1538       0.385321          0.471429     0.342105        0.078125   0.184211   \n1539       0.293578          0.178571     0.289474        0.085938   0.126316   \n1540       0.128440          0.178571     0.315789        0.039062   0.094737   \n1541       0.458716          0.235714     0.776316        0.195312   0.100000   \n\n      free sulfur dioxide  total sulfur dioxide   density        pH  \\\n0                0.373134              0.085106  0.606130  0.766667   \n1                0.074627              0.042553  0.263602  0.488889   \n2                0.074627              0.039007  0.671264  0.377778   \n3                0.044776              0.028369  0.609962  0.577778   \n4                0.164179              0.262411  0.449042  0.455556   \n...                   ...                   ...       ...       ...   \n1537             0.194030              0.049645  0.373946  0.588889   \n1538             0.761194              0.322695  0.563985  0.377778   \n1539             0.522388              0.294326  0.579310  0.566667   \n1540             0.074627              0.028369  0.380077  0.566667   \n1541             0.074627              0.028369  0.389272  0.333333   \n\n      sulphates   alcohol  volatile_new_acidity  \n0      0.096154  0.377358              0.129651  \n1      0.121795  0.773585              0.567973  \n2      0.217949  0.094340              0.851574  \n3      0.141026  0.415094              0.347780  \n4      0.346154  0.566038              0.217792  \n...         ...       ...                   ...  \n1537   0.211538  0.150943              0.086048  \n1538   0.147436  0.132075              0.106791  \n1539   0.083333  0.245283              0.242335  \n1540   0.160256  0.415094              0.172436  \n1541   0.147436  0.584906              0.251319  \n\n[1542 rows x 12 columns]",
            "text/html": "<div>\n<style scoped>\n    .dataframe tbody tr th:only-of-type {\n        vertical-align: middle;\n    }\n\n    .dataframe tbody tr th {\n        vertical-align: top;\n    }\n\n    .dataframe thead th {\n        text-align: right;\n    }\n</style>\n<table border=\"1\" class=\"dataframe\">\n  <thead>\n    <tr style=\"text-align: right;\">\n      <th></th>\n      <th>fixed acidity</th>\n      <th>volatile acidity</th>\n      <th>citric acid</th>\n      <th>residual sugar</th>\n      <th>chlorides</th>\n      <th>free sulfur dioxide</th>\n      <th>total sulfur dioxide</th>\n      <th>density</th>\n      <th>pH</th>\n      <th>sulphates</th>\n      <th>alcohol</th>\n      <th>volatile_new_acidity</th>\n    </tr>\n  </thead>\n  <tbody>\n    <tr>\n      <th>0</th>\n      <td>0.174312</td>\n      <td>0.271429</td>\n      <td>0.013158</td>\n      <td>0.117188</td>\n      <td>0.115789</td>\n      <td>0.373134</td>\n      <td>0.085106</td>\n      <td>0.606130</td>\n      <td>0.766667</td>\n      <td>0.096154</td>\n      <td>0.377358</td>\n      <td>0.129651</td>\n    </tr>\n    <tr>\n      <th>1</th>\n      <td>0.532110</td>\n      <td>0.071429</td>\n      <td>0.631579</td>\n      <td>0.070312</td>\n      <td>0.155263</td>\n      <td>0.074627</td>\n      <td>0.042553</td>\n      <td>0.263602</td>\n      <td>0.488889</td>\n      <td>0.121795</td>\n      <td>0.773585</td>\n      <td>0.567973</td>\n    </tr>\n    <tr>\n      <th>2</th>\n      <td>0.458716</td>\n      <td>0.000000</td>\n      <td>0.644737</td>\n      <td>0.046875</td>\n      <td>0.097368</td>\n      <td>0.074627</td>\n      <td>0.039007</td>\n      <td>0.671264</td>\n      <td>0.377778</td>\n      <td>0.217949</td>\n      <td>0.094340</td>\n      <td>0.851574</td>\n    </tr>\n    <tr>\n      <th>3</th>\n      <td>0.449541</td>\n      <td>0.150000</td>\n      <td>0.407895</td>\n      <td>0.218750</td>\n      <td>0.118421</td>\n      <td>0.044776</td>\n      <td>0.028369</td>\n      <td>0.609962</td>\n      <td>0.577778</td>\n      <td>0.141026</td>\n      <td>0.415094</td>\n      <td>0.347780</td>\n    </tr>\n    <tr>\n      <th>4</th>\n      <td>0.348624</td>\n      <td>0.228571</td>\n      <td>0.750000</td>\n      <td>0.117188</td>\n      <td>0.450000</td>\n      <td>0.164179</td>\n      <td>0.262411</td>\n      <td>0.449042</td>\n      <td>0.455556</td>\n      <td>0.346154</td>\n      <td>0.566038</td>\n      <td>0.217792</td>\n    </tr>\n    <tr>\n      <th>...</th>\n      <td>...</td>\n      <td>...</td>\n      <td>...</td>\n      <td>...</td>\n      <td>...</td>\n      <td>...</td>\n      <td>...</td>\n      <td>...</td>\n      <td>...</td>\n      <td>...</td>\n      <td>...</td>\n      <td>...</td>\n    </tr>\n    <tr>\n      <th>1537</th>\n      <td>0.155963</td>\n      <td>0.364286</td>\n      <td>0.105263</td>\n      <td>0.070312</td>\n      <td>0.231579</td>\n      <td>0.194030</td>\n      <td>0.049645</td>\n      <td>0.373946</td>\n      <td>0.588889</td>\n      <td>0.211538</td>\n      <td>0.150943</td>\n      <td>0.086048</td>\n    </tr>\n    <tr>\n      <th>1538</th>\n      <td>0.385321</td>\n      <td>0.471429</td>\n      <td>0.342105</td>\n      <td>0.078125</td>\n      <td>0.184211</td>\n      <td>0.761194</td>\n      <td>0.322695</td>\n      <td>0.563985</td>\n      <td>0.377778</td>\n      <td>0.147436</td>\n      <td>0.132075</td>\n      <td>0.106791</td>\n    </tr>\n    <tr>\n      <th>1539</th>\n      <td>0.293578</td>\n      <td>0.178571</td>\n      <td>0.289474</td>\n      <td>0.085938</td>\n      <td>0.126316</td>\n      <td>0.522388</td>\n      <td>0.294326</td>\n      <td>0.579310</td>\n      <td>0.566667</td>\n      <td>0.083333</td>\n      <td>0.245283</td>\n      <td>0.242335</td>\n    </tr>\n    <tr>\n      <th>1540</th>\n      <td>0.128440</td>\n      <td>0.178571</td>\n      <td>0.315789</td>\n      <td>0.039062</td>\n      <td>0.094737</td>\n      <td>0.074627</td>\n      <td>0.028369</td>\n      <td>0.380077</td>\n      <td>0.566667</td>\n      <td>0.160256</td>\n      <td>0.415094</td>\n      <td>0.172436</td>\n    </tr>\n    <tr>\n      <th>1541</th>\n      <td>0.458716</td>\n      <td>0.235714</td>\n      <td>0.776316</td>\n      <td>0.195312</td>\n      <td>0.100000</td>\n      <td>0.074627</td>\n      <td>0.028369</td>\n      <td>0.389272</td>\n      <td>0.333333</td>\n      <td>0.147436</td>\n      <td>0.584906</td>\n      <td>0.251319</td>\n    </tr>\n  </tbody>\n</table>\n<p>1542 rows × 12 columns</p>\n</div>"
          },
          "metadata": {}
        }
      ]
    },
    {
      "cell_type": "code",
      "source": [
        "new_scaled_xtest=pd.DataFrame(transf.fit_transform(X_test),columns=X_test.columns)\n",
        "new_scaled_xtest"
      ],
      "metadata": {
        "execution": {
          "iopub.status.busy": "2023-02-08T13:48:22.735224Z",
          "iopub.execute_input": "2023-02-08T13:48:22.735986Z",
          "iopub.status.idle": "2023-02-08T13:48:22.763184Z",
          "shell.execute_reply.started": "2023-02-08T13:48:22.735943Z",
          "shell.execute_reply": "2023-02-08T13:48:22.762045Z"
        },
        "trusted": true,
        "id": "NgbA10W6AkAu",
        "outputId": "b4613b86-93d1-46e8-ba73-afd78831c75e"
      },
      "execution_count": null,
      "outputs": [
        {
          "execution_count": 71,
          "output_type": "execute_result",
          "data": {
            "text/plain": "     fixed acidity  volatile acidity  citric acid  residual sugar  chlorides  \\\n0             0.16          0.391304     0.136986        0.086957   0.292079   \n1             0.30          0.191304     0.369863        0.202899   0.227723   \n2             0.29          0.113043     0.369863        0.086957   0.227723   \n3             0.30          0.252174     0.410959        0.043478   0.272277   \n4             0.22          0.456522     0.178082        0.782609   0.316832   \n..             ...               ...          ...             ...        ...   \n509           0.41          0.269565     0.383562        0.304348   0.346535   \n510           0.22          0.391304     0.369863        0.057971   0.341584   \n511           0.34          0.486957     0.095890        0.043478   0.227723   \n512           0.18          0.365217     0.109589        0.072464   0.257426   \n513           0.16          0.330435     0.397260        0.086957   0.777228   \n\n     free sulfur dioxide  total sulfur dioxide   density        pH  sulphates  \\\n0               0.875000              0.568345  0.394516  0.692308   0.371795   \n1               0.145833              0.093525  0.373953  0.461538   0.371795   \n2               0.270833              0.201439  0.296268  0.413462   0.012821   \n3               0.354167              0.733813  0.680122  0.442308   1.000000   \n4               0.166667              0.122302  0.404417  0.740385   0.692308   \n..                   ...                   ...       ...       ...        ...   \n509             0.270833              0.690647  0.573496  0.519231   0.269231   \n510             0.791667              0.431655  0.451637  0.759615   0.230769   \n511             0.229167              0.280576  0.366337  0.413462   0.076923   \n512             0.500000              0.381295  0.360244  0.682692   0.179487   \n513             0.354167              0.294964  0.431074  0.480769   0.615385   \n\n     alcohol  volatile_new_acidity  \n0       0.24              0.092413  \n1       0.64              0.254241  \n2       0.48              0.347423  \n3       0.08              0.203626  \n4       0.48              0.087936  \n..       ...                   ...  \n509     0.06              0.229967  \n510     0.18              0.108595  \n511     0.40              0.107283  \n512     0.10              0.106977  \n513     0.34              0.114664  \n\n[514 rows x 12 columns]",
            "text/html": "<div>\n<style scoped>\n    .dataframe tbody tr th:only-of-type {\n        vertical-align: middle;\n    }\n\n    .dataframe tbody tr th {\n        vertical-align: top;\n    }\n\n    .dataframe thead th {\n        text-align: right;\n    }\n</style>\n<table border=\"1\" class=\"dataframe\">\n  <thead>\n    <tr style=\"text-align: right;\">\n      <th></th>\n      <th>fixed acidity</th>\n      <th>volatile acidity</th>\n      <th>citric acid</th>\n      <th>residual sugar</th>\n      <th>chlorides</th>\n      <th>free sulfur dioxide</th>\n      <th>total sulfur dioxide</th>\n      <th>density</th>\n      <th>pH</th>\n      <th>sulphates</th>\n      <th>alcohol</th>\n      <th>volatile_new_acidity</th>\n    </tr>\n  </thead>\n  <tbody>\n    <tr>\n      <th>0</th>\n      <td>0.16</td>\n      <td>0.391304</td>\n      <td>0.136986</td>\n      <td>0.086957</td>\n      <td>0.292079</td>\n      <td>0.875000</td>\n      <td>0.568345</td>\n      <td>0.394516</td>\n      <td>0.692308</td>\n      <td>0.371795</td>\n      <td>0.24</td>\n      <td>0.092413</td>\n    </tr>\n    <tr>\n      <th>1</th>\n      <td>0.30</td>\n      <td>0.191304</td>\n      <td>0.369863</td>\n      <td>0.202899</td>\n      <td>0.227723</td>\n      <td>0.145833</td>\n      <td>0.093525</td>\n      <td>0.373953</td>\n      <td>0.461538</td>\n      <td>0.371795</td>\n      <td>0.64</td>\n      <td>0.254241</td>\n    </tr>\n    <tr>\n      <th>2</th>\n      <td>0.29</td>\n      <td>0.113043</td>\n      <td>0.369863</td>\n      <td>0.086957</td>\n      <td>0.227723</td>\n      <td>0.270833</td>\n      <td>0.201439</td>\n      <td>0.296268</td>\n      <td>0.413462</td>\n      <td>0.012821</td>\n      <td>0.48</td>\n      <td>0.347423</td>\n    </tr>\n    <tr>\n      <th>3</th>\n      <td>0.30</td>\n      <td>0.252174</td>\n      <td>0.410959</td>\n      <td>0.043478</td>\n      <td>0.272277</td>\n      <td>0.354167</td>\n      <td>0.733813</td>\n      <td>0.680122</td>\n      <td>0.442308</td>\n      <td>1.000000</td>\n      <td>0.08</td>\n      <td>0.203626</td>\n    </tr>\n    <tr>\n      <th>4</th>\n      <td>0.22</td>\n      <td>0.456522</td>\n      <td>0.178082</td>\n      <td>0.782609</td>\n      <td>0.316832</td>\n      <td>0.166667</td>\n      <td>0.122302</td>\n      <td>0.404417</td>\n      <td>0.740385</td>\n      <td>0.692308</td>\n      <td>0.48</td>\n      <td>0.087936</td>\n    </tr>\n    <tr>\n      <th>...</th>\n      <td>...</td>\n      <td>...</td>\n      <td>...</td>\n      <td>...</td>\n      <td>...</td>\n      <td>...</td>\n      <td>...</td>\n      <td>...</td>\n      <td>...</td>\n      <td>...</td>\n      <td>...</td>\n      <td>...</td>\n    </tr>\n    <tr>\n      <th>509</th>\n      <td>0.41</td>\n      <td>0.269565</td>\n      <td>0.383562</td>\n      <td>0.304348</td>\n      <td>0.346535</td>\n      <td>0.270833</td>\n      <td>0.690647</td>\n      <td>0.573496</td>\n      <td>0.519231</td>\n      <td>0.269231</td>\n      <td>0.06</td>\n      <td>0.229967</td>\n    </tr>\n    <tr>\n      <th>510</th>\n      <td>0.22</td>\n      <td>0.391304</td>\n      <td>0.369863</td>\n      <td>0.057971</td>\n      <td>0.341584</td>\n      <td>0.791667</td>\n      <td>0.431655</td>\n      <td>0.451637</td>\n      <td>0.759615</td>\n      <td>0.230769</td>\n      <td>0.18</td>\n      <td>0.108595</td>\n    </tr>\n    <tr>\n      <th>511</th>\n      <td>0.34</td>\n      <td>0.486957</td>\n      <td>0.095890</td>\n      <td>0.043478</td>\n      <td>0.227723</td>\n      <td>0.229167</td>\n      <td>0.280576</td>\n      <td>0.366337</td>\n      <td>0.413462</td>\n      <td>0.076923</td>\n      <td>0.40</td>\n      <td>0.107283</td>\n    </tr>\n    <tr>\n      <th>512</th>\n      <td>0.18</td>\n      <td>0.365217</td>\n      <td>0.109589</td>\n      <td>0.072464</td>\n      <td>0.257426</td>\n      <td>0.500000</td>\n      <td>0.381295</td>\n      <td>0.360244</td>\n      <td>0.682692</td>\n      <td>0.179487</td>\n      <td>0.10</td>\n      <td>0.106977</td>\n    </tr>\n    <tr>\n      <th>513</th>\n      <td>0.16</td>\n      <td>0.330435</td>\n      <td>0.397260</td>\n      <td>0.086957</td>\n      <td>0.777228</td>\n      <td>0.354167</td>\n      <td>0.294964</td>\n      <td>0.431074</td>\n      <td>0.480769</td>\n      <td>0.615385</td>\n      <td>0.34</td>\n      <td>0.114664</td>\n    </tr>\n  </tbody>\n</table>\n<p>514 rows × 12 columns</p>\n</div>"
          },
          "metadata": {}
        }
      ]
    },
    {
      "cell_type": "markdown",
      "source": [
        "# Logistic Regression\n",
        "The logistic function, which is at the core of the technique, gave rise to the name logistic regression. It was first used by statisticians to characterise the characteristics of population expansion. Some variants of the logistic function include the sigmoid function and the logit function. The inverse of the typical logistic function is the logistic function."
      ],
      "metadata": {
        "id": "dCf-9QxFAkAv"
      }
    },
    {
      "cell_type": "code",
      "source": [
        "lg=LogisticRegression()\n",
        "lg.fit(new_scaled,y_train)"
      ],
      "metadata": {
        "execution": {
          "iopub.status.busy": "2023-02-08T13:48:22.904647Z",
          "iopub.execute_input": "2023-02-08T13:48:22.905056Z",
          "iopub.status.idle": "2023-02-08T13:48:23.016550Z",
          "shell.execute_reply.started": "2023-02-08T13:48:22.905025Z",
          "shell.execute_reply": "2023-02-08T13:48:23.015356Z"
        },
        "trusted": true,
        "id": "oZUDztTAAkAv",
        "outputId": "241a7383-2311-4d94-baff-08188b23159e"
      },
      "execution_count": null,
      "outputs": [
        {
          "name": "stderr",
          "text": "/opt/conda/lib/python3.7/site-packages/sklearn/linear_model/_logistic.py:818: ConvergenceWarning: lbfgs failed to converge (status=1):\nSTOP: TOTAL NO. of ITERATIONS REACHED LIMIT.\n\nIncrease the number of iterations (max_iter) or scale the data as shown in:\n    https://scikit-learn.org/stable/modules/preprocessing.html\nPlease also refer to the documentation for alternative solver options:\n    https://scikit-learn.org/stable/modules/linear_model.html#logistic-regression\n  extra_warning_msg=_LOGISTIC_SOLVER_CONVERGENCE_MSG,\n",
          "output_type": "stream"
        },
        {
          "execution_count": 72,
          "output_type": "execute_result",
          "data": {
            "text/plain": "LogisticRegression()"
          },
          "metadata": {}
        }
      ]
    },
    {
      "cell_type": "code",
      "source": [
        "y_pred=lg.predict(new_scaled_xtest)"
      ],
      "metadata": {
        "execution": {
          "iopub.status.busy": "2023-02-08T13:48:23.055158Z",
          "iopub.execute_input": "2023-02-08T13:48:23.055618Z",
          "iopub.status.idle": "2023-02-08T13:48:23.063595Z",
          "shell.execute_reply.started": "2023-02-08T13:48:23.055578Z",
          "shell.execute_reply": "2023-02-08T13:48:23.062351Z"
        },
        "trusted": true,
        "id": "0ymnj6tzAkAv"
      },
      "execution_count": null,
      "outputs": []
    },
    {
      "cell_type": "code",
      "source": [
        "lg.score(new_scaled, y_train)"
      ],
      "metadata": {
        "execution": {
          "iopub.status.busy": "2023-02-08T13:48:23.220711Z",
          "iopub.execute_input": "2023-02-08T13:48:23.221299Z",
          "iopub.status.idle": "2023-02-08T13:48:23.230273Z",
          "shell.execute_reply.started": "2023-02-08T13:48:23.221265Z",
          "shell.execute_reply": "2023-02-08T13:48:23.229107Z"
        },
        "trusted": true,
        "id": "giZUx0y0AkAv",
        "outputId": "0c63bef4-2712-4220-cb24-60903ee5ae3b"
      },
      "execution_count": null,
      "outputs": [
        {
          "execution_count": 74,
          "output_type": "execute_result",
          "data": {
            "text/plain": "0.5830090791180286"
          },
          "metadata": {}
        }
      ]
    },
    {
      "cell_type": "code",
      "source": [
        "lg.score(new_scaled_xtest, y_test)"
      ],
      "metadata": {
        "execution": {
          "iopub.status.busy": "2023-02-08T13:48:23.390731Z",
          "iopub.execute_input": "2023-02-08T13:48:23.391163Z",
          "iopub.status.idle": "2023-02-08T13:48:23.400373Z",
          "shell.execute_reply.started": "2023-02-08T13:48:23.391128Z",
          "shell.execute_reply": "2023-02-08T13:48:23.399324Z"
        },
        "trusted": true,
        "id": "HQlBfGzYAkAv",
        "outputId": "483d5649-997b-4ca6-b9dd-c5b6a9938c34"
      },
      "execution_count": null,
      "outputs": [
        {
          "execution_count": 75,
          "output_type": "execute_result",
          "data": {
            "text/plain": "0.5214007782101168"
          },
          "metadata": {}
        }
      ]
    },
    {
      "cell_type": "code",
      "source": [
        "metrics.accuracy_score(y_test,y_pred)"
      ],
      "metadata": {
        "execution": {
          "iopub.status.busy": "2023-02-08T13:48:23.555133Z",
          "iopub.execute_input": "2023-02-08T13:48:23.555604Z",
          "iopub.status.idle": "2023-02-08T13:48:23.565498Z",
          "shell.execute_reply.started": "2023-02-08T13:48:23.555565Z",
          "shell.execute_reply": "2023-02-08T13:48:23.564210Z"
        },
        "trusted": true,
        "id": "oZjXOmJbAkAw",
        "outputId": "d7999587-e891-44d6-e5e6-10e38951aa6c"
      },
      "execution_count": null,
      "outputs": [
        {
          "execution_count": 76,
          "output_type": "execute_result",
          "data": {
            "text/plain": "0.5214007782101168"
          },
          "metadata": {}
        }
      ]
    },
    {
      "cell_type": "markdown",
      "source": [
        "# GridSearchCV\n",
        "GridSearchCV is a technique to search through the best parameter values from the given set of the grid of parameters. It is basically a cross-validation method. the model and the parameters are required to be fed in. Best parameter values are extracted and then the predictions are made."
      ],
      "metadata": {
        "id": "x69PT2hrAkAw"
      }
    },
    {
      "cell_type": "code",
      "source": [
        "from sklearn.pipeline import Pipeline\n",
        "pipe = Pipeline([('classifier' , LogisticRegression())])\n",
        "param_grid = [\n",
        "    {'classifier' : [LogisticRegression()],\n",
        "     'classifier__penalty' : ['l1', 'l2'],\n",
        "    'classifier__C' : np.logspace(-4, 4, 20),\n",
        "    'classifier__solver' : ['liblinear']}\n",
        "]"
      ],
      "metadata": {
        "execution": {
          "iopub.status.busy": "2023-02-08T13:48:23.740917Z",
          "iopub.execute_input": "2023-02-08T13:48:23.741543Z",
          "iopub.status.idle": "2023-02-08T13:48:23.749046Z",
          "shell.execute_reply.started": "2023-02-08T13:48:23.741499Z",
          "shell.execute_reply": "2023-02-08T13:48:23.747812Z"
        },
        "trusted": true,
        "id": "YBsLS_2EAkAw"
      },
      "execution_count": null,
      "outputs": []
    },
    {
      "cell_type": "code",
      "source": [
        "clf = GridSearchCV(pipe, param_grid = param_grid, cv = 5, verbose=True, n_jobs=-1)\n",
        "\n",
        "# Fit on data\n",
        "\n",
        "best_clf = clf.fit(new_scaled, y_train)\n",
        "best_clf.best_estimator_"
      ],
      "metadata": {
        "execution": {
          "iopub.status.busy": "2023-02-08T13:48:23.940580Z",
          "iopub.execute_input": "2023-02-08T13:48:23.941467Z",
          "iopub.status.idle": "2023-02-08T13:48:32.301855Z",
          "shell.execute_reply.started": "2023-02-08T13:48:23.941430Z",
          "shell.execute_reply": "2023-02-08T13:48:32.300246Z"
        },
        "trusted": true,
        "id": "oxsWsCg2AkAx",
        "outputId": "a7593f12-2a3e-4441-ce26-de2f0a2046ba"
      },
      "execution_count": null,
      "outputs": [
        {
          "name": "stdout",
          "text": "Fitting 5 folds for each of 40 candidates, totalling 200 fits\n",
          "output_type": "stream"
        },
        {
          "execution_count": 78,
          "output_type": "execute_result",
          "data": {
            "text/plain": "Pipeline(steps=[('classifier',\n                 LogisticRegression(C=78.47599703514607, solver='liblinear'))])"
          },
          "metadata": {}
        }
      ]
    },
    {
      "cell_type": "markdown",
      "source": [
        "**Accuracy**"
      ],
      "metadata": {
        "id": "dch97PWNAkAx"
      }
    },
    {
      "cell_type": "code",
      "source": [
        "lg1=LogisticRegression(C=78.47599703514607, solver='liblinear')\n",
        "lg1.fit(new_scaled,y_train)\n",
        "y_pred_new=lg1.predict(new_scaled_xtest)\n",
        "metrics.accuracy_score(y_test,y_pred_new)"
      ],
      "metadata": {
        "execution": {
          "iopub.status.busy": "2023-02-08T13:48:32.304605Z",
          "iopub.execute_input": "2023-02-08T13:48:32.305132Z",
          "iopub.status.idle": "2023-02-08T13:48:32.351886Z",
          "shell.execute_reply.started": "2023-02-08T13:48:32.305076Z",
          "shell.execute_reply": "2023-02-08T13:48:32.350729Z"
        },
        "trusted": true,
        "id": "374qnTXzAkAx",
        "outputId": "bea56afd-f6b6-4df3-8580-3cfbdeadb1a6"
      },
      "execution_count": null,
      "outputs": [
        {
          "execution_count": 79,
          "output_type": "execute_result",
          "data": {
            "text/plain": "0.48249027237354086"
          },
          "metadata": {}
        }
      ]
    },
    {
      "cell_type": "code",
      "source": [
        "trans=MinMaxScaler()\n",
        "new_scaled_test=pd.DataFrame(trans.fit_transform(test_df),columns=test_df.columns)\n",
        "new_scaled_test=new_scaled_test.drop(['Id'],axis=1)\n",
        "\n",
        "y_pred1=lg.predict(new_scaled_test)"
      ],
      "metadata": {
        "execution": {
          "iopub.status.busy": "2023-02-08T13:48:32.353613Z",
          "iopub.execute_input": "2023-02-08T13:48:32.353995Z",
          "iopub.status.idle": "2023-02-08T13:48:32.367707Z",
          "shell.execute_reply.started": "2023-02-08T13:48:32.353963Z",
          "shell.execute_reply": "2023-02-08T13:48:32.366554Z"
        },
        "trusted": true,
        "id": "Y3cVzYbIAkAx"
      },
      "execution_count": null,
      "outputs": []
    },
    {
      "cell_type": "code",
      "source": [
        "submission['quality']=y_pred1\n",
        "submission"
      ],
      "metadata": {
        "execution": {
          "iopub.status.busy": "2023-02-08T13:48:32.369600Z",
          "iopub.execute_input": "2023-02-08T13:48:32.369938Z",
          "iopub.status.idle": "2023-02-08T13:48:32.383519Z",
          "shell.execute_reply.started": "2023-02-08T13:48:32.369909Z",
          "shell.execute_reply": "2023-02-08T13:48:32.382463Z"
        },
        "trusted": true,
        "id": "nbfwIkyMAkAy",
        "outputId": "11f89c85-dbdb-4be7-dd5f-c14e64952ab3"
      },
      "execution_count": null,
      "outputs": [
        {
          "execution_count": 81,
          "output_type": "execute_result",
          "data": {
            "text/plain": "        Id  quality\n0     2056        5\n1     2057        5\n2     2058        5\n3     2059        6\n4     2060        6\n...    ...      ...\n1367  3423        5\n1368  3424        6\n1369  3425        5\n1370  3426        5\n1371  3427        5\n\n[1372 rows x 2 columns]",
            "text/html": "<div>\n<style scoped>\n    .dataframe tbody tr th:only-of-type {\n        vertical-align: middle;\n    }\n\n    .dataframe tbody tr th {\n        vertical-align: top;\n    }\n\n    .dataframe thead th {\n        text-align: right;\n    }\n</style>\n<table border=\"1\" class=\"dataframe\">\n  <thead>\n    <tr style=\"text-align: right;\">\n      <th></th>\n      <th>Id</th>\n      <th>quality</th>\n    </tr>\n  </thead>\n  <tbody>\n    <tr>\n      <th>0</th>\n      <td>2056</td>\n      <td>5</td>\n    </tr>\n    <tr>\n      <th>1</th>\n      <td>2057</td>\n      <td>5</td>\n    </tr>\n    <tr>\n      <th>2</th>\n      <td>2058</td>\n      <td>5</td>\n    </tr>\n    <tr>\n      <th>3</th>\n      <td>2059</td>\n      <td>6</td>\n    </tr>\n    <tr>\n      <th>4</th>\n      <td>2060</td>\n      <td>6</td>\n    </tr>\n    <tr>\n      <th>...</th>\n      <td>...</td>\n      <td>...</td>\n    </tr>\n    <tr>\n      <th>1367</th>\n      <td>3423</td>\n      <td>5</td>\n    </tr>\n    <tr>\n      <th>1368</th>\n      <td>3424</td>\n      <td>6</td>\n    </tr>\n    <tr>\n      <th>1369</th>\n      <td>3425</td>\n      <td>5</td>\n    </tr>\n    <tr>\n      <th>1370</th>\n      <td>3426</td>\n      <td>5</td>\n    </tr>\n    <tr>\n      <th>1371</th>\n      <td>3427</td>\n      <td>5</td>\n    </tr>\n  </tbody>\n</table>\n<p>1372 rows × 2 columns</p>\n</div>"
          },
          "metadata": {}
        }
      ]
    },
    {
      "cell_type": "markdown",
      "source": [
        "Conclusion"
      ],
      "metadata": {
        "id": "CvAXXqaaCeSn"
      }
    },
    {
      "cell_type": "markdown",
      "source": [
        "Logistic is much better than GridSearchCV"
      ],
      "metadata": {
        "id": "Yz_gDJ4uChE7"
      }
    },
    {
      "cell_type": "code",
      "source": [
        "submission.to_csv(\"submission.csv\",index=False)"
      ],
      "metadata": {
        "execution": {
          "iopub.status.busy": "2023-02-08T13:48:32.385001Z",
          "iopub.execute_input": "2023-02-08T13:48:32.385458Z",
          "iopub.status.idle": "2023-02-08T13:48:32.398094Z",
          "shell.execute_reply.started": "2023-02-08T13:48:32.385416Z",
          "shell.execute_reply": "2023-02-08T13:48:32.396712Z"
        },
        "trusted": true,
        "id": "MiWTfEMSAkAy"
      },
      "execution_count": null,
      "outputs": []
    }
  ]
}