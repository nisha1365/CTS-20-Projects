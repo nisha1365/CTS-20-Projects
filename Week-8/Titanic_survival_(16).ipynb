{
  "cells": [
    {
      "cell_type": "code",
      "execution_count": null,
      "id": "22968573",
      "metadata": {
        "_cell_guid": "b1076dfc-b9ad-4769-8c92-a6c4dae69d19",
        "_uuid": "8f2839f25d086af736a60e9eeb907d3b93b6e0e5",
        "execution": {
          "iopub.execute_input": "2023-04-21T05:21:38.420237Z",
          "iopub.status.busy": "2023-04-21T05:21:38.419440Z",
          "iopub.status.idle": "2023-04-21T05:21:38.434796Z",
          "shell.execute_reply": "2023-04-21T05:21:38.433388Z"
        },
        "papermill": {
          "duration": 0.02878,
          "end_time": "2023-04-21T05:21:38.437486",
          "exception": false,
          "start_time": "2023-04-21T05:21:38.408706",
          "status": "completed"
        },
        "tags": [],
        "id": "22968573",
        "outputId": "6461549b-253f-468a-bb07-5abb7ccf2d12"
      },
      "outputs": [
        {
          "name": "stdout",
          "output_type": "stream",
          "text": [
            "/kaggle/input/titanic/train.csv\n",
            "/kaggle/input/titanic/test.csv\n",
            "/kaggle/input/titanic/gender_submission.csv\n"
          ]
        }
      ],
      "source": [
        "import numpy as np\n",
        "import pandas as pd\n",
        "import os\n",
        "for dirname, _, filenames in os.walk('/kaggle/input'):\n",
        "    for filename in filenames:\n",
        "        print(os.path.join(dirname, filename))"
      ]
    },
    {
      "cell_type": "code",
      "execution_count": null,
      "id": "a61714b4",
      "metadata": {
        "execution": {
          "iopub.execute_input": "2023-04-21T05:21:38.454946Z",
          "iopub.status.busy": "2023-04-21T05:21:38.453825Z",
          "iopub.status.idle": "2023-04-21T05:21:39.957458Z",
          "shell.execute_reply": "2023-04-21T05:21:39.956260Z"
        },
        "papermill": {
          "duration": 1.514986,
          "end_time": "2023-04-21T05:21:39.960078",
          "exception": false,
          "start_time": "2023-04-21T05:21:38.445092",
          "status": "completed"
        },
        "tags": [],
        "id": "a61714b4"
      },
      "outputs": [],
      "source": [
        "from sklearn.experimental import enable_iterative_imputer\n",
        "from sklearn.impute import IterativeImputer\n",
        "from sklearn.preprocessing import OneHotEncoder\n",
        "from sklearn.model_selection import GridSearchCV\n",
        "from sklearn.compose import make_column_transformer\n",
        "from sklearn.pipeline import make_pipeline\n",
        "from sklearn.ensemble import RandomForestClassifier"
      ]
    },
    {
      "cell_type": "markdown",
      "id": "1c8f413e",
      "metadata": {
        "papermill": {
          "duration": 0.007097,
          "end_time": "2023-04-21T05:21:39.974654",
          "exception": false,
          "start_time": "2023-04-21T05:21:39.967557",
          "status": "completed"
        },
        "tags": [],
        "id": "1c8f413e"
      },
      "source": [
        "# Features"
      ]
    },
    {
      "cell_type": "markdown",
      "id": "1511d8c1",
      "metadata": {
        "papermill": {
          "duration": 0.007628,
          "end_time": "2023-04-21T05:21:39.990033",
          "exception": false,
          "start_time": "2023-04-21T05:21:39.982405",
          "status": "completed"
        },
        "tags": [],
        "id": "1511d8c1"
      },
      "source": [
        "Load the data and select only the features that are not redundant, don't have too many missing values and affect the output significantly."
      ]
    },
    {
      "cell_type": "code",
      "execution_count": null,
      "id": "ee7d4ac4",
      "metadata": {
        "execution": {
          "iopub.execute_input": "2023-04-21T05:21:40.007759Z",
          "iopub.status.busy": "2023-04-21T05:21:40.006809Z",
          "iopub.status.idle": "2023-04-21T05:21:40.041738Z",
          "shell.execute_reply": "2023-04-21T05:21:40.040269Z"
        },
        "papermill": {
          "duration": 0.047405,
          "end_time": "2023-04-21T05:21:40.044863",
          "exception": false,
          "start_time": "2023-04-21T05:21:39.997458",
          "status": "completed"
        },
        "tags": [],
        "id": "ee7d4ac4"
      },
      "outputs": [],
      "source": [
        "train_data = pd.read_csv('/kaggle/input/titanic/train.csv')\n",
        "test_data = pd.read_csv('/kaggle/input/titanic/test.csv')"
      ]
    },
    {
      "cell_type": "code",
      "execution_count": null,
      "id": "c39ff4d5",
      "metadata": {
        "execution": {
          "iopub.execute_input": "2023-04-21T05:21:40.061998Z",
          "iopub.status.busy": "2023-04-21T05:21:40.061555Z",
          "iopub.status.idle": "2023-04-21T05:21:40.090373Z",
          "shell.execute_reply": "2023-04-21T05:21:40.088272Z"
        },
        "papermill": {
          "duration": 0.040963,
          "end_time": "2023-04-21T05:21:40.093383",
          "exception": false,
          "start_time": "2023-04-21T05:21:40.052420",
          "status": "completed"
        },
        "tags": [],
        "id": "c39ff4d5",
        "outputId": "c2027b06-5432-4e13-d83d-7f0b2dc548aa"
      },
      "outputs": [
        {
          "name": "stdout",
          "output_type": "stream",
          "text": [
            "<class 'pandas.core.frame.DataFrame'>\n",
            "RangeIndex: 891 entries, 0 to 890\n",
            "Data columns (total 12 columns):\n",
            " #   Column       Non-Null Count  Dtype  \n",
            "---  ------       --------------  -----  \n",
            " 0   PassengerId  891 non-null    int64  \n",
            " 1   Survived     891 non-null    int64  \n",
            " 2   Pclass       891 non-null    int64  \n",
            " 3   Name         891 non-null    object \n",
            " 4   Sex          891 non-null    object \n",
            " 5   Age          714 non-null    float64\n",
            " 6   SibSp        891 non-null    int64  \n",
            " 7   Parch        891 non-null    int64  \n",
            " 8   Ticket       891 non-null    object \n",
            " 9   Fare         891 non-null    float64\n",
            " 10  Cabin        204 non-null    object \n",
            " 11  Embarked     889 non-null    object \n",
            "dtypes: float64(2), int64(5), object(5)\n",
            "memory usage: 83.7+ KB\n"
          ]
        }
      ],
      "source": [
        "train_data.info()"
      ]
    },
    {
      "cell_type": "markdown",
      "id": "8e81bf7c",
      "metadata": {
        "papermill": {
          "duration": 0.007609,
          "end_time": "2023-04-21T05:21:40.109382",
          "exception": false,
          "start_time": "2023-04-21T05:21:40.101773",
          "status": "completed"
        },
        "tags": [],
        "id": "8e81bf7c"
      },
      "source": [
        "PassengerId is just a serial number and Cabin has too many missing values. The name of a person only gives information about gender (through honorifics - Mr, Mrs, Miss, etc) and family size (through surname) however we already know both of these through other features (Sex and SibSp, Parch). Ticket only gives information about the group size of a person by counting the number of people with the same ticket, but in most cases it will be equal to family size.\n",
        "\n",
        "The other features might affect the survivability significantly. Let's check:"
      ]
    },
    {
      "cell_type": "code",
      "execution_count": null,
      "id": "a3b36c2b",
      "metadata": {
        "execution": {
          "iopub.execute_input": "2023-04-21T05:21:40.130015Z",
          "iopub.status.busy": "2023-04-21T05:21:40.128809Z",
          "iopub.status.idle": "2023-04-21T05:21:40.140203Z",
          "shell.execute_reply": "2023-04-21T05:21:40.138587Z"
        },
        "papermill": {
          "duration": 0.023264,
          "end_time": "2023-04-21T05:21:40.142645",
          "exception": false,
          "start_time": "2023-04-21T05:21:40.119381",
          "status": "completed"
        },
        "tags": [],
        "id": "a3b36c2b",
        "outputId": "08fbad2f-21a9-4f20-80a1-73988a8df2a2"
      },
      "outputs": [
        {
          "name": "stdout",
          "output_type": "stream",
          "text": [
            "Women:  74.20382165605095\n",
            "Men:  18.890814558058924\n"
          ]
        }
      ],
      "source": [
        "# Sex\n",
        "\n",
        "women = train_data.loc[train_data['Sex'] == 'female']['Survived']\n",
        "print(\"Women: \", sum(women)/len(women)*100)\n",
        "men = train_data.loc[train_data['Sex'] == 'male']['Survived']\n",
        "print(\"Men: \", sum(men)/len(men)*100)"
      ]
    },
    {
      "cell_type": "code",
      "execution_count": null,
      "id": "1e266791",
      "metadata": {
        "execution": {
          "iopub.execute_input": "2023-04-21T05:21:40.161038Z",
          "iopub.status.busy": "2023-04-21T05:21:40.160253Z",
          "iopub.status.idle": "2023-04-21T05:21:40.172689Z",
          "shell.execute_reply": "2023-04-21T05:21:40.170991Z"
        },
        "papermill": {
          "duration": 0.024871,
          "end_time": "2023-04-21T05:21:40.175392",
          "exception": false,
          "start_time": "2023-04-21T05:21:40.150521",
          "status": "completed"
        },
        "tags": [],
        "id": "1e266791",
        "outputId": "b5753cf4-49a4-4635-a158-031ab69f6df9"
      },
      "outputs": [
        {
          "name": "stdout",
          "output_type": "stream",
          "text": [
            "Southampton:  33.69565217391305\n",
            "Cherbourg:  55.35714285714286\n",
            "Queenstown:  38.961038961038966\n"
          ]
        }
      ],
      "source": [
        "# Embarked\n",
        "\n",
        "southampton = train_data.loc[train_data['Embarked'] == 'S']['Survived']\n",
        "print(\"Southampton: \", sum(southampton)/len(southampton)*100)\n",
        "cherbourg = train_data.loc[train_data['Embarked'] == 'C']['Survived']\n",
        "print(\"Cherbourg: \", sum(cherbourg)/len(cherbourg)*100)\n",
        "queenstown = train_data.loc[train_data['Embarked'] == 'Q']['Survived']\n",
        "print(\"Queenstown: \", sum(queenstown)/len(queenstown)*100)"
      ]
    },
    {
      "cell_type": "code",
      "execution_count": null,
      "id": "a5e38580",
      "metadata": {
        "execution": {
          "iopub.execute_input": "2023-04-21T05:21:40.193720Z",
          "iopub.status.busy": "2023-04-21T05:21:40.193289Z",
          "iopub.status.idle": "2023-04-21T05:21:40.204291Z",
          "shell.execute_reply": "2023-04-21T05:21:40.202809Z"
        },
        "papermill": {
          "duration": 0.02412,
          "end_time": "2023-04-21T05:21:40.207517",
          "exception": false,
          "start_time": "2023-04-21T05:21:40.183397",
          "status": "completed"
        },
        "tags": [],
        "id": "a5e38580",
        "outputId": "574fce54-b1cb-4d28-c5a2-44ca466704c5"
      },
      "outputs": [
        {
          "name": "stdout",
          "output_type": "stream",
          "text": [
            "Class 1:  62.96296296296296\n",
            "Class 2:  47.28260869565217\n",
            "Class 3:  24.236252545824847\n"
          ]
        }
      ],
      "source": [
        "# Pclass\n",
        "\n",
        "class_1 = train_data.loc[train_data['Pclass'] == 1]['Survived']\n",
        "print(\"Class 1: \", sum(class_1)/len(class_1)*100)\n",
        "class_2 = train_data.loc[train_data['Pclass'] == 2]['Survived']\n",
        "print(\"Class 2: \", sum(class_2)/len(class_2)*100)\n",
        "class_3 = train_data.loc[train_data['Pclass'] == 3]['Survived']\n",
        "print(\"Class 3: \", sum(class_3)/len(class_3)*100)"
      ]
    },
    {
      "cell_type": "code",
      "execution_count": null,
      "id": "46e2e460",
      "metadata": {
        "execution": {
          "iopub.execute_input": "2023-04-21T05:21:40.226288Z",
          "iopub.status.busy": "2023-04-21T05:21:40.225262Z",
          "iopub.status.idle": "2023-04-21T05:21:40.238932Z",
          "shell.execute_reply": "2023-04-21T05:21:40.237200Z"
        },
        "papermill": {
          "duration": 0.02699,
          "end_time": "2023-04-21T05:21:40.242539",
          "exception": false,
          "start_time": "2023-04-21T05:21:40.215549",
          "status": "completed"
        },
        "tags": [],
        "id": "46e2e460",
        "outputId": "3a7daf7c-1e07-42ed-d07a-d1b3e2bcc138"
      },
      "outputs": [
        {
          "name": "stdout",
          "output_type": "stream",
          "text": [
            "Young:  57.692307692307686\n",
            "Middle:  39.08794788273616\n",
            "Old:  22.727272727272727\n"
          ]
        }
      ],
      "source": [
        "# Age\n",
        "\n",
        "young = train_data.loc[train_data['Age'] < 15]['Survived']\n",
        "print(\"Young: \", sum(young)/len(young)*100)\n",
        "middle = train_data.loc[(train_data['Age'] <= 60) & (train_data['Age'] >= 15)]['Survived']\n",
        "print(\"Middle: \", sum(middle)/len(middle)*100)\n",
        "old = train_data.loc[train_data['Age'] > 60]['Survived']\n",
        "print(\"Old: \", sum(old)/len(old)*100)"
      ]
    },
    {
      "cell_type": "code",
      "execution_count": null,
      "id": "952ca3a5",
      "metadata": {
        "execution": {
          "iopub.execute_input": "2023-04-21T05:21:40.262046Z",
          "iopub.status.busy": "2023-04-21T05:21:40.261540Z",
          "iopub.status.idle": "2023-04-21T05:21:40.276227Z",
          "shell.execute_reply": "2023-04-21T05:21:40.274963Z"
        },
        "papermill": {
          "duration": 0.027938,
          "end_time": "2023-04-21T05:21:40.278708",
          "exception": false,
          "start_time": "2023-04-21T05:21:40.250770",
          "status": "completed"
        },
        "tags": [],
        "id": "952ca3a5",
        "outputId": "e365f1a3-4dae-466e-b5da-cbb226a56e43"
      },
      "outputs": [
        {
          "name": "stdout",
          "output_type": "stream",
          "text": [
            "0: 34.53947368421053\n",
            "1: 53.588516746411486\n",
            "2: 46.42857142857143\n",
            "3: 25.0\n",
            "4: 16.666666666666664\n",
            "5: 0.0\n",
            "8: 0.0\n"
          ]
        }
      ],
      "source": [
        "# SibSp\n",
        "\n",
        "for num in set(train_data['SibSp'].unique()):\n",
        "    survived = train_data.loc[train_data['SibSp'] == num]['Survived']\n",
        "    print(f\"{num}:\", sum(survived)/len(survived)*100)"
      ]
    },
    {
      "cell_type": "code",
      "execution_count": null,
      "id": "357a9b68",
      "metadata": {
        "execution": {
          "iopub.execute_input": "2023-04-21T05:21:40.297522Z",
          "iopub.status.busy": "2023-04-21T05:21:40.297070Z",
          "iopub.status.idle": "2023-04-21T05:21:40.310264Z",
          "shell.execute_reply": "2023-04-21T05:21:40.308739Z"
        },
        "papermill": {
          "duration": 0.02572,
          "end_time": "2023-04-21T05:21:40.312811",
          "exception": false,
          "start_time": "2023-04-21T05:21:40.287091",
          "status": "completed"
        },
        "tags": [],
        "id": "357a9b68",
        "outputId": "dfe853fe-a405-423e-c9e1-5f0dc109137f"
      },
      "outputs": [
        {
          "name": "stdout",
          "output_type": "stream",
          "text": [
            "0: 34.365781710914455\n",
            "1: 55.08474576271186\n",
            "2: 50.0\n",
            "3: 60.0\n",
            "4: 0.0\n",
            "5: 20.0\n",
            "6: 0.0\n"
          ]
        }
      ],
      "source": [
        "# Parch\n",
        "\n",
        "for num in set(train_data['Parch'].unique()):\n",
        "    survived = train_data.loc[train_data['Parch'] == num]['Survived']\n",
        "    print(f\"{num}:\", sum(survived)/len(survived)*100)"
      ]
    },
    {
      "cell_type": "code",
      "execution_count": null,
      "id": "74d36f58",
      "metadata": {
        "execution": {
          "iopub.execute_input": "2023-04-21T05:21:40.331686Z",
          "iopub.status.busy": "2023-04-21T05:21:40.331258Z",
          "iopub.status.idle": "2023-04-21T05:21:40.342547Z",
          "shell.execute_reply": "2023-04-21T05:21:40.341097Z"
        },
        "papermill": {
          "duration": 0.023965,
          "end_time": "2023-04-21T05:21:40.345074",
          "exception": false,
          "start_time": "2023-04-21T05:21:40.321109",
          "status": "completed"
        },
        "tags": [],
        "id": "74d36f58",
        "outputId": "777cebda-2910-43e1-8933-f9daaefab8ce"
      },
      "outputs": [
        {
          "name": "stdout",
          "output_type": "stream",
          "text": [
            "Poor:  25.400457665903893\n",
            "Middle:  43.96551724137931\n",
            "Rich:  58.108108108108105\n"
          ]
        }
      ],
      "source": [
        "# Fare\n",
        "\n",
        "poor = train_data.loc[train_data['Fare'] <= 14]['Survived']\n",
        "print(\"Poor: \", sum(poor)/len(poor)*100)\n",
        "middle = train_data.loc[(train_data['Fare'] <= 31) & (train_data['Fare'] > 14)]['Survived']\n",
        "print(\"Middle: \", sum(middle)/len(middle)*100)\n",
        "rich = train_data.loc[train_data['Fare'] > 31]['Survived']\n",
        "print(\"Rich: \", sum(rich)/len(rich)*100)"
      ]
    },
    {
      "cell_type": "markdown",
      "id": "7e1ac98d",
      "metadata": {
        "papermill": {
          "duration": 0.008126,
          "end_time": "2023-04-21T05:21:40.361564",
          "exception": false,
          "start_time": "2023-04-21T05:21:40.353438",
          "status": "completed"
        },
        "tags": [],
        "id": "7e1ac98d"
      },
      "source": [
        "As is clear, the features that need to be selected are Sex, Pclass, Age, SibSp, Parch and Fare. Embarked needs to be dropped.\n",
        "\n",
        "Sex: 74% of females survived while only 19% males survived. This makes sense - women are given higher priority in such situations.\n",
        "\n",
        "Pclass: 63% Class 1 passengers survived and the survivability went down with Class 2 and 3. This makes sense - the affluent are given higher priority in such situations.\n",
        "\n",
        "Age: 58% children (under 15) survived with survivability decreasing with increase in age. This makes sense - children are given higher priorit in such situations.\n",
        "\n",
        "SibSp & Parch: Survivability decreased with increasing family size. This makes sense - people with large families will prioritise their family members, especially children.\n",
        "\n",
        "Fare: The rich (people who bought more expensive tickets) had better survivability. Again, this correlates with Pclass.\n",
        "\n",
        "Embarked: The nationality of an individual - English, French or Kiwi (New Zealander) - doesn't seem to affect their survivability significantly."
      ]
    },
    {
      "cell_type": "markdown",
      "id": "799cc733",
      "metadata": {
        "papermill": {
          "duration": 0.008615,
          "end_time": "2023-04-21T05:21:40.378546",
          "exception": false,
          "start_time": "2023-04-21T05:21:40.369931",
          "status": "completed"
        },
        "tags": [],
        "id": "799cc733"
      },
      "source": [
        "And that's all for the features. Don't try to make this too complicated with sophisticated feature engineering - this problem is one of the simplest on this site and is meant to be dealt with in a simple manner. Feature engineering works but a lot of it increases the score only a little and may even decrease the score if it isn't done properly."
      ]
    },
    {
      "cell_type": "code",
      "execution_count": null,
      "id": "b9915af2",
      "metadata": {
        "execution": {
          "iopub.execute_input": "2023-04-21T05:21:40.397235Z",
          "iopub.status.busy": "2023-04-21T05:21:40.396789Z",
          "iopub.status.idle": "2023-04-21T05:21:40.407101Z",
          "shell.execute_reply": "2023-04-21T05:21:40.405476Z"
        },
        "papermill": {
          "duration": 0.023092,
          "end_time": "2023-04-21T05:21:40.410063",
          "exception": false,
          "start_time": "2023-04-21T05:21:40.386971",
          "status": "completed"
        },
        "tags": [],
        "id": "b9915af2"
      },
      "outputs": [],
      "source": [
        "train_data = train_data[['Survived', 'Pclass', 'Sex', 'Age', 'SibSp', 'Parch', 'Fare']]\n",
        "test_data = test_data[['Pclass', 'Sex', 'Age', 'SibSp', 'Parch', 'Fare']]"
      ]
    },
    {
      "cell_type": "markdown",
      "id": "c095e155",
      "metadata": {
        "papermill": {
          "duration": 0.007822,
          "end_time": "2023-04-21T05:21:40.426338",
          "exception": false,
          "start_time": "2023-04-21T05:21:40.418516",
          "status": "completed"
        },
        "tags": [],
        "id": "c095e155"
      },
      "source": [
        "# Preprocessing"
      ]
    },
    {
      "cell_type": "markdown",
      "id": "71ba2503",
      "metadata": {
        "papermill": {
          "duration": 0.007834,
          "end_time": "2023-04-21T05:21:40.442283",
          "exception": false,
          "start_time": "2023-04-21T05:21:40.434449",
          "status": "completed"
        },
        "tags": [],
        "id": "71ba2503"
      },
      "source": [
        "Split into x_train and y_train, and intialize the preprocessors. The categorical feature - Sex - is One Hot Encoded and one of them is dropped to prevent linear dependence of features (by looking at whether someone is male or not, you can determine whether he/she is female or not - it doesn't give any extra information). The feature with missing values - Age - is imputed in a principled manner with Iterative Imputation. Feature scaling isn't required since I will be using a tree based method - Random Forest.\n",
        "\n",
        "Its always a good idea to do all preprocessing through a pipeline - it reduces the amount of code, makes it easier to understand and also provides the option of tuning hyperparameters of all preprocessors and estimator at once.\n",
        "\n",
        "Once again, don't try to make this too complicated. No need to remove outliers, transform features to uniform/normal distribution or handle class rebalancing with oversampling. Such things make the dataset too complicated to make a good estimation."
      ]
    },
    {
      "cell_type": "code",
      "execution_count": null,
      "id": "724c1401",
      "metadata": {
        "execution": {
          "iopub.execute_input": "2023-04-21T05:21:40.461187Z",
          "iopub.status.busy": "2023-04-21T05:21:40.460188Z",
          "iopub.status.idle": "2023-04-21T05:21:40.473774Z",
          "shell.execute_reply": "2023-04-21T05:21:40.472288Z"
        },
        "papermill": {
          "duration": 0.026321,
          "end_time": "2023-04-21T05:21:40.476707",
          "exception": false,
          "start_time": "2023-04-21T05:21:40.450386",
          "status": "completed"
        },
        "tags": [],
        "id": "724c1401"
      },
      "outputs": [],
      "source": [
        "x_train = train_data.iloc[:, 1:]\n",
        "y_train = train_data.iloc[:, 0]\n",
        "x_test = test_data.iloc[:, :]\n",
        "encoder = make_column_transformer((OneHotEncoder(drop='first', sparse=False), x_train.select_dtypes(include='object').columns), remainder='passthrough', verbose_feature_names_out=False)\n",
        "pipe = make_pipeline(encoder, IterativeImputer(random_state=42))"
      ]
    },
    {
      "cell_type": "code",
      "execution_count": null,
      "id": "b4ca5ef2",
      "metadata": {
        "execution": {
          "iopub.execute_input": "2023-04-21T05:21:40.496303Z",
          "iopub.status.busy": "2023-04-21T05:21:40.495806Z",
          "iopub.status.idle": "2023-04-21T05:21:40.551875Z",
          "shell.execute_reply": "2023-04-21T05:21:40.550500Z"
        },
        "papermill": {
          "duration": 0.068741,
          "end_time": "2023-04-21T05:21:40.554683",
          "exception": false,
          "start_time": "2023-04-21T05:21:40.485942",
          "status": "completed"
        },
        "tags": [],
        "id": "b4ca5ef2"
      },
      "outputs": [],
      "source": [
        "x_train = pd.DataFrame(pipe.fit_transform(x_train), columns=encoder.get_feature_names_out())\n",
        "x_test = pd.DataFrame(pipe.transform(x_test), columns=encoder.get_feature_names_out())"
      ]
    },
    {
      "cell_type": "code",
      "execution_count": null,
      "id": "83b832da",
      "metadata": {
        "execution": {
          "iopub.execute_input": "2023-04-21T05:21:40.573640Z",
          "iopub.status.busy": "2023-04-21T05:21:40.573168Z",
          "iopub.status.idle": "2023-04-21T05:21:40.588942Z",
          "shell.execute_reply": "2023-04-21T05:21:40.586972Z"
        },
        "papermill": {
          "duration": 0.028635,
          "end_time": "2023-04-21T05:21:40.591684",
          "exception": false,
          "start_time": "2023-04-21T05:21:40.563049",
          "status": "completed"
        },
        "tags": [],
        "id": "83b832da",
        "outputId": "3d36738b-a949-40bd-a52b-06cded94ce4d"
      },
      "outputs": [
        {
          "name": "stdout",
          "output_type": "stream",
          "text": [
            "<class 'pandas.core.frame.DataFrame'>\n",
            "RangeIndex: 891 entries, 0 to 890\n",
            "Data columns (total 6 columns):\n",
            " #   Column    Non-Null Count  Dtype  \n",
            "---  ------    --------------  -----  \n",
            " 0   Sex_male  891 non-null    float64\n",
            " 1   Pclass    891 non-null    float64\n",
            " 2   Age       891 non-null    float64\n",
            " 3   SibSp     891 non-null    float64\n",
            " 4   Parch     891 non-null    float64\n",
            " 5   Fare      891 non-null    float64\n",
            "dtypes: float64(6)\n",
            "memory usage: 41.9 KB\n"
          ]
        }
      ],
      "source": [
        "x_train.info()"
      ]
    },
    {
      "cell_type": "markdown",
      "id": "e59f229b",
      "metadata": {
        "papermill": {
          "duration": 0.007742,
          "end_time": "2023-04-21T05:21:40.607597",
          "exception": false,
          "start_time": "2023-04-21T05:21:40.599855",
          "status": "completed"
        },
        "tags": [],
        "id": "e59f229b"
      },
      "source": [
        "# Estimation"
      ]
    },
    {
      "cell_type": "markdown",
      "id": "ba2ff561",
      "metadata": {
        "papermill": {
          "duration": 0.007607,
          "end_time": "2023-04-21T05:21:40.623261",
          "exception": false,
          "start_time": "2023-04-21T05:21:40.615654",
          "status": "completed"
        },
        "tags": [],
        "id": "ba2ff561"
      },
      "source": [
        "As has been said before, keep it simple. Don't use something like XGBoost or Neural Networks (Multi-layer Perceptron). Something simple like Random Forest or SVC will be more than enough. The tutorial used Random Forest and that's what I will be using too.\n",
        "\n",
        "First of all, do some hyperparameter tuning with GridSearchCV and use the best estimator."
      ]
    },
    {
      "cell_type": "code",
      "execution_count": null,
      "id": "96c8410b",
      "metadata": {
        "execution": {
          "iopub.execute_input": "2023-04-21T05:21:40.642283Z",
          "iopub.status.busy": "2023-04-21T05:21:40.641180Z",
          "iopub.status.idle": "2023-04-21T05:21:40.646636Z",
          "shell.execute_reply": "2023-04-21T05:21:40.645683Z"
        },
        "papermill": {
          "duration": 0.017674,
          "end_time": "2023-04-21T05:21:40.648959",
          "exception": false,
          "start_time": "2023-04-21T05:21:40.631285",
          "status": "completed"
        },
        "tags": [],
        "id": "96c8410b"
      },
      "outputs": [],
      "source": [
        "# rf = RandomForestClassifier(random_state=1)\n",
        "# params = {'n_estimators': [50, 100, 150, 200],\n",
        "#           'max_depth': [2, 3, 4, 5]}\n",
        "# search = GridSearchCV(rf, params)\n",
        "# search.fit(x_train, y_train)\n",
        "# search.best_params_\n",
        "\n",
        "# max_depth = 5, n_estimators = 150"
      ]
    },
    {
      "cell_type": "code",
      "execution_count": null,
      "id": "ea4a7377",
      "metadata": {
        "execution": {
          "iopub.execute_input": "2023-04-21T05:21:40.667611Z",
          "iopub.status.busy": "2023-04-21T05:21:40.666601Z",
          "iopub.status.idle": "2023-04-21T05:21:40.672274Z",
          "shell.execute_reply": "2023-04-21T05:21:40.671037Z"
        },
        "papermill": {
          "duration": 0.017569,
          "end_time": "2023-04-21T05:21:40.674616",
          "exception": false,
          "start_time": "2023-04-21T05:21:40.657047",
          "status": "completed"
        },
        "tags": [],
        "id": "ea4a7377"
      },
      "outputs": [],
      "source": [
        "# rf = RandomForestClassifier(n_estimators=150, max_depth=5, random_state=1)\n",
        "# rf.fit(x_train, y_train)\n",
        "# y_pred = rf.predict(x_test)\n",
        "\n",
        "# score = 0.78468"
      ]
    },
    {
      "cell_type": "markdown",
      "id": "66453f51",
      "metadata": {
        "papermill": {
          "duration": 0.007596,
          "end_time": "2023-04-21T05:21:40.690154",
          "exception": false,
          "start_time": "2023-04-21T05:21:40.682558",
          "status": "completed"
        },
        "tags": [],
        "id": "66453f51"
      },
      "source": [
        "Unfortunately, the above 'best' estimator didn't give the best results. The best results were actually obtained by the estimator used in the tutorial. This is because of the difference in training and evaluation sets."
      ]
    },
    {
      "cell_type": "code",
      "execution_count": null,
      "id": "fb5e70f8",
      "metadata": {
        "execution": {
          "iopub.execute_input": "2023-04-21T05:21:40.709245Z",
          "iopub.status.busy": "2023-04-21T05:21:40.707981Z",
          "iopub.status.idle": "2023-04-21T05:21:40.913216Z",
          "shell.execute_reply": "2023-04-21T05:21:40.911964Z"
        },
        "papermill": {
          "duration": 0.21808,
          "end_time": "2023-04-21T05:21:40.916262",
          "exception": false,
          "start_time": "2023-04-21T05:21:40.698182",
          "status": "completed"
        },
        "tags": [],
        "id": "fb5e70f8"
      },
      "outputs": [],
      "source": [
        "rf = RandomForestClassifier(n_estimators=100, max_depth=5, random_state=1)\n",
        "rf.fit(x_train, y_train)\n",
        "y_pred = rf.predict(x_test)\n",
        "\n",
        "# score = 0.78708"
      ]
    },
    {
      "cell_type": "markdown",
      "id": "fc887f30",
      "metadata": {
        "papermill": {
          "duration": 0.007785,
          "end_time": "2023-04-21T05:21:40.932096",
          "exception": false,
          "start_time": "2023-04-21T05:21:40.924311",
          "status": "completed"
        },
        "tags": [],
        "id": "fc887f30"
      },
      "source": [
        "The score of 0.799 was obtained in a crude manner - during preprocessing, both features for Sex_male and Sex_female were retained and missing values were all imputed with -1. It gave the best score but didn't make statistical sense."
      ]
    },
    {
      "cell_type": "markdown",
      "id": "4ccb67d9",
      "metadata": {
        "papermill": {
          "duration": 0.00803,
          "end_time": "2023-04-21T05:21:40.948232",
          "exception": false,
          "start_time": "2023-04-21T05:21:40.940202",
          "status": "completed"
        },
        "tags": [],
        "id": "4ccb67d9"
      },
      "source": [
        "# Submission"
      ]
    },
    {
      "cell_type": "markdown",
      "id": "d804942b",
      "metadata": {
        "papermill": {
          "duration": 0.007731,
          "end_time": "2023-04-21T05:21:40.963955",
          "exception": false,
          "start_time": "2023-04-21T05:21:40.956224",
          "status": "completed"
        },
        "tags": [],
        "id": "d804942b"
      },
      "source": [
        "Load the sample submission and build your submission file in the same format."
      ]
    },
    {
      "cell_type": "code",
      "execution_count": null,
      "id": "22355637",
      "metadata": {
        "execution": {
          "iopub.execute_input": "2023-04-21T05:21:40.981891Z",
          "iopub.status.busy": "2023-04-21T05:21:40.981506Z",
          "iopub.status.idle": "2023-04-21T05:21:41.010407Z",
          "shell.execute_reply": "2023-04-21T05:21:41.008988Z"
        },
        "papermill": {
          "duration": 0.041209,
          "end_time": "2023-04-21T05:21:41.013068",
          "exception": false,
          "start_time": "2023-04-21T05:21:40.971859",
          "status": "completed"
        },
        "tags": [],
        "id": "22355637",
        "outputId": "6d0b88d0-ebba-45a6-a4c5-b09f36a9d101"
      },
      "outputs": [
        {
          "data": {
            "text/html": [
              "<div>\n",
              "<style scoped>\n",
              "    .dataframe tbody tr th:only-of-type {\n",
              "        vertical-align: middle;\n",
              "    }\n",
              "\n",
              "    .dataframe tbody tr th {\n",
              "        vertical-align: top;\n",
              "    }\n",
              "\n",
              "    .dataframe thead th {\n",
              "        text-align: right;\n",
              "    }\n",
              "</style>\n",
              "<table border=\"1\" class=\"dataframe\">\n",
              "  <thead>\n",
              "    <tr style=\"text-align: right;\">\n",
              "      <th></th>\n",
              "      <th>PassengerId</th>\n",
              "      <th>Survived</th>\n",
              "    </tr>\n",
              "  </thead>\n",
              "  <tbody>\n",
              "    <tr>\n",
              "      <th>0</th>\n",
              "      <td>892</td>\n",
              "      <td>0</td>\n",
              "    </tr>\n",
              "    <tr>\n",
              "      <th>1</th>\n",
              "      <td>893</td>\n",
              "      <td>1</td>\n",
              "    </tr>\n",
              "    <tr>\n",
              "      <th>2</th>\n",
              "      <td>894</td>\n",
              "      <td>0</td>\n",
              "    </tr>\n",
              "    <tr>\n",
              "      <th>3</th>\n",
              "      <td>895</td>\n",
              "      <td>0</td>\n",
              "    </tr>\n",
              "    <tr>\n",
              "      <th>4</th>\n",
              "      <td>896</td>\n",
              "      <td>1</td>\n",
              "    </tr>\n",
              "    <tr>\n",
              "      <th>...</th>\n",
              "      <td>...</td>\n",
              "      <td>...</td>\n",
              "    </tr>\n",
              "    <tr>\n",
              "      <th>413</th>\n",
              "      <td>1305</td>\n",
              "      <td>0</td>\n",
              "    </tr>\n",
              "    <tr>\n",
              "      <th>414</th>\n",
              "      <td>1306</td>\n",
              "      <td>1</td>\n",
              "    </tr>\n",
              "    <tr>\n",
              "      <th>415</th>\n",
              "      <td>1307</td>\n",
              "      <td>0</td>\n",
              "    </tr>\n",
              "    <tr>\n",
              "      <th>416</th>\n",
              "      <td>1308</td>\n",
              "      <td>0</td>\n",
              "    </tr>\n",
              "    <tr>\n",
              "      <th>417</th>\n",
              "      <td>1309</td>\n",
              "      <td>0</td>\n",
              "    </tr>\n",
              "  </tbody>\n",
              "</table>\n",
              "<p>418 rows × 2 columns</p>\n",
              "</div>"
            ],
            "text/plain": [
              "     PassengerId  Survived\n",
              "0            892         0\n",
              "1            893         1\n",
              "2            894         0\n",
              "3            895         0\n",
              "4            896         1\n",
              "..           ...       ...\n",
              "413         1305         0\n",
              "414         1306         1\n",
              "415         1307         0\n",
              "416         1308         0\n",
              "417         1309         0\n",
              "\n",
              "[418 rows x 2 columns]"
            ]
          },
          "execution_count": 19,
          "metadata": {},
          "output_type": "execute_result"
        }
      ],
      "source": [
        "pd.read_csv('/kaggle/input/titanic/gender_submission.csv')"
      ]
    },
    {
      "cell_type": "code",
      "execution_count": null,
      "id": "06c33c05",
      "metadata": {
        "execution": {
          "iopub.execute_input": "2023-04-21T05:21:41.031969Z",
          "iopub.status.busy": "2023-04-21T05:21:41.031523Z",
          "iopub.status.idle": "2023-04-21T05:21:41.044800Z",
          "shell.execute_reply": "2023-04-21T05:21:41.043958Z"
        },
        "papermill": {
          "duration": 0.025646,
          "end_time": "2023-04-21T05:21:41.047251",
          "exception": false,
          "start_time": "2023-04-21T05:21:41.021605",
          "status": "completed"
        },
        "tags": [],
        "id": "06c33c05"
      },
      "outputs": [],
      "source": [
        "df = pd.DataFrame()\n",
        "df['PassengerId'] = range(892, 1310)\n",
        "df['Survived'] = y_pred\n",
        "df.to_csv('submission.csv', index=False)"
      ]
    }
  ],
  "metadata": {
    "kernelspec": {
      "display_name": "Python 3",
      "language": "python",
      "name": "python3"
    },
    "language_info": {
      "codemirror_mode": {
        "name": "ipython",
        "version": 3
      },
      "file_extension": ".py",
      "mimetype": "text/x-python",
      "name": "python",
      "nbconvert_exporter": "python",
      "pygments_lexer": "ipython3",
      "version": "3.7.12"
    },
    "papermill": {
      "default_parameters": {},
      "duration": 14.339257,
      "end_time": "2023-04-21T05:21:42.079910",
      "environment_variables": {},
      "exception": null,
      "input_path": "__notebook__.ipynb",
      "output_path": "__notebook__.ipynb",
      "parameters": {},
      "start_time": "2023-04-21T05:21:27.740653",
      "version": "2.4.0"
    },
    "colab": {
      "provenance": []
    }
  },
  "nbformat": 4,
  "nbformat_minor": 5
}