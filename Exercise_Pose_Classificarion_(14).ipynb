{
  "metadata": {
    "kernelspec": {
      "language": "python",
      "display_name": "Python 3",
      "name": "python3"
    },
    "language_info": {
      "name": "python",
      "version": "3.7.12",
      "mimetype": "text/x-python",
      "codemirror_mode": {
        "name": "ipython",
        "version": 3
      },
      "pygments_lexer": "ipython3",
      "nbconvert_exporter": "python",
      "file_extension": ".py"
    },
    "colab": {
      "provenance": [],
      "include_colab_link": true
    }
  },
  "nbformat_minor": 0,
  "nbformat": 4,
  "cells": [
    {
      "cell_type": "markdown",
      "metadata": {
        "id": "view-in-github",
        "colab_type": "text"
      },
      "source": [
        "<a href=\"https://colab.research.google.com/github/nisha1365/CTS-20-Projects/blob/main/Exercise_Pose_Classificarion_(14).ipynb\" target=\"_parent\"><img src=\"https://colab.research.google.com/assets/colab-badge.svg\" alt=\"Open In Colab\"/></a>"
      ]
    },
    {
      "cell_type": "code",
      "source": [
        "# This Python 3 environment comes with many helpful analytics libraries installed\n",
        "# It is defined by the kaggle/python Docker image: https://github.com/kaggle/docker-python\n",
        "# For example, here's several helpful packages to load\n",
        "\n",
        "import numpy as np # linear algebra\n",
        "import pandas as pd # data processing, CSV file I/O (e.g. pd.read_csv)\n",
        "\n",
        "# Input data files are available in the read-only \"../input/\" directory\n",
        "# For example, running this (by clicking run or pressing Shift+Enter) will list all files under the input directory\n",
        "\n",
        "import os\n",
        "for dirname, _, filenames in os.walk('/kaggle/input'):\n",
        "    for filename in filenames:\n",
        "        print(os.path.join(dirname, filename))\n",
        "\n",
        "# You can write up to 20GB to the current directory (/kaggle/working/) that gets preserved as output when you create a version using \"Save & Run All\" \n",
        "# You can also write temporary files to /kaggle/temp/, but they won't be saved outside of the current session"
      ],
      "metadata": {
        "_uuid": "8f2839f25d086af736a60e9eeb907d3b93b6e0e5",
        "_cell_guid": "b1076dfc-b9ad-4769-8c92-a6c4dae69d19",
        "execution": {
          "iopub.status.busy": "2022-12-12T14:20:01.608645Z",
          "iopub.execute_input": "2022-12-12T14:20:01.609050Z",
          "iopub.status.idle": "2022-12-12T14:20:01.619968Z",
          "shell.execute_reply.started": "2022-12-12T14:20:01.609015Z",
          "shell.execute_reply": "2022-12-12T14:20:01.618975Z"
        },
        "trusted": true,
        "id": "L3SgaxekC1_L",
        "outputId": "0b24c188-b69c-4546-e7ba-c9c36289e062"
      },
      "execution_count": null,
      "outputs": [
        {
          "name": "stdout",
          "text": "/kaggle/input/exercise-recognition/train.csv\n",
          "output_type": "stream"
        }
      ]
    },
    {
      "cell_type": "markdown",
      "source": [
        "pandas is a Python package providing fast, flexible, and expressive data structures designed to make working with “relational” or “labeled” data both easy and intuitive. It aims to be the fundamental high-level building block for doing practical, real-world data analysis in Python."
      ],
      "metadata": {
        "id": "qsbAVpNbDGZt"
      }
    },
    {
      "cell_type": "code",
      "source": [
        "df = pd.read_csv('/kaggle/input/exercise-recognition/train.csv')\n",
        "df.head()"
      ],
      "metadata": {
        "execution": {
          "iopub.status.busy": "2022-12-12T14:20:22.544153Z",
          "iopub.execute_input": "2022-12-12T14:20:22.544543Z",
          "iopub.status.idle": "2022-12-12T14:20:22.641905Z",
          "shell.execute_reply.started": "2022-12-12T14:20:22.544519Z",
          "shell.execute_reply": "2022-12-12T14:20:22.640987Z"
        },
        "trusted": true,
        "id": "jsjSqIlrC1_O",
        "outputId": "3aa1f672-a379-4cf9-e3b8-eaabcf468aec"
      },
      "execution_count": null,
      "outputs": [
        {
          "execution_count": 3,
          "output_type": "execute_result",
          "data": {
            "text/plain": "   pose_id                pose     x_nose     y_nose     z_nose  \\\n0        0           squats_up  -0.382815 -48.231250 -54.405792   \n1        1          situp_down  54.146880 -12.822491   5.564175   \n2        2          situp_down   9.891440 -54.147266  85.344970   \n3        3    jumping_jacks_up   0.904673 -51.350130 -33.606970   \n4        4  jumping_jacks_down  -3.153129 -55.255062 -17.745928   \n\n   x_left_eye_inner  y_left_eye_inner  z_left_eye_inner  x_left_eye  \\\n0          0.137189        -50.040543        -51.997875    0.502047   \n1         56.762527        -11.221117         -0.363063   56.795986   \n2         12.784414        -55.229970         88.534775   14.006874   \n3          1.338871        -53.172337        -30.013737    1.743913   \n4         -2.046205        -57.477790        -18.198952   -1.506304   \n\n   y_left_eye  ...  z_left_heel  x_right_heel  y_right_heel  z_right_heel  \\\n0  -50.058890  ...    33.283375    -12.302963     52.377000     21.567219   \n1  -10.608183  ...    -8.073100    -37.519974      4.045297     62.104233   \n2  -54.291880  ...  -132.024460    -61.214890     53.040688    -16.786700   \n3  -53.050697  ...    51.615970    -15.543400     38.251835     34.033176   \n4  -57.428230  ...    -2.849554      2.811829     56.000500     56.605590   \n\n   x_left_foot_index  y_left_foot_index  z_left_foot_index  \\\n0          16.609533          54.351162          15.890617   \n1         -60.468560           6.281939          -8.185631   \n2          -5.844672          99.829030        -166.543060   \n3          16.610210          46.572014          38.680614   \n4           0.566345          66.231050         -19.252045   \n\n   x_right_foot_index  y_right_foot_index  z_right_foot_index  \n0          -16.779694           55.382572            2.050140  \n1          -52.589350           -3.852214           59.750070  \n2          -73.826830           38.470097          -40.519830  \n3          -18.784650           45.098710           20.343110  \n4           -3.451297           60.029484           45.503677  \n\n[5 rows x 101 columns]",
            "text/html": "<div>\n<style scoped>\n    .dataframe tbody tr th:only-of-type {\n        vertical-align: middle;\n    }\n\n    .dataframe tbody tr th {\n        vertical-align: top;\n    }\n\n    .dataframe thead th {\n        text-align: right;\n    }\n</style>\n<table border=\"1\" class=\"dataframe\">\n  <thead>\n    <tr style=\"text-align: right;\">\n      <th></th>\n      <th>pose_id</th>\n      <th>pose</th>\n      <th>x_nose</th>\n      <th>y_nose</th>\n      <th>z_nose</th>\n      <th>x_left_eye_inner</th>\n      <th>y_left_eye_inner</th>\n      <th>z_left_eye_inner</th>\n      <th>x_left_eye</th>\n      <th>y_left_eye</th>\n      <th>...</th>\n      <th>z_left_heel</th>\n      <th>x_right_heel</th>\n      <th>y_right_heel</th>\n      <th>z_right_heel</th>\n      <th>x_left_foot_index</th>\n      <th>y_left_foot_index</th>\n      <th>z_left_foot_index</th>\n      <th>x_right_foot_index</th>\n      <th>y_right_foot_index</th>\n      <th>z_right_foot_index</th>\n    </tr>\n  </thead>\n  <tbody>\n    <tr>\n      <th>0</th>\n      <td>0</td>\n      <td>squats_up</td>\n      <td>-0.382815</td>\n      <td>-48.231250</td>\n      <td>-54.405792</td>\n      <td>0.137189</td>\n      <td>-50.040543</td>\n      <td>-51.997875</td>\n      <td>0.502047</td>\n      <td>-50.058890</td>\n      <td>...</td>\n      <td>33.283375</td>\n      <td>-12.302963</td>\n      <td>52.377000</td>\n      <td>21.567219</td>\n      <td>16.609533</td>\n      <td>54.351162</td>\n      <td>15.890617</td>\n      <td>-16.779694</td>\n      <td>55.382572</td>\n      <td>2.050140</td>\n    </tr>\n    <tr>\n      <th>1</th>\n      <td>1</td>\n      <td>situp_down</td>\n      <td>54.146880</td>\n      <td>-12.822491</td>\n      <td>5.564175</td>\n      <td>56.762527</td>\n      <td>-11.221117</td>\n      <td>-0.363063</td>\n      <td>56.795986</td>\n      <td>-10.608183</td>\n      <td>...</td>\n      <td>-8.073100</td>\n      <td>-37.519974</td>\n      <td>4.045297</td>\n      <td>62.104233</td>\n      <td>-60.468560</td>\n      <td>6.281939</td>\n      <td>-8.185631</td>\n      <td>-52.589350</td>\n      <td>-3.852214</td>\n      <td>59.750070</td>\n    </tr>\n    <tr>\n      <th>2</th>\n      <td>2</td>\n      <td>situp_down</td>\n      <td>9.891440</td>\n      <td>-54.147266</td>\n      <td>85.344970</td>\n      <td>12.784414</td>\n      <td>-55.229970</td>\n      <td>88.534775</td>\n      <td>14.006874</td>\n      <td>-54.291880</td>\n      <td>...</td>\n      <td>-132.024460</td>\n      <td>-61.214890</td>\n      <td>53.040688</td>\n      <td>-16.786700</td>\n      <td>-5.844672</td>\n      <td>99.829030</td>\n      <td>-166.543060</td>\n      <td>-73.826830</td>\n      <td>38.470097</td>\n      <td>-40.519830</td>\n    </tr>\n    <tr>\n      <th>3</th>\n      <td>3</td>\n      <td>jumping_jacks_up</td>\n      <td>0.904673</td>\n      <td>-51.350130</td>\n      <td>-33.606970</td>\n      <td>1.338871</td>\n      <td>-53.172337</td>\n      <td>-30.013737</td>\n      <td>1.743913</td>\n      <td>-53.050697</td>\n      <td>...</td>\n      <td>51.615970</td>\n      <td>-15.543400</td>\n      <td>38.251835</td>\n      <td>34.033176</td>\n      <td>16.610210</td>\n      <td>46.572014</td>\n      <td>38.680614</td>\n      <td>-18.784650</td>\n      <td>45.098710</td>\n      <td>20.343110</td>\n    </tr>\n    <tr>\n      <th>4</th>\n      <td>4</td>\n      <td>jumping_jacks_down</td>\n      <td>-3.153129</td>\n      <td>-55.255062</td>\n      <td>-17.745928</td>\n      <td>-2.046205</td>\n      <td>-57.477790</td>\n      <td>-18.198952</td>\n      <td>-1.506304</td>\n      <td>-57.428230</td>\n      <td>...</td>\n      <td>-2.849554</td>\n      <td>2.811829</td>\n      <td>56.000500</td>\n      <td>56.605590</td>\n      <td>0.566345</td>\n      <td>66.231050</td>\n      <td>-19.252045</td>\n      <td>-3.451297</td>\n      <td>60.029484</td>\n      <td>45.503677</td>\n    </tr>\n  </tbody>\n</table>\n<p>5 rows × 101 columns</p>\n</div>"
          },
          "metadata": {}
        }
      ]
    },
    {
      "cell_type": "markdown",
      "source": [
        "The describe() method returns description of the data in the DataFrame. If the DataFrame contains numerical data, the description contains these information for each column: count - The number of not-empty values. mean - The average (mean) value. std - The standard deviation."
      ],
      "metadata": {
        "id": "E20T1sD1DMEy"
      }
    },
    {
      "cell_type": "code",
      "source": [
        "df.iloc[:,1:11].describe()"
      ],
      "metadata": {
        "execution": {
          "iopub.status.busy": "2022-12-12T14:22:53.888599Z",
          "iopub.execute_input": "2022-12-12T14:22:53.889140Z",
          "iopub.status.idle": "2022-12-12T14:22:53.933217Z",
          "shell.execute_reply.started": "2022-12-12T14:22:53.889103Z",
          "shell.execute_reply": "2022-12-12T14:22:53.931850Z"
        },
        "trusted": true,
        "id": "AhpLhgdqC1_P",
        "outputId": "958ad820-481d-4539-89b0-10d78465a495"
      },
      "execution_count": null,
      "outputs": [
        {
          "execution_count": 5,
          "output_type": "execute_result",
          "data": {
            "text/plain": "            x_nose       y_nose       z_nose  x_left_eye_inner  \\\ncount  1097.000000  1097.000000  1097.000000       1097.000000   \nmean      0.053648   -37.326796   -30.706541          0.485687   \nstd      23.649281    31.048437    54.656192         24.497339   \nmin     -65.973076   -68.403656  -445.800080        -66.538180   \n25%      -4.109430   -55.254955   -48.765510         -3.341005   \n50%      -0.113795   -50.883630   -24.786951          0.331020   \n75%       3.538332   -34.784786    -2.454670          4.206791   \nmax      64.850930    83.510440   242.465380         66.834670   \n\n       y_left_eye_inner  z_left_eye_inner   x_left_eye   y_left_eye  \\\ncount       1097.000000       1097.000000  1097.000000  1097.000000   \nmean         -39.509185        -30.524985     0.792095   -39.545846   \nstd           31.346824         54.992888    24.485701    31.211337   \nmin          -71.202156       -458.567570   -65.191660   -71.224174   \n25%          -57.540430        -46.496040    -3.270816   -57.428230   \n50%          -52.950300        -23.692810     0.688978   -52.864372   \n75%          -36.975080         -3.096046     4.873786   -37.186440   \nmax           80.629990        253.638150    67.458220    79.560450   \n\n        z_left_eye  \ncount  1097.000000  \nmean    -30.527955  \nstd      54.993625  \nmin    -458.579440  \n25%     -46.487988  \n50%     -23.712904  \n75%      -3.097870  \nmax     253.774290  ",
            "text/html": "<div>\n<style scoped>\n    .dataframe tbody tr th:only-of-type {\n        vertical-align: middle;\n    }\n\n    .dataframe tbody tr th {\n        vertical-align: top;\n    }\n\n    .dataframe thead th {\n        text-align: right;\n    }\n</style>\n<table border=\"1\" class=\"dataframe\">\n  <thead>\n    <tr style=\"text-align: right;\">\n      <th></th>\n      <th>x_nose</th>\n      <th>y_nose</th>\n      <th>z_nose</th>\n      <th>x_left_eye_inner</th>\n      <th>y_left_eye_inner</th>\n      <th>z_left_eye_inner</th>\n      <th>x_left_eye</th>\n      <th>y_left_eye</th>\n      <th>z_left_eye</th>\n    </tr>\n  </thead>\n  <tbody>\n    <tr>\n      <th>count</th>\n      <td>1097.000000</td>\n      <td>1097.000000</td>\n      <td>1097.000000</td>\n      <td>1097.000000</td>\n      <td>1097.000000</td>\n      <td>1097.000000</td>\n      <td>1097.000000</td>\n      <td>1097.000000</td>\n      <td>1097.000000</td>\n    </tr>\n    <tr>\n      <th>mean</th>\n      <td>0.053648</td>\n      <td>-37.326796</td>\n      <td>-30.706541</td>\n      <td>0.485687</td>\n      <td>-39.509185</td>\n      <td>-30.524985</td>\n      <td>0.792095</td>\n      <td>-39.545846</td>\n      <td>-30.527955</td>\n    </tr>\n    <tr>\n      <th>std</th>\n      <td>23.649281</td>\n      <td>31.048437</td>\n      <td>54.656192</td>\n      <td>24.497339</td>\n      <td>31.346824</td>\n      <td>54.992888</td>\n      <td>24.485701</td>\n      <td>31.211337</td>\n      <td>54.993625</td>\n    </tr>\n    <tr>\n      <th>min</th>\n      <td>-65.973076</td>\n      <td>-68.403656</td>\n      <td>-445.800080</td>\n      <td>-66.538180</td>\n      <td>-71.202156</td>\n      <td>-458.567570</td>\n      <td>-65.191660</td>\n      <td>-71.224174</td>\n      <td>-458.579440</td>\n    </tr>\n    <tr>\n      <th>25%</th>\n      <td>-4.109430</td>\n      <td>-55.254955</td>\n      <td>-48.765510</td>\n      <td>-3.341005</td>\n      <td>-57.540430</td>\n      <td>-46.496040</td>\n      <td>-3.270816</td>\n      <td>-57.428230</td>\n      <td>-46.487988</td>\n    </tr>\n    <tr>\n      <th>50%</th>\n      <td>-0.113795</td>\n      <td>-50.883630</td>\n      <td>-24.786951</td>\n      <td>0.331020</td>\n      <td>-52.950300</td>\n      <td>-23.692810</td>\n      <td>0.688978</td>\n      <td>-52.864372</td>\n      <td>-23.712904</td>\n    </tr>\n    <tr>\n      <th>75%</th>\n      <td>3.538332</td>\n      <td>-34.784786</td>\n      <td>-2.454670</td>\n      <td>4.206791</td>\n      <td>-36.975080</td>\n      <td>-3.096046</td>\n      <td>4.873786</td>\n      <td>-37.186440</td>\n      <td>-3.097870</td>\n    </tr>\n    <tr>\n      <th>max</th>\n      <td>64.850930</td>\n      <td>83.510440</td>\n      <td>242.465380</td>\n      <td>66.834670</td>\n      <td>80.629990</td>\n      <td>253.638150</td>\n      <td>67.458220</td>\n      <td>79.560450</td>\n      <td>253.774290</td>\n    </tr>\n  </tbody>\n</table>\n</div>"
          },
          "metadata": {}
        }
      ]
    },
    {
      "cell_type": "code",
      "source": [
        "df.iloc[:,11:21].describe()"
      ],
      "metadata": {
        "execution": {
          "iopub.status.busy": "2022-12-12T14:23:06.725985Z",
          "iopub.execute_input": "2022-12-12T14:23:06.726324Z",
          "iopub.status.idle": "2022-12-12T14:23:06.768802Z",
          "shell.execute_reply.started": "2022-12-12T14:23:06.726298Z",
          "shell.execute_reply": "2022-12-12T14:23:06.766833Z"
        },
        "trusted": true,
        "id": "b_z2QhC7C1_Q",
        "outputId": "162dc35a-a930-45e5-c50f-105ff0c7d25c"
      },
      "execution_count": null,
      "outputs": [
        {
          "execution_count": 6,
          "output_type": "execute_result",
          "data": {
            "text/plain": "       x_left_eye_outer  y_left_eye_outer  z_left_eye_outer  \\\ncount       1097.000000       1097.000000       1097.000000   \nmean           1.083083        -39.579255        -30.539071   \nstd           24.462829         31.062697         55.000004   \nmin          -64.942210        -71.317010       -458.670560   \n25%           -3.233219        -57.418007        -46.501522   \n50%            1.111716        -52.837370        -23.728231   \n75%            5.333421        -37.605465         -3.091778   \nmax           64.513830         77.769810        253.702790   \n\n       x_right_eye_inner  y_right_eye_inner  z_right_eye_inner  x_right_eye  \\\ncount        1097.000000        1097.000000        1097.000000  1097.000000   \nmean           -0.404226         -39.530934         -30.399054    -0.717782   \nstd            24.482050          31.282611          55.206632    24.470752   \nmin           -66.657745         -72.438034        -459.228100   -66.577270   \n25%            -4.169279         -57.555176         -46.615210    -4.438617   \n50%            -0.778509         -52.942234         -23.604742    -1.272852   \n75%             3.326515         -37.796880          -3.507623     2.832518   \nmax            62.453610          81.047905         250.179800    61.723488   \n\n       y_right_eye  z_right_eye  x_right_eye_outer  \ncount  1097.000000  1097.000000        1097.000000  \nmean    -39.589658   -30.405472          -1.008636  \nstd      31.071644    55.214603          24.448016  \nmin     -73.024220  -459.327360         -67.245674  \n25%     -57.505165   -46.626633          -4.685193  \n50%     -52.853650   -23.601427          -1.704646  \n75%     -37.921380    -3.504497           2.903784  \nmax      79.942140   250.111310          61.110146  ",
            "text/html": "<div>\n<style scoped>\n    .dataframe tbody tr th:only-of-type {\n        vertical-align: middle;\n    }\n\n    .dataframe tbody tr th {\n        vertical-align: top;\n    }\n\n    .dataframe thead th {\n        text-align: right;\n    }\n</style>\n<table border=\"1\" class=\"dataframe\">\n  <thead>\n    <tr style=\"text-align: right;\">\n      <th></th>\n      <th>x_left_eye_outer</th>\n      <th>y_left_eye_outer</th>\n      <th>z_left_eye_outer</th>\n      <th>x_right_eye_inner</th>\n      <th>y_right_eye_inner</th>\n      <th>z_right_eye_inner</th>\n      <th>x_right_eye</th>\n      <th>y_right_eye</th>\n      <th>z_right_eye</th>\n      <th>x_right_eye_outer</th>\n    </tr>\n  </thead>\n  <tbody>\n    <tr>\n      <th>count</th>\n      <td>1097.000000</td>\n      <td>1097.000000</td>\n      <td>1097.000000</td>\n      <td>1097.000000</td>\n      <td>1097.000000</td>\n      <td>1097.000000</td>\n      <td>1097.000000</td>\n      <td>1097.000000</td>\n      <td>1097.000000</td>\n      <td>1097.000000</td>\n    </tr>\n    <tr>\n      <th>mean</th>\n      <td>1.083083</td>\n      <td>-39.579255</td>\n      <td>-30.539071</td>\n      <td>-0.404226</td>\n      <td>-39.530934</td>\n      <td>-30.399054</td>\n      <td>-0.717782</td>\n      <td>-39.589658</td>\n      <td>-30.405472</td>\n      <td>-1.008636</td>\n    </tr>\n    <tr>\n      <th>std</th>\n      <td>24.462829</td>\n      <td>31.062697</td>\n      <td>55.000004</td>\n      <td>24.482050</td>\n      <td>31.282611</td>\n      <td>55.206632</td>\n      <td>24.470752</td>\n      <td>31.071644</td>\n      <td>55.214603</td>\n      <td>24.448016</td>\n    </tr>\n    <tr>\n      <th>min</th>\n      <td>-64.942210</td>\n      <td>-71.317010</td>\n      <td>-458.670560</td>\n      <td>-66.657745</td>\n      <td>-72.438034</td>\n      <td>-459.228100</td>\n      <td>-66.577270</td>\n      <td>-73.024220</td>\n      <td>-459.327360</td>\n      <td>-67.245674</td>\n    </tr>\n    <tr>\n      <th>25%</th>\n      <td>-3.233219</td>\n      <td>-57.418007</td>\n      <td>-46.501522</td>\n      <td>-4.169279</td>\n      <td>-57.555176</td>\n      <td>-46.615210</td>\n      <td>-4.438617</td>\n      <td>-57.505165</td>\n      <td>-46.626633</td>\n      <td>-4.685193</td>\n    </tr>\n    <tr>\n      <th>50%</th>\n      <td>1.111716</td>\n      <td>-52.837370</td>\n      <td>-23.728231</td>\n      <td>-0.778509</td>\n      <td>-52.942234</td>\n      <td>-23.604742</td>\n      <td>-1.272852</td>\n      <td>-52.853650</td>\n      <td>-23.601427</td>\n      <td>-1.704646</td>\n    </tr>\n    <tr>\n      <th>75%</th>\n      <td>5.333421</td>\n      <td>-37.605465</td>\n      <td>-3.091778</td>\n      <td>3.326515</td>\n      <td>-37.796880</td>\n      <td>-3.507623</td>\n      <td>2.832518</td>\n      <td>-37.921380</td>\n      <td>-3.504497</td>\n      <td>2.903784</td>\n    </tr>\n    <tr>\n      <th>max</th>\n      <td>64.513830</td>\n      <td>77.769810</td>\n      <td>253.702790</td>\n      <td>62.453610</td>\n      <td>81.047905</td>\n      <td>250.179800</td>\n      <td>61.723488</td>\n      <td>79.942140</td>\n      <td>250.111310</td>\n      <td>61.110146</td>\n    </tr>\n  </tbody>\n</table>\n</div>"
          },
          "metadata": {}
        }
      ]
    },
    {
      "cell_type": "code",
      "source": [
        "df.iloc[:, 21:31].describe()"
      ],
      "metadata": {
        "execution": {
          "iopub.status.busy": "2022-12-12T14:23:45.886656Z",
          "iopub.execute_input": "2022-12-12T14:23:45.887074Z",
          "iopub.status.idle": "2022-12-12T14:23:45.922111Z",
          "shell.execute_reply.started": "2022-12-12T14:23:45.887041Z",
          "shell.execute_reply": "2022-12-12T14:23:45.921196Z"
        },
        "trusted": true,
        "id": "SlqWhfjMC1_Q",
        "outputId": "668a01f9-919e-46bf-f09b-0a632ee42a61"
      },
      "execution_count": null,
      "outputs": [
        {
          "execution_count": 8,
          "output_type": "execute_result",
          "data": {
            "text/plain": "       y_right_eye_outer  z_right_eye_outer   x_left_ear   y_left_ear  \\\ncount        1097.000000        1097.000000  1097.000000  1097.000000   \nmean          -39.626434         -30.413552     1.559264   -39.091754   \nstd            30.889417          55.214408    23.714871    28.971479   \nmin           -73.569695        -459.375060   -61.420036   -69.016800   \n25%           -57.406730         -46.629290    -3.036607   -55.590527   \n50%           -52.745880         -23.603817     1.776028   -51.503480   \n75%           -37.752316          -3.503117     5.375620   -37.342197   \nmax            78.656944         250.179260    60.976337    67.727196   \n\n        z_left_ear  x_right_ear  y_right_ear  z_right_ear  x_mouth_left  \\\ncount  1097.000000  1097.000000  1097.000000  1097.000000   1097.000000   \nmean    -22.952613    -1.359749   -39.061333   -22.391790      0.627246   \nstd      51.413248    23.681242    28.900577    52.401211     22.436392   \nmin    -424.540220   -64.322975   -70.671070  -427.846860    -63.336056   \n25%     -33.550896    -5.306176   -55.653000   -34.100100     -3.304403   \n50%     -16.448837    -2.272101   -51.504420   -16.806355      0.573281   \n75%      -1.427317     2.876427   -37.030468     0.083197      4.297370   \nmax     262.181760    57.012970    69.501495   247.041100     59.654360   \n\n       y_mouth_left  \ncount   1097.000000  \nmean     -35.225135  \nstd       29.427594  \nmin      -63.510395  \n25%      -52.209580  \n50%      -48.251038  \n75%      -31.937578  \nmax       80.693220  ",
            "text/html": "<div>\n<style scoped>\n    .dataframe tbody tr th:only-of-type {\n        vertical-align: middle;\n    }\n\n    .dataframe tbody tr th {\n        vertical-align: top;\n    }\n\n    .dataframe thead th {\n        text-align: right;\n    }\n</style>\n<table border=\"1\" class=\"dataframe\">\n  <thead>\n    <tr style=\"text-align: right;\">\n      <th></th>\n      <th>y_right_eye_outer</th>\n      <th>z_right_eye_outer</th>\n      <th>x_left_ear</th>\n      <th>y_left_ear</th>\n      <th>z_left_ear</th>\n      <th>x_right_ear</th>\n      <th>y_right_ear</th>\n      <th>z_right_ear</th>\n      <th>x_mouth_left</th>\n      <th>y_mouth_left</th>\n    </tr>\n  </thead>\n  <tbody>\n    <tr>\n      <th>count</th>\n      <td>1097.000000</td>\n      <td>1097.000000</td>\n      <td>1097.000000</td>\n      <td>1097.000000</td>\n      <td>1097.000000</td>\n      <td>1097.000000</td>\n      <td>1097.000000</td>\n      <td>1097.000000</td>\n      <td>1097.000000</td>\n      <td>1097.000000</td>\n    </tr>\n    <tr>\n      <th>mean</th>\n      <td>-39.626434</td>\n      <td>-30.413552</td>\n      <td>1.559264</td>\n      <td>-39.091754</td>\n      <td>-22.952613</td>\n      <td>-1.359749</td>\n      <td>-39.061333</td>\n      <td>-22.391790</td>\n      <td>0.627246</td>\n      <td>-35.225135</td>\n    </tr>\n    <tr>\n      <th>std</th>\n      <td>30.889417</td>\n      <td>55.214408</td>\n      <td>23.714871</td>\n      <td>28.971479</td>\n      <td>51.413248</td>\n      <td>23.681242</td>\n      <td>28.900577</td>\n      <td>52.401211</td>\n      <td>22.436392</td>\n      <td>29.427594</td>\n    </tr>\n    <tr>\n      <th>min</th>\n      <td>-73.569695</td>\n      <td>-459.375060</td>\n      <td>-61.420036</td>\n      <td>-69.016800</td>\n      <td>-424.540220</td>\n      <td>-64.322975</td>\n      <td>-70.671070</td>\n      <td>-427.846860</td>\n      <td>-63.336056</td>\n      <td>-63.510395</td>\n    </tr>\n    <tr>\n      <th>25%</th>\n      <td>-57.406730</td>\n      <td>-46.629290</td>\n      <td>-3.036607</td>\n      <td>-55.590527</td>\n      <td>-33.550896</td>\n      <td>-5.306176</td>\n      <td>-55.653000</td>\n      <td>-34.100100</td>\n      <td>-3.304403</td>\n      <td>-52.209580</td>\n    </tr>\n    <tr>\n      <th>50%</th>\n      <td>-52.745880</td>\n      <td>-23.603817</td>\n      <td>1.776028</td>\n      <td>-51.503480</td>\n      <td>-16.448837</td>\n      <td>-2.272101</td>\n      <td>-51.504420</td>\n      <td>-16.806355</td>\n      <td>0.573281</td>\n      <td>-48.251038</td>\n    </tr>\n    <tr>\n      <th>75%</th>\n      <td>-37.752316</td>\n      <td>-3.503117</td>\n      <td>5.375620</td>\n      <td>-37.342197</td>\n      <td>-1.427317</td>\n      <td>2.876427</td>\n      <td>-37.030468</td>\n      <td>0.083197</td>\n      <td>4.297370</td>\n      <td>-31.937578</td>\n    </tr>\n    <tr>\n      <th>max</th>\n      <td>78.656944</td>\n      <td>250.179260</td>\n      <td>60.976337</td>\n      <td>67.727196</td>\n      <td>262.181760</td>\n      <td>57.012970</td>\n      <td>69.501495</td>\n      <td>247.041100</td>\n      <td>59.654360</td>\n      <td>80.693220</td>\n    </tr>\n  </tbody>\n</table>\n</div>"
          },
          "metadata": {}
        }
      ]
    },
    {
      "cell_type": "code",
      "source": [
        "df.iloc[:, 31:41].describe()"
      ],
      "metadata": {
        "execution": {
          "iopub.status.busy": "2022-12-12T14:24:07.004047Z",
          "iopub.execute_input": "2022-12-12T14:24:07.004424Z",
          "iopub.status.idle": "2022-12-12T14:24:07.048666Z",
          "shell.execute_reply.started": "2022-12-12T14:24:07.004392Z",
          "shell.execute_reply": "2022-12-12T14:24:07.047443Z"
        },
        "trusted": true,
        "id": "n7ENHtItC1_Q",
        "outputId": "2e96b2a2-42f6-416e-88a7-01c296834068"
      },
      "execution_count": null,
      "outputs": [
        {
          "execution_count": 10,
          "output_type": "execute_result",
          "data": {
            "text/plain": "       z_mouth_left  x_mouth_right  y_mouth_right  z_mouth_right  \\\ncount   1097.000000    1097.000000    1097.000000    1097.000000   \nmean     -27.185047      -0.446324     -35.265740     -27.059371   \nstd       51.822574      22.428954      29.291568      52.120344   \nmin     -422.742600     -64.696900     -63.927490    -424.138120   \n25%      -42.669650      -4.255124     -52.316658     -42.960640   \n50%      -20.837952      -0.881376     -48.337738     -21.131977   \n75%       -1.068462       2.913457     -33.217724      -1.415649   \nmax      241.905500      57.658726      80.070114     236.815830   \n\n       x_left_shoulder  y_left_shoulder  z_left_shoulder  x_right_shoulder  \\\ncount      1097.000000      1097.000000      1097.000000       1097.000000   \nmean          4.261374       -29.085253       -17.474874         -3.920156   \nstd          18.847838        20.734051        44.952428         18.723056   \nmin         -44.555332       -52.025050      -322.176060        -53.588260   \n25%          -4.769725       -40.333340       -32.210373         -9.133782   \n50%           5.786751       -39.551888       -14.567022         -6.068835   \n75%           9.359577       -27.204110         5.658229          4.455556   \nmax          53.379135        51.211338       229.268100         44.328262   \n\n       y_right_shoulder  z_right_shoulder  \ncount       1097.000000       1097.000000  \nmean         -29.048851        -15.590361  \nstd           20.407912         46.417645  \nmin          -49.994736       -331.370120  \n25%          -40.148980        -30.486310  \n50%          -39.398186        -14.504732  \n75%          -27.026844          6.742728  \nmax           48.726196        196.105550  ",
            "text/html": "<div>\n<style scoped>\n    .dataframe tbody tr th:only-of-type {\n        vertical-align: middle;\n    }\n\n    .dataframe tbody tr th {\n        vertical-align: top;\n    }\n\n    .dataframe thead th {\n        text-align: right;\n    }\n</style>\n<table border=\"1\" class=\"dataframe\">\n  <thead>\n    <tr style=\"text-align: right;\">\n      <th></th>\n      <th>z_mouth_left</th>\n      <th>x_mouth_right</th>\n      <th>y_mouth_right</th>\n      <th>z_mouth_right</th>\n      <th>x_left_shoulder</th>\n      <th>y_left_shoulder</th>\n      <th>z_left_shoulder</th>\n      <th>x_right_shoulder</th>\n      <th>y_right_shoulder</th>\n      <th>z_right_shoulder</th>\n    </tr>\n  </thead>\n  <tbody>\n    <tr>\n      <th>count</th>\n      <td>1097.000000</td>\n      <td>1097.000000</td>\n      <td>1097.000000</td>\n      <td>1097.000000</td>\n      <td>1097.000000</td>\n      <td>1097.000000</td>\n      <td>1097.000000</td>\n      <td>1097.000000</td>\n      <td>1097.000000</td>\n      <td>1097.000000</td>\n    </tr>\n    <tr>\n      <th>mean</th>\n      <td>-27.185047</td>\n      <td>-0.446324</td>\n      <td>-35.265740</td>\n      <td>-27.059371</td>\n      <td>4.261374</td>\n      <td>-29.085253</td>\n      <td>-17.474874</td>\n      <td>-3.920156</td>\n      <td>-29.048851</td>\n      <td>-15.590361</td>\n    </tr>\n    <tr>\n      <th>std</th>\n      <td>51.822574</td>\n      <td>22.428954</td>\n      <td>29.291568</td>\n      <td>52.120344</td>\n      <td>18.847838</td>\n      <td>20.734051</td>\n      <td>44.952428</td>\n      <td>18.723056</td>\n      <td>20.407912</td>\n      <td>46.417645</td>\n    </tr>\n    <tr>\n      <th>min</th>\n      <td>-422.742600</td>\n      <td>-64.696900</td>\n      <td>-63.927490</td>\n      <td>-424.138120</td>\n      <td>-44.555332</td>\n      <td>-52.025050</td>\n      <td>-322.176060</td>\n      <td>-53.588260</td>\n      <td>-49.994736</td>\n      <td>-331.370120</td>\n    </tr>\n    <tr>\n      <th>25%</th>\n      <td>-42.669650</td>\n      <td>-4.255124</td>\n      <td>-52.316658</td>\n      <td>-42.960640</td>\n      <td>-4.769725</td>\n      <td>-40.333340</td>\n      <td>-32.210373</td>\n      <td>-9.133782</td>\n      <td>-40.148980</td>\n      <td>-30.486310</td>\n    </tr>\n    <tr>\n      <th>50%</th>\n      <td>-20.837952</td>\n      <td>-0.881376</td>\n      <td>-48.337738</td>\n      <td>-21.131977</td>\n      <td>5.786751</td>\n      <td>-39.551888</td>\n      <td>-14.567022</td>\n      <td>-6.068835</td>\n      <td>-39.398186</td>\n      <td>-14.504732</td>\n    </tr>\n    <tr>\n      <th>75%</th>\n      <td>-1.068462</td>\n      <td>2.913457</td>\n      <td>-33.217724</td>\n      <td>-1.415649</td>\n      <td>9.359577</td>\n      <td>-27.204110</td>\n      <td>5.658229</td>\n      <td>4.455556</td>\n      <td>-27.026844</td>\n      <td>6.742728</td>\n    </tr>\n    <tr>\n      <th>max</th>\n      <td>241.905500</td>\n      <td>57.658726</td>\n      <td>80.070114</td>\n      <td>236.815830</td>\n      <td>53.379135</td>\n      <td>51.211338</td>\n      <td>229.268100</td>\n      <td>44.328262</td>\n      <td>48.726196</td>\n      <td>196.105550</td>\n    </tr>\n  </tbody>\n</table>\n</div>"
          },
          "metadata": {}
        }
      ]
    },
    {
      "cell_type": "code",
      "source": [
        "df.iloc[:, 41:51].describe()"
      ],
      "metadata": {
        "execution": {
          "iopub.status.busy": "2022-12-12T14:24:30.058159Z",
          "iopub.execute_input": "2022-12-12T14:24:30.058570Z",
          "iopub.status.idle": "2022-12-12T14:24:30.101155Z",
          "shell.execute_reply.started": "2022-12-12T14:24:30.058534Z",
          "shell.execute_reply": "2022-12-12T14:24:30.100136Z"
        },
        "trusted": true,
        "id": "pV-hXm9CC1_R",
        "outputId": "5fc0b507-050f-4a90-d784-f051c0498070"
      },
      "execution_count": null,
      "outputs": [
        {
          "execution_count": 11,
          "output_type": "execute_result",
          "data": {
            "text/plain": "       x_left_elbow  y_left_elbow  z_left_elbow  x_right_elbow  y_right_elbow  \\\ncount   1097.000000   1097.000000   1097.000000    1097.000000    1097.000000   \nmean       6.167579    -23.595236    -19.198659      -6.728569     -23.291119   \nstd       19.603304     26.999968     46.520670      19.655741      26.451287   \nmin      -52.230980    -84.603676   -219.624080     -83.835590     -65.664250   \n25%       -5.236672    -45.013393    -44.270355     -16.105920     -44.026226   \n50%        8.696303    -24.614960    -18.159113      -9.228739     -24.783617   \n75%       15.347749    -14.740764      7.481369       5.395467     -13.525516   \nmax       72.591606     76.488754    227.797180      56.826380      77.632256   \n\n       z_right_elbow  x_left_wrist  y_left_wrist  z_left_wrist  x_right_wrist  \ncount    1097.000000   1097.000000   1097.000000   1097.000000    1097.000000  \nmean      -16.702731      4.971975    -23.132715    -24.519901      -6.268483  \nstd        48.163661     22.913381     43.351679     54.574606      22.986754  \nmin      -232.211560    -68.391340    -93.705710   -239.351610     -75.974290  \n25%       -38.797222     -7.764921    -56.999630    -51.566826     -16.426777  \n50%       -16.141333      6.749375    -34.204742    -26.993933      -7.742307  \n75%         6.296913     15.438453      0.846212      6.656235       6.830577  \nmax       215.676880     80.613940     96.400100    242.868210      73.502030  ",
            "text/html": "<div>\n<style scoped>\n    .dataframe tbody tr th:only-of-type {\n        vertical-align: middle;\n    }\n\n    .dataframe tbody tr th {\n        vertical-align: top;\n    }\n\n    .dataframe thead th {\n        text-align: right;\n    }\n</style>\n<table border=\"1\" class=\"dataframe\">\n  <thead>\n    <tr style=\"text-align: right;\">\n      <th></th>\n      <th>x_left_elbow</th>\n      <th>y_left_elbow</th>\n      <th>z_left_elbow</th>\n      <th>x_right_elbow</th>\n      <th>y_right_elbow</th>\n      <th>z_right_elbow</th>\n      <th>x_left_wrist</th>\n      <th>y_left_wrist</th>\n      <th>z_left_wrist</th>\n      <th>x_right_wrist</th>\n    </tr>\n  </thead>\n  <tbody>\n    <tr>\n      <th>count</th>\n      <td>1097.000000</td>\n      <td>1097.000000</td>\n      <td>1097.000000</td>\n      <td>1097.000000</td>\n      <td>1097.000000</td>\n      <td>1097.000000</td>\n      <td>1097.000000</td>\n      <td>1097.000000</td>\n      <td>1097.000000</td>\n      <td>1097.000000</td>\n    </tr>\n    <tr>\n      <th>mean</th>\n      <td>6.167579</td>\n      <td>-23.595236</td>\n      <td>-19.198659</td>\n      <td>-6.728569</td>\n      <td>-23.291119</td>\n      <td>-16.702731</td>\n      <td>4.971975</td>\n      <td>-23.132715</td>\n      <td>-24.519901</td>\n      <td>-6.268483</td>\n    </tr>\n    <tr>\n      <th>std</th>\n      <td>19.603304</td>\n      <td>26.999968</td>\n      <td>46.520670</td>\n      <td>19.655741</td>\n      <td>26.451287</td>\n      <td>48.163661</td>\n      <td>22.913381</td>\n      <td>43.351679</td>\n      <td>54.574606</td>\n      <td>22.986754</td>\n    </tr>\n    <tr>\n      <th>min</th>\n      <td>-52.230980</td>\n      <td>-84.603676</td>\n      <td>-219.624080</td>\n      <td>-83.835590</td>\n      <td>-65.664250</td>\n      <td>-232.211560</td>\n      <td>-68.391340</td>\n      <td>-93.705710</td>\n      <td>-239.351610</td>\n      <td>-75.974290</td>\n    </tr>\n    <tr>\n      <th>25%</th>\n      <td>-5.236672</td>\n      <td>-45.013393</td>\n      <td>-44.270355</td>\n      <td>-16.105920</td>\n      <td>-44.026226</td>\n      <td>-38.797222</td>\n      <td>-7.764921</td>\n      <td>-56.999630</td>\n      <td>-51.566826</td>\n      <td>-16.426777</td>\n    </tr>\n    <tr>\n      <th>50%</th>\n      <td>8.696303</td>\n      <td>-24.614960</td>\n      <td>-18.159113</td>\n      <td>-9.228739</td>\n      <td>-24.783617</td>\n      <td>-16.141333</td>\n      <td>6.749375</td>\n      <td>-34.204742</td>\n      <td>-26.993933</td>\n      <td>-7.742307</td>\n    </tr>\n    <tr>\n      <th>75%</th>\n      <td>15.347749</td>\n      <td>-14.740764</td>\n      <td>7.481369</td>\n      <td>5.395467</td>\n      <td>-13.525516</td>\n      <td>6.296913</td>\n      <td>15.438453</td>\n      <td>0.846212</td>\n      <td>6.656235</td>\n      <td>6.830577</td>\n    </tr>\n    <tr>\n      <th>max</th>\n      <td>72.591606</td>\n      <td>76.488754</td>\n      <td>227.797180</td>\n      <td>56.826380</td>\n      <td>77.632256</td>\n      <td>215.676880</td>\n      <td>80.613940</td>\n      <td>96.400100</td>\n      <td>242.868210</td>\n      <td>73.502030</td>\n    </tr>\n  </tbody>\n</table>\n</div>"
          },
          "metadata": {}
        }
      ]
    },
    {
      "cell_type": "code",
      "source": [
        "df.iloc[:, 51:61].describe()"
      ],
      "metadata": {
        "execution": {
          "iopub.status.busy": "2022-12-12T14:24:45.722508Z",
          "iopub.execute_input": "2022-12-12T14:24:45.723079Z",
          "iopub.status.idle": "2022-12-12T14:24:45.761176Z",
          "shell.execute_reply.started": "2022-12-12T14:24:45.723044Z",
          "shell.execute_reply": "2022-12-12T14:24:45.760264Z"
        },
        "trusted": true,
        "id": "zCzw9HhgC1_R",
        "outputId": "aa0043ee-0b69-4ffc-a82f-b8a5f27f06f8"
      },
      "execution_count": null,
      "outputs": [
        {
          "execution_count": 12,
          "output_type": "execute_result",
          "data": {
            "text/plain": "       y_right_wrist  z_right_wrist  x_left_pinky_1  y_left_pinky_1  \\\ncount    1097.000000    1097.000000     1097.000000     1097.000000   \nmean      -23.129454     -21.319079        4.804250      -23.231085   \nstd        42.930797      56.903591       24.761259       47.044528   \nmin       -93.499200    -248.383400      -71.943440      -99.908200   \n25%       -56.968030     -47.567455       -8.436792      -61.208088   \n50%       -33.155754     -25.298388        5.927539      -36.275310   \n75%         0.965322      10.027046       16.426432        6.474356   \nmax        95.000720     242.366290       86.044430       99.805680   \n\n       z_left_pinky_1  x_right_pinky_1  y_right_pinky_1  z_right_pinky_1  \\\ncount     1097.000000      1097.000000      1097.000000      1097.000000   \nmean       -28.436471        -6.359894       -23.319978       -24.987937   \nstd         58.441589        24.794762        46.604565        60.841775   \nmin       -254.731200       -84.673090       -99.123085      -270.446200   \n25%        -57.699417       -17.518700       -61.167843       -53.413128   \n50%        -31.713768        -7.373226       -35.486130       -29.048994   \n75%          4.436020         7.222744         6.236359         9.143328   \nmax        243.793840        78.779510        98.919495       245.107560   \n\n       x_left_index_1  y_left_index_1  \ncount     1097.000000     1097.000000  \nmean         4.398988      -23.679363  \nstd         24.501353       47.128395  \nmin        -71.972664      -99.733180  \n25%         -8.006936      -61.520416  \n50%          5.359511      -37.549988  \n75%         15.657976        6.461628  \nmax         86.781220       98.876830  ",
            "text/html": "<div>\n<style scoped>\n    .dataframe tbody tr th:only-of-type {\n        vertical-align: middle;\n    }\n\n    .dataframe tbody tr th {\n        vertical-align: top;\n    }\n\n    .dataframe thead th {\n        text-align: right;\n    }\n</style>\n<table border=\"1\" class=\"dataframe\">\n  <thead>\n    <tr style=\"text-align: right;\">\n      <th></th>\n      <th>y_right_wrist</th>\n      <th>z_right_wrist</th>\n      <th>x_left_pinky_1</th>\n      <th>y_left_pinky_1</th>\n      <th>z_left_pinky_1</th>\n      <th>x_right_pinky_1</th>\n      <th>y_right_pinky_1</th>\n      <th>z_right_pinky_1</th>\n      <th>x_left_index_1</th>\n      <th>y_left_index_1</th>\n    </tr>\n  </thead>\n  <tbody>\n    <tr>\n      <th>count</th>\n      <td>1097.000000</td>\n      <td>1097.000000</td>\n      <td>1097.000000</td>\n      <td>1097.000000</td>\n      <td>1097.000000</td>\n      <td>1097.000000</td>\n      <td>1097.000000</td>\n      <td>1097.000000</td>\n      <td>1097.000000</td>\n      <td>1097.000000</td>\n    </tr>\n    <tr>\n      <th>mean</th>\n      <td>-23.129454</td>\n      <td>-21.319079</td>\n      <td>4.804250</td>\n      <td>-23.231085</td>\n      <td>-28.436471</td>\n      <td>-6.359894</td>\n      <td>-23.319978</td>\n      <td>-24.987937</td>\n      <td>4.398988</td>\n      <td>-23.679363</td>\n    </tr>\n    <tr>\n      <th>std</th>\n      <td>42.930797</td>\n      <td>56.903591</td>\n      <td>24.761259</td>\n      <td>47.044528</td>\n      <td>58.441589</td>\n      <td>24.794762</td>\n      <td>46.604565</td>\n      <td>60.841775</td>\n      <td>24.501353</td>\n      <td>47.128395</td>\n    </tr>\n    <tr>\n      <th>min</th>\n      <td>-93.499200</td>\n      <td>-248.383400</td>\n      <td>-71.943440</td>\n      <td>-99.908200</td>\n      <td>-254.731200</td>\n      <td>-84.673090</td>\n      <td>-99.123085</td>\n      <td>-270.446200</td>\n      <td>-71.972664</td>\n      <td>-99.733180</td>\n    </tr>\n    <tr>\n      <th>25%</th>\n      <td>-56.968030</td>\n      <td>-47.567455</td>\n      <td>-8.436792</td>\n      <td>-61.208088</td>\n      <td>-57.699417</td>\n      <td>-17.518700</td>\n      <td>-61.167843</td>\n      <td>-53.413128</td>\n      <td>-8.006936</td>\n      <td>-61.520416</td>\n    </tr>\n    <tr>\n      <th>50%</th>\n      <td>-33.155754</td>\n      <td>-25.298388</td>\n      <td>5.927539</td>\n      <td>-36.275310</td>\n      <td>-31.713768</td>\n      <td>-7.373226</td>\n      <td>-35.486130</td>\n      <td>-29.048994</td>\n      <td>5.359511</td>\n      <td>-37.549988</td>\n    </tr>\n    <tr>\n      <th>75%</th>\n      <td>0.965322</td>\n      <td>10.027046</td>\n      <td>16.426432</td>\n      <td>6.474356</td>\n      <td>4.436020</td>\n      <td>7.222744</td>\n      <td>6.236359</td>\n      <td>9.143328</td>\n      <td>15.657976</td>\n      <td>6.461628</td>\n    </tr>\n    <tr>\n      <th>max</th>\n      <td>95.000720</td>\n      <td>242.366290</td>\n      <td>86.044430</td>\n      <td>99.805680</td>\n      <td>243.793840</td>\n      <td>78.779510</td>\n      <td>98.919495</td>\n      <td>245.107560</td>\n      <td>86.781220</td>\n      <td>98.876830</td>\n    </tr>\n  </tbody>\n</table>\n</div>"
          },
          "metadata": {}
        }
      ]
    },
    {
      "cell_type": "code",
      "source": [
        "df.iloc[:, 71:81].describe()"
      ],
      "metadata": {
        "execution": {
          "iopub.status.busy": "2022-12-12T14:24:55.456473Z",
          "iopub.execute_input": "2022-12-12T14:24:55.456907Z",
          "iopub.status.idle": "2022-12-12T14:24:55.494370Z",
          "shell.execute_reply.started": "2022-12-12T14:24:55.456869Z",
          "shell.execute_reply": "2022-12-12T14:24:55.493098Z"
        },
        "trusted": true,
        "id": "xei4kqd6C1_S",
        "outputId": "fab719c2-7f50-4e5f-c3be-fb3aecdaccbe"
      },
      "execution_count": null,
      "outputs": [
        {
          "execution_count": 13,
          "output_type": "execute_result",
          "data": {
            "text/plain": "        x_left_hip   y_left_hip   z_left_hip  x_right_hip  y_right_hip  \\\ncount  1097.000000  1097.000000  1097.000000  1097.000000  1097.000000   \nmean      2.479423     0.031863    -0.673849    -2.479423    -0.031863   \nstd       3.559661     2.997467    13.346260     3.559661     2.997468   \nmin     -16.397907   -11.419733   -51.663525   -19.060642   -12.999614   \n25%       0.338729    -0.499273    -9.907591    -4.488431    -0.684324   \n50%       3.374421    -0.010310    -0.338217    -3.374431     0.010317   \n75%       4.488431     0.684324     6.112632    -0.338719     0.499282   \nmax      19.060642    12.999614    33.714275    16.397902    11.419730   \n\n       z_right_hip  x_left_knee  y_left_knee  z_left_knee  x_right_knee  \ncount  1097.000000  1097.000000  1097.000000  1097.000000   1097.000000  \nmean      0.673849     3.272910    14.113968    -0.126792     -4.147354  \nstd      13.346260    14.495337    19.908773    40.645453     14.805059  \nmin     -33.714275   -36.314540   -59.261780  -190.245120    -44.932125  \n25%      -6.112632    -4.573740     2.945107   -16.784197    -11.289550  \n50%       0.338217     3.881257    22.995836    -1.221787     -4.181828  \n75%       9.907591    10.520423    28.342926    18.547405      2.927653  \nmax      51.663525    50.403183    68.706856   261.437770     51.367910  ",
            "text/html": "<div>\n<style scoped>\n    .dataframe tbody tr th:only-of-type {\n        vertical-align: middle;\n    }\n\n    .dataframe tbody tr th {\n        vertical-align: top;\n    }\n\n    .dataframe thead th {\n        text-align: right;\n    }\n</style>\n<table border=\"1\" class=\"dataframe\">\n  <thead>\n    <tr style=\"text-align: right;\">\n      <th></th>\n      <th>x_left_hip</th>\n      <th>y_left_hip</th>\n      <th>z_left_hip</th>\n      <th>x_right_hip</th>\n      <th>y_right_hip</th>\n      <th>z_right_hip</th>\n      <th>x_left_knee</th>\n      <th>y_left_knee</th>\n      <th>z_left_knee</th>\n      <th>x_right_knee</th>\n    </tr>\n  </thead>\n  <tbody>\n    <tr>\n      <th>count</th>\n      <td>1097.000000</td>\n      <td>1097.000000</td>\n      <td>1097.000000</td>\n      <td>1097.000000</td>\n      <td>1097.000000</td>\n      <td>1097.000000</td>\n      <td>1097.000000</td>\n      <td>1097.000000</td>\n      <td>1097.000000</td>\n      <td>1097.000000</td>\n    </tr>\n    <tr>\n      <th>mean</th>\n      <td>2.479423</td>\n      <td>0.031863</td>\n      <td>-0.673849</td>\n      <td>-2.479423</td>\n      <td>-0.031863</td>\n      <td>0.673849</td>\n      <td>3.272910</td>\n      <td>14.113968</td>\n      <td>-0.126792</td>\n      <td>-4.147354</td>\n    </tr>\n    <tr>\n      <th>std</th>\n      <td>3.559661</td>\n      <td>2.997467</td>\n      <td>13.346260</td>\n      <td>3.559661</td>\n      <td>2.997468</td>\n      <td>13.346260</td>\n      <td>14.495337</td>\n      <td>19.908773</td>\n      <td>40.645453</td>\n      <td>14.805059</td>\n    </tr>\n    <tr>\n      <th>min</th>\n      <td>-16.397907</td>\n      <td>-11.419733</td>\n      <td>-51.663525</td>\n      <td>-19.060642</td>\n      <td>-12.999614</td>\n      <td>-33.714275</td>\n      <td>-36.314540</td>\n      <td>-59.261780</td>\n      <td>-190.245120</td>\n      <td>-44.932125</td>\n    </tr>\n    <tr>\n      <th>25%</th>\n      <td>0.338729</td>\n      <td>-0.499273</td>\n      <td>-9.907591</td>\n      <td>-4.488431</td>\n      <td>-0.684324</td>\n      <td>-6.112632</td>\n      <td>-4.573740</td>\n      <td>2.945107</td>\n      <td>-16.784197</td>\n      <td>-11.289550</td>\n    </tr>\n    <tr>\n      <th>50%</th>\n      <td>3.374421</td>\n      <td>-0.010310</td>\n      <td>-0.338217</td>\n      <td>-3.374431</td>\n      <td>0.010317</td>\n      <td>0.338217</td>\n      <td>3.881257</td>\n      <td>22.995836</td>\n      <td>-1.221787</td>\n      <td>-4.181828</td>\n    </tr>\n    <tr>\n      <th>75%</th>\n      <td>4.488431</td>\n      <td>0.684324</td>\n      <td>6.112632</td>\n      <td>-0.338719</td>\n      <td>0.499282</td>\n      <td>9.907591</td>\n      <td>10.520423</td>\n      <td>28.342926</td>\n      <td>18.547405</td>\n      <td>2.927653</td>\n    </tr>\n    <tr>\n      <th>max</th>\n      <td>19.060642</td>\n      <td>12.999614</td>\n      <td>33.714275</td>\n      <td>16.397902</td>\n      <td>11.419730</td>\n      <td>51.663525</td>\n      <td>50.403183</td>\n      <td>68.706856</td>\n      <td>261.437770</td>\n      <td>51.367910</td>\n    </tr>\n  </tbody>\n</table>\n</div>"
          },
          "metadata": {}
        }
      ]
    },
    {
      "cell_type": "code",
      "source": [
        "df.iloc[:, 81:91].describe()"
      ],
      "metadata": {
        "execution": {
          "iopub.status.busy": "2022-12-12T14:25:04.737803Z",
          "iopub.execute_input": "2022-12-12T14:25:04.738199Z",
          "iopub.status.idle": "2022-12-12T14:25:04.776559Z",
          "shell.execute_reply.started": "2022-12-12T14:25:04.738165Z",
          "shell.execute_reply": "2022-12-12T14:25:04.775901Z"
        },
        "trusted": true,
        "id": "b7ST-KMwC1_S",
        "outputId": "a15515d8-f530-448c-e7f9-a366393d1477"
      },
      "execution_count": null,
      "outputs": [
        {
          "execution_count": 14,
          "output_type": "execute_result",
          "data": {
            "text/plain": "       y_right_knee  z_right_knee  x_left_ankle  y_left_ankle  z_left_ankle  \\\ncount   1097.000000   1097.000000   1097.000000   1097.000000   1097.000000   \nmean      14.176733      2.535154      3.418327     32.697822     24.486933   \nstd       19.570245     39.872236     25.221444     27.654779     65.286718   \nmin      -57.359802   -149.922450    -69.501430    -91.312200   -351.748780   \n25%        3.107528    -14.860225     -4.414329     14.764984     -6.289033   \n50%       22.317368      0.474476      3.567106     41.979435     23.433350   \n75%       28.344313     19.796848     13.244793     53.185284     44.470715   \nmax       68.215460    263.351600     79.464880     92.869170    512.353940   \n\n       x_right_ankle  y_right_ankle  z_right_ankle  x_left_heel  y_left_heel  \ncount    1097.000000    1097.000000    1097.000000  1097.000000  1097.000000  \nmean       -4.717393      32.732612      26.607474     3.253721    35.133279  \nstd        25.707421      27.439707      64.607977    26.848763    29.296417  \nmin       -86.360140     -90.816320    -316.362270   -76.789120   -99.817160  \n25%       -13.782983      16.216860      -3.556313    -4.364262    17.265875  \n50%        -3.868173      40.845413      24.568132     3.406112    44.737330  \n75%         2.547834      53.139800      43.551056    12.690364    56.596817  \nmax        75.659790      88.525340     512.584500    83.666010    97.915110  ",
            "text/html": "<div>\n<style scoped>\n    .dataframe tbody tr th:only-of-type {\n        vertical-align: middle;\n    }\n\n    .dataframe tbody tr th {\n        vertical-align: top;\n    }\n\n    .dataframe thead th {\n        text-align: right;\n    }\n</style>\n<table border=\"1\" class=\"dataframe\">\n  <thead>\n    <tr style=\"text-align: right;\">\n      <th></th>\n      <th>y_right_knee</th>\n      <th>z_right_knee</th>\n      <th>x_left_ankle</th>\n      <th>y_left_ankle</th>\n      <th>z_left_ankle</th>\n      <th>x_right_ankle</th>\n      <th>y_right_ankle</th>\n      <th>z_right_ankle</th>\n      <th>x_left_heel</th>\n      <th>y_left_heel</th>\n    </tr>\n  </thead>\n  <tbody>\n    <tr>\n      <th>count</th>\n      <td>1097.000000</td>\n      <td>1097.000000</td>\n      <td>1097.000000</td>\n      <td>1097.000000</td>\n      <td>1097.000000</td>\n      <td>1097.000000</td>\n      <td>1097.000000</td>\n      <td>1097.000000</td>\n      <td>1097.000000</td>\n      <td>1097.000000</td>\n    </tr>\n    <tr>\n      <th>mean</th>\n      <td>14.176733</td>\n      <td>2.535154</td>\n      <td>3.418327</td>\n      <td>32.697822</td>\n      <td>24.486933</td>\n      <td>-4.717393</td>\n      <td>32.732612</td>\n      <td>26.607474</td>\n      <td>3.253721</td>\n      <td>35.133279</td>\n    </tr>\n    <tr>\n      <th>std</th>\n      <td>19.570245</td>\n      <td>39.872236</td>\n      <td>25.221444</td>\n      <td>27.654779</td>\n      <td>65.286718</td>\n      <td>25.707421</td>\n      <td>27.439707</td>\n      <td>64.607977</td>\n      <td>26.848763</td>\n      <td>29.296417</td>\n    </tr>\n    <tr>\n      <th>min</th>\n      <td>-57.359802</td>\n      <td>-149.922450</td>\n      <td>-69.501430</td>\n      <td>-91.312200</td>\n      <td>-351.748780</td>\n      <td>-86.360140</td>\n      <td>-90.816320</td>\n      <td>-316.362270</td>\n      <td>-76.789120</td>\n      <td>-99.817160</td>\n    </tr>\n    <tr>\n      <th>25%</th>\n      <td>3.107528</td>\n      <td>-14.860225</td>\n      <td>-4.414329</td>\n      <td>14.764984</td>\n      <td>-6.289033</td>\n      <td>-13.782983</td>\n      <td>16.216860</td>\n      <td>-3.556313</td>\n      <td>-4.364262</td>\n      <td>17.265875</td>\n    </tr>\n    <tr>\n      <th>50%</th>\n      <td>22.317368</td>\n      <td>0.474476</td>\n      <td>3.567106</td>\n      <td>41.979435</td>\n      <td>23.433350</td>\n      <td>-3.868173</td>\n      <td>40.845413</td>\n      <td>24.568132</td>\n      <td>3.406112</td>\n      <td>44.737330</td>\n    </tr>\n    <tr>\n      <th>75%</th>\n      <td>28.344313</td>\n      <td>19.796848</td>\n      <td>13.244793</td>\n      <td>53.185284</td>\n      <td>44.470715</td>\n      <td>2.547834</td>\n      <td>53.139800</td>\n      <td>43.551056</td>\n      <td>12.690364</td>\n      <td>56.596817</td>\n    </tr>\n    <tr>\n      <th>max</th>\n      <td>68.215460</td>\n      <td>263.351600</td>\n      <td>79.464880</td>\n      <td>92.869170</td>\n      <td>512.353940</td>\n      <td>75.659790</td>\n      <td>88.525340</td>\n      <td>512.584500</td>\n      <td>83.666010</td>\n      <td>97.915110</td>\n    </tr>\n  </tbody>\n</table>\n</div>"
          },
          "metadata": {}
        }
      ]
    },
    {
      "cell_type": "code",
      "source": [
        "df.iloc[:, 91:].describe()"
      ],
      "metadata": {
        "execution": {
          "iopub.status.busy": "2022-12-12T14:25:17.441159Z",
          "iopub.execute_input": "2022-12-12T14:25:17.441552Z",
          "iopub.status.idle": "2022-12-12T14:25:17.481196Z",
          "shell.execute_reply.started": "2022-12-12T14:25:17.441516Z",
          "shell.execute_reply": "2022-12-12T14:25:17.480552Z"
        },
        "trusted": true,
        "id": "xfq8gSeGC1_S",
        "outputId": "6320fb01-1741-44cc-f6b3-920fb05a8680"
      },
      "execution_count": null,
      "outputs": [
        {
          "execution_count": 15,
          "output_type": "execute_result",
          "data": {
            "text/plain": "       z_left_heel  x_right_heel  y_right_heel  z_right_heel  \\\ncount  1097.000000   1097.000000   1097.000000   1097.000000   \nmean     26.510942     -4.483414     35.229423     28.636009   \nstd      68.457885     27.153198     29.035621     67.821931   \nmin    -368.987880    -87.276010    -99.969400   -334.563870   \n25%      -5.678543    -13.371049     18.600668     -2.854865   \n50%      24.861042     -4.042651     43.930687     25.423359   \n75%      46.762560      3.143690     56.155956     45.967274   \nmax     541.711100     83.391620     98.518140    540.971600   \n\n       x_left_foot_index  y_left_foot_index  z_left_foot_index  \\\ncount        1097.000000        1097.000000        1097.000000   \nmean            3.289102          40.228771          14.356177   \nstd            29.062193          31.379031          72.328249   \nmin           -81.992210         -99.275190        -423.637570   \n25%            -5.930643          23.143908         -14.776978   \n50%             3.645946          50.737988          10.905448   \n75%            15.428953          62.077587          35.520462   \nmax            98.586450          99.829030         565.342400   \n\n       x_right_foot_index  y_right_foot_index  z_right_foot_index  \ncount         1097.000000         1097.000000         1097.000000  \nmean            -5.158548           39.911178           16.617366  \nstd             29.559802           31.403258           71.804185  \nmin            -97.181305          -99.920200         -380.154000  \n25%            -16.590565           23.575298          -15.244630  \n50%             -4.533698           50.243694           11.231042  \n75%              3.517952           61.494850           36.787037  \nmax             94.965490           99.537735          558.523600  ",
            "text/html": "<div>\n<style scoped>\n    .dataframe tbody tr th:only-of-type {\n        vertical-align: middle;\n    }\n\n    .dataframe tbody tr th {\n        vertical-align: top;\n    }\n\n    .dataframe thead th {\n        text-align: right;\n    }\n</style>\n<table border=\"1\" class=\"dataframe\">\n  <thead>\n    <tr style=\"text-align: right;\">\n      <th></th>\n      <th>z_left_heel</th>\n      <th>x_right_heel</th>\n      <th>y_right_heel</th>\n      <th>z_right_heel</th>\n      <th>x_left_foot_index</th>\n      <th>y_left_foot_index</th>\n      <th>z_left_foot_index</th>\n      <th>x_right_foot_index</th>\n      <th>y_right_foot_index</th>\n      <th>z_right_foot_index</th>\n    </tr>\n  </thead>\n  <tbody>\n    <tr>\n      <th>count</th>\n      <td>1097.000000</td>\n      <td>1097.000000</td>\n      <td>1097.000000</td>\n      <td>1097.000000</td>\n      <td>1097.000000</td>\n      <td>1097.000000</td>\n      <td>1097.000000</td>\n      <td>1097.000000</td>\n      <td>1097.000000</td>\n      <td>1097.000000</td>\n    </tr>\n    <tr>\n      <th>mean</th>\n      <td>26.510942</td>\n      <td>-4.483414</td>\n      <td>35.229423</td>\n      <td>28.636009</td>\n      <td>3.289102</td>\n      <td>40.228771</td>\n      <td>14.356177</td>\n      <td>-5.158548</td>\n      <td>39.911178</td>\n      <td>16.617366</td>\n    </tr>\n    <tr>\n      <th>std</th>\n      <td>68.457885</td>\n      <td>27.153198</td>\n      <td>29.035621</td>\n      <td>67.821931</td>\n      <td>29.062193</td>\n      <td>31.379031</td>\n      <td>72.328249</td>\n      <td>29.559802</td>\n      <td>31.403258</td>\n      <td>71.804185</td>\n    </tr>\n    <tr>\n      <th>min</th>\n      <td>-368.987880</td>\n      <td>-87.276010</td>\n      <td>-99.969400</td>\n      <td>-334.563870</td>\n      <td>-81.992210</td>\n      <td>-99.275190</td>\n      <td>-423.637570</td>\n      <td>-97.181305</td>\n      <td>-99.920200</td>\n      <td>-380.154000</td>\n    </tr>\n    <tr>\n      <th>25%</th>\n      <td>-5.678543</td>\n      <td>-13.371049</td>\n      <td>18.600668</td>\n      <td>-2.854865</td>\n      <td>-5.930643</td>\n      <td>23.143908</td>\n      <td>-14.776978</td>\n      <td>-16.590565</td>\n      <td>23.575298</td>\n      <td>-15.244630</td>\n    </tr>\n    <tr>\n      <th>50%</th>\n      <td>24.861042</td>\n      <td>-4.042651</td>\n      <td>43.930687</td>\n      <td>25.423359</td>\n      <td>3.645946</td>\n      <td>50.737988</td>\n      <td>10.905448</td>\n      <td>-4.533698</td>\n      <td>50.243694</td>\n      <td>11.231042</td>\n    </tr>\n    <tr>\n      <th>75%</th>\n      <td>46.762560</td>\n      <td>3.143690</td>\n      <td>56.155956</td>\n      <td>45.967274</td>\n      <td>15.428953</td>\n      <td>62.077587</td>\n      <td>35.520462</td>\n      <td>3.517952</td>\n      <td>61.494850</td>\n      <td>36.787037</td>\n    </tr>\n    <tr>\n      <th>max</th>\n      <td>541.711100</td>\n      <td>83.391620</td>\n      <td>98.518140</td>\n      <td>540.971600</td>\n      <td>98.586450</td>\n      <td>99.829030</td>\n      <td>565.342400</td>\n      <td>94.965490</td>\n      <td>99.537735</td>\n      <td>558.523600</td>\n    </tr>\n  </tbody>\n</table>\n</div>"
          },
          "metadata": {}
        }
      ]
    },
    {
      "cell_type": "markdown",
      "source": [
        "The value_counts() function returns a Series that contain counts of unique values. It returns an object that will be in descending order so that its first element will be the most frequently-occurred element. By default, it excludes NA values."
      ],
      "metadata": {
        "id": "40beqlDJDZ0H"
      }
    },
    {
      "cell_type": "code",
      "source": [
        "df['pose'].value_counts()"
      ],
      "metadata": {
        "execution": {
          "iopub.status.busy": "2022-12-12T14:32:41.630264Z",
          "iopub.execute_input": "2022-12-12T14:32:41.630612Z",
          "iopub.status.idle": "2022-12-12T14:32:41.638383Z",
          "shell.execute_reply.started": "2022-12-12T14:32:41.630581Z",
          "shell.execute_reply": "2022-12-12T14:32:41.637464Z"
        },
        "trusted": true,
        "id": "-hVj4lFWC1_T",
        "outputId": "94da1963-e935-4eb5-ce34-594876c63064"
      },
      "execution_count": null,
      "outputs": [
        {
          "execution_count": 19,
          "output_type": "execute_result",
          "data": {
            "text/plain": "jumping_jacks_down    151\njumping_jacks_up      145\npullups_down          123\npushups_up            115\nsquats_up             111\npullups_up            108\nsquats_down           101\nsitup_down             82\npushups_down           82\nsitup_up               79\nName: pose, dtype: int64"
          },
          "metadata": {}
        }
      ]
    },
    {
      "cell_type": "markdown",
      "source": [
        "### Importing the ML Libraries"
      ],
      "metadata": {
        "id": "ZvKZzBFnDl2A"
      }
    },
    {
      "cell_type": "code",
      "source": [
        "from sklearn.preprocessing import LabelEncoder, MinMaxScaler\n",
        "from sklearn.utils.class_weight import compute_class_weight\n",
        "from sklearn.model_selection import cross_val_score, GridSearchCV, train_test_split\n",
        "from sklearn.linear_model import LogisticRegression, SGDClassifier\n",
        "from sklearn.ensemble import RandomForestClassifier, GradientBoostingClassifier\n",
        "from sklearn.naive_bayes import MultinomialNB, GaussianNB, BernoulliNB\n",
        "from sklearn.neighbors import KNeighborsClassifier\n",
        "from sklearn.svm import SVC\n",
        "from sklearn.neural_network import MLPClassifier"
      ],
      "metadata": {
        "execution": {
          "iopub.status.busy": "2022-12-12T14:57:55.789235Z",
          "iopub.execute_input": "2022-12-12T14:57:55.789625Z",
          "iopub.status.idle": "2022-12-12T14:57:55.797518Z",
          "shell.execute_reply.started": "2022-12-12T14:57:55.789590Z",
          "shell.execute_reply": "2022-12-12T14:57:55.796318Z"
        },
        "trusted": true,
        "id": "LI9x87lWC1_T"
      },
      "execution_count": null,
      "outputs": []
    },
    {
      "cell_type": "code",
      "source": [
        "encoder = LabelEncoder()\n",
        "y = df['pose']\n",
        "y = encoder.fit_transform(y)"
      ],
      "metadata": {
        "execution": {
          "iopub.status.busy": "2022-12-12T14:34:23.304992Z",
          "iopub.execute_input": "2022-12-12T14:34:23.305374Z",
          "iopub.status.idle": "2022-12-12T14:34:23.310844Z",
          "shell.execute_reply.started": "2022-12-12T14:34:23.305343Z",
          "shell.execute_reply": "2022-12-12T14:34:23.309520Z"
        },
        "trusted": true,
        "id": "dYXvgm8qC1_T"
      },
      "execution_count": null,
      "outputs": []
    },
    {
      "cell_type": "code",
      "source": [
        "class_weights = compute_class_weight(class_weight='balanced', classes=np.unique(y), y=y)\n",
        "class_weights_dict = {}\n",
        "for idx, x in enumerate(class_weights):\n",
        "    class_weights_dict[idx] = x"
      ],
      "metadata": {
        "execution": {
          "iopub.status.busy": "2022-12-12T14:38:44.865520Z",
          "iopub.execute_input": "2022-12-12T14:38:44.865913Z",
          "iopub.status.idle": "2022-12-12T14:38:44.872717Z",
          "shell.execute_reply.started": "2022-12-12T14:38:44.865880Z",
          "shell.execute_reply": "2022-12-12T14:38:44.871909Z"
        },
        "trusted": true,
        "id": "VR9ngJfjC1_T"
      },
      "execution_count": null,
      "outputs": []
    },
    {
      "cell_type": "code",
      "source": [
        "class_weights_dict"
      ],
      "metadata": {
        "execution": {
          "iopub.status.busy": "2022-12-12T14:38:54.375227Z",
          "iopub.execute_input": "2022-12-12T14:38:54.375603Z",
          "iopub.status.idle": "2022-12-12T14:38:54.382602Z",
          "shell.execute_reply.started": "2022-12-12T14:38:54.375572Z",
          "shell.execute_reply": "2022-12-12T14:38:54.381496Z"
        },
        "trusted": true,
        "id": "RjsWIxY3C1_T",
        "outputId": "5f56b139-b3c1-404e-b9d2-330548adb2f8"
      },
      "execution_count": null,
      "outputs": [
        {
          "execution_count": 25,
          "output_type": "execute_result",
          "data": {
            "text/plain": "{0: 0.7264900662251655,\n 1: 0.756551724137931,\n 2: 0.891869918699187,\n 3: 1.0157407407407408,\n 4: 1.3378048780487806,\n 5: 0.9539130434782609,\n 6: 1.3378048780487806,\n 7: 1.388607594936709,\n 8: 1.0861386138613862,\n 9: 0.9882882882882883}"
          },
          "metadata": {}
        }
      ]
    },
    {
      "cell_type": "markdown",
      "source": [
        "The MinMaxscaler is a type of scaler that scales the minimum and maximum values to be 0 and 1 respectively. While the StandardScaler scales all values between min and max so that they fall within a range from min to max."
      ],
      "metadata": {
        "id": "4hqI6e3ED1CA"
      }
    },
    {
      "cell_type": "code",
      "source": [
        "scaler = MinMaxScaler()"
      ],
      "metadata": {
        "execution": {
          "iopub.status.busy": "2022-12-12T14:58:00.058593Z",
          "iopub.execute_input": "2022-12-12T14:58:00.058969Z",
          "iopub.status.idle": "2022-12-12T14:58:00.063122Z",
          "shell.execute_reply.started": "2022-12-12T14:58:00.058937Z",
          "shell.execute_reply": "2022-12-12T14:58:00.062359Z"
        },
        "trusted": true,
        "id": "YljlCWaPC1_U"
      },
      "execution_count": null,
      "outputs": []
    },
    {
      "cell_type": "code",
      "source": [
        "X = df.drop(['pose_id', 'pose'], axis='columns')\n",
        "X = scaler.fit_transform(X)\n",
        "X"
      ],
      "metadata": {
        "execution": {
          "iopub.status.busy": "2022-12-12T14:58:03.272642Z",
          "iopub.execute_input": "2022-12-12T14:58:03.273288Z",
          "iopub.status.idle": "2022-12-12T14:58:03.287668Z",
          "shell.execute_reply.started": "2022-12-12T14:58:03.273256Z",
          "shell.execute_reply": "2022-12-12T14:58:03.286160Z"
        },
        "trusted": true,
        "id": "nCRElhu0C1_U",
        "outputId": "fbc15b4c-d88a-42ba-bb81-f37a1728eefd"
      },
      "execution_count": null,
      "outputs": [
        {
          "execution_count": 43,
          "output_type": "execute_result",
          "data": {
            "text/plain": "array([[0.50136258, 0.13278824, 0.56866763, ..., 0.41843847, 0.77862418,\n        0.40717296],\n       [0.91817977, 0.36587233, 0.65579966, ..., 0.23207233, 0.48164534,\n        0.46864234],\n       [0.57989752, 0.09384508, 0.77171539, ..., 0.12154496, 0.693832  ,\n        0.36182196],\n       ...,\n       [0.47136346, 0.12550405, 0.65802736, ..., 0.71101245, 0.50134483,\n        0.33822023],\n       [0.18389567, 0.44086609, 0.55341214, ..., 0.23140524, 0.4253117 ,\n        0.28585592],\n       [0.49970255, 0.10269578, 0.59849468, ..., 0.43619372, 0.74566449,\n        0.42992408]])"
          },
          "metadata": {}
        }
      ]
    },
    {
      "cell_type": "code",
      "source": [
        "models = {\n",
        "    'Logistic Regression': LogisticRegression(max_iter=10000000000),\n",
        "    'SGD Classifier': SGDClassifier(class_weight=class_weights_dict),\n",
        "    'Random Forest': RandomForestClassifier(class_weight=class_weights_dict),\n",
        "    'Gradient Boosting': GradientBoostingClassifier(),\n",
        "    'Multinomial NB': MultinomialNB(),\n",
        "    'GaussianNB': GaussianNB(),\n",
        "    'KNeighbors': KNeighborsClassifier(),\n",
        "    'SVC': SVC(class_weight=class_weights_dict),\n",
        "    'Neural Network': MLPClassifier(max_iter=10000000)\n",
        "}\n",
        "models"
      ],
      "metadata": {
        "execution": {
          "iopub.status.busy": "2022-12-12T14:58:27.723064Z",
          "iopub.execute_input": "2022-12-12T14:58:27.723407Z",
          "iopub.status.idle": "2022-12-12T14:58:27.737535Z",
          "shell.execute_reply.started": "2022-12-12T14:58:27.723383Z",
          "shell.execute_reply": "2022-12-12T14:58:27.735952Z"
        },
        "trusted": true,
        "id": "kyZkOJAVC1_U",
        "outputId": "c097930d-375e-4421-e957-6041bcb8a09a"
      },
      "execution_count": null,
      "outputs": [
        {
          "execution_count": 44,
          "output_type": "execute_result",
          "data": {
            "text/plain": "{'Logistic Regression': LogisticRegression(max_iter=10000000000),\n 'SGD Classifier': SGDClassifier(class_weight={0: 0.7264900662251655, 1: 0.756551724137931,\n                             2: 0.891869918699187, 3: 1.0157407407407408,\n                             4: 1.3378048780487806, 5: 0.9539130434782609,\n                             6: 1.3378048780487806, 7: 1.388607594936709,\n                             8: 1.0861386138613862, 9: 0.9882882882882883}),\n 'Random Forest': RandomForestClassifier(class_weight={0: 0.7264900662251655,\n                                      1: 0.756551724137931, 2: 0.891869918699187,\n                                      3: 1.0157407407407408,\n                                      4: 1.3378048780487806,\n                                      5: 0.9539130434782609,\n                                      6: 1.3378048780487806,\n                                      7: 1.388607594936709,\n                                      8: 1.0861386138613862,\n                                      9: 0.9882882882882883}),\n 'Gradient Boosting': GradientBoostingClassifier(),\n 'Multinomial NB': MultinomialNB(),\n 'GaussianNB': GaussianNB(),\n 'KNeighbors': KNeighborsClassifier(),\n 'SVC': SVC(class_weight={0: 0.7264900662251655, 1: 0.756551724137931,\n                   2: 0.891869918699187, 3: 1.0157407407407408,\n                   4: 1.3378048780487806, 5: 0.9539130434782609,\n                   6: 1.3378048780487806, 7: 1.388607594936709,\n                   8: 1.0861386138613862, 9: 0.9882882882882883}),\n 'Neural Network': MLPClassifier(max_iter=10000000)}"
          },
          "metadata": {}
        }
      ]
    },
    {
      "cell_type": "code",
      "source": [
        "for key, model in models.items():\n",
        "    scores = cross_val_score(model, X, y)\n",
        "    print(key, ' scores: ', scores)\n",
        "    print(key, ' mean: ', scores.mean())"
      ],
      "metadata": {
        "execution": {
          "iopub.status.busy": "2022-12-12T14:58:31.587712Z",
          "iopub.execute_input": "2022-12-12T14:58:31.588144Z",
          "iopub.status.idle": "2022-12-12T15:00:53.553654Z",
          "shell.execute_reply.started": "2022-12-12T14:58:31.588102Z",
          "shell.execute_reply": "2022-12-12T15:00:53.552916Z"
        },
        "trusted": true,
        "id": "VsSrwzWFC1_U",
        "outputId": "c6ff8298-708d-4ce8-877d-2a866fd323a1"
      },
      "execution_count": null,
      "outputs": [
        {
          "name": "stdout",
          "text": "Logistic Regression  scores:  [0.74090909 0.66363636 0.73059361 0.72146119 0.72146119]\nLogistic Regression  mean:  0.7156122872561229\nSGD Classifier  scores:  [0.48636364 0.69090909 0.58447489 0.67123288 0.73059361]\nSGD Classifier  mean:  0.6327148194271481\nRandom Forest  scores:  [0.84545455 0.8        0.83561644 0.83561644 0.89041096]\nRandom Forest  mean:  0.841419676214197\nGradient Boosting  scores:  [0.83636364 0.8        0.76712329 0.82648402 0.8630137 ]\nGradient Boosting  mean:  0.8185969281859693\nMultinomial NB  scores:  [0.51818182 0.51363636 0.48858447 0.51141553 0.51141553]\nMultinomial NB  mean:  0.5086467413864674\nGaussianNB  scores:  [0.65909091 0.64090909 0.64383562 0.65753425 0.68493151]\nGaussianNB  mean:  0.6572602739726027\nKNeighbors  scores:  [0.82272727 0.79090909 0.82191781 0.83561644 0.82648402]\nKNeighbors  mean:  0.8195309256953094\nSVC  scores:  [0.75909091 0.73181818 0.74885845 0.77625571 0.78995434]\nSVC  mean:  0.7611955168119551\nNeural Network  scores:  [0.82272727 0.80454545 0.79452055 0.82191781 0.84018265]\nNeural Network  mean:  0.8167787463677876\n",
          "output_type": "stream"
        }
      ]
    },
    {
      "cell_type": "code",
      "source": [
        "rf_optimizer = GridSearchCV(RandomForestClassifier(class_weight=class_weights_dict), {\n",
        "    'n_estimators': [50, 100, 150, 200],\n",
        "    'criterion': ['gini', 'entropy', 'log_loss']\n",
        "})"
      ],
      "metadata": {
        "execution": {
          "iopub.status.busy": "2022-12-12T15:04:00.881929Z",
          "iopub.execute_input": "2022-12-12T15:04:00.882294Z",
          "iopub.status.idle": "2022-12-12T15:04:00.887195Z",
          "shell.execute_reply.started": "2022-12-12T15:04:00.882265Z",
          "shell.execute_reply": "2022-12-12T15:04:00.886256Z"
        },
        "trusted": true,
        "id": "_MaorzW2C1_U"
      },
      "execution_count": null,
      "outputs": []
    },
    {
      "cell_type": "code",
      "source": [
        "rf_optimizer.fit(X, y)"
      ],
      "metadata": {
        "execution": {
          "iopub.status.busy": "2022-12-12T15:04:22.565225Z",
          "iopub.execute_input": "2022-12-12T15:04:22.565603Z",
          "iopub.status.idle": "2022-12-12T15:05:00.159690Z",
          "shell.execute_reply.started": "2022-12-12T15:04:22.565574Z",
          "shell.execute_reply": "2022-12-12T15:05:00.157964Z"
        },
        "trusted": true,
        "id": "NQdrXxxWC1_V",
        "outputId": "602397fb-0825-47f1-fbd6-d22ce286facb"
      },
      "execution_count": null,
      "outputs": [
        {
          "name": "stderr",
          "text": "/opt/conda/lib/python3.7/site-packages/sklearn/model_selection/_validation.py:372: FitFailedWarning: \n20 fits failed out of a total of 60.\nThe score on these train-test partitions for these parameters will be set to nan.\nIf these failures are not expected, you can try to debug them by setting error_score='raise'.\n\nBelow are more details about the failures:\n--------------------------------------------------------------------------------\n20 fits failed with the following error:\nTraceback (most recent call last):\n  File \"/opt/conda/lib/python3.7/site-packages/sklearn/model_selection/_validation.py\", line 680, in _fit_and_score\n    estimator.fit(X_train, y_train, **fit_params)\n  File \"/opt/conda/lib/python3.7/site-packages/sklearn/ensemble/_forest.py\", line 467, in fit\n    for i, t in enumerate(trees)\n  File \"/opt/conda/lib/python3.7/site-packages/joblib/parallel.py\", line 1041, in __call__\n    if self.dispatch_one_batch(iterator):\n  File \"/opt/conda/lib/python3.7/site-packages/joblib/parallel.py\", line 859, in dispatch_one_batch\n    self._dispatch(tasks)\n  File \"/opt/conda/lib/python3.7/site-packages/joblib/parallel.py\", line 777, in _dispatch\n    job = self._backend.apply_async(batch, callback=cb)\n  File \"/opt/conda/lib/python3.7/site-packages/joblib/_parallel_backends.py\", line 208, in apply_async\n    result = ImmediateResult(func)\n  File \"/opt/conda/lib/python3.7/site-packages/joblib/_parallel_backends.py\", line 572, in __init__\n    self.results = batch()\n  File \"/opt/conda/lib/python3.7/site-packages/joblib/parallel.py\", line 263, in __call__\n    for func, args, kwargs in self.items]\n  File \"/opt/conda/lib/python3.7/site-packages/joblib/parallel.py\", line 263, in <listcomp>\n    for func, args, kwargs in self.items]\n  File \"/opt/conda/lib/python3.7/site-packages/sklearn/utils/fixes.py\", line 216, in __call__\n    return self.function(*args, **kwargs)\n  File \"/opt/conda/lib/python3.7/site-packages/sklearn/ensemble/_forest.py\", line 185, in _parallel_build_trees\n    tree.fit(X, y, sample_weight=curr_sample_weight, check_input=False)\n  File \"/opt/conda/lib/python3.7/site-packages/sklearn/tree/_classes.py\", line 942, in fit\n    X_idx_sorted=X_idx_sorted,\n  File \"/opt/conda/lib/python3.7/site-packages/sklearn/tree/_classes.py\", line 352, in fit\n    criterion = CRITERIA_CLF[self.criterion](\nKeyError: 'log_loss'\n\n  warnings.warn(some_fits_failed_message, FitFailedWarning)\n/opt/conda/lib/python3.7/site-packages/sklearn/model_selection/_search.py:972: UserWarning: One or more of the test scores are non-finite: [0.82775841 0.83230386 0.83958904 0.83775841 0.82407223 0.83960565\n 0.84050228 0.83137817        nan        nan        nan        nan]\n  category=UserWarning,\n",
          "output_type": "stream"
        },
        {
          "execution_count": 47,
          "output_type": "execute_result",
          "data": {
            "text/plain": "GridSearchCV(estimator=RandomForestClassifier(class_weight={0: 0.7264900662251655,\n                                                            1: 0.756551724137931,\n                                                            2: 0.891869918699187,\n                                                            3: 1.0157407407407408,\n                                                            4: 1.3378048780487806,\n                                                            5: 0.9539130434782609,\n                                                            6: 1.3378048780487806,\n                                                            7: 1.388607594936709,\n                                                            8: 1.0861386138613862,\n                                                            9: 0.9882882882882883}),\n             param_grid={'criterion': ['gini', 'entropy', 'log_loss'],\n                         'n_estimators': [50, 100, 150, 200]})"
          },
          "metadata": {}
        }
      ]
    },
    {
      "cell_type": "code",
      "source": [
        "optimizer_results = pd.DataFrame(rf_optimizer.cv_results_)\n",
        "optimizer_results[['param_n_estimators', 'param_criterion', 'mean_test_score']]"
      ],
      "metadata": {
        "execution": {
          "iopub.status.busy": "2022-12-12T15:06:35.426928Z",
          "iopub.execute_input": "2022-12-12T15:06:35.427280Z",
          "iopub.status.idle": "2022-12-12T15:06:35.443602Z",
          "shell.execute_reply.started": "2022-12-12T15:06:35.427250Z",
          "shell.execute_reply": "2022-12-12T15:06:35.442451Z"
        },
        "trusted": true,
        "id": "aGKVF7uKC1_V",
        "outputId": "9447b656-b995-40f8-981a-acf7ffe769cd"
      },
      "execution_count": null,
      "outputs": [
        {
          "execution_count": 48,
          "output_type": "execute_result",
          "data": {
            "text/plain": "   param_n_estimators param_criterion  mean_test_score\n0                  50            gini         0.827758\n1                 100            gini         0.832304\n2                 150            gini         0.839589\n3                 200            gini         0.837758\n4                  50         entropy         0.824072\n5                 100         entropy         0.839606\n6                 150         entropy         0.840502\n7                 200         entropy         0.831378\n8                  50        log_loss              NaN\n9                 100        log_loss              NaN\n10                150        log_loss              NaN\n11                200        log_loss              NaN",
            "text/html": "<div>\n<style scoped>\n    .dataframe tbody tr th:only-of-type {\n        vertical-align: middle;\n    }\n\n    .dataframe tbody tr th {\n        vertical-align: top;\n    }\n\n    .dataframe thead th {\n        text-align: right;\n    }\n</style>\n<table border=\"1\" class=\"dataframe\">\n  <thead>\n    <tr style=\"text-align: right;\">\n      <th></th>\n      <th>param_n_estimators</th>\n      <th>param_criterion</th>\n      <th>mean_test_score</th>\n    </tr>\n  </thead>\n  <tbody>\n    <tr>\n      <th>0</th>\n      <td>50</td>\n      <td>gini</td>\n      <td>0.827758</td>\n    </tr>\n    <tr>\n      <th>1</th>\n      <td>100</td>\n      <td>gini</td>\n      <td>0.832304</td>\n    </tr>\n    <tr>\n      <th>2</th>\n      <td>150</td>\n      <td>gini</td>\n      <td>0.839589</td>\n    </tr>\n    <tr>\n      <th>3</th>\n      <td>200</td>\n      <td>gini</td>\n      <td>0.837758</td>\n    </tr>\n    <tr>\n      <th>4</th>\n      <td>50</td>\n      <td>entropy</td>\n      <td>0.824072</td>\n    </tr>\n    <tr>\n      <th>5</th>\n      <td>100</td>\n      <td>entropy</td>\n      <td>0.839606</td>\n    </tr>\n    <tr>\n      <th>6</th>\n      <td>150</td>\n      <td>entropy</td>\n      <td>0.840502</td>\n    </tr>\n    <tr>\n      <th>7</th>\n      <td>200</td>\n      <td>entropy</td>\n      <td>0.831378</td>\n    </tr>\n    <tr>\n      <th>8</th>\n      <td>50</td>\n      <td>log_loss</td>\n      <td>NaN</td>\n    </tr>\n    <tr>\n      <th>9</th>\n      <td>100</td>\n      <td>log_loss</td>\n      <td>NaN</td>\n    </tr>\n    <tr>\n      <th>10</th>\n      <td>150</td>\n      <td>log_loss</td>\n      <td>NaN</td>\n    </tr>\n    <tr>\n      <th>11</th>\n      <td>200</td>\n      <td>log_loss</td>\n      <td>NaN</td>\n    </tr>\n  </tbody>\n</table>\n</div>"
          },
          "metadata": {}
        }
      ]
    },
    {
      "cell_type": "code",
      "source": [
        "print('Best Sccore: ', rf_optimizer.best_score_)\n",
        "print('Optimal Param: ', rf_optimizer.best_params_)"
      ],
      "metadata": {
        "execution": {
          "iopub.status.busy": "2022-12-12T15:07:53.042823Z",
          "iopub.execute_input": "2022-12-12T15:07:53.043231Z",
          "iopub.status.idle": "2022-12-12T15:07:53.050389Z",
          "shell.execute_reply.started": "2022-12-12T15:07:53.043188Z",
          "shell.execute_reply": "2022-12-12T15:07:53.048964Z"
        },
        "trusted": true,
        "id": "AO-D7_sBC1_V",
        "outputId": "8aeee8ce-17c6-4455-dbd0-358fb39cbbea"
      },
      "execution_count": null,
      "outputs": [
        {
          "name": "stdout",
          "text": "Best Sccore:  0.8405022831050228\nOptimal Param:  {'criterion': 'entropy', 'n_estimators': 150}\n",
          "output_type": "stream"
        }
      ]
    },
    {
      "cell_type": "code",
      "source": [
        "X_train, X_test, y_train, y_test = train_test_split(X, y, stratify=y, test_size=0.2, random_state=2022)"
      ],
      "metadata": {
        "execution": {
          "iopub.status.busy": "2022-12-12T15:09:31.742200Z",
          "iopub.execute_input": "2022-12-12T15:09:31.742551Z",
          "iopub.status.idle": "2022-12-12T15:09:31.751458Z",
          "shell.execute_reply.started": "2022-12-12T15:09:31.742521Z",
          "shell.execute_reply": "2022-12-12T15:09:31.750246Z"
        },
        "trusted": true,
        "id": "ii0jgjN5C1_V"
      },
      "execution_count": null,
      "outputs": []
    },
    {
      "cell_type": "code",
      "source": [
        "optimized_model = RandomForestClassifier(class_weight=class_weights_dict, criterion='entropy', n_estimators=150)"
      ],
      "metadata": {
        "execution": {
          "iopub.status.busy": "2022-12-12T15:10:52.324123Z",
          "iopub.execute_input": "2022-12-12T15:10:52.324488Z",
          "iopub.status.idle": "2022-12-12T15:10:52.328822Z",
          "shell.execute_reply.started": "2022-12-12T15:10:52.324449Z",
          "shell.execute_reply": "2022-12-12T15:10:52.328179Z"
        },
        "trusted": true,
        "id": "NwU79jPIC1_V"
      },
      "execution_count": null,
      "outputs": []
    },
    {
      "cell_type": "code",
      "source": [
        "optimized_model.fit(X_train, y_train)"
      ],
      "metadata": {
        "execution": {
          "iopub.status.busy": "2022-12-12T15:11:07.583745Z",
          "iopub.execute_input": "2022-12-12T15:11:07.584100Z",
          "iopub.status.idle": "2022-12-12T15:11:08.852797Z",
          "shell.execute_reply.started": "2022-12-12T15:11:07.584075Z",
          "shell.execute_reply": "2022-12-12T15:11:08.851404Z"
        },
        "trusted": true,
        "id": "3ESBUHdLC1_V",
        "outputId": "bc0e003c-aeca-4629-fc66-26e3152b60dc"
      },
      "execution_count": null,
      "outputs": [
        {
          "execution_count": 53,
          "output_type": "execute_result",
          "data": {
            "text/plain": "RandomForestClassifier(class_weight={0: 0.7264900662251655,\n                                     1: 0.756551724137931, 2: 0.891869918699187,\n                                     3: 1.0157407407407408,\n                                     4: 1.3378048780487806,\n                                     5: 0.9539130434782609,\n                                     6: 1.3378048780487806,\n                                     7: 1.388607594936709,\n                                     8: 1.0861386138613862,\n                                     9: 0.9882882882882883},\n                       criterion='entropy', n_estimators=150)"
          },
          "metadata": {}
        }
      ]
    },
    {
      "cell_type": "code",
      "source": [
        "optimized_model.score(X_test, y_test)"
      ],
      "metadata": {
        "execution": {
          "iopub.status.busy": "2022-12-12T15:11:31.272878Z",
          "iopub.execute_input": "2022-12-12T15:11:31.273239Z",
          "iopub.status.idle": "2022-12-12T15:11:31.304121Z",
          "shell.execute_reply.started": "2022-12-12T15:11:31.273209Z",
          "shell.execute_reply": "2022-12-12T15:11:31.302823Z"
        },
        "trusted": true,
        "id": "zRz6f-sHC1_V",
        "outputId": "da1adab8-c9b5-4ff5-a545-948f2c208aeb"
      },
      "execution_count": null,
      "outputs": [
        {
          "execution_count": 54,
          "output_type": "execute_result",
          "data": {
            "text/plain": "0.8363636363636363"
          },
          "metadata": {}
        }
      ]
    },
    {
      "cell_type": "code",
      "source": [
        "from sklearn.metrics import classification_report"
      ],
      "metadata": {
        "execution": {
          "iopub.status.busy": "2022-12-12T15:12:29.074203Z",
          "iopub.execute_input": "2022-12-12T15:12:29.074646Z",
          "iopub.status.idle": "2022-12-12T15:12:29.078521Z",
          "shell.execute_reply.started": "2022-12-12T15:12:29.074611Z",
          "shell.execute_reply": "2022-12-12T15:12:29.077889Z"
        },
        "trusted": true,
        "id": "nDc-1S1rC1_W"
      },
      "execution_count": null,
      "outputs": []
    },
    {
      "cell_type": "code",
      "source": [
        "y_predicted = optimized_model.predict(X_test)"
      ],
      "metadata": {
        "execution": {
          "iopub.status.busy": "2022-12-12T15:12:50.391554Z",
          "iopub.execute_input": "2022-12-12T15:12:50.392056Z",
          "iopub.status.idle": "2022-12-12T15:12:50.421303Z",
          "shell.execute_reply.started": "2022-12-12T15:12:50.392013Z",
          "shell.execute_reply": "2022-12-12T15:12:50.420537Z"
        },
        "trusted": true,
        "id": "MJCGLUtXC1_W"
      },
      "execution_count": null,
      "outputs": []
    },
    {
      "cell_type": "code",
      "source": [
        "print(classification_report(y_test, y_predicted, target_names=encoder.classes_))"
      ],
      "metadata": {
        "execution": {
          "iopub.status.busy": "2022-12-12T15:15:41.476679Z",
          "iopub.execute_input": "2022-12-12T15:15:41.477130Z",
          "iopub.status.idle": "2022-12-12T15:15:41.489187Z",
          "shell.execute_reply.started": "2022-12-12T15:15:41.477094Z",
          "shell.execute_reply": "2022-12-12T15:15:41.487692Z"
        },
        "trusted": true,
        "id": "1r_hCc6lC1_W",
        "outputId": "abff7430-43be-418e-a5b1-f7fdc4477983"
      },
      "execution_count": null,
      "outputs": [
        {
          "name": "stdout",
          "text": "                    precision    recall  f1-score   support\n\njumping_jacks_down       0.85      0.93      0.89        30\n  jumping_jacks_up       0.83      0.86      0.85        29\n      pullups_down       0.73      0.88      0.80        25\n        pullups_up       0.81      0.59      0.68        22\n      pushups_down       0.83      0.94      0.88        16\n        pushups_up       0.91      0.91      0.91        23\n        situp_down       0.89      1.00      0.94        17\n          situp_up       1.00      0.62      0.77        16\n       squats_down       0.89      0.85      0.87        20\n         squats_up       0.73      0.73      0.73        22\n\n          accuracy                           0.84       220\n         macro avg       0.85      0.83      0.83       220\n      weighted avg       0.84      0.84      0.83       220\n\n",
          "output_type": "stream"
        }
      ]
    }
  ]
}