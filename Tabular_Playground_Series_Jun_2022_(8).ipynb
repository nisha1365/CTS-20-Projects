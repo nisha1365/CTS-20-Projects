{
  "cells": [
    {
      "cell_type": "markdown",
      "metadata": {
        "id": "view-in-github",
        "colab_type": "text"
      },
      "source": [
        "<a href=\"https://colab.research.google.com/github/nisha1365/CTS-20-Projects/blob/main/Tabular_Playground_Series_Jun_2022_(8).ipynb\" target=\"_parent\"><img src=\"https://colab.research.google.com/assets/colab-badge.svg\" alt=\"Open In Colab\"/></a>"
      ]
    },
    {
      "cell_type": "code",
      "execution_count": null,
      "id": "bdbb845f",
      "metadata": {
        "_cell_guid": "b1076dfc-b9ad-4769-8c92-a6c4dae69d19",
        "_uuid": "8f2839f25d086af736a60e9eeb907d3b93b6e0e5",
        "execution": {
          "iopub.execute_input": "2022-07-01T12:58:50.818367Z",
          "iopub.status.busy": "2022-07-01T12:58:50.817867Z",
          "iopub.status.idle": "2022-07-01T12:58:50.833564Z",
          "shell.execute_reply": "2022-07-01T12:58:50.832406Z"
        },
        "papermill": {
          "duration": 0.026101,
          "end_time": "2022-07-01T12:58:50.836613",
          "exception": false,
          "start_time": "2022-07-01T12:58:50.810512",
          "status": "completed"
        },
        "tags": [],
        "id": "bdbb845f",
        "outputId": "b54dd69d-98c1-4827-94d0-f489d7a6afd1"
      },
      "outputs": [
        {
          "name": "stdout",
          "output_type": "stream",
          "text": [
            "/kaggle/input/tabular-playground-series-jun-2022/sample_submission.csv\n",
            "/kaggle/input/tabular-playground-series-jun-2022/data.csv\n"
          ]
        }
      ],
      "source": [
        "# This Python 3 environment comes with many helpful analytics libraries installed\n",
        "# It is defined by the kaggle/python Docker image: https://github.com/kaggle/docker-python\n",
        "# For example, here's several helpful packages to load\n",
        "\n",
        "import numpy as np # linear algebra\n",
        "import pandas as pd # data processing, CSV file I/O (e.g. pd.read_csv)\n",
        "\n",
        "# Input data files are available in the read-only \"../input/\" directory\n",
        "# For example, running this (by clicking run or pressing Shift+Enter) will list all files under the input directory\n",
        "\n",
        "import os\n",
        "for dirname, _, filenames in os.walk('/kaggle/input'):\n",
        "    for filename in filenames:\n",
        "        print(os.path.join(dirname, filename))\n",
        "\n",
        "# You can write up to 20GB to the current directory (/kaggle/working/) that gets preserved as output when you create a version using \"Save & Run All\" \n",
        "# You can also write temporary files to /kaggle/temp/, but they won't be saved outside of the current session"
      ]
    },
    {
      "cell_type": "code",
      "execution_count": null,
      "id": "0bf3dd1d",
      "metadata": {
        "execution": {
          "iopub.execute_input": "2022-07-01T12:58:50.846494Z",
          "iopub.status.busy": "2022-07-01T12:58:50.846249Z",
          "iopub.status.idle": "2022-07-01T12:59:06.663380Z",
          "shell.execute_reply": "2022-07-01T12:59:06.662318Z"
        },
        "papermill": {
          "duration": 15.825063,
          "end_time": "2022-07-01T12:59:06.666269",
          "exception": false,
          "start_time": "2022-07-01T12:58:50.841206",
          "status": "completed"
        },
        "tags": [],
        "id": "0bf3dd1d"
      },
      "outputs": [],
      "source": [
        "df = pd.read_csv('../input/tabular-playground-series-jun-2022/data.csv')"
      ]
    },
    {
      "cell_type": "code",
      "execution_count": null,
      "id": "dbea7bed",
      "metadata": {
        "execution": {
          "iopub.execute_input": "2022-07-01T12:59:06.676952Z",
          "iopub.status.busy": "2022-07-01T12:59:06.676644Z",
          "iopub.status.idle": "2022-07-01T12:59:07.525577Z",
          "shell.execute_reply": "2022-07-01T12:59:07.524620Z"
        },
        "papermill": {
          "duration": 0.856941,
          "end_time": "2022-07-01T12:59:07.527982",
          "exception": false,
          "start_time": "2022-07-01T12:59:06.671041",
          "status": "completed"
        },
        "tags": [],
        "id": "dbea7bed"
      },
      "outputs": [],
      "source": [
        "sub = pd.read_csv('../input/tabular-playground-series-jun-2022/sample_submission.csv', index_col='row-col')"
      ]
    },
    {
      "cell_type": "code",
      "execution_count": null,
      "id": "3629613c",
      "metadata": {
        "execution": {
          "iopub.execute_input": "2022-07-01T12:59:07.538021Z",
          "iopub.status.busy": "2022-07-01T12:59:07.537711Z",
          "iopub.status.idle": "2022-07-01T12:59:07.566061Z",
          "shell.execute_reply": "2022-07-01T12:59:07.565069Z"
        },
        "papermill": {
          "duration": 0.036147,
          "end_time": "2022-07-01T12:59:07.568675",
          "exception": false,
          "start_time": "2022-07-01T12:59:07.532528",
          "status": "completed"
        },
        "tags": [],
        "id": "3629613c",
        "outputId": "ea07b6fe-dc13-4cfd-9800-b564562bc1e4"
      },
      "outputs": [
        {
          "data": {
            "text/html": [
              "<div>\n",
              "<style scoped>\n",
              "    .dataframe tbody tr th:only-of-type {\n",
              "        vertical-align: middle;\n",
              "    }\n",
              "\n",
              "    .dataframe tbody tr th {\n",
              "        vertical-align: top;\n",
              "    }\n",
              "\n",
              "    .dataframe thead th {\n",
              "        text-align: right;\n",
              "    }\n",
              "</style>\n",
              "<table border=\"1\" class=\"dataframe\">\n",
              "  <thead>\n",
              "    <tr style=\"text-align: right;\">\n",
              "      <th></th>\n",
              "      <th>row_id</th>\n",
              "      <th>F_1_0</th>\n",
              "      <th>F_1_1</th>\n",
              "      <th>F_1_2</th>\n",
              "      <th>F_1_3</th>\n",
              "      <th>F_1_4</th>\n",
              "      <th>F_1_5</th>\n",
              "      <th>F_1_6</th>\n",
              "      <th>F_1_7</th>\n",
              "      <th>F_1_8</th>\n",
              "      <th>...</th>\n",
              "      <th>F_4_5</th>\n",
              "      <th>F_4_6</th>\n",
              "      <th>F_4_7</th>\n",
              "      <th>F_4_8</th>\n",
              "      <th>F_4_9</th>\n",
              "      <th>F_4_10</th>\n",
              "      <th>F_4_11</th>\n",
              "      <th>F_4_12</th>\n",
              "      <th>F_4_13</th>\n",
              "      <th>F_4_14</th>\n",
              "    </tr>\n",
              "  </thead>\n",
              "  <tbody>\n",
              "    <tr>\n",
              "      <th>0</th>\n",
              "      <td>0</td>\n",
              "      <td>-0.354591</td>\n",
              "      <td>-0.464038</td>\n",
              "      <td>2.304115</td>\n",
              "      <td>0.734486</td>\n",
              "      <td>1.696395</td>\n",
              "      <td>0.136285</td>\n",
              "      <td>-0.518344</td>\n",
              "      <td>0.502640</td>\n",
              "      <td>-1.852504</td>\n",
              "      <td>...</td>\n",
              "      <td>3.744152</td>\n",
              "      <td>0.794438</td>\n",
              "      <td>0.265185</td>\n",
              "      <td>-0.561809</td>\n",
              "      <td>0.196480</td>\n",
              "      <td>0.373434</td>\n",
              "      <td>6.206995</td>\n",
              "      <td>3.809505</td>\n",
              "      <td>1.236486</td>\n",
              "      <td>1.182055</td>\n",
              "    </tr>\n",
              "    <tr>\n",
              "      <th>1</th>\n",
              "      <td>1</td>\n",
              "      <td>1.380940</td>\n",
              "      <td>-0.499626</td>\n",
              "      <td>-0.418548</td>\n",
              "      <td>1.911725</td>\n",
              "      <td>-0.826130</td>\n",
              "      <td>-1.715371</td>\n",
              "      <td>-0.577091</td>\n",
              "      <td>-1.041486</td>\n",
              "      <td>0.596067</td>\n",
              "      <td>...</td>\n",
              "      <td>-2.895826</td>\n",
              "      <td>-0.738275</td>\n",
              "      <td>2.361818</td>\n",
              "      <td>-0.060753</td>\n",
              "      <td>0.727249</td>\n",
              "      <td>-0.271882</td>\n",
              "      <td>5.232157</td>\n",
              "      <td>-4.218259</td>\n",
              "      <td>-2.724883</td>\n",
              "      <td>-0.063775</td>\n",
              "    </tr>\n",
              "    <tr>\n",
              "      <th>2</th>\n",
              "      <td>2</td>\n",
              "      <td>0.256023</td>\n",
              "      <td>-1.059874</td>\n",
              "      <td>NaN</td>\n",
              "      <td>0.345678</td>\n",
              "      <td>1.513814</td>\n",
              "      <td>1.243864</td>\n",
              "      <td>-0.509648</td>\n",
              "      <td>-0.800481</td>\n",
              "      <td>-0.115945</td>\n",
              "      <td>...</td>\n",
              "      <td>2.252834</td>\n",
              "      <td>0.472496</td>\n",
              "      <td>2.491386</td>\n",
              "      <td>0.353381</td>\n",
              "      <td>-0.260682</td>\n",
              "      <td>-0.000833</td>\n",
              "      <td>-0.116457</td>\n",
              "      <td>-2.131747</td>\n",
              "      <td>3.661499</td>\n",
              "      <td>-0.131576</td>\n",
              "    </tr>\n",
              "    <tr>\n",
              "      <th>3</th>\n",
              "      <td>3</td>\n",
              "      <td>-0.728420</td>\n",
              "      <td>-2.432399</td>\n",
              "      <td>-2.453602</td>\n",
              "      <td>-0.020509</td>\n",
              "      <td>0.333397</td>\n",
              "      <td>0.086049</td>\n",
              "      <td>-1.787601</td>\n",
              "      <td>0.667011</td>\n",
              "      <td>0.761564</td>\n",
              "      <td>...</td>\n",
              "      <td>2.004600</td>\n",
              "      <td>-4.664806</td>\n",
              "      <td>-0.847211</td>\n",
              "      <td>-0.264249</td>\n",
              "      <td>0.664334</td>\n",
              "      <td>-0.557868</td>\n",
              "      <td>8.499483</td>\n",
              "      <td>-4.738799</td>\n",
              "      <td>-3.054611</td>\n",
              "      <td>0.494152</td>\n",
              "    </tr>\n",
              "    <tr>\n",
              "      <th>4</th>\n",
              "      <td>4</td>\n",
              "      <td>0.590212</td>\n",
              "      <td>-0.066127</td>\n",
              "      <td>0.468009</td>\n",
              "      <td>-1.096038</td>\n",
              "      <td>0.119399</td>\n",
              "      <td>-1.809710</td>\n",
              "      <td>0.466358</td>\n",
              "      <td>-0.053196</td>\n",
              "      <td>-0.580320</td>\n",
              "      <td>...</td>\n",
              "      <td>0.976937</td>\n",
              "      <td>2.558883</td>\n",
              "      <td>3.377724</td>\n",
              "      <td>0.846891</td>\n",
              "      <td>0.696032</td>\n",
              "      <td>0.554121</td>\n",
              "      <td>-5.979714</td>\n",
              "      <td>-2.869631</td>\n",
              "      <td>3.733057</td>\n",
              "      <td>-0.722943</td>\n",
              "    </tr>\n",
              "  </tbody>\n",
              "</table>\n",
              "<p>5 rows × 81 columns</p>\n",
              "</div>"
            ],
            "text/plain": [
              "   row_id     F_1_0     F_1_1     F_1_2     F_1_3     F_1_4     F_1_5  \\\n",
              "0       0 -0.354591 -0.464038  2.304115  0.734486  1.696395  0.136285   \n",
              "1       1  1.380940 -0.499626 -0.418548  1.911725 -0.826130 -1.715371   \n",
              "2       2  0.256023 -1.059874       NaN  0.345678  1.513814  1.243864   \n",
              "3       3 -0.728420 -2.432399 -2.453602 -0.020509  0.333397  0.086049   \n",
              "4       4  0.590212 -0.066127  0.468009 -1.096038  0.119399 -1.809710   \n",
              "\n",
              "      F_1_6     F_1_7     F_1_8  ...     F_4_5     F_4_6     F_4_7     F_4_8  \\\n",
              "0 -0.518344  0.502640 -1.852504  ...  3.744152  0.794438  0.265185 -0.561809   \n",
              "1 -0.577091 -1.041486  0.596067  ... -2.895826 -0.738275  2.361818 -0.060753   \n",
              "2 -0.509648 -0.800481 -0.115945  ...  2.252834  0.472496  2.491386  0.353381   \n",
              "3 -1.787601  0.667011  0.761564  ...  2.004600 -4.664806 -0.847211 -0.264249   \n",
              "4  0.466358 -0.053196 -0.580320  ...  0.976937  2.558883  3.377724  0.846891   \n",
              "\n",
              "      F_4_9    F_4_10    F_4_11    F_4_12    F_4_13    F_4_14  \n",
              "0  0.196480  0.373434  6.206995  3.809505  1.236486  1.182055  \n",
              "1  0.727249 -0.271882  5.232157 -4.218259 -2.724883 -0.063775  \n",
              "2 -0.260682 -0.000833 -0.116457 -2.131747  3.661499 -0.131576  \n",
              "3  0.664334 -0.557868  8.499483 -4.738799 -3.054611  0.494152  \n",
              "4  0.696032  0.554121 -5.979714 -2.869631  3.733057 -0.722943  \n",
              "\n",
              "[5 rows x 81 columns]"
            ]
          },
          "execution_count": 4,
          "metadata": {},
          "output_type": "execute_result"
        }
      ],
      "source": [
        "df.head()"
      ]
    },
    {
      "cell_type": "markdown",
      "source": [
        "## Pre-processing steps"
      ],
      "metadata": {
        "id": "toJa5X-o2hRi"
      },
      "id": "toJa5X-o2hRi"
    },
    {
      "cell_type": "code",
      "execution_count": null,
      "id": "6b046ba8",
      "metadata": {
        "execution": {
          "iopub.execute_input": "2022-07-01T12:59:07.579023Z",
          "iopub.status.busy": "2022-07-01T12:59:07.578746Z",
          "iopub.status.idle": "2022-07-01T12:59:07.734557Z",
          "shell.execute_reply": "2022-07-01T12:59:07.732758Z"
        },
        "papermill": {
          "duration": 0.163328,
          "end_time": "2022-07-01T12:59:07.736663",
          "exception": false,
          "start_time": "2022-07-01T12:59:07.573335",
          "status": "completed"
        },
        "tags": [],
        "id": "6b046ba8",
        "outputId": "126b505f-3625-4e57-ab30-560ba6c9f5b0"
      },
      "outputs": [
        {
          "name": "stdout",
          "output_type": "stream",
          "text": [
            "<class 'pandas.core.frame.DataFrame'>\n",
            "RangeIndex: 1000000 entries, 0 to 999999\n",
            "Data columns (total 81 columns):\n",
            " #   Column  Non-Null Count    Dtype  \n",
            "---  ------  --------------    -----  \n",
            " 0   row_id  1000000 non-null  int64  \n",
            " 1   F_1_0   981603 non-null   float64\n",
            " 2   F_1_1   981784 non-null   float64\n",
            " 3   F_1_2   981992 non-null   float64\n",
            " 4   F_1_3   981750 non-null   float64\n",
            " 5   F_1_4   981678 non-null   float64\n",
            " 6   F_1_5   981911 non-null   float64\n",
            " 7   F_1_6   981867 non-null   float64\n",
            " 8   F_1_7   981872 non-null   float64\n",
            " 9   F_1_8   981838 non-null   float64\n",
            " 10  F_1_9   981751 non-null   float64\n",
            " 11  F_1_10  982039 non-null   float64\n",
            " 12  F_1_11  981830 non-null   float64\n",
            " 13  F_1_12  981797 non-null   float64\n",
            " 14  F_1_13  981602 non-null   float64\n",
            " 15  F_1_14  981961 non-null   float64\n",
            " 16  F_2_0   1000000 non-null  int64  \n",
            " 17  F_2_1   1000000 non-null  int64  \n",
            " 18  F_2_2   1000000 non-null  int64  \n",
            " 19  F_2_3   1000000 non-null  int64  \n",
            " 20  F_2_4   1000000 non-null  int64  \n",
            " 21  F_2_5   1000000 non-null  int64  \n",
            " 22  F_2_6   1000000 non-null  int64  \n",
            " 23  F_2_7   1000000 non-null  int64  \n",
            " 24  F_2_8   1000000 non-null  int64  \n",
            " 25  F_2_9   1000000 non-null  int64  \n",
            " 26  F_2_10  1000000 non-null  int64  \n",
            " 27  F_2_11  1000000 non-null  int64  \n",
            " 28  F_2_12  1000000 non-null  int64  \n",
            " 29  F_2_13  1000000 non-null  int64  \n",
            " 30  F_2_14  1000000 non-null  int64  \n",
            " 31  F_2_15  1000000 non-null  int64  \n",
            " 32  F_2_16  1000000 non-null  int64  \n",
            " 33  F_2_17  1000000 non-null  int64  \n",
            " 34  F_2_18  1000000 non-null  int64  \n",
            " 35  F_2_19  1000000 non-null  int64  \n",
            " 36  F_2_20  1000000 non-null  int64  \n",
            " 37  F_2_21  1000000 non-null  int64  \n",
            " 38  F_2_22  1000000 non-null  int64  \n",
            " 39  F_2_23  1000000 non-null  int64  \n",
            " 40  F_2_24  1000000 non-null  int64  \n",
            " 41  F_3_0   981971 non-null   float64\n",
            " 42  F_3_1   981655 non-null   float64\n",
            " 43  F_3_2   981944 non-null   float64\n",
            " 44  F_3_3   981946 non-null   float64\n",
            " 45  F_3_4   981627 non-null   float64\n",
            " 46  F_3_5   981702 non-null   float64\n",
            " 47  F_3_6   981808 non-null   float64\n",
            " 48  F_3_7   981987 non-null   float64\n",
            " 49  F_3_8   981902 non-null   float64\n",
            " 50  F_3_9   981894 non-null   float64\n",
            " 51  F_3_10  981800 non-null   float64\n",
            " 52  F_3_11  981612 non-null   float64\n",
            " 53  F_3_12  981703 non-null   float64\n",
            " 54  F_3_13  981940 non-null   float64\n",
            " 55  F_3_14  981861 non-null   float64\n",
            " 56  F_3_15  981762 non-null   float64\n",
            " 57  F_3_16  981878 non-null   float64\n",
            " 58  F_3_17  981722 non-null   float64\n",
            " 59  F_3_18  981911 non-null   float64\n",
            " 60  F_3_19  981800 non-null   float64\n",
            " 61  F_3_20  981752 non-null   float64\n",
            " 62  F_3_21  981604 non-null   float64\n",
            " 63  F_3_22  981823 non-null   float64\n",
            " 64  F_3_23  981794 non-null   float64\n",
            " 65  F_3_24  981855 non-null   float64\n",
            " 66  F_4_0   981872 non-null   float64\n",
            " 67  F_4_1   981836 non-null   float64\n",
            " 68  F_4_2   981505 non-null   float64\n",
            " 69  F_4_3   981971 non-null   float64\n",
            " 70  F_4_4   982043 non-null   float64\n",
            " 71  F_4_5   981937 non-null   float64\n",
            " 72  F_4_6   981675 non-null   float64\n",
            " 73  F_4_7   981986 non-null   float64\n",
            " 74  F_4_8   981824 non-null   float64\n",
            " 75  F_4_9   981735 non-null   float64\n",
            " 76  F_4_10  981775 non-null   float64\n",
            " 77  F_4_11  981881 non-null   float64\n",
            " 78  F_4_12  981694 non-null   float64\n",
            " 79  F_4_13  982005 non-null   float64\n",
            " 80  F_4_14  981733 non-null   float64\n",
            "dtypes: float64(55), int64(26)\n",
            "memory usage: 618.0 MB\n"
          ]
        }
      ],
      "source": [
        "df.info()"
      ]
    },
    {
      "cell_type": "code",
      "execution_count": null,
      "id": "ca8244a0",
      "metadata": {
        "execution": {
          "iopub.execute_input": "2022-07-01T12:59:07.747876Z",
          "iopub.status.busy": "2022-07-01T12:59:07.747122Z",
          "iopub.status.idle": "2022-07-01T12:59:26.218196Z",
          "shell.execute_reply": "2022-07-01T12:59:26.217257Z"
        },
        "papermill": {
          "duration": 18.479127,
          "end_time": "2022-07-01T12:59:26.220649",
          "exception": false,
          "start_time": "2022-07-01T12:59:07.741522",
          "status": "completed"
        },
        "tags": [],
        "id": "ca8244a0",
        "outputId": "eeaf3001-42fb-4495-a7de-63ee424514f8"
      },
      "outputs": [
        {
          "data": {
            "text/plain": [
              "<AxesSubplot:>"
            ]
          },
          "execution_count": 6,
          "metadata": {},
          "output_type": "execute_result"
        },
        {
          "data": {
            "image/png": "[encoded data removed]",
            "text/plain": [
              "<Figure size 1440x720 with 2 Axes>"
            ]
          },
          "metadata": {
            "needs_background": "light"
          },
          "output_type": "display_data"
        }
      ],
      "source": [
        "import seaborn as sns\n",
        "import matplotlib.pyplot as plt\n",
        "fig = plt.figure(figsize = (20, 10))\n",
        "sns.heatmap(df.corr())"
      ]
    },
    {
      "cell_type": "code",
      "execution_count": null,
      "id": "1f9e2cbf",
      "metadata": {
        "execution": {
          "iopub.execute_input": "2022-07-01T12:59:26.234544Z",
          "iopub.status.busy": "2022-07-01T12:59:26.232955Z",
          "iopub.status.idle": "2022-07-01T12:59:26.302255Z",
          "shell.execute_reply": "2022-07-01T12:59:26.301262Z"
        },
        "papermill": {
          "duration": 0.078149,
          "end_time": "2022-07-01T12:59:26.304560",
          "exception": false,
          "start_time": "2022-07-01T12:59:26.226411",
          "status": "completed"
        },
        "tags": [],
        "id": "1f9e2cbf"
      },
      "outputs": [],
      "source": [
        "l =  df.iloc[:,16:41].columns"
      ]
    },
    {
      "cell_type": "code",
      "execution_count": null,
      "id": "778d81cb",
      "metadata": {
        "execution": {
          "iopub.execute_input": "2022-07-01T12:59:26.317640Z",
          "iopub.status.busy": "2022-07-01T12:59:26.317340Z",
          "iopub.status.idle": "2022-07-01T12:59:26.327950Z",
          "shell.execute_reply": "2022-07-01T12:59:26.326935Z"
        },
        "papermill": {
          "duration": 0.019086,
          "end_time": "2022-07-01T12:59:26.329884",
          "exception": false,
          "start_time": "2022-07-01T12:59:26.310798",
          "status": "completed"
        },
        "tags": [],
        "id": "778d81cb",
        "outputId": "6df7f8fe-63ab-4004-97f1-67f89dd3ef3d"
      },
      "outputs": [
        {
          "data": {
            "text/html": [
              "<div>\n",
              "<style scoped>\n",
              "    .dataframe tbody tr th:only-of-type {\n",
              "        vertical-align: middle;\n",
              "    }\n",
              "\n",
              "    .dataframe tbody tr th {\n",
              "        vertical-align: top;\n",
              "    }\n",
              "\n",
              "    .dataframe thead th {\n",
              "        text-align: right;\n",
              "    }\n",
              "</style>\n",
              "<table border=\"1\" class=\"dataframe\">\n",
              "  <thead>\n",
              "    <tr style=\"text-align: right;\">\n",
              "      <th></th>\n",
              "      <th>value</th>\n",
              "    </tr>\n",
              "    <tr>\n",
              "      <th>row-col</th>\n",
              "      <th></th>\n",
              "    </tr>\n",
              "  </thead>\n",
              "  <tbody>\n",
              "    <tr>\n",
              "      <th>0-F_1_14</th>\n",
              "      <td>0.0</td>\n",
              "    </tr>\n",
              "    <tr>\n",
              "      <th>0-F_3_23</th>\n",
              "      <td>0.0</td>\n",
              "    </tr>\n",
              "    <tr>\n",
              "      <th>1-F_3_24</th>\n",
              "      <td>0.0</td>\n",
              "    </tr>\n",
              "    <tr>\n",
              "      <th>2-F_1_2</th>\n",
              "      <td>0.0</td>\n",
              "    </tr>\n",
              "    <tr>\n",
              "      <th>2-F_4_2</th>\n",
              "      <td>0.0</td>\n",
              "    </tr>\n",
              "  </tbody>\n",
              "</table>\n",
              "</div>"
            ],
            "text/plain": [
              "          value\n",
              "row-col        \n",
              "0-F_1_14    0.0\n",
              "0-F_3_23    0.0\n",
              "1-F_3_24    0.0\n",
              "2-F_1_2     0.0\n",
              "2-F_4_2     0.0"
            ]
          },
          "execution_count": 8,
          "metadata": {},
          "output_type": "execute_result"
        }
      ],
      "source": [
        "sub.head()"
      ]
    },
    {
      "cell_type": "code",
      "execution_count": null,
      "id": "e039b551",
      "metadata": {
        "execution": {
          "iopub.execute_input": "2022-07-01T12:59:26.342223Z",
          "iopub.status.busy": "2022-07-01T12:59:26.341965Z",
          "iopub.status.idle": "2022-07-01T12:59:26.535193Z",
          "shell.execute_reply": "2022-07-01T12:59:26.534206Z"
        },
        "papermill": {
          "duration": 0.201722,
          "end_time": "2022-07-01T12:59:26.537221",
          "exception": false,
          "start_time": "2022-07-01T12:59:26.335499",
          "status": "completed"
        },
        "tags": [],
        "id": "e039b551"
      },
      "outputs": [],
      "source": [
        "df.drop('row_id', axis = 1, inplace = True)"
      ]
    },
    {
      "cell_type": "code",
      "execution_count": null,
      "id": "84cac586",
      "metadata": {
        "execution": {
          "iopub.execute_input": "2022-07-01T12:59:26.551730Z",
          "iopub.status.busy": "2022-07-01T12:59:26.551122Z",
          "iopub.status.idle": "2022-07-01T12:59:26.783079Z",
          "shell.execute_reply": "2022-07-01T12:59:26.782082Z"
        },
        "papermill": {
          "duration": 0.242481,
          "end_time": "2022-07-01T12:59:26.785527",
          "exception": false,
          "start_time": "2022-07-01T12:59:26.543046",
          "status": "completed"
        },
        "tags": [],
        "id": "84cac586"
      },
      "outputs": [],
      "source": [
        "d = df.copy()"
      ]
    },
    {
      "cell_type": "code",
      "execution_count": null,
      "id": "ca1778c5",
      "metadata": {
        "execution": {
          "iopub.execute_input": "2022-07-01T12:59:26.798774Z",
          "iopub.status.busy": "2022-07-01T12:59:26.797946Z",
          "iopub.status.idle": "2022-07-01T12:59:26.804963Z",
          "shell.execute_reply": "2022-07-01T12:59:26.803978Z"
        },
        "papermill": {
          "duration": 0.015622,
          "end_time": "2022-07-01T12:59:26.807049",
          "exception": false,
          "start_time": "2022-07-01T12:59:26.791427",
          "status": "completed"
        },
        "tags": [],
        "id": "ca1778c5",
        "outputId": "7b70c48c-3599-446c-c37d-fd6afa16faac"
      },
      "outputs": [
        {
          "data": {
            "text/plain": [
              "(1000000, 80)"
            ]
          },
          "execution_count": 11,
          "metadata": {},
          "output_type": "execute_result"
        }
      ],
      "source": [
        "df.shape"
      ]
    },
    {
      "cell_type": "markdown",
      "source": [
        "Iterative Imputer initially initializes the missing values with the value passed for initial_strategy , where the initial strategy is the “mean” for each feature. The imputer then uses an estimator (where the default estimator used is Bayesian Ridge) at each step of the round-robin imputation"
      ],
      "metadata": {
        "id": "3WNFW2hm2ynj"
      },
      "id": "3WNFW2hm2ynj"
    },
    {
      "cell_type": "code",
      "execution_count": null,
      "id": "e3c906ed",
      "metadata": {
        "execution": {
          "iopub.execute_input": "2022-07-01T12:59:26.819557Z",
          "iopub.status.busy": "2022-07-01T12:59:26.819302Z",
          "iopub.status.idle": "2022-07-01T12:59:27.163560Z",
          "shell.execute_reply": "2022-07-01T12:59:27.162617Z"
        },
        "papermill": {
          "duration": 0.353484,
          "end_time": "2022-07-01T12:59:27.166128",
          "exception": false,
          "start_time": "2022-07-01T12:59:26.812644",
          "status": "completed"
        },
        "tags": [],
        "id": "e3c906ed"
      },
      "outputs": [],
      "source": [
        "from sklearn.experimental import enable_iterative_imputer\n",
        "from sklearn.impute import IterativeImputer\n",
        "from sklearn.linear_model import LinearRegression\n",
        "from sklearn.metrics import mean_squared_error\n",
        "import xgboost"
      ]
    },
    {
      "cell_type": "code",
      "execution_count": null,
      "id": "46cf0bcc",
      "metadata": {
        "execution": {
          "iopub.execute_input": "2022-07-01T12:59:27.179299Z",
          "iopub.status.busy": "2022-07-01T12:59:27.178682Z",
          "iopub.status.idle": "2022-07-01T14:04:21.047765Z",
          "shell.execute_reply": "2022-07-01T14:04:21.046660Z"
        },
        "papermill": {
          "duration": 3893.878824,
          "end_time": "2022-07-01T14:04:21.050838",
          "exception": false,
          "start_time": "2022-07-01T12:59:27.172014",
          "status": "completed"
        },
        "tags": [],
        "id": "46cf0bcc",
        "outputId": "5c3ba8c9-d7af-408e-d8ec-3ca880e6d362"
      },
      "outputs": [
        {
          "name": "stdout",
          "output_type": "stream",
          "text": [
            "[IterativeImputer] Completing matrix with shape (1000000, 80)\n",
            "[IterativeImputer] Ending imputation round 1/5, elapsed time 776.25\n",
            "[IterativeImputer] Change: 24.052763350008938, scaled tolerance: 0.031229363 \n",
            "[IterativeImputer] Ending imputation round 2/5, elapsed time 1554.33\n",
            "[IterativeImputer] Change: 7.567135870456696, scaled tolerance: 0.031229363 \n",
            "[IterativeImputer] Ending imputation round 3/5, elapsed time 2331.00\n",
            "[IterativeImputer] Change: 5.094375878572464, scaled tolerance: 0.031229363 \n",
            "[IterativeImputer] Ending imputation round 4/5, elapsed time 3110.17\n",
            "[IterativeImputer] Change: 5.473332017660141, scaled tolerance: 0.031229363 \n",
            "[IterativeImputer] Ending imputation round 5/5, elapsed time 3889.42\n",
            "[IterativeImputer] Change: 4.93287467956543, scaled tolerance: 0.031229363 \n"
          ]
        },
        {
          "name": "stderr",
          "output_type": "stream",
          "text": [
            "/opt/conda/lib/python3.7/site-packages/sklearn/impute/_iterative.py:701: ConvergenceWarning: [IterativeImputer] Early stopping criterion not reached.\n",
            "  ConvergenceWarning,\n"
          ]
        }
      ],
      "source": [
        "\n",
        "reg_imputer = IterativeImputer(estimator=\n",
        "                               xgboost.XGBRegressor(n_estimators=500, \n",
        "                                       tree_method='gpu_hist', \n",
        "                                       predictor=\"gpu_predictor\",\n",
        "                                       eval_metric=mean_squared_error),\n",
        "                               verbose=2,\n",
        "                               max_iter=5)\n",
        "df = pd.DataFrame( reg_imputer.fit_transform(df),columns = df.columns)"
      ]
    },
    {
      "cell_type": "code",
      "execution_count": null,
      "id": "5452ca29",
      "metadata": {
        "execution": {
          "iopub.execute_input": "2022-07-01T14:04:21.065646Z",
          "iopub.status.busy": "2022-07-01T14:04:21.064891Z",
          "iopub.status.idle": "2022-07-01T14:04:21.070102Z",
          "shell.execute_reply": "2022-07-01T14:04:21.069265Z"
        },
        "papermill": {
          "duration": 0.014369,
          "end_time": "2022-07-01T14:04:21.071836",
          "exception": false,
          "start_time": "2022-07-01T14:04:21.057467",
          "status": "completed"
        },
        "tags": [],
        "id": "5452ca29"
      },
      "outputs": [],
      "source": [
        "# from tqdm import tqdm\n",
        "# pred = []\n",
        "# from xgboost import XGBRegressor\n",
        "# for n, i in enumerate(tqdm(df.columns[65:])):\n",
        "#     if i not in l:\n",
        "#         y_t = df[df[i].isnull()][i]\n",
        "#         y_train = df[~df[i].isnull()][i]\n",
        "#         x_train = df[~df[i].isnull()].drop(i, axis =1)\n",
        "#         x_t = df[df[i].isnull()].drop(i, axis =1)\n",
        "#         xgb = XGBRegressor(tree_method='gpu_hist', predictor= \"gpu_predictor\", n_estimators = 750)\n",
        "#         xgb.fit(x_train, y_train)\n",
        "#         d.iloc[d[d[i].isnull()].iloc[:,65+n].index, 65+n] = xgb.predict(x_t)\n",
        "        "
      ]
    },
    {
      "cell_type": "code",
      "execution_count": null,
      "id": "2dee6b43",
      "metadata": {
        "execution": {
          "iopub.execute_input": "2022-07-01T14:04:21.086455Z",
          "iopub.status.busy": "2022-07-01T14:04:21.085826Z",
          "iopub.status.idle": "2022-07-01T14:04:21.089688Z",
          "shell.execute_reply": "2022-07-01T14:04:21.088833Z"
        },
        "papermill": {
          "duration": 0.012739,
          "end_time": "2022-07-01T14:04:21.091553",
          "exception": false,
          "start_time": "2022-07-01T14:04:21.078814",
          "status": "completed"
        },
        "tags": [],
        "id": "2dee6b43"
      },
      "outputs": [],
      "source": [
        "# for n, i in enumerate(tqdm(df.columns[:65])):\n",
        "#     if i not in l:\n",
        "#         y_t = df[df[i].isnull()][i]\n",
        "#         y_train = df[~df[i].isnull()][i]\n",
        "#         x_train = df[~df[i].isnull()].drop(i, axis =1)\n",
        "#         x_t = df[df[i].isnull()].drop(i, axis =1)\n",
        "#         xgb = XGBRegressor(tree_method='gpu_hist', predictor= \"gpu_predictor\", n_estimators = 750)\n",
        "#         xgb.fit(x_train, y_train)\n",
        "#         d.iloc[d[d[i].isnull()].iloc[:,n].index, n] = xgb.predict(x_t)"
      ]
    },
    {
      "cell_type": "code",
      "execution_count": null,
      "id": "59868c1d",
      "metadata": {
        "execution": {
          "iopub.execute_input": "2022-07-01T14:04:21.106362Z",
          "iopub.status.busy": "2022-07-01T14:04:21.105590Z",
          "iopub.status.idle": "2022-07-01T14:04:21.288957Z",
          "shell.execute_reply": "2022-07-01T14:04:21.286984Z"
        },
        "papermill": {
          "duration": 0.193829,
          "end_time": "2022-07-01T14:04:21.291559",
          "exception": false,
          "start_time": "2022-07-01T14:04:21.097730",
          "status": "completed"
        },
        "tags": [],
        "id": "59868c1d",
        "outputId": "0f19ac6f-b4c8-486a-af6d-04ba309826fb"
      },
      "outputs": [
        {
          "name": "stdout",
          "output_type": "stream",
          "text": [
            "<class 'pandas.core.frame.DataFrame'>\n",
            "RangeIndex: 1000000 entries, 0 to 999999\n",
            "Data columns (total 80 columns):\n",
            " #   Column  Non-Null Count    Dtype  \n",
            "---  ------  --------------    -----  \n",
            " 0   F_1_0   1000000 non-null  float64\n",
            " 1   F_1_1   1000000 non-null  float64\n",
            " 2   F_1_2   1000000 non-null  float64\n",
            " 3   F_1_3   1000000 non-null  float64\n",
            " 4   F_1_4   1000000 non-null  float64\n",
            " 5   F_1_5   1000000 non-null  float64\n",
            " 6   F_1_6   1000000 non-null  float64\n",
            " 7   F_1_7   1000000 non-null  float64\n",
            " 8   F_1_8   1000000 non-null  float64\n",
            " 9   F_1_9   1000000 non-null  float64\n",
            " 10  F_1_10  1000000 non-null  float64\n",
            " 11  F_1_11  1000000 non-null  float64\n",
            " 12  F_1_12  1000000 non-null  float64\n",
            " 13  F_1_13  1000000 non-null  float64\n",
            " 14  F_1_14  1000000 non-null  float64\n",
            " 15  F_2_0   1000000 non-null  float64\n",
            " 16  F_2_1   1000000 non-null  float64\n",
            " 17  F_2_2   1000000 non-null  float64\n",
            " 18  F_2_3   1000000 non-null  float64\n",
            " 19  F_2_4   1000000 non-null  float64\n",
            " 20  F_2_5   1000000 non-null  float64\n",
            " 21  F_2_6   1000000 non-null  float64\n",
            " 22  F_2_7   1000000 non-null  float64\n",
            " 23  F_2_8   1000000 non-null  float64\n",
            " 24  F_2_9   1000000 non-null  float64\n",
            " 25  F_2_10  1000000 non-null  float64\n",
            " 26  F_2_11  1000000 non-null  float64\n",
            " 27  F_2_12  1000000 non-null  float64\n",
            " 28  F_2_13  1000000 non-null  float64\n",
            " 29  F_2_14  1000000 non-null  float64\n",
            " 30  F_2_15  1000000 non-null  float64\n",
            " 31  F_2_16  1000000 non-null  float64\n",
            " 32  F_2_17  1000000 non-null  float64\n",
            " 33  F_2_18  1000000 non-null  float64\n",
            " 34  F_2_19  1000000 non-null  float64\n",
            " 35  F_2_20  1000000 non-null  float64\n",
            " 36  F_2_21  1000000 non-null  float64\n",
            " 37  F_2_22  1000000 non-null  float64\n",
            " 38  F_2_23  1000000 non-null  float64\n",
            " 39  F_2_24  1000000 non-null  float64\n",
            " 40  F_3_0   1000000 non-null  float64\n",
            " 41  F_3_1   1000000 non-null  float64\n",
            " 42  F_3_2   1000000 non-null  float64\n",
            " 43  F_3_3   1000000 non-null  float64\n",
            " 44  F_3_4   1000000 non-null  float64\n",
            " 45  F_3_5   1000000 non-null  float64\n",
            " 46  F_3_6   1000000 non-null  float64\n",
            " 47  F_3_7   1000000 non-null  float64\n",
            " 48  F_3_8   1000000 non-null  float64\n",
            " 49  F_3_9   1000000 non-null  float64\n",
            " 50  F_3_10  1000000 non-null  float64\n",
            " 51  F_3_11  1000000 non-null  float64\n",
            " 52  F_3_12  1000000 non-null  float64\n",
            " 53  F_3_13  1000000 non-null  float64\n",
            " 54  F_3_14  1000000 non-null  float64\n",
            " 55  F_3_15  1000000 non-null  float64\n",
            " 56  F_3_16  1000000 non-null  float64\n",
            " 57  F_3_17  1000000 non-null  float64\n",
            " 58  F_3_18  1000000 non-null  float64\n",
            " 59  F_3_19  1000000 non-null  float64\n",
            " 60  F_3_20  1000000 non-null  float64\n",
            " 61  F_3_21  1000000 non-null  float64\n",
            " 62  F_3_22  1000000 non-null  float64\n",
            " 63  F_3_23  1000000 non-null  float64\n",
            " 64  F_3_24  1000000 non-null  float64\n",
            " 65  F_4_0   1000000 non-null  float64\n",
            " 66  F_4_1   1000000 non-null  float64\n",
            " 67  F_4_2   1000000 non-null  float64\n",
            " 68  F_4_3   1000000 non-null  float64\n",
            " 69  F_4_4   1000000 non-null  float64\n",
            " 70  F_4_5   1000000 non-null  float64\n",
            " 71  F_4_6   1000000 non-null  float64\n",
            " 72  F_4_7   1000000 non-null  float64\n",
            " 73  F_4_8   1000000 non-null  float64\n",
            " 74  F_4_9   1000000 non-null  float64\n",
            " 75  F_4_10  1000000 non-null  float64\n",
            " 76  F_4_11  1000000 non-null  float64\n",
            " 77  F_4_12  1000000 non-null  float64\n",
            " 78  F_4_13  1000000 non-null  float64\n",
            " 79  F_4_14  1000000 non-null  float64\n",
            "dtypes: float64(80)\n",
            "memory usage: 610.4 MB\n"
          ]
        }
      ],
      "source": [
        "df.info()"
      ]
    },
    {
      "cell_type": "code",
      "execution_count": null,
      "id": "d77baa5f",
      "metadata": {
        "execution": {
          "iopub.execute_input": "2022-07-01T14:04:21.306569Z",
          "iopub.status.busy": "2022-07-01T14:04:21.306262Z",
          "iopub.status.idle": "2022-07-01T14:05:50.527544Z",
          "shell.execute_reply": "2022-07-01T14:05:50.526571Z"
        },
        "papermill": {
          "duration": 89.231646,
          "end_time": "2022-07-01T14:05:50.530136",
          "exception": false,
          "start_time": "2022-07-01T14:04:21.298490",
          "status": "completed"
        },
        "tags": [],
        "id": "d77baa5f"
      },
      "outputs": [],
      "source": [
        "for i in sub.index:\n",
        "    row = int(i.split('-')[0])\n",
        "    col = i.split('-')[1]\n",
        "    sub.loc[i, 'value'] = df.loc[row, col]\n",
        "\n",
        "sub.to_csv('mean_benchmark.csv')"
      ]
    },
    {
      "cell_type": "code",
      "execution_count": null,
      "id": "a15942e4",
      "metadata": {
        "papermill": {
          "duration": 0.006493,
          "end_time": "2022-07-01T14:05:50.543660",
          "exception": false,
          "start_time": "2022-07-01T14:05:50.537167",
          "status": "completed"
        },
        "tags": [],
        "id": "a15942e4"
      },
      "outputs": [],
      "source": []
    }
  ],
  "metadata": {
    "kernelspec": {
      "display_name": "Python 3",
      "language": "python",
      "name": "python3"
    },
    "language_info": {
      "codemirror_mode": {
        "name": "ipython",
        "version": 3
      },
      "file_extension": ".py",
      "mimetype": "text/x-python",
      "name": "python",
      "nbconvert_exporter": "python",
      "pygments_lexer": "ipython3",
      "version": "3.7.12"
    },
    "papermill": {
      "default_parameters": {},
      "duration": 4029.548271,
      "end_time": "2022-07-01T14:05:51.978809",
      "environment_variables": {},
      "exception": null,
      "input_path": "__notebook__.ipynb",
      "output_path": "__notebook__.ipynb",
      "parameters": {},
      "start_time": "2022-07-01T12:58:42.430538",
      "version": "2.3.4"
    },
    "colab": {
      "provenance": [],
      "include_colab_link": true
    }
  },
  "nbformat": 4,
  "nbformat_minor": 5
}