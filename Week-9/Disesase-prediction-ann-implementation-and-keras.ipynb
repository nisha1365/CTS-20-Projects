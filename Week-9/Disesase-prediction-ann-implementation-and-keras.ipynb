{
 "cells": [
  {
   "cell_type": "markdown",
   "id": "472489f5",
   "metadata": {
    "papermill": {
     "duration": 0.034225,
     "end_time": "2021-09-20T12:52:33.035450",
     "exception": false,
     "start_time": "2021-09-20T12:52:33.001225",
     "status": "completed"
    },
    "tags": []
   },
   "source": [
    "#### Content\n",
    "* [Data Preprocessing](#1)\n",
    "    * [Import Libraries](#2)\n",
    "    * [Import Dataset](#3)\n",
    "    * [Encoding Categorical Data](#4)\n",
    "    * [Create test and train data (and x-y variables)](#5)\n",
    "    * [Feature Scaling](#6)\n",
    "* [Model Building](#7)\n",
    "    * [Implementing Basic Example ANN Structure with OOP](#8)\n",
    "    * [Fitting Model and Prediction](#9)\n",
    "    * [Building ANN Structure with Keras Library](#10)\n",
    "        * [Import Libraries](#11)\n",
    "        * [Initialize ANN Model](#12)\n",
    "        * [Adding the Layers](#13)\n",
    "        * [Compiling the ANN](#14)\n",
    "        * [Fitting the ANN](#15)\n",
    "        * [Making Prediction with Test Data](#16)\n",
    "        * [Accuracy Score and Loss Visualization](#17)\n",
    "    "
   ]
  },
  {
   "cell_type": "markdown",
   "id": "dcb1594e",
   "metadata": {
    "papermill": {
     "duration": 0.033942,
     "end_time": "2021-09-20T12:52:33.103116",
     "exception": false,
     "start_time": "2021-09-20T12:52:33.069174",
     "status": "completed"
    },
    "tags": []
   },
   "source": [
    "<a id = \"1\"></a>\n",
    "### Data Preprocessing\n",
    "<a id = \"2\"></a>\n",
    "#### Import Libraries"
   ]
  },
  {
   "cell_type": "code",
   "execution_count": 1,
   "id": "994ba31e",
   "metadata": {
    "execution": {
     "iopub.execute_input": "2021-09-20T12:52:33.182408Z",
     "iopub.status.busy": "2021-09-20T12:52:33.181684Z",
     "iopub.status.idle": "2021-09-20T12:52:33.185969Z",
     "shell.execute_reply": "2021-09-20T12:52:33.185337Z",
     "shell.execute_reply.started": "2021-09-20T12:47:34.422968Z"
    },
    "papermill": {
     "duration": 0.049471,
     "end_time": "2021-09-20T12:52:33.186127",
     "exception": false,
     "start_time": "2021-09-20T12:52:33.136656",
     "status": "completed"
    },
    "tags": []
   },
   "outputs": [],
   "source": [
    "import numpy as np\n",
    "import pandas as pd\n",
    "import matplotlib.pyplot as plt"
   ]
  },
  {
   "cell_type": "markdown",
   "id": "1c4f5f77",
   "metadata": {
    "papermill": {
     "duration": 0.032837,
     "end_time": "2021-09-20T12:52:33.251934",
     "exception": false,
     "start_time": "2021-09-20T12:52:33.219097",
     "status": "completed"
    },
    "tags": []
   },
   "source": [
    "<a id = \"3\"></a>\n",
    "#### Import Dataset"
   ]
  },
  {
   "cell_type": "code",
   "execution_count": 2,
   "id": "7c926ea8",
   "metadata": {
    "execution": {
     "iopub.execute_input": "2021-09-20T12:52:33.323118Z",
     "iopub.status.busy": "2021-09-20T12:52:33.320804Z",
     "iopub.status.idle": "2021-09-20T12:52:33.426210Z",
     "shell.execute_reply": "2021-09-20T12:52:33.425513Z",
     "shell.execute_reply.started": "2021-09-20T12:47:34.427951Z"
    },
    "papermill": {
     "duration": 0.141261,
     "end_time": "2021-09-20T12:52:33.426370",
     "exception": false,
     "start_time": "2021-09-20T12:52:33.285109",
     "status": "completed"
    },
    "tags": []
   },
   "outputs": [],
   "source": [
    "# It's already splitted as train and test data. So we had better import them train_data and test_data\n",
    "\n",
    "train_data = pd.read_csv(\"../input/disease-prediction-using-machine-learning/Training.csv\")\n",
    "test_data = pd.read_csv(\"../input/disease-prediction-using-machine-learning/Testing.csv\")"
   ]
  },
  {
   "cell_type": "code",
   "execution_count": 3,
   "id": "6da97e44",
   "metadata": {
    "execution": {
     "iopub.execute_input": "2021-09-20T12:52:33.508821Z",
     "iopub.status.busy": "2021-09-20T12:52:33.508087Z",
     "iopub.status.idle": "2021-09-20T12:52:33.527357Z",
     "shell.execute_reply": "2021-09-20T12:52:33.527836Z",
     "shell.execute_reply.started": "2021-09-20T12:47:34.504001Z"
    },
    "papermill": {
     "duration": 0.06792,
     "end_time": "2021-09-20T12:52:33.528011",
     "exception": false,
     "start_time": "2021-09-20T12:52:33.460091",
     "status": "completed"
    },
    "tags": []
   },
   "outputs": [
    {
     "data": {
      "text/html": [
       "<div>\n",
       "<style scoped>\n",
       "    .dataframe tbody tr th:only-of-type {\n",
       "        vertical-align: middle;\n",
       "    }\n",
       "\n",
       "    .dataframe tbody tr th {\n",
       "        vertical-align: top;\n",
       "    }\n",
       "\n",
       "    .dataframe thead th {\n",
       "        text-align: right;\n",
       "    }\n",
       "</style>\n",
       "<table border=\"1\" class=\"dataframe\">\n",
       "  <thead>\n",
       "    <tr style=\"text-align: right;\">\n",
       "      <th></th>\n",
       "      <th>itching</th>\n",
       "      <th>skin_rash</th>\n",
       "      <th>nodal_skin_eruptions</th>\n",
       "      <th>continuous_sneezing</th>\n",
       "      <th>shivering</th>\n",
       "      <th>chills</th>\n",
       "      <th>joint_pain</th>\n",
       "      <th>stomach_pain</th>\n",
       "      <th>acidity</th>\n",
       "      <th>ulcers_on_tongue</th>\n",
       "      <th>...</th>\n",
       "      <th>scurring</th>\n",
       "      <th>skin_peeling</th>\n",
       "      <th>silver_like_dusting</th>\n",
       "      <th>small_dents_in_nails</th>\n",
       "      <th>inflammatory_nails</th>\n",
       "      <th>blister</th>\n",
       "      <th>red_sore_around_nose</th>\n",
       "      <th>yellow_crust_ooze</th>\n",
       "      <th>prognosis</th>\n",
       "      <th>Unnamed: 133</th>\n",
       "    </tr>\n",
       "  </thead>\n",
       "  <tbody>\n",
       "    <tr>\n",
       "      <th>0</th>\n",
       "      <td>1</td>\n",
       "      <td>1</td>\n",
       "      <td>1</td>\n",
       "      <td>0</td>\n",
       "      <td>0</td>\n",
       "      <td>0</td>\n",
       "      <td>0</td>\n",
       "      <td>0</td>\n",
       "      <td>0</td>\n",
       "      <td>0</td>\n",
       "      <td>...</td>\n",
       "      <td>0</td>\n",
       "      <td>0</td>\n",
       "      <td>0</td>\n",
       "      <td>0</td>\n",
       "      <td>0</td>\n",
       "      <td>0</td>\n",
       "      <td>0</td>\n",
       "      <td>0</td>\n",
       "      <td>Fungal infection</td>\n",
       "      <td>NaN</td>\n",
       "    </tr>\n",
       "    <tr>\n",
       "      <th>1</th>\n",
       "      <td>0</td>\n",
       "      <td>1</td>\n",
       "      <td>1</td>\n",
       "      <td>0</td>\n",
       "      <td>0</td>\n",
       "      <td>0</td>\n",
       "      <td>0</td>\n",
       "      <td>0</td>\n",
       "      <td>0</td>\n",
       "      <td>0</td>\n",
       "      <td>...</td>\n",
       "      <td>0</td>\n",
       "      <td>0</td>\n",
       "      <td>0</td>\n",
       "      <td>0</td>\n",
       "      <td>0</td>\n",
       "      <td>0</td>\n",
       "      <td>0</td>\n",
       "      <td>0</td>\n",
       "      <td>Fungal infection</td>\n",
       "      <td>NaN</td>\n",
       "    </tr>\n",
       "    <tr>\n",
       "      <th>2</th>\n",
       "      <td>1</td>\n",
       "      <td>0</td>\n",
       "      <td>1</td>\n",
       "      <td>0</td>\n",
       "      <td>0</td>\n",
       "      <td>0</td>\n",
       "      <td>0</td>\n",
       "      <td>0</td>\n",
       "      <td>0</td>\n",
       "      <td>0</td>\n",
       "      <td>...</td>\n",
       "      <td>0</td>\n",
       "      <td>0</td>\n",
       "      <td>0</td>\n",
       "      <td>0</td>\n",
       "      <td>0</td>\n",
       "      <td>0</td>\n",
       "      <td>0</td>\n",
       "      <td>0</td>\n",
       "      <td>Fungal infection</td>\n",
       "      <td>NaN</td>\n",
       "    </tr>\n",
       "    <tr>\n",
       "      <th>3</th>\n",
       "      <td>1</td>\n",
       "      <td>1</td>\n",
       "      <td>0</td>\n",
       "      <td>0</td>\n",
       "      <td>0</td>\n",
       "      <td>0</td>\n",
       "      <td>0</td>\n",
       "      <td>0</td>\n",
       "      <td>0</td>\n",
       "      <td>0</td>\n",
       "      <td>...</td>\n",
       "      <td>0</td>\n",
       "      <td>0</td>\n",
       "      <td>0</td>\n",
       "      <td>0</td>\n",
       "      <td>0</td>\n",
       "      <td>0</td>\n",
       "      <td>0</td>\n",
       "      <td>0</td>\n",
       "      <td>Fungal infection</td>\n",
       "      <td>NaN</td>\n",
       "    </tr>\n",
       "    <tr>\n",
       "      <th>4</th>\n",
       "      <td>1</td>\n",
       "      <td>1</td>\n",
       "      <td>1</td>\n",
       "      <td>0</td>\n",
       "      <td>0</td>\n",
       "      <td>0</td>\n",
       "      <td>0</td>\n",
       "      <td>0</td>\n",
       "      <td>0</td>\n",
       "      <td>0</td>\n",
       "      <td>...</td>\n",
       "      <td>0</td>\n",
       "      <td>0</td>\n",
       "      <td>0</td>\n",
       "      <td>0</td>\n",
       "      <td>0</td>\n",
       "      <td>0</td>\n",
       "      <td>0</td>\n",
       "      <td>0</td>\n",
       "      <td>Fungal infection</td>\n",
       "      <td>NaN</td>\n",
       "    </tr>\n",
       "  </tbody>\n",
       "</table>\n",
       "<p>5 rows × 134 columns</p>\n",
       "</div>"
      ],
      "text/plain": [
       "   itching  skin_rash  nodal_skin_eruptions  continuous_sneezing  shivering  \\\n",
       "0        1          1                     1                    0          0   \n",
       "1        0          1                     1                    0          0   \n",
       "2        1          0                     1                    0          0   \n",
       "3        1          1                     0                    0          0   \n",
       "4        1          1                     1                    0          0   \n",
       "\n",
       "   chills  joint_pain  stomach_pain  acidity  ulcers_on_tongue  ...  scurring  \\\n",
       "0       0           0             0        0                 0  ...         0   \n",
       "1       0           0             0        0                 0  ...         0   \n",
       "2       0           0             0        0                 0  ...         0   \n",
       "3       0           0             0        0                 0  ...         0   \n",
       "4       0           0             0        0                 0  ...         0   \n",
       "\n",
       "   skin_peeling  silver_like_dusting  small_dents_in_nails  \\\n",
       "0             0                    0                     0   \n",
       "1             0                    0                     0   \n",
       "2             0                    0                     0   \n",
       "3             0                    0                     0   \n",
       "4             0                    0                     0   \n",
       "\n",
       "   inflammatory_nails  blister  red_sore_around_nose  yellow_crust_ooze  \\\n",
       "0                   0        0                     0                  0   \n",
       "1                   0        0                     0                  0   \n",
       "2                   0        0                     0                  0   \n",
       "3                   0        0                     0                  0   \n",
       "4                   0        0                     0                  0   \n",
       "\n",
       "          prognosis  Unnamed: 133  \n",
       "0  Fungal infection           NaN  \n",
       "1  Fungal infection           NaN  \n",
       "2  Fungal infection           NaN  \n",
       "3  Fungal infection           NaN  \n",
       "4  Fungal infection           NaN  \n",
       "\n",
       "[5 rows x 134 columns]"
      ]
     },
     "execution_count": 3,
     "metadata": {},
     "output_type": "execute_result"
    }
   ],
   "source": [
    "train_data.head()"
   ]
  },
  {
   "cell_type": "code",
   "execution_count": 4,
   "id": "dbb71579",
   "metadata": {
    "execution": {
     "iopub.execute_input": "2021-09-20T12:52:33.617858Z",
     "iopub.status.busy": "2021-09-20T12:52:33.605609Z",
     "iopub.status.idle": "2021-09-20T12:52:33.624371Z",
     "shell.execute_reply": "2021-09-20T12:52:33.625210Z",
     "shell.execute_reply.started": "2021-09-20T12:47:34.525540Z"
    },
    "papermill": {
     "duration": 0.063576,
     "end_time": "2021-09-20T12:52:33.625458",
     "exception": false,
     "start_time": "2021-09-20T12:52:33.561882",
     "status": "completed"
    },
    "tags": []
   },
   "outputs": [
    {
     "name": "stdout",
     "output_type": "stream",
     "text": [
      "<class 'pandas.core.frame.DataFrame'>\n",
      "RangeIndex: 4920 entries, 0 to 4919\n",
      "Columns: 134 entries, itching to Unnamed: 133\n",
      "dtypes: float64(1), int64(132), object(1)\n",
      "memory usage: 5.0+ MB\n"
     ]
    }
   ],
   "source": [
    "train_data.info() "
   ]
  },
  {
   "cell_type": "markdown",
   "id": "44d9ae91",
   "metadata": {
    "papermill": {
     "duration": 0.034046,
     "end_time": "2021-09-20T12:52:33.694510",
     "exception": false,
     "start_time": "2021-09-20T12:52:33.660464",
     "status": "completed"
    },
    "tags": []
   },
   "source": [
    "Data has 134 columns. The 132 of the columns are symptoms, encoded integer data, and the \"prognosis\" column is categorical data for disease labels."
   ]
  },
  {
   "cell_type": "code",
   "execution_count": 5,
   "id": "cccabcca",
   "metadata": {
    "execution": {
     "iopub.execute_input": "2021-09-20T12:52:33.770162Z",
     "iopub.status.busy": "2021-09-20T12:52:33.769191Z",
     "iopub.status.idle": "2021-09-20T12:52:33.777741Z",
     "shell.execute_reply": "2021-09-20T12:52:33.777166Z",
     "shell.execute_reply.started": "2021-09-20T12:47:34.545614Z"
    },
    "papermill": {
     "duration": 0.049361,
     "end_time": "2021-09-20T12:52:33.777885",
     "exception": false,
     "start_time": "2021-09-20T12:52:33.728524",
     "status": "completed"
    },
    "tags": []
   },
   "outputs": [
    {
     "data": {
      "text/plain": [
       "itching                 False\n",
       "skin_rash               False\n",
       "nodal_skin_eruptions    False\n",
       "continuous_sneezing     False\n",
       "shivering               False\n",
       "                        ...  \n",
       "blister                 False\n",
       "red_sore_around_nose    False\n",
       "yellow_crust_ooze       False\n",
       "prognosis               False\n",
       "Unnamed: 133             True\n",
       "Length: 134, dtype: bool"
      ]
     },
     "execution_count": 5,
     "metadata": {},
     "output_type": "execute_result"
    }
   ],
   "source": [
    "train_data.isnull().any()  #there is an unclean column named \"Unnamed: 133\". We will drop it"
   ]
  },
  {
   "cell_type": "code",
   "execution_count": 6,
   "id": "8819a007",
   "metadata": {
    "execution": {
     "iopub.execute_input": "2021-09-20T12:52:33.857865Z",
     "iopub.status.busy": "2021-09-20T12:52:33.857081Z",
     "iopub.status.idle": "2021-09-20T12:52:33.858857Z",
     "shell.execute_reply": "2021-09-20T12:52:33.859308Z",
     "shell.execute_reply.started": "2021-09-20T12:47:34.557880Z"
    },
    "papermill": {
     "duration": 0.045837,
     "end_time": "2021-09-20T12:52:33.859491",
     "exception": false,
     "start_time": "2021-09-20T12:52:33.813654",
     "status": "completed"
    },
    "tags": []
   },
   "outputs": [],
   "source": [
    "# we dont need Unnamed: 133 column to train\n",
    "train_data.drop([\"Unnamed: 133\"], axis = 1, inplace = True)"
   ]
  },
  {
   "cell_type": "code",
   "execution_count": 7,
   "id": "68cfd8ec",
   "metadata": {
    "execution": {
     "iopub.execute_input": "2021-09-20T12:52:33.932648Z",
     "iopub.status.busy": "2021-09-20T12:52:33.931917Z",
     "iopub.status.idle": "2021-09-20T12:52:33.954523Z",
     "shell.execute_reply": "2021-09-20T12:52:33.953885Z",
     "shell.execute_reply.started": "2021-09-20T12:47:34.568582Z"
    },
    "papermill": {
     "duration": 0.060486,
     "end_time": "2021-09-20T12:52:33.954668",
     "exception": false,
     "start_time": "2021-09-20T12:52:33.894182",
     "status": "completed"
    },
    "tags": []
   },
   "outputs": [
    {
     "data": {
      "text/html": [
       "<div>\n",
       "<style scoped>\n",
       "    .dataframe tbody tr th:only-of-type {\n",
       "        vertical-align: middle;\n",
       "    }\n",
       "\n",
       "    .dataframe tbody tr th {\n",
       "        vertical-align: top;\n",
       "    }\n",
       "\n",
       "    .dataframe thead th {\n",
       "        text-align: right;\n",
       "    }\n",
       "</style>\n",
       "<table border=\"1\" class=\"dataframe\">\n",
       "  <thead>\n",
       "    <tr style=\"text-align: right;\">\n",
       "      <th></th>\n",
       "      <th>itching</th>\n",
       "      <th>skin_rash</th>\n",
       "      <th>nodal_skin_eruptions</th>\n",
       "      <th>continuous_sneezing</th>\n",
       "      <th>shivering</th>\n",
       "      <th>chills</th>\n",
       "      <th>joint_pain</th>\n",
       "      <th>stomach_pain</th>\n",
       "      <th>acidity</th>\n",
       "      <th>ulcers_on_tongue</th>\n",
       "      <th>...</th>\n",
       "      <th>blackheads</th>\n",
       "      <th>scurring</th>\n",
       "      <th>skin_peeling</th>\n",
       "      <th>silver_like_dusting</th>\n",
       "      <th>small_dents_in_nails</th>\n",
       "      <th>inflammatory_nails</th>\n",
       "      <th>blister</th>\n",
       "      <th>red_sore_around_nose</th>\n",
       "      <th>yellow_crust_ooze</th>\n",
       "      <th>prognosis</th>\n",
       "    </tr>\n",
       "  </thead>\n",
       "  <tbody>\n",
       "    <tr>\n",
       "      <th>0</th>\n",
       "      <td>1</td>\n",
       "      <td>1</td>\n",
       "      <td>1</td>\n",
       "      <td>0</td>\n",
       "      <td>0</td>\n",
       "      <td>0</td>\n",
       "      <td>0</td>\n",
       "      <td>0</td>\n",
       "      <td>0</td>\n",
       "      <td>0</td>\n",
       "      <td>...</td>\n",
       "      <td>0</td>\n",
       "      <td>0</td>\n",
       "      <td>0</td>\n",
       "      <td>0</td>\n",
       "      <td>0</td>\n",
       "      <td>0</td>\n",
       "      <td>0</td>\n",
       "      <td>0</td>\n",
       "      <td>0</td>\n",
       "      <td>Fungal infection</td>\n",
       "    </tr>\n",
       "    <tr>\n",
       "      <th>1</th>\n",
       "      <td>0</td>\n",
       "      <td>1</td>\n",
       "      <td>1</td>\n",
       "      <td>0</td>\n",
       "      <td>0</td>\n",
       "      <td>0</td>\n",
       "      <td>0</td>\n",
       "      <td>0</td>\n",
       "      <td>0</td>\n",
       "      <td>0</td>\n",
       "      <td>...</td>\n",
       "      <td>0</td>\n",
       "      <td>0</td>\n",
       "      <td>0</td>\n",
       "      <td>0</td>\n",
       "      <td>0</td>\n",
       "      <td>0</td>\n",
       "      <td>0</td>\n",
       "      <td>0</td>\n",
       "      <td>0</td>\n",
       "      <td>Fungal infection</td>\n",
       "    </tr>\n",
       "    <tr>\n",
       "      <th>2</th>\n",
       "      <td>1</td>\n",
       "      <td>0</td>\n",
       "      <td>1</td>\n",
       "      <td>0</td>\n",
       "      <td>0</td>\n",
       "      <td>0</td>\n",
       "      <td>0</td>\n",
       "      <td>0</td>\n",
       "      <td>0</td>\n",
       "      <td>0</td>\n",
       "      <td>...</td>\n",
       "      <td>0</td>\n",
       "      <td>0</td>\n",
       "      <td>0</td>\n",
       "      <td>0</td>\n",
       "      <td>0</td>\n",
       "      <td>0</td>\n",
       "      <td>0</td>\n",
       "      <td>0</td>\n",
       "      <td>0</td>\n",
       "      <td>Fungal infection</td>\n",
       "    </tr>\n",
       "    <tr>\n",
       "      <th>3</th>\n",
       "      <td>1</td>\n",
       "      <td>1</td>\n",
       "      <td>0</td>\n",
       "      <td>0</td>\n",
       "      <td>0</td>\n",
       "      <td>0</td>\n",
       "      <td>0</td>\n",
       "      <td>0</td>\n",
       "      <td>0</td>\n",
       "      <td>0</td>\n",
       "      <td>...</td>\n",
       "      <td>0</td>\n",
       "      <td>0</td>\n",
       "      <td>0</td>\n",
       "      <td>0</td>\n",
       "      <td>0</td>\n",
       "      <td>0</td>\n",
       "      <td>0</td>\n",
       "      <td>0</td>\n",
       "      <td>0</td>\n",
       "      <td>Fungal infection</td>\n",
       "    </tr>\n",
       "    <tr>\n",
       "      <th>4</th>\n",
       "      <td>1</td>\n",
       "      <td>1</td>\n",
       "      <td>1</td>\n",
       "      <td>0</td>\n",
       "      <td>0</td>\n",
       "      <td>0</td>\n",
       "      <td>0</td>\n",
       "      <td>0</td>\n",
       "      <td>0</td>\n",
       "      <td>0</td>\n",
       "      <td>...</td>\n",
       "      <td>0</td>\n",
       "      <td>0</td>\n",
       "      <td>0</td>\n",
       "      <td>0</td>\n",
       "      <td>0</td>\n",
       "      <td>0</td>\n",
       "      <td>0</td>\n",
       "      <td>0</td>\n",
       "      <td>0</td>\n",
       "      <td>Fungal infection</td>\n",
       "    </tr>\n",
       "    <tr>\n",
       "      <th>...</th>\n",
       "      <td>...</td>\n",
       "      <td>...</td>\n",
       "      <td>...</td>\n",
       "      <td>...</td>\n",
       "      <td>...</td>\n",
       "      <td>...</td>\n",
       "      <td>...</td>\n",
       "      <td>...</td>\n",
       "      <td>...</td>\n",
       "      <td>...</td>\n",
       "      <td>...</td>\n",
       "      <td>...</td>\n",
       "      <td>...</td>\n",
       "      <td>...</td>\n",
       "      <td>...</td>\n",
       "      <td>...</td>\n",
       "      <td>...</td>\n",
       "      <td>...</td>\n",
       "      <td>...</td>\n",
       "      <td>...</td>\n",
       "      <td>...</td>\n",
       "    </tr>\n",
       "    <tr>\n",
       "      <th>4915</th>\n",
       "      <td>0</td>\n",
       "      <td>0</td>\n",
       "      <td>0</td>\n",
       "      <td>0</td>\n",
       "      <td>0</td>\n",
       "      <td>0</td>\n",
       "      <td>0</td>\n",
       "      <td>0</td>\n",
       "      <td>0</td>\n",
       "      <td>0</td>\n",
       "      <td>...</td>\n",
       "      <td>0</td>\n",
       "      <td>0</td>\n",
       "      <td>0</td>\n",
       "      <td>0</td>\n",
       "      <td>0</td>\n",
       "      <td>0</td>\n",
       "      <td>0</td>\n",
       "      <td>0</td>\n",
       "      <td>0</td>\n",
       "      <td>(vertigo) Paroymsal  Positional Vertigo</td>\n",
       "    </tr>\n",
       "    <tr>\n",
       "      <th>4916</th>\n",
       "      <td>0</td>\n",
       "      <td>1</td>\n",
       "      <td>0</td>\n",
       "      <td>0</td>\n",
       "      <td>0</td>\n",
       "      <td>0</td>\n",
       "      <td>0</td>\n",
       "      <td>0</td>\n",
       "      <td>0</td>\n",
       "      <td>0</td>\n",
       "      <td>...</td>\n",
       "      <td>1</td>\n",
       "      <td>1</td>\n",
       "      <td>0</td>\n",
       "      <td>0</td>\n",
       "      <td>0</td>\n",
       "      <td>0</td>\n",
       "      <td>0</td>\n",
       "      <td>0</td>\n",
       "      <td>0</td>\n",
       "      <td>Acne</td>\n",
       "    </tr>\n",
       "    <tr>\n",
       "      <th>4917</th>\n",
       "      <td>0</td>\n",
       "      <td>0</td>\n",
       "      <td>0</td>\n",
       "      <td>0</td>\n",
       "      <td>0</td>\n",
       "      <td>0</td>\n",
       "      <td>0</td>\n",
       "      <td>0</td>\n",
       "      <td>0</td>\n",
       "      <td>0</td>\n",
       "      <td>...</td>\n",
       "      <td>0</td>\n",
       "      <td>0</td>\n",
       "      <td>0</td>\n",
       "      <td>0</td>\n",
       "      <td>0</td>\n",
       "      <td>0</td>\n",
       "      <td>0</td>\n",
       "      <td>0</td>\n",
       "      <td>0</td>\n",
       "      <td>Urinary tract infection</td>\n",
       "    </tr>\n",
       "    <tr>\n",
       "      <th>4918</th>\n",
       "      <td>0</td>\n",
       "      <td>1</td>\n",
       "      <td>0</td>\n",
       "      <td>0</td>\n",
       "      <td>0</td>\n",
       "      <td>0</td>\n",
       "      <td>1</td>\n",
       "      <td>0</td>\n",
       "      <td>0</td>\n",
       "      <td>0</td>\n",
       "      <td>...</td>\n",
       "      <td>0</td>\n",
       "      <td>0</td>\n",
       "      <td>1</td>\n",
       "      <td>1</td>\n",
       "      <td>1</td>\n",
       "      <td>1</td>\n",
       "      <td>0</td>\n",
       "      <td>0</td>\n",
       "      <td>0</td>\n",
       "      <td>Psoriasis</td>\n",
       "    </tr>\n",
       "    <tr>\n",
       "      <th>4919</th>\n",
       "      <td>0</td>\n",
       "      <td>1</td>\n",
       "      <td>0</td>\n",
       "      <td>0</td>\n",
       "      <td>0</td>\n",
       "      <td>0</td>\n",
       "      <td>0</td>\n",
       "      <td>0</td>\n",
       "      <td>0</td>\n",
       "      <td>0</td>\n",
       "      <td>...</td>\n",
       "      <td>0</td>\n",
       "      <td>0</td>\n",
       "      <td>0</td>\n",
       "      <td>0</td>\n",
       "      <td>0</td>\n",
       "      <td>0</td>\n",
       "      <td>1</td>\n",
       "      <td>1</td>\n",
       "      <td>1</td>\n",
       "      <td>Impetigo</td>\n",
       "    </tr>\n",
       "  </tbody>\n",
       "</table>\n",
       "<p>4920 rows × 133 columns</p>\n",
       "</div>"
      ],
      "text/plain": [
       "      itching  skin_rash  nodal_skin_eruptions  continuous_sneezing  \\\n",
       "0           1          1                     1                    0   \n",
       "1           0          1                     1                    0   \n",
       "2           1          0                     1                    0   \n",
       "3           1          1                     0                    0   \n",
       "4           1          1                     1                    0   \n",
       "...       ...        ...                   ...                  ...   \n",
       "4915        0          0                     0                    0   \n",
       "4916        0          1                     0                    0   \n",
       "4917        0          0                     0                    0   \n",
       "4918        0          1                     0                    0   \n",
       "4919        0          1                     0                    0   \n",
       "\n",
       "      shivering  chills  joint_pain  stomach_pain  acidity  ulcers_on_tongue  \\\n",
       "0             0       0           0             0        0                 0   \n",
       "1             0       0           0             0        0                 0   \n",
       "2             0       0           0             0        0                 0   \n",
       "3             0       0           0             0        0                 0   \n",
       "4             0       0           0             0        0                 0   \n",
       "...         ...     ...         ...           ...      ...               ...   \n",
       "4915          0       0           0             0        0                 0   \n",
       "4916          0       0           0             0        0                 0   \n",
       "4917          0       0           0             0        0                 0   \n",
       "4918          0       0           1             0        0                 0   \n",
       "4919          0       0           0             0        0                 0   \n",
       "\n",
       "      ...  blackheads  scurring  skin_peeling  silver_like_dusting  \\\n",
       "0     ...           0         0             0                    0   \n",
       "1     ...           0         0             0                    0   \n",
       "2     ...           0         0             0                    0   \n",
       "3     ...           0         0             0                    0   \n",
       "4     ...           0         0             0                    0   \n",
       "...   ...         ...       ...           ...                  ...   \n",
       "4915  ...           0         0             0                    0   \n",
       "4916  ...           1         1             0                    0   \n",
       "4917  ...           0         0             0                    0   \n",
       "4918  ...           0         0             1                    1   \n",
       "4919  ...           0         0             0                    0   \n",
       "\n",
       "      small_dents_in_nails  inflammatory_nails  blister  red_sore_around_nose  \\\n",
       "0                        0                   0        0                     0   \n",
       "1                        0                   0        0                     0   \n",
       "2                        0                   0        0                     0   \n",
       "3                        0                   0        0                     0   \n",
       "4                        0                   0        0                     0   \n",
       "...                    ...                 ...      ...                   ...   \n",
       "4915                     0                   0        0                     0   \n",
       "4916                     0                   0        0                     0   \n",
       "4917                     0                   0        0                     0   \n",
       "4918                     1                   1        0                     0   \n",
       "4919                     0                   0        1                     1   \n",
       "\n",
       "      yellow_crust_ooze                                prognosis  \n",
       "0                     0                         Fungal infection  \n",
       "1                     0                         Fungal infection  \n",
       "2                     0                         Fungal infection  \n",
       "3                     0                         Fungal infection  \n",
       "4                     0                         Fungal infection  \n",
       "...                 ...                                      ...  \n",
       "4915                  0  (vertigo) Paroymsal  Positional Vertigo  \n",
       "4916                  0                                     Acne  \n",
       "4917                  0                  Urinary tract infection  \n",
       "4918                  0                                Psoriasis  \n",
       "4919                  1                                 Impetigo  \n",
       "\n",
       "[4920 rows x 133 columns]"
      ]
     },
     "execution_count": 7,
     "metadata": {},
     "output_type": "execute_result"
    }
   ],
   "source": [
    "train_data"
   ]
  },
  {
   "cell_type": "markdown",
   "id": "e8d7f0e9",
   "metadata": {
    "papermill": {
     "duration": 0.038594,
     "end_time": "2021-09-20T12:52:34.029397",
     "exception": false,
     "start_time": "2021-09-20T12:52:33.990803",
     "status": "completed"
    },
    "tags": []
   },
   "source": [
    "<a id = \"4\"></a>\n",
    "#### Encoding Categorical Data"
   ]
  },
  {
   "cell_type": "markdown",
   "id": "0c84300b",
   "metadata": {
    "papermill": {
     "duration": 0.035898,
     "end_time": "2021-09-20T12:52:34.100763",
     "exception": false,
     "start_time": "2021-09-20T12:52:34.064865",
     "status": "completed"
    },
    "tags": []
   },
   "source": [
    "The data is already encoded but anyhow I will show how to encode categorical data."
   ]
  },
  {
   "cell_type": "code",
   "execution_count": 8,
   "id": "97932f31",
   "metadata": {
    "execution": {
     "iopub.execute_input": "2021-09-20T12:52:34.174801Z",
     "iopub.status.busy": "2021-09-20T12:52:34.174122Z",
     "iopub.status.idle": "2021-09-20T12:52:34.178830Z",
     "shell.execute_reply": "2021-09-20T12:52:34.178314Z",
     "shell.execute_reply.started": "2021-09-20T12:47:34.597211Z"
    },
    "papermill": {
     "duration": 0.043089,
     "end_time": "2021-09-20T12:52:34.178977",
     "exception": false,
     "start_time": "2021-09-20T12:52:34.135888",
     "status": "completed"
    },
    "tags": []
   },
   "outputs": [],
   "source": [
    "# Label Encoding\n",
    "# from sklearn.preprocessing import LabelEncoder\n",
    "# labelencoder = LabelEncoder()\n",
    "\n",
    "# Lets assume we have categorical labels at first column (itching). If this column has True-False values or like Male-Female,\n",
    "# then it will tranform into 1-0 encoding. This is encoding. But as I say before, there is no need for encoding on this dataset\n",
    "\n",
    "# train_data.loc[:, 0] = labelencoder.fit_transform(train_data.iloc[:, 0])\n",
    "# train_data"
   ]
  },
  {
   "cell_type": "code",
   "execution_count": 9,
   "id": "8f6076e0",
   "metadata": {
    "execution": {
     "iopub.execute_input": "2021-09-20T12:52:34.254805Z",
     "iopub.status.busy": "2021-09-20T12:52:34.253123Z",
     "iopub.status.idle": "2021-09-20T12:52:34.257752Z",
     "shell.execute_reply": "2021-09-20T12:52:34.257054Z",
     "shell.execute_reply.started": "2021-09-20T12:47:34.602396Z"
    },
    "papermill": {
     "duration": 0.043123,
     "end_time": "2021-09-20T12:52:34.257903",
     "exception": false,
     "start_time": "2021-09-20T12:52:34.214780",
     "status": "completed"
    },
    "tags": []
   },
   "outputs": [],
   "source": [
    "# One hot encoding\n",
    "# from sklearn.preprocessing import OneHotEncoder\n",
    "\n",
    "# Lets assume our second column (skin_rash) has more than two labels. This time, we will have to one hot encode the feature\n",
    "# First, we need to apply label encoding similarly as we did in the itching variable\n",
    "# After applying label encoding, now it's time to appy One Hot Encoding\n",
    "\n",
    "# onehotencoder = OneHotEncoder(categorical_features = [1])\n",
    "# labelencoder2 = LabelEncoder()\n",
    "# train_data.loc[:,1] = labelencoder2.fit_transform(train_data.iloc[:, 1])\n",
    "# train_data = onehotencoder.fit_transform(train_data).toarray()"
   ]
  },
  {
   "cell_type": "code",
   "execution_count": null,
   "id": "40285ca3",
   "metadata": {
    "papermill": {
     "duration": 0.046734,
     "end_time": "2021-09-20T12:52:34.348805",
     "exception": false,
     "start_time": "2021-09-20T12:52:34.302071",
     "status": "completed"
    },
    "tags": []
   },
   "outputs": [],
   "source": []
  },
  {
   "cell_type": "markdown",
   "id": "25545c71",
   "metadata": {
    "papermill": {
     "duration": 0.035459,
     "end_time": "2021-09-20T12:52:34.425334",
     "exception": false,
     "start_time": "2021-09-20T12:52:34.389875",
     "status": "completed"
    },
    "tags": []
   },
   "source": [
    "<a id = \"5\"></a>\n",
    "#### Create Test and Train Data"
   ]
  },
  {
   "cell_type": "code",
   "execution_count": 10,
   "id": "41b46882",
   "metadata": {
    "execution": {
     "iopub.execute_input": "2021-09-20T12:52:34.504753Z",
     "iopub.status.busy": "2021-09-20T12:52:34.503842Z",
     "iopub.status.idle": "2021-09-20T12:52:34.508850Z",
     "shell.execute_reply": "2021-09-20T12:52:34.508260Z",
     "shell.execute_reply.started": "2021-09-20T12:47:34.614969Z"
    },
    "papermill": {
     "duration": 0.048363,
     "end_time": "2021-09-20T12:52:34.509006",
     "exception": false,
     "start_time": "2021-09-20T12:52:34.460643",
     "status": "completed"
    },
    "tags": []
   },
   "outputs": [],
   "source": [
    "X_train = train_data.iloc[:, :-1]\n",
    "X_test = test_data.iloc[:, :-1]\n",
    "y_train = train_data.iloc[:, -1:]\n",
    "y_test = test_data.iloc[:, -1:]"
   ]
  },
  {
   "cell_type": "code",
   "execution_count": 11,
   "id": "c5d766c6",
   "metadata": {
    "execution": {
     "iopub.execute_input": "2021-09-20T12:52:34.585721Z",
     "iopub.status.busy": "2021-09-20T12:52:34.585042Z",
     "iopub.status.idle": "2021-09-20T12:52:34.589343Z",
     "shell.execute_reply": "2021-09-20T12:52:34.588771Z",
     "shell.execute_reply.started": "2021-09-20T12:47:34.637268Z"
    },
    "papermill": {
     "duration": 0.044579,
     "end_time": "2021-09-20T12:52:34.589485",
     "exception": false,
     "start_time": "2021-09-20T12:52:34.544906",
     "status": "completed"
    },
    "tags": []
   },
   "outputs": [
    {
     "name": "stdout",
     "output_type": "stream",
     "text": [
      "X train shape:  (4920, 132)\n",
      "y train shape:  (4920, 1)\n"
     ]
    }
   ],
   "source": [
    "print(\"X train shape: \",X_train.shape)\n",
    "print(\"y train shape: \",y_train.shape)"
   ]
  },
  {
   "cell_type": "markdown",
   "id": "3b528f76",
   "metadata": {
    "papermill": {
     "duration": 0.03509,
     "end_time": "2021-09-20T12:52:34.660824",
     "exception": false,
     "start_time": "2021-09-20T12:52:34.625734",
     "status": "completed"
    },
    "tags": []
   },
   "source": [
    "* Our x train data has 132 features and 4920 observation unit that means our input matrix has 4920 rows and 132 columns for training\n",
    "* Our y train data has one feature (itself) and 4920 observation unit that means our output matrix has 4920 rows and 1 column for training"
   ]
  },
  {
   "cell_type": "code",
   "execution_count": 12,
   "id": "95050cc5",
   "metadata": {
    "execution": {
     "iopub.execute_input": "2021-09-20T12:52:34.739187Z",
     "iopub.status.busy": "2021-09-20T12:52:34.738444Z",
     "iopub.status.idle": "2021-09-20T12:52:34.742143Z",
     "shell.execute_reply": "2021-09-20T12:52:34.741622Z",
     "shell.execute_reply.started": "2021-09-20T12:47:34.645751Z"
    },
    "papermill": {
     "duration": 0.04558,
     "end_time": "2021-09-20T12:52:34.742299",
     "exception": false,
     "start_time": "2021-09-20T12:52:34.696719",
     "status": "completed"
    },
    "tags": []
   },
   "outputs": [
    {
     "name": "stdout",
     "output_type": "stream",
     "text": [
      "X test shape:  (42, 132)\n",
      "y test shape:  (42, 1)\n"
     ]
    }
   ],
   "source": [
    "print(\"X test shape: \",X_test.shape)\n",
    "print(\"y test shape: \",y_test.shape)"
   ]
  },
  {
   "cell_type": "markdown",
   "id": "e3cf8bd1",
   "metadata": {
    "papermill": {
     "duration": 0.035538,
     "end_time": "2021-09-20T12:52:34.814213",
     "exception": false,
     "start_time": "2021-09-20T12:52:34.778675",
     "status": "completed"
    },
    "tags": []
   },
   "source": [
    "* Our x test data has 132 features and 42 observation unit that means our input matrix has 42 rows and 132 columns for prediction\n",
    "* Our y test data has one feature (itself) and 42 observation unit that means our output matrix has 42 rows and 1 column for prediction"
   ]
  },
  {
   "cell_type": "markdown",
   "id": "56529d70",
   "metadata": {
    "papermill": {
     "duration": 0.036551,
     "end_time": "2021-09-20T12:52:34.886611",
     "exception": false,
     "start_time": "2021-09-20T12:52:34.850060",
     "status": "completed"
    },
    "tags": []
   },
   "source": [
    "<a id = \"6\"></a>\n",
    "#### Feature Scaling for Numerical Data"
   ]
  },
  {
   "cell_type": "markdown",
   "id": "428b430a",
   "metadata": {
    "execution": {
     "iopub.execute_input": "2021-09-18T09:09:19.362906Z",
     "iopub.status.busy": "2021-09-18T09:09:19.361756Z",
     "iopub.status.idle": "2021-09-18T09:09:19.372129Z",
     "shell.execute_reply": "2021-09-18T09:09:19.370559Z",
     "shell.execute_reply.started": "2021-09-18T09:09:19.362859Z"
    },
    "papermill": {
     "duration": 0.035783,
     "end_time": "2021-09-20T12:52:34.959327",
     "exception": false,
     "start_time": "2021-09-20T12:52:34.923544",
     "status": "completed"
    },
    "tags": []
   },
   "source": [
    "<img src= \"https://miro.medium.com/max/758/1*wuCX1bjSh6YXcu8tuA5wyw.png\" alt =\"Standardization and Normalization\">"
   ]
  },
  {
   "cell_type": "code",
   "execution_count": 13,
   "id": "5b8d9424",
   "metadata": {
    "execution": {
     "iopub.execute_input": "2021-09-20T12:52:35.041051Z",
     "iopub.status.busy": "2021-09-20T12:52:35.040095Z",
     "iopub.status.idle": "2021-09-20T12:52:35.043608Z",
     "shell.execute_reply": "2021-09-20T12:52:35.044093Z",
     "shell.execute_reply.started": "2021-09-20T12:47:34.655405Z"
    },
    "papermill": {
     "duration": 0.049017,
     "end_time": "2021-09-20T12:52:35.044277",
     "exception": false,
     "start_time": "2021-09-20T12:52:34.995260",
     "status": "completed"
    },
    "tags": []
   },
   "outputs": [
    {
     "name": "stdout",
     "output_type": "stream",
     "text": [
      "Standardized array:  [-0.53531619 -0.46806733 -0.52308913  1.18564322 -0.36719405  2.13935429\n",
      " -0.5169756  -0.91435521]\n",
      "Normalized array:  [1.24140411e+02 1.46140411e+02 1.28140411e+02 6.87140411e+02\n",
      " 1.79140411e+02 9.99140411e+02 1.30140411e+02 1.40410959e-01]\n"
     ]
    }
   ],
   "source": [
    "# Example of standardization and normalization\n",
    "\n",
    "x = np.array([1,23,5,564,56,876,7,-123])\n",
    "\n",
    "standardized_X = (x - np.mean(x)) / np.std(x)\n",
    "normalized_X = (x-np.min(x) / np.max(x) - np.min(x))\n",
    "print(\"Standardized array: \",standardized_X)\n",
    "print(\"Normalized array: \",normalized_X )"
   ]
  },
  {
   "cell_type": "code",
   "execution_count": 14,
   "id": "a35dd41b",
   "metadata": {
    "execution": {
     "iopub.execute_input": "2021-09-20T12:52:35.126141Z",
     "iopub.status.busy": "2021-09-20T12:52:35.123569Z",
     "iopub.status.idle": "2021-09-20T12:52:35.943217Z",
     "shell.execute_reply": "2021-09-20T12:52:35.942605Z",
     "shell.execute_reply.started": "2021-09-20T12:47:34.669573Z"
    },
    "papermill": {
     "duration": 0.86195,
     "end_time": "2021-09-20T12:52:35.943372",
     "exception": false,
     "start_time": "2021-09-20T12:52:35.081422",
     "status": "completed"
    },
    "tags": []
   },
   "outputs": [],
   "source": [
    "# With sklearn scalers\n",
    "from sklearn.preprocessing import StandardScaler\n",
    "stds = StandardScaler()\n",
    "x = x.reshape(-1,1)  # for sklearn methods. they use two dimensional vectors\n",
    "x = stds.fit_transform(x)"
   ]
  },
  {
   "cell_type": "markdown",
   "id": "0cab19fb",
   "metadata": {
    "papermill": {
     "duration": 0.035926,
     "end_time": "2021-09-20T12:52:36.015618",
     "exception": false,
     "start_time": "2021-09-20T12:52:35.979692",
     "status": "completed"
    },
    "tags": []
   },
   "source": [
    "What if we apply standard scaling to our train symptoms data (X_train)?\n",
    "* This is a nonsensical situation because our symptoms are not numerical. They are categorical. So do not these bullshit =)"
   ]
  },
  {
   "cell_type": "markdown",
   "id": "0887ab38",
   "metadata": {
    "papermill": {
     "duration": 0.037445,
     "end_time": "2021-09-20T12:52:36.089725",
     "exception": false,
     "start_time": "2021-09-20T12:52:36.052280",
     "status": "completed"
    },
    "tags": []
   },
   "source": [
    "<a id = \"7\"></a>\n",
    "### Model Building\n",
    "<a id = \"8\"></a>\n",
    "#### Implementing Basic Example ANN Structure with OOP"
   ]
  },
  {
   "cell_type": "markdown",
   "id": "4fb5c1d7",
   "metadata": {
    "papermill": {
     "duration": 0.035858,
     "end_time": "2021-09-20T12:52:36.162343",
     "exception": false,
     "start_time": "2021-09-20T12:52:36.126485",
     "status": "completed"
    },
    "tags": []
   },
   "source": [
    "Reference: https://www.geeksforgeeks.org/implementing-ann-training-process-in-python/"
   ]
  },
  {
   "cell_type": "markdown",
   "id": "9a976b19",
   "metadata": {
    "papermill": {
     "duration": 0.036446,
     "end_time": "2021-09-20T12:52:36.235976",
     "exception": false,
     "start_time": "2021-09-20T12:52:36.199530",
     "status": "completed"
    },
    "tags": []
   },
   "source": [
    "<img src= \"https://media.geeksforgeeks.org/wp-content/uploads/input_set.png\" alt =\"Basic ANN\">"
   ]
  },
  {
   "cell_type": "code",
   "execution_count": 15,
   "id": "83aea12e",
   "metadata": {
    "execution": {
     "iopub.execute_input": "2021-09-20T12:52:36.320032Z",
     "iopub.status.busy": "2021-09-20T12:52:36.319126Z",
     "iopub.status.idle": "2021-09-20T12:52:36.322014Z",
     "shell.execute_reply": "2021-09-20T12:52:36.321494Z",
     "shell.execute_reply.started": "2021-09-20T12:47:34.678646Z"
    },
    "papermill": {
     "duration": 0.049427,
     "end_time": "2021-09-20T12:52:36.322152",
     "exception": false,
     "start_time": "2021-09-20T12:52:36.272725",
     "status": "completed"
    },
    "tags": []
   },
   "outputs": [],
   "source": [
    "class NeuralNet(object):\n",
    "    def __init__(self):\n",
    "        # Generate random numbers\n",
    "        np.random.seed(1)\n",
    "        \n",
    "        # Assign random weights to a 3 * 1 matrix\n",
    "        self.synaptic_weights = 2 * np.random.random((3, 1)) - 1\n",
    "        \n",
    "    # The sigmoid function method\n",
    "    def _sigmoid(self,x):\n",
    "        return 1 / (1 + np.exp(-x))\n",
    "    \n",
    "    # Derivative sigmoid\n",
    "    def derivative_sigmoid(self, x):\n",
    "        return x * (1 - x)\n",
    "    \n",
    "    # Train the neural network and adjust the weights each time\n",
    "    def train(self, inputs, outputs, iteration_number):\n",
    "        for iteration in range(iteration_number):     \n",
    "        \n",
    "            # Pass the training set through network\n",
    "            output = self.learn(inputs)\n",
    "        \n",
    "            # Calculate the error\n",
    "            error = outputs - output\n",
    "        \n",
    "            # Adjust the weights by a factor\n",
    "            factor = np.dot(inputs.T, error * self.derivative_sigmoid(output))\n",
    "            self.synaptic_weights += factor\n",
    "        \n",
    "    # calculate z    \n",
    "    def learn(self, test_inputs):\n",
    "        return self._sigmoid(np.dot(test_inputs, self.synaptic_weights))"
   ]
  },
  {
   "cell_type": "markdown",
   "id": "7b3c32cb",
   "metadata": {
    "papermill": {
     "duration": 0.036013,
     "end_time": "2021-09-20T12:52:36.394442",
     "exception": false,
     "start_time": "2021-09-20T12:52:36.358429",
     "status": "completed"
    },
    "tags": []
   },
   "source": [
    "<a id = \"9\"></a>\n",
    "#### Fitting Model and Prediction"
   ]
  },
  {
   "cell_type": "code",
   "execution_count": 16,
   "id": "798aa334",
   "metadata": {
    "execution": {
     "iopub.execute_input": "2021-09-20T12:52:36.475014Z",
     "iopub.status.busy": "2021-09-20T12:52:36.473975Z",
     "iopub.status.idle": "2021-09-20T12:52:36.479585Z",
     "shell.execute_reply": "2021-09-20T12:52:36.480096Z",
     "shell.execute_reply.started": "2021-09-20T12:47:34.689931Z"
    },
    "papermill": {
     "duration": 0.049493,
     "end_time": "2021-09-20T12:52:36.480288",
     "exception": false,
     "start_time": "2021-09-20T12:52:36.430795",
     "status": "completed"
    },
    "tags": []
   },
   "outputs": [
    {
     "name": "stdout",
     "output_type": "stream",
     "text": [
      "Our test example output is: 1\n"
     ]
    }
   ],
   "source": [
    "# Initialize\n",
    "neural_net = NeuralNet()\n",
    "\n",
    "# The training set\n",
    "inputs = np.array([[0, 1, 1], [1, 0, 0], [1, 0, 1]])\n",
    "outputs = np.array([[1, 0, 1]]).T\n",
    "\n",
    "# train the neural network\n",
    "neural_net.train(inputs, outputs, 50)\n",
    "\n",
    "test_inputs = np.array([1, 0, 1])\n",
    "threshold = 0.5\n",
    "if neural_net.learn(test_inputs) >= threshold:\n",
    "    print(\"Our test example output is: 1\")\n",
    "else:\n",
    "    print(\"Our test example output is: 0\")"
   ]
  },
  {
   "cell_type": "code",
   "execution_count": 17,
   "id": "4f2805c1",
   "metadata": {
    "execution": {
     "iopub.execute_input": "2021-09-20T12:52:36.561862Z",
     "iopub.status.busy": "2021-09-20T12:52:36.560857Z",
     "iopub.status.idle": "2021-09-20T12:52:36.582885Z",
     "shell.execute_reply": "2021-09-20T12:52:36.583398Z",
     "shell.execute_reply.started": "2021-09-20T12:47:34.707642Z"
    },
    "papermill": {
     "duration": 0.066052,
     "end_time": "2021-09-20T12:52:36.583571",
     "exception": false,
     "start_time": "2021-09-20T12:52:36.517519",
     "status": "completed"
    },
    "tags": []
   },
   "outputs": [
    {
     "data": {
      "text/html": [
       "<div>\n",
       "<style scoped>\n",
       "    .dataframe tbody tr th:only-of-type {\n",
       "        vertical-align: middle;\n",
       "    }\n",
       "\n",
       "    .dataframe tbody tr th {\n",
       "        vertical-align: top;\n",
       "    }\n",
       "\n",
       "    .dataframe thead th {\n",
       "        text-align: right;\n",
       "    }\n",
       "</style>\n",
       "<table border=\"1\" class=\"dataframe\">\n",
       "  <thead>\n",
       "    <tr style=\"text-align: right;\">\n",
       "      <th></th>\n",
       "      <th>prognosis_(vertigo) Paroymsal  Positional Vertigo</th>\n",
       "      <th>prognosis_AIDS</th>\n",
       "      <th>prognosis_Acne</th>\n",
       "      <th>prognosis_Alcoholic hepatitis</th>\n",
       "      <th>prognosis_Allergy</th>\n",
       "      <th>prognosis_Arthritis</th>\n",
       "      <th>prognosis_Bronchial Asthma</th>\n",
       "      <th>prognosis_Cervical spondylosis</th>\n",
       "      <th>prognosis_Chicken pox</th>\n",
       "      <th>prognosis_Chronic cholestasis</th>\n",
       "      <th>...</th>\n",
       "      <th>prognosis_Osteoarthristis</th>\n",
       "      <th>prognosis_Paralysis (brain hemorrhage)</th>\n",
       "      <th>prognosis_Peptic ulcer diseae</th>\n",
       "      <th>prognosis_Pneumonia</th>\n",
       "      <th>prognosis_Psoriasis</th>\n",
       "      <th>prognosis_Tuberculosis</th>\n",
       "      <th>prognosis_Typhoid</th>\n",
       "      <th>prognosis_Urinary tract infection</th>\n",
       "      <th>prognosis_Varicose veins</th>\n",
       "      <th>prognosis_hepatitis A</th>\n",
       "    </tr>\n",
       "  </thead>\n",
       "  <tbody>\n",
       "    <tr>\n",
       "      <th>0</th>\n",
       "      <td>0</td>\n",
       "      <td>0</td>\n",
       "      <td>0</td>\n",
       "      <td>0</td>\n",
       "      <td>0</td>\n",
       "      <td>0</td>\n",
       "      <td>0</td>\n",
       "      <td>0</td>\n",
       "      <td>0</td>\n",
       "      <td>0</td>\n",
       "      <td>...</td>\n",
       "      <td>0</td>\n",
       "      <td>0</td>\n",
       "      <td>0</td>\n",
       "      <td>0</td>\n",
       "      <td>0</td>\n",
       "      <td>0</td>\n",
       "      <td>0</td>\n",
       "      <td>0</td>\n",
       "      <td>0</td>\n",
       "      <td>0</td>\n",
       "    </tr>\n",
       "    <tr>\n",
       "      <th>1</th>\n",
       "      <td>0</td>\n",
       "      <td>0</td>\n",
       "      <td>0</td>\n",
       "      <td>0</td>\n",
       "      <td>0</td>\n",
       "      <td>0</td>\n",
       "      <td>0</td>\n",
       "      <td>0</td>\n",
       "      <td>0</td>\n",
       "      <td>0</td>\n",
       "      <td>...</td>\n",
       "      <td>0</td>\n",
       "      <td>0</td>\n",
       "      <td>0</td>\n",
       "      <td>0</td>\n",
       "      <td>0</td>\n",
       "      <td>0</td>\n",
       "      <td>0</td>\n",
       "      <td>0</td>\n",
       "      <td>0</td>\n",
       "      <td>0</td>\n",
       "    </tr>\n",
       "    <tr>\n",
       "      <th>2</th>\n",
       "      <td>0</td>\n",
       "      <td>0</td>\n",
       "      <td>0</td>\n",
       "      <td>0</td>\n",
       "      <td>0</td>\n",
       "      <td>0</td>\n",
       "      <td>0</td>\n",
       "      <td>0</td>\n",
       "      <td>0</td>\n",
       "      <td>0</td>\n",
       "      <td>...</td>\n",
       "      <td>0</td>\n",
       "      <td>0</td>\n",
       "      <td>0</td>\n",
       "      <td>0</td>\n",
       "      <td>0</td>\n",
       "      <td>0</td>\n",
       "      <td>0</td>\n",
       "      <td>0</td>\n",
       "      <td>0</td>\n",
       "      <td>0</td>\n",
       "    </tr>\n",
       "    <tr>\n",
       "      <th>3</th>\n",
       "      <td>0</td>\n",
       "      <td>0</td>\n",
       "      <td>0</td>\n",
       "      <td>0</td>\n",
       "      <td>0</td>\n",
       "      <td>0</td>\n",
       "      <td>0</td>\n",
       "      <td>0</td>\n",
       "      <td>0</td>\n",
       "      <td>0</td>\n",
       "      <td>...</td>\n",
       "      <td>0</td>\n",
       "      <td>0</td>\n",
       "      <td>0</td>\n",
       "      <td>0</td>\n",
       "      <td>0</td>\n",
       "      <td>0</td>\n",
       "      <td>0</td>\n",
       "      <td>0</td>\n",
       "      <td>0</td>\n",
       "      <td>0</td>\n",
       "    </tr>\n",
       "    <tr>\n",
       "      <th>4</th>\n",
       "      <td>0</td>\n",
       "      <td>0</td>\n",
       "      <td>0</td>\n",
       "      <td>0</td>\n",
       "      <td>0</td>\n",
       "      <td>0</td>\n",
       "      <td>0</td>\n",
       "      <td>0</td>\n",
       "      <td>0</td>\n",
       "      <td>0</td>\n",
       "      <td>...</td>\n",
       "      <td>0</td>\n",
       "      <td>0</td>\n",
       "      <td>0</td>\n",
       "      <td>0</td>\n",
       "      <td>0</td>\n",
       "      <td>0</td>\n",
       "      <td>0</td>\n",
       "      <td>0</td>\n",
       "      <td>0</td>\n",
       "      <td>0</td>\n",
       "    </tr>\n",
       "    <tr>\n",
       "      <th>...</th>\n",
       "      <td>...</td>\n",
       "      <td>...</td>\n",
       "      <td>...</td>\n",
       "      <td>...</td>\n",
       "      <td>...</td>\n",
       "      <td>...</td>\n",
       "      <td>...</td>\n",
       "      <td>...</td>\n",
       "      <td>...</td>\n",
       "      <td>...</td>\n",
       "      <td>...</td>\n",
       "      <td>...</td>\n",
       "      <td>...</td>\n",
       "      <td>...</td>\n",
       "      <td>...</td>\n",
       "      <td>...</td>\n",
       "      <td>...</td>\n",
       "      <td>...</td>\n",
       "      <td>...</td>\n",
       "      <td>...</td>\n",
       "      <td>...</td>\n",
       "    </tr>\n",
       "    <tr>\n",
       "      <th>4915</th>\n",
       "      <td>1</td>\n",
       "      <td>0</td>\n",
       "      <td>0</td>\n",
       "      <td>0</td>\n",
       "      <td>0</td>\n",
       "      <td>0</td>\n",
       "      <td>0</td>\n",
       "      <td>0</td>\n",
       "      <td>0</td>\n",
       "      <td>0</td>\n",
       "      <td>...</td>\n",
       "      <td>0</td>\n",
       "      <td>0</td>\n",
       "      <td>0</td>\n",
       "      <td>0</td>\n",
       "      <td>0</td>\n",
       "      <td>0</td>\n",
       "      <td>0</td>\n",
       "      <td>0</td>\n",
       "      <td>0</td>\n",
       "      <td>0</td>\n",
       "    </tr>\n",
       "    <tr>\n",
       "      <th>4916</th>\n",
       "      <td>0</td>\n",
       "      <td>0</td>\n",
       "      <td>1</td>\n",
       "      <td>0</td>\n",
       "      <td>0</td>\n",
       "      <td>0</td>\n",
       "      <td>0</td>\n",
       "      <td>0</td>\n",
       "      <td>0</td>\n",
       "      <td>0</td>\n",
       "      <td>...</td>\n",
       "      <td>0</td>\n",
       "      <td>0</td>\n",
       "      <td>0</td>\n",
       "      <td>0</td>\n",
       "      <td>0</td>\n",
       "      <td>0</td>\n",
       "      <td>0</td>\n",
       "      <td>0</td>\n",
       "      <td>0</td>\n",
       "      <td>0</td>\n",
       "    </tr>\n",
       "    <tr>\n",
       "      <th>4917</th>\n",
       "      <td>0</td>\n",
       "      <td>0</td>\n",
       "      <td>0</td>\n",
       "      <td>0</td>\n",
       "      <td>0</td>\n",
       "      <td>0</td>\n",
       "      <td>0</td>\n",
       "      <td>0</td>\n",
       "      <td>0</td>\n",
       "      <td>0</td>\n",
       "      <td>...</td>\n",
       "      <td>0</td>\n",
       "      <td>0</td>\n",
       "      <td>0</td>\n",
       "      <td>0</td>\n",
       "      <td>0</td>\n",
       "      <td>0</td>\n",
       "      <td>0</td>\n",
       "      <td>1</td>\n",
       "      <td>0</td>\n",
       "      <td>0</td>\n",
       "    </tr>\n",
       "    <tr>\n",
       "      <th>4918</th>\n",
       "      <td>0</td>\n",
       "      <td>0</td>\n",
       "      <td>0</td>\n",
       "      <td>0</td>\n",
       "      <td>0</td>\n",
       "      <td>0</td>\n",
       "      <td>0</td>\n",
       "      <td>0</td>\n",
       "      <td>0</td>\n",
       "      <td>0</td>\n",
       "      <td>...</td>\n",
       "      <td>0</td>\n",
       "      <td>0</td>\n",
       "      <td>0</td>\n",
       "      <td>0</td>\n",
       "      <td>1</td>\n",
       "      <td>0</td>\n",
       "      <td>0</td>\n",
       "      <td>0</td>\n",
       "      <td>0</td>\n",
       "      <td>0</td>\n",
       "    </tr>\n",
       "    <tr>\n",
       "      <th>4919</th>\n",
       "      <td>0</td>\n",
       "      <td>0</td>\n",
       "      <td>0</td>\n",
       "      <td>0</td>\n",
       "      <td>0</td>\n",
       "      <td>0</td>\n",
       "      <td>0</td>\n",
       "      <td>0</td>\n",
       "      <td>0</td>\n",
       "      <td>0</td>\n",
       "      <td>...</td>\n",
       "      <td>0</td>\n",
       "      <td>0</td>\n",
       "      <td>0</td>\n",
       "      <td>0</td>\n",
       "      <td>0</td>\n",
       "      <td>0</td>\n",
       "      <td>0</td>\n",
       "      <td>0</td>\n",
       "      <td>0</td>\n",
       "      <td>0</td>\n",
       "    </tr>\n",
       "  </tbody>\n",
       "</table>\n",
       "<p>4920 rows × 41 columns</p>\n",
       "</div>"
      ],
      "text/plain": [
       "      prognosis_(vertigo) Paroymsal  Positional Vertigo  prognosis_AIDS  \\\n",
       "0                                                     0               0   \n",
       "1                                                     0               0   \n",
       "2                                                     0               0   \n",
       "3                                                     0               0   \n",
       "4                                                     0               0   \n",
       "...                                                 ...             ...   \n",
       "4915                                                  1               0   \n",
       "4916                                                  0               0   \n",
       "4917                                                  0               0   \n",
       "4918                                                  0               0   \n",
       "4919                                                  0               0   \n",
       "\n",
       "      prognosis_Acne  prognosis_Alcoholic hepatitis  prognosis_Allergy  \\\n",
       "0                  0                              0                  0   \n",
       "1                  0                              0                  0   \n",
       "2                  0                              0                  0   \n",
       "3                  0                              0                  0   \n",
       "4                  0                              0                  0   \n",
       "...              ...                            ...                ...   \n",
       "4915               0                              0                  0   \n",
       "4916               1                              0                  0   \n",
       "4917               0                              0                  0   \n",
       "4918               0                              0                  0   \n",
       "4919               0                              0                  0   \n",
       "\n",
       "      prognosis_Arthritis  prognosis_Bronchial Asthma  \\\n",
       "0                       0                           0   \n",
       "1                       0                           0   \n",
       "2                       0                           0   \n",
       "3                       0                           0   \n",
       "4                       0                           0   \n",
       "...                   ...                         ...   \n",
       "4915                    0                           0   \n",
       "4916                    0                           0   \n",
       "4917                    0                           0   \n",
       "4918                    0                           0   \n",
       "4919                    0                           0   \n",
       "\n",
       "      prognosis_Cervical spondylosis  prognosis_Chicken pox  \\\n",
       "0                                  0                      0   \n",
       "1                                  0                      0   \n",
       "2                                  0                      0   \n",
       "3                                  0                      0   \n",
       "4                                  0                      0   \n",
       "...                              ...                    ...   \n",
       "4915                               0                      0   \n",
       "4916                               0                      0   \n",
       "4917                               0                      0   \n",
       "4918                               0                      0   \n",
       "4919                               0                      0   \n",
       "\n",
       "      prognosis_Chronic cholestasis  ...  prognosis_Osteoarthristis  \\\n",
       "0                                 0  ...                          0   \n",
       "1                                 0  ...                          0   \n",
       "2                                 0  ...                          0   \n",
       "3                                 0  ...                          0   \n",
       "4                                 0  ...                          0   \n",
       "...                             ...  ...                        ...   \n",
       "4915                              0  ...                          0   \n",
       "4916                              0  ...                          0   \n",
       "4917                              0  ...                          0   \n",
       "4918                              0  ...                          0   \n",
       "4919                              0  ...                          0   \n",
       "\n",
       "      prognosis_Paralysis (brain hemorrhage)  prognosis_Peptic ulcer diseae  \\\n",
       "0                                          0                              0   \n",
       "1                                          0                              0   \n",
       "2                                          0                              0   \n",
       "3                                          0                              0   \n",
       "4                                          0                              0   \n",
       "...                                      ...                            ...   \n",
       "4915                                       0                              0   \n",
       "4916                                       0                              0   \n",
       "4917                                       0                              0   \n",
       "4918                                       0                              0   \n",
       "4919                                       0                              0   \n",
       "\n",
       "      prognosis_Pneumonia  prognosis_Psoriasis  prognosis_Tuberculosis  \\\n",
       "0                       0                    0                       0   \n",
       "1                       0                    0                       0   \n",
       "2                       0                    0                       0   \n",
       "3                       0                    0                       0   \n",
       "4                       0                    0                       0   \n",
       "...                   ...                  ...                     ...   \n",
       "4915                    0                    0                       0   \n",
       "4916                    0                    0                       0   \n",
       "4917                    0                    0                       0   \n",
       "4918                    0                    1                       0   \n",
       "4919                    0                    0                       0   \n",
       "\n",
       "      prognosis_Typhoid  prognosis_Urinary tract infection  \\\n",
       "0                     0                                  0   \n",
       "1                     0                                  0   \n",
       "2                     0                                  0   \n",
       "3                     0                                  0   \n",
       "4                     0                                  0   \n",
       "...                 ...                                ...   \n",
       "4915                  0                                  0   \n",
       "4916                  0                                  0   \n",
       "4917                  0                                  1   \n",
       "4918                  0                                  0   \n",
       "4919                  0                                  0   \n",
       "\n",
       "      prognosis_Varicose veins  prognosis_hepatitis A  \n",
       "0                            0                      0  \n",
       "1                            0                      0  \n",
       "2                            0                      0  \n",
       "3                            0                      0  \n",
       "4                            0                      0  \n",
       "...                        ...                    ...  \n",
       "4915                         0                      0  \n",
       "4916                         0                      0  \n",
       "4917                         0                      0  \n",
       "4918                         0                      0  \n",
       "4919                         0                      0  \n",
       "\n",
       "[4920 rows x 41 columns]"
      ]
     },
     "execution_count": 17,
     "metadata": {},
     "output_type": "execute_result"
    }
   ],
   "source": [
    "# transform into dummies for y_train (prognosis variable)\n",
    "y_train_dum = pd.get_dummies(y_train)\n",
    "y_train_dum"
   ]
  },
  {
   "cell_type": "markdown",
   "id": "56caaedb",
   "metadata": {
    "papermill": {
     "duration": 0.03782,
     "end_time": "2021-09-20T12:52:36.659338",
     "exception": false,
     "start_time": "2021-09-20T12:52:36.621518",
     "status": "completed"
    },
    "tags": []
   },
   "source": [
    "<a id = \"10\"></a>\n",
    "### Building ANN Structure with Keras Library\n",
    "<a id = \"11\"></a>\n",
    "#### Import Libraries"
   ]
  },
  {
   "cell_type": "code",
   "execution_count": 18,
   "id": "85b67227",
   "metadata": {
    "execution": {
     "iopub.execute_input": "2021-09-20T12:52:36.739434Z",
     "iopub.status.busy": "2021-09-20T12:52:36.738426Z",
     "iopub.status.idle": "2021-09-20T12:52:41.663333Z",
     "shell.execute_reply": "2021-09-20T12:52:41.662715Z",
     "shell.execute_reply.started": "2021-09-20T12:47:34.734815Z"
    },
    "papermill": {
     "duration": 4.965783,
     "end_time": "2021-09-20T12:52:41.663478",
     "exception": false,
     "start_time": "2021-09-20T12:52:36.697695",
     "status": "completed"
    },
    "tags": []
   },
   "outputs": [
    {
     "name": "stderr",
     "output_type": "stream",
     "text": [
      "2021-09-20 12:52:37.305173: W tensorflow/stream_executor/platform/default/dso_loader.cc:60] Could not load dynamic library 'libcudart.so.11.0'; dlerror: libcudart.so.11.0: cannot open shared object file: No such file or directory; LD_LIBRARY_PATH: /opt/conda/lib\n",
      "2021-09-20 12:52:37.305297: I tensorflow/stream_executor/cuda/cudart_stub.cc:29] Ignore above cudart dlerror if you do not have a GPU set up on your machine.\n"
     ]
    }
   ],
   "source": [
    "# import tensorflow and keras\n",
    "import tensorflow as tf\n",
    "from tensorflow.keras.models import Sequential   # used for initialize ANN model\n",
    "from tensorflow.keras import layers   # used for different layer structure\n",
    "from tensorflow.keras.layers import Dense"
   ]
  },
  {
   "cell_type": "markdown",
   "id": "13f6ecf7",
   "metadata": {
    "papermill": {
     "duration": 0.03801,
     "end_time": "2021-09-20T12:52:41.739809",
     "exception": false,
     "start_time": "2021-09-20T12:52:41.701799",
     "status": "completed"
    },
    "tags": []
   },
   "source": [
    "<a id = \"12\"></a>\n",
    "#### Initialize the ANN Model"
   ]
  },
  {
   "cell_type": "code",
   "execution_count": 19,
   "id": "2ef08b57",
   "metadata": {
    "execution": {
     "iopub.execute_input": "2021-09-20T12:52:41.821882Z",
     "iopub.status.busy": "2021-09-20T12:52:41.821208Z",
     "iopub.status.idle": "2021-09-20T12:52:41.861991Z",
     "shell.execute_reply": "2021-09-20T12:52:41.861310Z",
     "shell.execute_reply.started": "2021-09-20T12:47:34.741050Z"
    },
    "papermill": {
     "duration": 0.083939,
     "end_time": "2021-09-20T12:52:41.862145",
     "exception": false,
     "start_time": "2021-09-20T12:52:41.778206",
     "status": "completed"
    },
    "tags": []
   },
   "outputs": [
    {
     "name": "stderr",
     "output_type": "stream",
     "text": [
      "2021-09-20 12:52:41.834599: I tensorflow/compiler/jit/xla_cpu_device.cc:41] Not creating XLA devices, tf_xla_enable_xla_devices not set\n",
      "2021-09-20 12:52:41.837647: W tensorflow/stream_executor/platform/default/dso_loader.cc:60] Could not load dynamic library 'libcuda.so.1'; dlerror: libcuda.so.1: cannot open shared object file: No such file or directory; LD_LIBRARY_PATH: /opt/conda/lib\n",
      "2021-09-20 12:52:41.837683: W tensorflow/stream_executor/cuda/cuda_driver.cc:326] failed call to cuInit: UNKNOWN ERROR (303)\n",
      "2021-09-20 12:52:41.837708: I tensorflow/stream_executor/cuda/cuda_diagnostics.cc:156] kernel driver does not appear to be running on this host (07f80031a33a): /proc/driver/nvidia/version does not exist\n",
      "2021-09-20 12:52:41.838058: I tensorflow/core/platform/cpu_feature_guard.cc:142] This TensorFlow binary is optimized with oneAPI Deep Neural Network Library (oneDNN) to use the following CPU instructions in performance-critical operations:  AVX2 FMA\n",
      "To enable them in other operations, rebuild TensorFlow with the appropriate compiler flags.\n",
      "2021-09-20 12:52:41.838478: I tensorflow/compiler/jit/xla_gpu_device.cc:99] Not creating XLA devices, tf_xla_enable_xla_devices not set\n"
     ]
    }
   ],
   "source": [
    "classifier = Sequential()"
   ]
  },
  {
   "cell_type": "markdown",
   "id": "ccd520a6",
   "metadata": {
    "papermill": {
     "duration": 0.03829,
     "end_time": "2021-09-20T12:52:41.939658",
     "exception": false,
     "start_time": "2021-09-20T12:52:41.901368",
     "status": "completed"
    },
    "tags": []
   },
   "source": [
    "<a id = \"13\"></a>\n",
    "#### Adding the Layers"
   ]
  },
  {
   "cell_type": "code",
   "execution_count": 20,
   "id": "8ad6fe74",
   "metadata": {
    "execution": {
     "iopub.execute_input": "2021-09-20T12:52:42.020597Z",
     "iopub.status.busy": "2021-09-20T12:52:42.019608Z",
     "iopub.status.idle": "2021-09-20T12:52:42.086660Z",
     "shell.execute_reply": "2021-09-20T12:52:42.086040Z",
     "shell.execute_reply.started": "2021-09-20T12:47:34.755927Z"
    },
    "papermill": {
     "duration": 0.108888,
     "end_time": "2021-09-20T12:52:42.086805",
     "exception": false,
     "start_time": "2021-09-20T12:52:41.977917",
     "status": "completed"
    },
    "tags": []
   },
   "outputs": [],
   "source": [
    "# adding first hidden layer with input layer. there is init parameter that represents how to initialize weights\n",
    "classifier.add(Dense(64, activation = \"relu\", input_dim = X_train.shape[1]))\n",
    "# adding second hidden layer\n",
    "classifier.add(Dense(32, activation = \"relu\"))\n",
    "# adding last layer\n",
    "classifier.add(Dense(y_train_dum.shape[1], activation = \"softmax\"))"
   ]
  },
  {
   "cell_type": "markdown",
   "id": "75770fcc",
   "metadata": {
    "papermill": {
     "duration": 0.037886,
     "end_time": "2021-09-20T12:52:42.163270",
     "exception": false,
     "start_time": "2021-09-20T12:52:42.125384",
     "status": "completed"
    },
    "tags": []
   },
   "source": [
    "<a id = \"14\"></a>\n",
    "#### Compiling the ANN Model"
   ]
  },
  {
   "cell_type": "code",
   "execution_count": 21,
   "id": "547e8489",
   "metadata": {
    "execution": {
     "iopub.execute_input": "2021-09-20T12:52:42.254899Z",
     "iopub.status.busy": "2021-09-20T12:52:42.252791Z",
     "iopub.status.idle": "2021-09-20T12:52:42.264450Z",
     "shell.execute_reply": "2021-09-20T12:52:42.265134Z",
     "shell.execute_reply.started": "2021-09-20T12:47:34.788649Z"
    },
    "papermill": {
     "duration": 0.061997,
     "end_time": "2021-09-20T12:52:42.265429",
     "exception": false,
     "start_time": "2021-09-20T12:52:42.203432",
     "status": "completed"
    },
    "tags": []
   },
   "outputs": [
    {
     "name": "stdout",
     "output_type": "stream",
     "text": [
      "Model: \"sequential\"\n",
      "_________________________________________________________________\n",
      "Layer (type)                 Output Shape              Param #   \n",
      "=================================================================\n",
      "dense (Dense)                (None, 64)                8512      \n",
      "_________________________________________________________________\n",
      "dense_1 (Dense)              (None, 32)                2080      \n",
      "_________________________________________________________________\n",
      "dense_2 (Dense)              (None, 41)                1353      \n",
      "=================================================================\n",
      "Total params: 11,945\n",
      "Trainable params: 11,945\n",
      "Non-trainable params: 0\n",
      "_________________________________________________________________\n"
     ]
    }
   ],
   "source": [
    "classifier.compile(optimizer = \"adam\", loss = \"categorical_crossentropy\", metrics = [\"accuracy\"])\n",
    "classifier.summary()"
   ]
  },
  {
   "cell_type": "markdown",
   "id": "8b35623b",
   "metadata": {
    "papermill": {
     "duration": 0.03873,
     "end_time": "2021-09-20T12:52:42.347941",
     "exception": false,
     "start_time": "2021-09-20T12:52:42.309211",
     "status": "completed"
    },
    "tags": []
   },
   "source": [
    "<a id = \"15\"></a>\n",
    "#### Fitting the ANN"
   ]
  },
  {
   "cell_type": "code",
   "execution_count": 22,
   "id": "84a56f75",
   "metadata": {
    "execution": {
     "iopub.execute_input": "2021-09-20T12:52:42.431158Z",
     "iopub.status.busy": "2021-09-20T12:52:42.430420Z",
     "iopub.status.idle": "2021-09-20T12:52:44.341649Z",
     "shell.execute_reply": "2021-09-20T12:52:44.341054Z",
     "shell.execute_reply.started": "2021-09-20T12:47:34.804729Z"
    },
    "papermill": {
     "duration": 1.954784,
     "end_time": "2021-09-20T12:52:44.341802",
     "exception": false,
     "start_time": "2021-09-20T12:52:42.387018",
     "status": "completed"
    },
    "tags": []
   },
   "outputs": [
    {
     "name": "stderr",
     "output_type": "stream",
     "text": [
      "2021-09-20 12:52:42.526597: I tensorflow/compiler/mlir/mlir_graph_optimization_pass.cc:116] None of the MLIR optimization passes are enabled (registered 2)\n",
      "2021-09-20 12:52:42.541399: I tensorflow/core/platform/profile_utils/cpu_utils.cc:112] CPU Frequency: 2199995000 Hz\n"
     ]
    },
    {
     "name": "stdout",
     "output_type": "stream",
     "text": [
      "Epoch 1/5\n",
      "164/164 [==============================] - 1s 1ms/step - loss: 3.1854 - accuracy: 0.3724\n",
      "Epoch 2/5\n",
      "164/164 [==============================] - 0s 1ms/step - loss: 0.2974 - accuracy: 1.0000\n",
      "Epoch 3/5\n",
      "164/164 [==============================] - 0s 1ms/step - loss: 0.0307 - accuracy: 1.0000\n",
      "Epoch 4/5\n",
      "164/164 [==============================] - 0s 1ms/step - loss: 0.0123 - accuracy: 1.0000\n",
      "Epoch 5/5\n",
      "164/164 [==============================] - 0s 1ms/step - loss: 0.0063 - accuracy: 1.0000\n"
     ]
    }
   ],
   "source": [
    "history = classifier.fit(X_train, y_train_dum, epochs = 5, batch_size = 30)"
   ]
  },
  {
   "cell_type": "markdown",
   "id": "53fbf22a",
   "metadata": {
    "papermill": {
     "duration": 0.048091,
     "end_time": "2021-09-20T12:52:44.438534",
     "exception": false,
     "start_time": "2021-09-20T12:52:44.390443",
     "status": "completed"
    },
    "tags": []
   },
   "source": [
    "<a id = \"16\"></a>\n",
    "#### Making Prediction"
   ]
  },
  {
   "cell_type": "code",
   "execution_count": 23,
   "id": "039fd20c",
   "metadata": {
    "execution": {
     "iopub.execute_input": "2021-09-20T12:52:44.539951Z",
     "iopub.status.busy": "2021-09-20T12:52:44.538961Z",
     "iopub.status.idle": "2021-09-20T12:52:44.666741Z",
     "shell.execute_reply": "2021-09-20T12:52:44.667249Z",
     "shell.execute_reply.started": "2021-09-20T12:47:36.082169Z"
    },
    "papermill": {
     "duration": 0.180889,
     "end_time": "2021-09-20T12:52:44.667421",
     "exception": false,
     "start_time": "2021-09-20T12:52:44.486532",
     "status": "completed"
    },
    "tags": []
   },
   "outputs": [
    {
     "name": "stderr",
     "output_type": "stream",
     "text": [
      "/opt/conda/lib/python3.7/site-packages/tensorflow/python/keras/engine/sequential.py:450: UserWarning: `model.predict_classes()` is deprecated and will be removed after 2021-01-01. Please use instead:* `np.argmax(model.predict(x), axis=-1)`,   if your model does multi-class classification   (e.g. if it uses a `softmax` last-layer activation).* `(model.predict(x) > 0.5).astype(\"int32\")`,   if your model does binary classification   (e.g. if it uses a `sigmoid` last-layer activation).\n",
      "  warnings.warn('`model.predict_classes()` is deprecated and '\n"
     ]
    },
    {
     "data": {
      "text/plain": [
       "array([15,  4, 16,  9, 14, 33,  1, 12, 17,  6, 23, 30,  7, 32, 28, 29,  8,\n",
       "       11, 37, 40, 19, 20, 21, 22,  3, 36, 10, 34, 13, 18, 39, 26, 24, 25,\n",
       "       31,  5,  0,  2, 38, 35, 27, 27])"
      ]
     },
     "execution_count": 23,
     "metadata": {},
     "output_type": "execute_result"
    }
   ],
   "source": [
    "prediction = classifier.predict_classes(X_test)\n",
    "prediction"
   ]
  },
  {
   "cell_type": "markdown",
   "id": "5962561d",
   "metadata": {
    "papermill": {
     "duration": 0.048532,
     "end_time": "2021-09-20T12:52:44.765479",
     "exception": false,
     "start_time": "2021-09-20T12:52:44.716947",
     "status": "completed"
    },
    "tags": []
   },
   "source": [
    "<a id = \"17\"></a>\n",
    "#### Accuracy and Loss Visualization"
   ]
  },
  {
   "cell_type": "code",
   "execution_count": 24,
   "id": "47bb94e0",
   "metadata": {
    "execution": {
     "iopub.execute_input": "2021-09-20T12:52:44.868055Z",
     "iopub.status.busy": "2021-09-20T12:52:44.867277Z",
     "iopub.status.idle": "2021-09-20T12:52:44.871157Z",
     "shell.execute_reply": "2021-09-20T12:52:44.870658Z",
     "shell.execute_reply.started": "2021-09-20T12:47:36.170427Z"
    },
    "papermill": {
     "duration": 0.057391,
     "end_time": "2021-09-20T12:52:44.871308",
     "exception": false,
     "start_time": "2021-09-20T12:52:44.813917",
     "status": "completed"
    },
    "tags": []
   },
   "outputs": [
    {
     "data": {
      "text/plain": [
       "[0.6414633989334106, 1.0, 1.0, 1.0, 1.0]"
      ]
     },
     "execution_count": 24,
     "metadata": {},
     "output_type": "execute_result"
    }
   ],
   "source": [
    "history.history[\"accuracy\"]"
   ]
  },
  {
   "cell_type": "code",
   "execution_count": 25,
   "id": "3ff650f8",
   "metadata": {
    "execution": {
     "iopub.execute_input": "2021-09-20T12:52:44.973384Z",
     "iopub.status.busy": "2021-09-20T12:52:44.972706Z",
     "iopub.status.idle": "2021-09-20T12:52:45.172517Z",
     "shell.execute_reply": "2021-09-20T12:52:45.172969Z",
     "shell.execute_reply.started": "2021-09-20T12:47:36.177249Z"
    },
    "papermill": {
     "duration": 0.252832,
     "end_time": "2021-09-20T12:52:45.173140",
     "exception": false,
     "start_time": "2021-09-20T12:52:44.920308",
     "status": "completed"
    },
    "tags": []
   },
   "outputs": [
    {
     "data": {
      "image/png": "[encoded data removed]",
      "text/plain": [
       "<Figure size 432x288 with 1 Axes>"
      ]
     },
     "metadata": {
      "needs_background": "light"
     },
     "output_type": "display_data"
    }
   ],
   "source": [
    "import matplotlib.pyplot as plt\n",
    "plt.plot(history.history[\"accuracy\"])\n",
    "plt.title(\"Model accuracy\")\n",
    "plt.xlabel(\"Epoch\")\n",
    "plt.ylabel(\"Accuracy score\")\n",
    "plt.show()"
   ]
  },
  {
   "cell_type": "code",
   "execution_count": 26,
   "id": "96cfe718",
   "metadata": {
    "execution": {
     "iopub.execute_input": "2021-09-20T12:52:45.315879Z",
     "iopub.status.busy": "2021-09-20T12:52:45.295986Z",
     "iopub.status.idle": "2021-09-20T12:52:45.480402Z",
     "shell.execute_reply": "2021-09-20T12:52:45.479611Z",
     "shell.execute_reply.started": "2021-09-20T12:48:09.480764Z"
    },
    "papermill": {
     "duration": 0.257696,
     "end_time": "2021-09-20T12:52:45.480541",
     "exception": false,
     "start_time": "2021-09-20T12:52:45.222845",
     "status": "completed"
    },
    "tags": []
   },
   "outputs": [
    {
     "data": {
      "image/png": "[encoded data removed]",
      "text/plain": [
       "<Figure size 432x288 with 1 Axes>"
      ]
     },
     "metadata": {
      "needs_background": "light"
     },
     "output_type": "display_data"
    }
   ],
   "source": [
    "plt.plot(history.history[\"loss\"])\n",
    "plt.title(\"Model loss\")\n",
    "plt.xlabel(\"Epoch\")\n",
    "plt.ylabel(\"Loss\")\n",
    "plt.show()"
   ]
  },
  {
   "cell_type": "code",
   "execution_count": null,
   "id": "88666506",
   "metadata": {
    "papermill": {
     "duration": 0.050817,
     "end_time": "2021-09-20T12:52:45.582723",
     "exception": false,
     "start_time": "2021-09-20T12:52:45.531906",
     "status": "completed"
    },
    "tags": []
   },
   "outputs": [],
   "source": []
  }
 ],
 "metadata": {
  "kernelspec": {
   "display_name": "Python 3",
   "language": "python",
   "name": "python3"
  },
  "language_info": {
   "codemirror_mode": {
    "name": "ipython",
    "version": 3
   },
   "file_extension": ".py",
   "mimetype": "text/x-python",
   "name": "python",
   "nbconvert_exporter": "python",
   "pygments_lexer": "ipython3",
   "version": "3.7.10"
  },
  "papermill": {
   "default_parameters": {},
   "duration": 23.795285,
   "end_time": "2021-09-20T12:52:48.596996",
   "environment_variables": {},
   "exception": null,
   "input_path": "__notebook__.ipynb",
   "output_path": "__notebook__.ipynb",
   "parameters": {},
   "start_time": "2021-09-20T12:52:24.801711",
   "version": "2.3.3"
  }
 },
 "nbformat": 4,
 "nbformat_minor": 5
}
